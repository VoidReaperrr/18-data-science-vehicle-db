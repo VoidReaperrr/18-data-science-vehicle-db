{
 "cells": [
  {
   "cell_type": "markdown",
   "id": "d5b34983",
   "metadata": {},
   "source": [
    "Описание проекта  \n",
    "\n",
    "Вы — специалист по Data Sciense в каршеринговой компании. Вам поступил заказ: нужно создать систему, которая могла бы оценить риск ДТП по выбранному маршруту движения. Под риском понимается вероятность ДТП с любым повреждением транспортного средства. Как только водитель забронировал автомобиль, сел за руль и выбрал маршрут, система должна оценить уровень риска. Если уровень риска высок, водитель увидит предупреждение и рекомендации по маршруту.  \n",
    "Идея создания такой системы находится в стадии предварительного обсуждения и проработки. Чёткого алгоритма работы и подобных решений на рынке ещё не существует. Текущая задача — понять, возможно ли предсказывать ДТП, опираясь на исторические данные одного из регионов."
   ]
  },
  {
   "cell_type": "markdown",
   "id": "61537f2f",
   "metadata": {},
   "source": [
    "## 1. Подключитесь к базе. Загрузите таблицы sql"
   ]
  },
  {
   "cell_type": "markdown",
   "id": "19763473",
   "metadata": {},
   "source": [
    "Импортируем библиотеки, подключаемся к базе, смотрим на наши таблицы и данные"
   ]
  },
  {
   "cell_type": "code",
   "execution_count": 1,
   "id": "42ad1d0e",
   "metadata": {},
   "outputs": [
    {
     "name": "stdout",
     "output_type": "stream",
     "text": [
      "Collecting shap\n",
      "  Downloading shap-0.41.0-cp39-cp39-manylinux_2_12_x86_64.manylinux2010_x86_64.whl (572 kB)\n",
      "\u001b[K     |████████████████████████████████| 572 kB 2.2 MB/s eta 0:00:01\n",
      "\u001b[?25hCollecting slicer==0.0.7\n",
      "  Downloading slicer-0.0.7-py3-none-any.whl (14 kB)\n",
      "Requirement already satisfied: numpy in /opt/conda/lib/python3.9/site-packages (from shap) (1.21.1)\n",
      "Requirement already satisfied: numba in /opt/conda/lib/python3.9/site-packages (from shap) (0.56.0)\n",
      "Requirement already satisfied: scikit-learn in /opt/conda/lib/python3.9/site-packages (from shap) (0.24.1)\n",
      "Requirement already satisfied: packaging>20.9 in /opt/conda/lib/python3.9/site-packages (from shap) (21.3)\n",
      "Collecting cloudpickle\n",
      "  Downloading cloudpickle-2.2.1-py3-none-any.whl (25 kB)\n",
      "Requirement already satisfied: pandas in /opt/conda/lib/python3.9/site-packages (from shap) (1.2.4)\n",
      "Requirement already satisfied: scipy in /opt/conda/lib/python3.9/site-packages (from shap) (1.9.1)\n",
      "Requirement already satisfied: tqdm>4.25.0 in /opt/conda/lib/python3.9/site-packages (from shap) (4.61.2)\n",
      "Requirement already satisfied: pyparsing!=3.0.5,>=2.0.2 in /opt/conda/lib/python3.9/site-packages (from packaging>20.9->shap) (2.4.7)\n",
      "Requirement already satisfied: setuptools in /opt/conda/lib/python3.9/site-packages (from numba->shap) (49.6.0.post20210108)\n",
      "Requirement already satisfied: llvmlite<0.40,>=0.39.0dev0 in /opt/conda/lib/python3.9/site-packages (from numba->shap) (0.39.0)\n",
      "Requirement already satisfied: python-dateutil>=2.7.3 in /opt/conda/lib/python3.9/site-packages (from pandas->shap) (2.8.1)\n",
      "Requirement already satisfied: pytz>=2017.3 in /opt/conda/lib/python3.9/site-packages (from pandas->shap) (2021.1)\n",
      "Requirement already satisfied: six>=1.5 in /opt/conda/lib/python3.9/site-packages (from python-dateutil>=2.7.3->pandas->shap) (1.16.0)\n",
      "Requirement already satisfied: threadpoolctl>=2.0.0 in /opt/conda/lib/python3.9/site-packages (from scikit-learn->shap) (3.1.0)\n",
      "Requirement already satisfied: joblib>=0.11 in /opt/conda/lib/python3.9/site-packages (from scikit-learn->shap) (1.1.0)\n",
      "Installing collected packages: slicer, cloudpickle, shap\n",
      "Successfully installed cloudpickle-2.2.1 shap-0.41.0 slicer-0.0.7\n"
     ]
    }
   ],
   "source": [
    "!pip install shap"
   ]
  },
  {
   "cell_type": "code",
   "execution_count": 2,
   "id": "d0dfc865",
   "metadata": {},
   "outputs": [
    {
     "name": "stdout",
     "output_type": "stream",
     "text": [
      "Collecting category_encoders\n",
      "  Downloading category_encoders-2.6.1-py2.py3-none-any.whl (81 kB)\n",
      "\u001b[K     |████████████████████████████████| 81 kB 8.0 kB/s eta 0:00:01\n",
      "\u001b[?25hRequirement already satisfied: pandas>=1.0.5 in /opt/conda/lib/python3.9/site-packages (from category_encoders) (1.2.4)\n",
      "Requirement already satisfied: scipy>=1.0.0 in /opt/conda/lib/python3.9/site-packages (from category_encoders) (1.9.1)\n",
      "Requirement already satisfied: scikit-learn>=0.20.0 in /opt/conda/lib/python3.9/site-packages (from category_encoders) (0.24.1)\n",
      "Requirement already satisfied: numpy>=1.14.0 in /opt/conda/lib/python3.9/site-packages (from category_encoders) (1.21.1)\n",
      "Requirement already satisfied: patsy>=0.5.1 in /opt/conda/lib/python3.9/site-packages (from category_encoders) (0.5.2)\n",
      "Requirement already satisfied: statsmodels>=0.9.0 in /opt/conda/lib/python3.9/site-packages (from category_encoders) (0.13.2)\n",
      "Requirement already satisfied: python-dateutil>=2.7.3 in /opt/conda/lib/python3.9/site-packages (from pandas>=1.0.5->category_encoders) (2.8.1)\n",
      "Requirement already satisfied: pytz>=2017.3 in /opt/conda/lib/python3.9/site-packages (from pandas>=1.0.5->category_encoders) (2021.1)\n",
      "Requirement already satisfied: six in /opt/conda/lib/python3.9/site-packages (from patsy>=0.5.1->category_encoders) (1.16.0)\n",
      "Requirement already satisfied: threadpoolctl>=2.0.0 in /opt/conda/lib/python3.9/site-packages (from scikit-learn>=0.20.0->category_encoders) (3.1.0)\n",
      "Requirement already satisfied: joblib>=0.11 in /opt/conda/lib/python3.9/site-packages (from scikit-learn>=0.20.0->category_encoders) (1.1.0)\n",
      "Requirement already satisfied: packaging>=21.3 in /opt/conda/lib/python3.9/site-packages (from statsmodels>=0.9.0->category_encoders) (21.3)\n",
      "Requirement already satisfied: pyparsing!=3.0.5,>=2.0.2 in /opt/conda/lib/python3.9/site-packages (from packaging>=21.3->statsmodels>=0.9.0->category_encoders) (2.4.7)\n",
      "Installing collected packages: category-encoders\n",
      "Successfully installed category-encoders-2.6.1\n"
     ]
    }
   ],
   "source": [
    "!pip install category_encoders"
   ]
  },
  {
   "cell_type": "code",
   "execution_count": 3,
   "id": "f9fe4266",
   "metadata": {},
   "outputs": [],
   "source": [
    "import pandas as pd\n",
    "import numpy as np\n",
    "import matplotlib.pyplot as plt\n",
    "from sqlalchemy import create_engine\n",
    "import seaborn as sns\n",
    "import catboost as cb\n",
    "from sklearn.model_selection import train_test_split\n",
    "from sklearn.preprocessing import OrdinalEncoder\n",
    "from sklearn.tree import DecisionTreeRegressor\n",
    "from sklearn.ensemble import RandomForestRegressor \n",
    "from sklearn.linear_model import LinearRegression \n",
    "from catboost import CatBoostRegressor, cv, train\n",
    "from sklearn.preprocessing import RobustScaler, StandardScaler\n",
    "import category_encoders as ce\n",
    "from sklearn.preprocessing import OneHotEncoder, StandardScaler\n",
    "import lightgbm as lgb\n",
    "from sklearn.metrics import mean_squared_error\n",
    "from sklearn.metrics import (precision_recall_curve, PrecisionRecallDisplay)\n",
    "from sklearn.metrics import recall_score, precision_score\n",
    "import time\n",
    "import shap\n",
    "from sklearn.model_selection import cross_val_score, GridSearchCV , train_test_split \n",
    "from sklearn.metrics import make_scorer, mean_squared_error \n",
    "from sklearn.metrics import f1_score, confusion_matrix, roc_auc_score, roc_curve\n",
    "from sklearn.ensemble import RandomForestClassifier\n",
    "from sklearn.tree import DecisionTreeClassifier\n",
    "from sklearn.linear_model import LogisticRegression\n",
    "from lightgbm import LGBMClassifier\n",
    "from catboost import CatBoostClassifier\n",
    "from sklearn.compose import make_column_transformer, make_column_selector\n",
    "#import warnings\n",
    "#warnings.filterwarnings('ignore')"
   ]
  },
  {
   "cell_type": "code",
   "execution_count": 4,
   "id": "43ea1702",
   "metadata": {},
   "outputs": [],
   "source": [
    "db_config = {\n",
    "'user': 'praktikum_student', # имя пользователя,\n",
    "'pwd': 'Sdf4$2;d-d30pp', # пароль,\n",
    "'host': 'rc1b-wcoijxj3yxfsf3fs.mdb.yandexcloud.net',\n",
    "'port': 6432, # порт подключения,\n",
    "'db': 'data-science-vehicle-db' # название базы данных,\n",
    "} \n",
    "\n",
    "connection_string = 'postgresql://{}:{}@{}:{}/{}'.format(\n",
    "    db_config['user'],\n",
    "    db_config['pwd'],\n",
    "    db_config['host'],\n",
    "    db_config['port'],\n",
    "    db_config['db'],\n",
    ")"
   ]
  },
  {
   "cell_type": "code",
   "execution_count": 5,
   "id": "d977b3c3",
   "metadata": {
    "scrolled": true
   },
   "outputs": [],
   "source": [
    "engine = create_engine(connection_string) "
   ]
  },
  {
   "cell_type": "markdown",
   "id": "78b30ff9",
   "metadata": {},
   "source": [
    "## 2. Проведите первичное исследование таблиц"
   ]
  },
  {
   "cell_type": "code",
   "execution_count": 6,
   "id": "91bc8024",
   "metadata": {},
   "outputs": [],
   "source": [
    "def get_sample_data(table_name, limit):\n",
    "    query = f\"SELECT * FROM {table_name} LIMIT {limit}\"\n",
    "    sample_data = pd.read_sql_query(query, con=engine)\n",
    "    return display(sample_data.head())"
   ]
  },
  {
   "cell_type": "code",
   "execution_count": 7,
   "id": "73e09943",
   "metadata": {
    "scrolled": false
   },
   "outputs": [
    {
     "data": {
      "text/html": [
       "<div>\n",
       "<style scoped>\n",
       "    .dataframe tbody tr th:only-of-type {\n",
       "        vertical-align: middle;\n",
       "    }\n",
       "\n",
       "    .dataframe tbody tr th {\n",
       "        vertical-align: top;\n",
       "    }\n",
       "\n",
       "    .dataframe thead th {\n",
       "        text-align: right;\n",
       "    }\n",
       "</style>\n",
       "<table border=\"1\" class=\"dataframe\">\n",
       "  <thead>\n",
       "    <tr style=\"text-align: right;\">\n",
       "      <th></th>\n",
       "      <th>case_id</th>\n",
       "      <th>county_city_location</th>\n",
       "      <th>county_location</th>\n",
       "      <th>distance</th>\n",
       "      <th>direction</th>\n",
       "      <th>intersection</th>\n",
       "      <th>weather_1</th>\n",
       "      <th>location_type</th>\n",
       "      <th>collision_damage</th>\n",
       "      <th>party_count</th>\n",
       "      <th>primary_collision_factor</th>\n",
       "      <th>pcf_violation_category</th>\n",
       "      <th>type_of_collision</th>\n",
       "      <th>motor_vehicle_involved_with</th>\n",
       "      <th>road_surface</th>\n",
       "      <th>road_condition_1</th>\n",
       "      <th>lighting</th>\n",
       "      <th>control_device</th>\n",
       "      <th>collision_date</th>\n",
       "      <th>collision_time</th>\n",
       "    </tr>\n",
       "  </thead>\n",
       "  <tbody>\n",
       "    <tr>\n",
       "      <th>0</th>\n",
       "      <td>4083072</td>\n",
       "      <td>1942</td>\n",
       "      <td>los angeles</td>\n",
       "      <td>528.0</td>\n",
       "      <td>north</td>\n",
       "      <td>0</td>\n",
       "      <td>cloudy</td>\n",
       "      <td>highway</td>\n",
       "      <td>small damage</td>\n",
       "      <td>2</td>\n",
       "      <td>vehicle code violation</td>\n",
       "      <td>unsafe lane change</td>\n",
       "      <td>sideswipe</td>\n",
       "      <td>other motor vehicle</td>\n",
       "      <td>wet</td>\n",
       "      <td>normal</td>\n",
       "      <td>daylight</td>\n",
       "      <td>none</td>\n",
       "      <td>2009-01-22</td>\n",
       "      <td>07:25:00</td>\n",
       "    </tr>\n",
       "    <tr>\n",
       "      <th>1</th>\n",
       "      <td>4083075</td>\n",
       "      <td>4313</td>\n",
       "      <td>santa clara</td>\n",
       "      <td>0.0</td>\n",
       "      <td>None</td>\n",
       "      <td>1</td>\n",
       "      <td>clear</td>\n",
       "      <td>None</td>\n",
       "      <td>small damage</td>\n",
       "      <td>1</td>\n",
       "      <td>vehicle code violation</td>\n",
       "      <td>improper passing</td>\n",
       "      <td>hit object</td>\n",
       "      <td>fixed object</td>\n",
       "      <td>dry</td>\n",
       "      <td>normal</td>\n",
       "      <td>dark with street lights</td>\n",
       "      <td>functioning</td>\n",
       "      <td>2009-01-03</td>\n",
       "      <td>02:26:00</td>\n",
       "    </tr>\n",
       "    <tr>\n",
       "      <th>2</th>\n",
       "      <td>4083073</td>\n",
       "      <td>0109</td>\n",
       "      <td>alameda</td>\n",
       "      <td>0.0</td>\n",
       "      <td>None</td>\n",
       "      <td>1</td>\n",
       "      <td>clear</td>\n",
       "      <td>None</td>\n",
       "      <td>scratch</td>\n",
       "      <td>2</td>\n",
       "      <td>vehicle code violation</td>\n",
       "      <td>improper turning</td>\n",
       "      <td>broadside</td>\n",
       "      <td>other motor vehicle</td>\n",
       "      <td>dry</td>\n",
       "      <td>normal</td>\n",
       "      <td>dark with street lights</td>\n",
       "      <td>functioning</td>\n",
       "      <td>2009-01-11</td>\n",
       "      <td>03:32:00</td>\n",
       "    </tr>\n",
       "    <tr>\n",
       "      <th>3</th>\n",
       "      <td>4083077</td>\n",
       "      <td>0109</td>\n",
       "      <td>alameda</td>\n",
       "      <td>0.0</td>\n",
       "      <td>None</td>\n",
       "      <td>1</td>\n",
       "      <td>clear</td>\n",
       "      <td>None</td>\n",
       "      <td>scratch</td>\n",
       "      <td>2</td>\n",
       "      <td>vehicle code violation</td>\n",
       "      <td>automobile right of way</td>\n",
       "      <td>broadside</td>\n",
       "      <td>other motor vehicle</td>\n",
       "      <td>dry</td>\n",
       "      <td>normal</td>\n",
       "      <td>daylight</td>\n",
       "      <td>functioning</td>\n",
       "      <td>2009-01-11</td>\n",
       "      <td>10:35:00</td>\n",
       "    </tr>\n",
       "    <tr>\n",
       "      <th>4</th>\n",
       "      <td>4083087</td>\n",
       "      <td>4313</td>\n",
       "      <td>santa clara</td>\n",
       "      <td>0.0</td>\n",
       "      <td>None</td>\n",
       "      <td>1</td>\n",
       "      <td>clear</td>\n",
       "      <td>None</td>\n",
       "      <td>scratch</td>\n",
       "      <td>2</td>\n",
       "      <td>vehicle code violation</td>\n",
       "      <td>speeding</td>\n",
       "      <td>rear end</td>\n",
       "      <td>other motor vehicle</td>\n",
       "      <td>dry</td>\n",
       "      <td>None</td>\n",
       "      <td>dark with street lights</td>\n",
       "      <td>functioning</td>\n",
       "      <td>2009-01-02</td>\n",
       "      <td>22:43:00</td>\n",
       "    </tr>\n",
       "  </tbody>\n",
       "</table>\n",
       "</div>"
      ],
      "text/plain": [
       "   case_id county_city_location county_location  distance direction  \\\n",
       "0  4083072                 1942     los angeles     528.0     north   \n",
       "1  4083075                 4313     santa clara       0.0      None   \n",
       "2  4083073                 0109         alameda       0.0      None   \n",
       "3  4083077                 0109         alameda       0.0      None   \n",
       "4  4083087                 4313     santa clara       0.0      None   \n",
       "\n",
       "   intersection weather_1 location_type collision_damage  party_count  \\\n",
       "0             0    cloudy       highway     small damage            2   \n",
       "1             1     clear          None     small damage            1   \n",
       "2             1     clear          None          scratch            2   \n",
       "3             1     clear          None          scratch            2   \n",
       "4             1     clear          None          scratch            2   \n",
       "\n",
       "  primary_collision_factor   pcf_violation_category type_of_collision  \\\n",
       "0   vehicle code violation       unsafe lane change         sideswipe   \n",
       "1   vehicle code violation         improper passing        hit object   \n",
       "2   vehicle code violation         improper turning         broadside   \n",
       "3   vehicle code violation  automobile right of way         broadside   \n",
       "4   vehicle code violation                 speeding          rear end   \n",
       "\n",
       "  motor_vehicle_involved_with road_surface road_condition_1  \\\n",
       "0         other motor vehicle          wet           normal   \n",
       "1                fixed object          dry           normal   \n",
       "2         other motor vehicle          dry           normal   \n",
       "3         other motor vehicle          dry           normal   \n",
       "4         other motor vehicle          dry             None   \n",
       "\n",
       "                  lighting control_device collision_date collision_time  \n",
       "0                 daylight           none     2009-01-22       07:25:00  \n",
       "1  dark with street lights    functioning     2009-01-03       02:26:00  \n",
       "2  dark with street lights    functioning     2009-01-11       03:32:00  \n",
       "3                 daylight    functioning     2009-01-11       10:35:00  \n",
       "4  dark with street lights    functioning     2009-01-02       22:43:00  "
      ]
     },
     "metadata": {},
     "output_type": "display_data"
    }
   ],
   "source": [
    "sample_collisions = get_sample_data(\"collisions\", 10)"
   ]
  },
  {
   "cell_type": "code",
   "execution_count": 8,
   "id": "8106071a",
   "metadata": {},
   "outputs": [
    {
     "data": {
      "text/html": [
       "<div>\n",
       "<style scoped>\n",
       "    .dataframe tbody tr th:only-of-type {\n",
       "        vertical-align: middle;\n",
       "    }\n",
       "\n",
       "    .dataframe tbody tr th {\n",
       "        vertical-align: top;\n",
       "    }\n",
       "\n",
       "    .dataframe thead th {\n",
       "        text-align: right;\n",
       "    }\n",
       "</style>\n",
       "<table border=\"1\" class=\"dataframe\">\n",
       "  <thead>\n",
       "    <tr style=\"text-align: right;\">\n",
       "      <th></th>\n",
       "      <th>case_id</th>\n",
       "      <th>db_year</th>\n",
       "    </tr>\n",
       "  </thead>\n",
       "  <tbody>\n",
       "    <tr>\n",
       "      <th>0</th>\n",
       "      <td>0081715</td>\n",
       "      <td>2021</td>\n",
       "    </tr>\n",
       "    <tr>\n",
       "      <th>1</th>\n",
       "      <td>0726202</td>\n",
       "      <td>2021</td>\n",
       "    </tr>\n",
       "    <tr>\n",
       "      <th>2</th>\n",
       "      <td>3858022</td>\n",
       "      <td>2021</td>\n",
       "    </tr>\n",
       "    <tr>\n",
       "      <th>3</th>\n",
       "      <td>3899441</td>\n",
       "      <td>2021</td>\n",
       "    </tr>\n",
       "    <tr>\n",
       "      <th>4</th>\n",
       "      <td>3899442</td>\n",
       "      <td>2021</td>\n",
       "    </tr>\n",
       "  </tbody>\n",
       "</table>\n",
       "</div>"
      ],
      "text/plain": [
       "   case_id db_year\n",
       "0  0081715    2021\n",
       "1  0726202    2021\n",
       "2  3858022    2021\n",
       "3  3899441    2021\n",
       "4  3899442    2021"
      ]
     },
     "metadata": {},
     "output_type": "display_data"
    }
   ],
   "source": [
    "sample_case_ids = get_sample_data(\"case_ids\", 10)"
   ]
  },
  {
   "cell_type": "code",
   "execution_count": 9,
   "id": "fa8ebf78",
   "metadata": {},
   "outputs": [
    {
     "data": {
      "text/html": [
       "<div>\n",
       "<style scoped>\n",
       "    .dataframe tbody tr th:only-of-type {\n",
       "        vertical-align: middle;\n",
       "    }\n",
       "\n",
       "    .dataframe tbody tr th {\n",
       "        vertical-align: top;\n",
       "    }\n",
       "\n",
       "    .dataframe thead th {\n",
       "        text-align: right;\n",
       "    }\n",
       "</style>\n",
       "<table border=\"1\" class=\"dataframe\">\n",
       "  <thead>\n",
       "    <tr style=\"text-align: right;\">\n",
       "      <th></th>\n",
       "      <th>id</th>\n",
       "      <th>case_id</th>\n",
       "      <th>party_number</th>\n",
       "      <th>vehicle_type</th>\n",
       "      <th>vehicle_transmission</th>\n",
       "      <th>vehicle_age</th>\n",
       "    </tr>\n",
       "  </thead>\n",
       "  <tbody>\n",
       "    <tr>\n",
       "      <th>0</th>\n",
       "      <td>1175713</td>\n",
       "      <td>5305032</td>\n",
       "      <td>2</td>\n",
       "      <td>sedan</td>\n",
       "      <td>manual</td>\n",
       "      <td>3</td>\n",
       "    </tr>\n",
       "    <tr>\n",
       "      <th>1</th>\n",
       "      <td>1</td>\n",
       "      <td>3858022</td>\n",
       "      <td>1</td>\n",
       "      <td>sedan</td>\n",
       "      <td>auto</td>\n",
       "      <td>3</td>\n",
       "    </tr>\n",
       "    <tr>\n",
       "      <th>2</th>\n",
       "      <td>1175712</td>\n",
       "      <td>5305030</td>\n",
       "      <td>1</td>\n",
       "      <td>sedan</td>\n",
       "      <td>auto</td>\n",
       "      <td>3</td>\n",
       "    </tr>\n",
       "    <tr>\n",
       "      <th>3</th>\n",
       "      <td>1175717</td>\n",
       "      <td>5305033</td>\n",
       "      <td>3</td>\n",
       "      <td>sedan</td>\n",
       "      <td>auto</td>\n",
       "      <td>5</td>\n",
       "    </tr>\n",
       "    <tr>\n",
       "      <th>4</th>\n",
       "      <td>1175722</td>\n",
       "      <td>5305034</td>\n",
       "      <td>2</td>\n",
       "      <td>sedan</td>\n",
       "      <td>auto</td>\n",
       "      <td>5</td>\n",
       "    </tr>\n",
       "  </tbody>\n",
       "</table>\n",
       "</div>"
      ],
      "text/plain": [
       "        id  case_id  party_number vehicle_type vehicle_transmission  \\\n",
       "0  1175713  5305032             2        sedan               manual   \n",
       "1        1  3858022             1        sedan                 auto   \n",
       "2  1175712  5305030             1        sedan                 auto   \n",
       "3  1175717  5305033             3        sedan                 auto   \n",
       "4  1175722  5305034             2        sedan                 auto   \n",
       "\n",
       "   vehicle_age  \n",
       "0            3  \n",
       "1            3  \n",
       "2            3  \n",
       "3            5  \n",
       "4            5  "
      ]
     },
     "metadata": {},
     "output_type": "display_data"
    }
   ],
   "source": [
    "sample_vehicles = get_sample_data(\"vehicles\", 10)"
   ]
  },
  {
   "cell_type": "code",
   "execution_count": 10,
   "id": "317d6b2d",
   "metadata": {
    "scrolled": true
   },
   "outputs": [
    {
     "data": {
      "text/html": [
       "<div>\n",
       "<style scoped>\n",
       "    .dataframe tbody tr th:only-of-type {\n",
       "        vertical-align: middle;\n",
       "    }\n",
       "\n",
       "    .dataframe tbody tr th {\n",
       "        vertical-align: top;\n",
       "    }\n",
       "\n",
       "    .dataframe thead th {\n",
       "        text-align: right;\n",
       "    }\n",
       "</style>\n",
       "<table border=\"1\" class=\"dataframe\">\n",
       "  <thead>\n",
       "    <tr style=\"text-align: right;\">\n",
       "      <th></th>\n",
       "      <th>id</th>\n",
       "      <th>case_id</th>\n",
       "      <th>party_number</th>\n",
       "      <th>party_type</th>\n",
       "      <th>at_fault</th>\n",
       "      <th>insurance_premium</th>\n",
       "      <th>party_sobriety</th>\n",
       "      <th>party_drug_physical</th>\n",
       "      <th>cellphone_in_use</th>\n",
       "    </tr>\n",
       "  </thead>\n",
       "  <tbody>\n",
       "    <tr>\n",
       "      <th>0</th>\n",
       "      <td>22</td>\n",
       "      <td>3899454</td>\n",
       "      <td>1</td>\n",
       "      <td>road signs</td>\n",
       "      <td>1</td>\n",
       "      <td>29.0</td>\n",
       "      <td>had not been drinking</td>\n",
       "      <td>None</td>\n",
       "      <td>0.0</td>\n",
       "    </tr>\n",
       "    <tr>\n",
       "      <th>1</th>\n",
       "      <td>23</td>\n",
       "      <td>3899454</td>\n",
       "      <td>2</td>\n",
       "      <td>road signs</td>\n",
       "      <td>0</td>\n",
       "      <td>7.0</td>\n",
       "      <td>had not been drinking</td>\n",
       "      <td>None</td>\n",
       "      <td>0.0</td>\n",
       "    </tr>\n",
       "    <tr>\n",
       "      <th>2</th>\n",
       "      <td>29</td>\n",
       "      <td>3899462</td>\n",
       "      <td>2</td>\n",
       "      <td>car</td>\n",
       "      <td>0</td>\n",
       "      <td>21.0</td>\n",
       "      <td>had not been drinking</td>\n",
       "      <td>None</td>\n",
       "      <td>0.0</td>\n",
       "    </tr>\n",
       "    <tr>\n",
       "      <th>3</th>\n",
       "      <td>31</td>\n",
       "      <td>3899465</td>\n",
       "      <td>2</td>\n",
       "      <td>road signs</td>\n",
       "      <td>0</td>\n",
       "      <td>24.0</td>\n",
       "      <td>had not been drinking</td>\n",
       "      <td>None</td>\n",
       "      <td>0.0</td>\n",
       "    </tr>\n",
       "    <tr>\n",
       "      <th>4</th>\n",
       "      <td>41</td>\n",
       "      <td>3899478</td>\n",
       "      <td>2</td>\n",
       "      <td>road bumper</td>\n",
       "      <td>0</td>\n",
       "      <td>NaN</td>\n",
       "      <td>not applicable</td>\n",
       "      <td>not applicable</td>\n",
       "      <td>0.0</td>\n",
       "    </tr>\n",
       "  </tbody>\n",
       "</table>\n",
       "</div>"
      ],
      "text/plain": [
       "   id  case_id  party_number   party_type  at_fault  insurance_premium  \\\n",
       "0  22  3899454             1   road signs         1               29.0   \n",
       "1  23  3899454             2   road signs         0                7.0   \n",
       "2  29  3899462             2          car         0               21.0   \n",
       "3  31  3899465             2   road signs         0               24.0   \n",
       "4  41  3899478             2  road bumper         0                NaN   \n",
       "\n",
       "          party_sobriety party_drug_physical  cellphone_in_use  \n",
       "0  had not been drinking                None               0.0  \n",
       "1  had not been drinking                None               0.0  \n",
       "2  had not been drinking                None               0.0  \n",
       "3  had not been drinking                None               0.0  \n",
       "4         not applicable      not applicable               0.0  "
      ]
     },
     "metadata": {},
     "output_type": "display_data"
    }
   ],
   "source": [
    "sample_parties = get_sample_data(\"parties\", 10)"
   ]
  },
  {
   "cell_type": "markdown",
   "id": "6590b585",
   "metadata": {},
   "source": [
    "Все на месте!  \n",
    "Таблицы имеют набор данных  \n",
    "Количество столбцов соответсвует условию задачи  \n",
    "общий ключ имеется `case_id`"
   ]
  },
  {
   "cell_type": "markdown",
   "id": "cd10539a",
   "metadata": {},
   "source": [
    "## 3. Проведите статистический анализ факторов ДТП"
   ]
  },
  {
   "cell_type": "code",
   "execution_count": 11,
   "id": "a5b853a0",
   "metadata": {
    "scrolled": false
   },
   "outputs": [
    {
     "data": {
      "image/png": "[encoded data removed]",
      "text/plain": [
       "<Figure size 720x432 with 1 Axes>"
      ]
     },
     "metadata": {
      "needs_background": "light"
     },
     "output_type": "display_data"
    }
   ],
   "source": [
    "query = '''\n",
    "SELECT \n",
    "    EXTRACT(MONTH FROM collision_date) AS month,\n",
    "    COUNT(*) AS collision_count\n",
    "FROM\n",
    "    collisions\n",
    "GROUP BY\n",
    "    month\n",
    "ORDER BY\n",
    "    collision_count DESC;\n",
    "'''\n",
    "df = pd.read_sql(query, engine)\n",
    "\n",
    "plt.figure(figsize=(10, 6))\n",
    "plt.bar(df['month'], df['collision_count'])\n",
    "plt.xlabel('Месяц')\n",
    "plt.ylabel('Количество аварий')\n",
    "plt.title('Статистика аварий по месяцам')\n",
    "plt.xticks(df['month'])\n",
    "plt.show()"
   ]
  },
  {
   "cell_type": "markdown",
   "id": "df691e38",
   "metadata": {},
   "source": [
    "Больше всего аварий происходит в марте, возможно потому что некоторые люди переоделись на летнюю резину, а по ночам еще бывает холодно"
   ]
  },
  {
   "cell_type": "markdown",
   "id": "f8621437",
   "metadata": {},
   "source": [
    "### Статистические задачи"
   ]
  },
  {
   "cell_type": "markdown",
   "id": "7738bd67",
   "metadata": {},
   "source": [
    "Проведите анализ серьёзности повреждений транспортного средства, исходя из состояния дороги в момент ДТП   \n",
    "Зависимость типа повреждений от кузова  \n",
    "Зависимость наличия в машине громкой связи от времени суток  \n",
    "Зависимость региона от трезвости  \n",
    "Зависимость типа коробки передач от трезвости\n",
    "Зависимость региона от возраста машины"
   ]
  },
  {
   "cell_type": "markdown",
   "id": "f84d83ba",
   "metadata": {},
   "source": [
    "Проведите анализ серьёзности повреждений транспортного средства, исходя из состояния дороги в момент ДТП  \n",
    "\n",
    "\n",
    "Мы выбираем уникальные значения столбца \"road_surface\" и \"collision_damage\" из таблицы \"collisions\".  \n",
    "Мы также вычисляем количество повреждений (\"collision_damage\") для каждой комбинации \"road_surface\" и \"collision_damage\". Для этого используется оконная функция COUNT вместе с оператором PARTITION BY для группировки по \"road_surface\" и упорядочивания по \"collision_damage\".  \n",
    "Мы ограничиваем результат только теми записями, где \"case_id\" присутствует в подзапросе, который выбирает уникальные \"case_id\" из таблицы \"parties\", где \"party_type\" равно 'car'.  \n",
    "Результат сортируется по \"road_surface\" и \"col_count\" (количество повреждений).  "
   ]
  },
  {
   "cell_type": "code",
   "execution_count": 12,
   "id": "05cdf282",
   "metadata": {},
   "outputs": [
    {
     "data": {
      "image/png": "[encoded data removed]",
      "text/plain": [
       "<Figure size 720x720 with 1 Axes>"
      ]
     },
     "metadata": {
      "needs_background": "light"
     },
     "output_type": "display_data"
    }
   ],
   "source": [
    "query = '''\n",
    "SELECT DISTINCT c.road_surface, c.collision_damage, \n",
    "       COUNT(c.collision_damage) OVER (PARTITION BY c.road_surface ORDER BY c.collision_damage) AS col_count\n",
    "FROM collisions c\n",
    "JOIN parties p ON c.case_id = p.case_id\n",
    "WHERE p.party_type = 'car'\n",
    "ORDER BY c.road_surface, col_count\n",
    "'''\n",
    "df_weather = pd.read_sql(query, con=engine)\n",
    "\n",
    "# Установка размера\n",
    "f, ax = plt.subplots(figsize=(10, 10))\n",
    "\n",
    "sns.barplot(data=df_weather,\n",
    "            x='road_surface',\n",
    "            y='col_count',\n",
    "            hue='collision_damage',\n",
    "            palette=\"Set2\",\n",
    "            alpha=0.7)\n",
    "ax.legend(ncol=1, loc=\"upper right\", frameon=True)\n",
    "ax.set(xlabel=\"Состояние дороги и тип повреждений\",\n",
    "       ylabel=\"Количество\")\n",
    "plt.title(\"Зависимость типа повреждений от состояния дороги\")\n",
    "plt.show()"
   ]
  },
  {
   "cell_type": "markdown",
   "id": "1fbe1be7",
   "metadata": {},
   "source": [
    "как не было бы странно, но большинство аварий происходит на сухой дороге, в большинстве случаем это аварии с маленьким уроном"
   ]
  },
  {
   "cell_type": "code",
   "execution_count": 13,
   "id": "3210744c",
   "metadata": {},
   "outputs": [
    {
     "data": {
      "image/png": "[encoded data removed]",
      "text/plain": [
       "<Figure size 1080x576 with 1 Axes>"
      ]
     },
     "metadata": {
      "needs_background": "light"
     },
     "output_type": "display_data"
    }
   ],
   "source": [
    "query = '''\n",
    "select *,\n",
    "col_count/SUM(col_count) over (partition by vehicle_type) as prcnt\n",
    "from (\n",
    "        select distinct collision_damage, vehicle_type,\n",
    "        count(collision_damage) over(partition by vehicle_type order by collision_damage) as col_count\n",
    "from(\n",
    "        select case_id , collision_damage \n",
    "        from collisions) c \n",
    "        join(\n",
    "        select case_id, vehicle_type\n",
    "        from vehicles) v  on c.case_id = v.case_id) t\n",
    "'''\n",
    "\n",
    "df_body = pd.read_sql(query, engine)\n",
    "\n",
    "f, ax = plt.subplots(figsize=(15, 8))\n",
    "\n",
    "#\n",
    "sns.barplot(data =df_body, \n",
    "            x='vehicle_type',\n",
    "            y = 'col_count',\n",
    "            hue  = 'collision_damage',\n",
    "            palette = \"Set2\",\n",
    "            alpha=0.7)\n",
    "ax.legend(ncol=1, loc=\"upper right\", frameon=True)\n",
    "ax.set(xlabel=\"Тип кузова и тип повреждений\",\n",
    "       ylabel=\"Количество\")\n",
    "plt.title(\"Зависимость типа повреждений от кузова\")\n",
    "plt.show()"
   ]
  },
  {
   "cell_type": "markdown",
   "id": "d00ac77f",
   "metadata": {},
   "source": [
    "На этом графике можно увидеть что в ДТП купе обычно получают серьезный ущерб или царапины, а седаны в основном мелкий ремонт"
   ]
  },
  {
   "cell_type": "markdown",
   "id": "1a5d0fd5",
   "metadata": {},
   "source": [
    "## 4. Создайте модель для оценки водительского риска"
   ]
  },
  {
   "cell_type": "markdown",
   "id": "8066cbba",
   "metadata": {},
   "source": [
    "### 1. Собираем общий df  с которым будем работать"
   ]
  },
  {
   "cell_type": "code",
   "execution_count": 14,
   "id": "a3340f2d",
   "metadata": {},
   "outputs": [
    {
     "data": {
      "text/html": [
       "<div>\n",
       "<style scoped>\n",
       "    .dataframe tbody tr th:only-of-type {\n",
       "        vertical-align: middle;\n",
       "    }\n",
       "\n",
       "    .dataframe tbody tr th {\n",
       "        vertical-align: top;\n",
       "    }\n",
       "\n",
       "    .dataframe thead th {\n",
       "        text-align: right;\n",
       "    }\n",
       "</style>\n",
       "<table border=\"1\" class=\"dataframe\">\n",
       "  <thead>\n",
       "    <tr style=\"text-align: right;\">\n",
       "      <th></th>\n",
       "      <th>at_fault</th>\n",
       "      <th>vehicle_type</th>\n",
       "      <th>vehicle_age</th>\n",
       "      <th>insurance_premium</th>\n",
       "      <th>party_sobriety</th>\n",
       "      <th>party_drug_physical</th>\n",
       "      <th>cellphone_in_use</th>\n",
       "      <th>intersection</th>\n",
       "      <th>weather_1</th>\n",
       "      <th>location_type</th>\n",
       "      <th>road_surface</th>\n",
       "      <th>road_condition_1</th>\n",
       "      <th>lighting</th>\n",
       "      <th>collision_date</th>\n",
       "      <th>collision_time</th>\n",
       "    </tr>\n",
       "  </thead>\n",
       "  <tbody>\n",
       "    <tr>\n",
       "      <th>0</th>\n",
       "      <td>1</td>\n",
       "      <td>sedan</td>\n",
       "      <td>2.0</td>\n",
       "      <td>34.0</td>\n",
       "      <td>had not been drinking</td>\n",
       "      <td>None</td>\n",
       "      <td>0.0</td>\n",
       "      <td>0.0</td>\n",
       "      <td>cloudy</td>\n",
       "      <td>None</td>\n",
       "      <td>dry</td>\n",
       "      <td>normal</td>\n",
       "      <td>daylight</td>\n",
       "      <td>2012-01-02</td>\n",
       "      <td>13:22:00</td>\n",
       "    </tr>\n",
       "    <tr>\n",
       "      <th>1</th>\n",
       "      <td>1</td>\n",
       "      <td>sedan</td>\n",
       "      <td>5.0</td>\n",
       "      <td>38.0</td>\n",
       "      <td>had been drinking, under influence</td>\n",
       "      <td>None</td>\n",
       "      <td>0.0</td>\n",
       "      <td>0.0</td>\n",
       "      <td>clear</td>\n",
       "      <td>intersection</td>\n",
       "      <td>dry</td>\n",
       "      <td>other</td>\n",
       "      <td>dark with no street lights</td>\n",
       "      <td>2012-05-01</td>\n",
       "      <td>00:01:00</td>\n",
       "    </tr>\n",
       "    <tr>\n",
       "      <th>2</th>\n",
       "      <td>0</td>\n",
       "      <td>sedan</td>\n",
       "      <td>NaN</td>\n",
       "      <td>NaN</td>\n",
       "      <td>impairment unknown</td>\n",
       "      <td>G</td>\n",
       "      <td>0.0</td>\n",
       "      <td>0.0</td>\n",
       "      <td>clear</td>\n",
       "      <td>highway</td>\n",
       "      <td>dry</td>\n",
       "      <td>normal</td>\n",
       "      <td>daylight</td>\n",
       "      <td>2012-04-19</td>\n",
       "      <td>12:44:00</td>\n",
       "    </tr>\n",
       "    <tr>\n",
       "      <th>3</th>\n",
       "      <td>1</td>\n",
       "      <td>sedan</td>\n",
       "      <td>8.0</td>\n",
       "      <td>43.0</td>\n",
       "      <td>had not been drinking</td>\n",
       "      <td>None</td>\n",
       "      <td>0.0</td>\n",
       "      <td>0.0</td>\n",
       "      <td>clear</td>\n",
       "      <td>None</td>\n",
       "      <td>dry</td>\n",
       "      <td>normal</td>\n",
       "      <td>dark with street lights</td>\n",
       "      <td>2012-04-19</td>\n",
       "      <td>22:04:00</td>\n",
       "    </tr>\n",
       "    <tr>\n",
       "      <th>4</th>\n",
       "      <td>1</td>\n",
       "      <td>sedan</td>\n",
       "      <td>6.0</td>\n",
       "      <td>38.0</td>\n",
       "      <td>had been drinking, under influence</td>\n",
       "      <td>None</td>\n",
       "      <td>0.0</td>\n",
       "      <td>0.0</td>\n",
       "      <td>clear</td>\n",
       "      <td>None</td>\n",
       "      <td>dry</td>\n",
       "      <td>normal</td>\n",
       "      <td>dark with no street lights</td>\n",
       "      <td>2012-04-21</td>\n",
       "      <td>00:50:00</td>\n",
       "    </tr>\n",
       "  </tbody>\n",
       "</table>\n",
       "</div>"
      ],
      "text/plain": [
       "   at_fault vehicle_type  vehicle_age  insurance_premium  \\\n",
       "0         1        sedan          2.0               34.0   \n",
       "1         1        sedan          5.0               38.0   \n",
       "2         0        sedan          NaN                NaN   \n",
       "3         1        sedan          8.0               43.0   \n",
       "4         1        sedan          6.0               38.0   \n",
       "\n",
       "                       party_sobriety party_drug_physical  cellphone_in_use  \\\n",
       "0               had not been drinking                None               0.0   \n",
       "1  had been drinking, under influence                None               0.0   \n",
       "2                  impairment unknown                   G               0.0   \n",
       "3               had not been drinking                None               0.0   \n",
       "4  had been drinking, under influence                None               0.0   \n",
       "\n",
       "   intersection weather_1 location_type road_surface road_condition_1  \\\n",
       "0           0.0    cloudy          None          dry           normal   \n",
       "1           0.0     clear  intersection          dry            other   \n",
       "2           0.0     clear       highway          dry           normal   \n",
       "3           0.0     clear          None          dry           normal   \n",
       "4           0.0     clear          None          dry           normal   \n",
       "\n",
       "                     lighting collision_date collision_time  \n",
       "0                    daylight     2012-01-02       13:22:00  \n",
       "1  dark with no street lights     2012-05-01       00:01:00  \n",
       "2                    daylight     2012-04-19       12:44:00  \n",
       "3     dark with street lights     2012-04-19       22:04:00  \n",
       "4  dark with no street lights     2012-04-21       00:50:00  "
      ]
     },
     "execution_count": 14,
     "metadata": {},
     "output_type": "execute_result"
    }
   ],
   "source": [
    "query = '''\n",
    "select  \n",
    "        at_fault,\n",
    "        vehicle_type,\n",
    "        vehicle_age, \n",
    "        insurance_premium,\n",
    "        party_sobriety,\n",
    "        party_drug_physical,\n",
    "        cellphone_in_use,\n",
    "        intersection,\n",
    "        weather_1,\n",
    "        location_type,\n",
    "        road_surface,\n",
    "        road_condition_1,\n",
    "        lighting,\n",
    "        CAST(collision_date AS DATE) AS collision_date,\n",
    "        collision_time\n",
    "  FROM parties AS p\n",
    "       INNER JOIN vehicles AS v ON p.case_id = v.case_id AND p.party_number = v.party_number\n",
    "       INNER JOIN collisions AS c ON p.case_id = c.case_id\n",
    " WHERE p.party_type = 'car'\n",
    "       AND c.collision_damage != 'scratch'\n",
    "       AND c.collision_date BETWEEN '2012-01-01' AND '2012-12-31';\n",
    "'''\n",
    "df = pd.read_sql_query(query, con=engine)\n",
    "df.head()"
   ]
  },
  {
   "cell_type": "code",
   "execution_count": 15,
   "id": "db59f06f",
   "metadata": {
    "scrolled": false
   },
   "outputs": [
    {
     "name": "stdout",
     "output_type": "stream",
     "text": [
      "<class 'pandas.core.frame.DataFrame'>\n",
      "RangeIndex: 56248 entries, 0 to 56247\n",
      "Data columns (total 15 columns):\n",
      " #   Column               Non-Null Count  Dtype  \n",
      "---  ------               --------------  -----  \n",
      " 0   at_fault             56248 non-null  int64  \n",
      " 1   vehicle_type         56248 non-null  object \n",
      " 2   vehicle_age          54554 non-null  float64\n",
      " 3   insurance_premium    55701 non-null  float64\n",
      " 4   party_sobriety       55376 non-null  object \n",
      " 5   party_drug_physical  2857 non-null   object \n",
      " 6   cellphone_in_use     51777 non-null  float64\n",
      " 7   intersection         56073 non-null  float64\n",
      " 8   weather_1            56080 non-null  object \n",
      " 9   location_type        25932 non-null  object \n",
      " 10  road_surface         55900 non-null  object \n",
      " 11  road_condition_1     55999 non-null  object \n",
      " 12  lighting             56094 non-null  object \n",
      " 13  collision_date       56248 non-null  object \n",
      " 14  collision_time       56160 non-null  object \n",
      "dtypes: float64(4), int64(1), object(10)\n",
      "memory usage: 6.4+ MB\n"
     ]
    }
   ],
   "source": [
    "df.info()"
   ]
  },
  {
   "cell_type": "markdown",
   "id": "8d8d32a0",
   "metadata": {},
   "source": [
    "Оставляю по моему мнению критерии, которые могут влиять на попадание в ДТП  \n",
    "\n",
    "vehicle_type - тип кузова, вряд ли человек на минивене будет гонять в центральном рряду на кутузовском проспекте  \n",
    "vehicle_age - возраст машины  \n",
    "insurance_premium - страховая выплата, если будет КАСКО, то верояно водитель будет вести себя более беспечно поскольку ему целиком компенсируют ущерб  \n",
    "party_sobriety - трезвость, думаю тут все ясно=)  \n",
    "party_drug_physical - Состояние участника: физическое или с учётом принятых лекарств  \n",
    "cellphone_in_use - громкая связь в авто    \n",
    "intersection - Является ли место происшествие перекрёстком  \n",
    "weather_1 - погода  \n",
    "location_type - грунтовка или шоссе имеет огромное значение  \n",
    "road_surface - сухая или в снегу, тоже огромное значение  \n",
    "road_condition_1 - ямки наше все  \n",
    "lighting - освещенность участка\n",
    "collision_date - дата (разобьем на месяц день и день недели)\n",
    "collision_time -время(разобьем на время суток)"
   ]
  },
  {
   "cell_type": "markdown",
   "id": "90ed0abd",
   "metadata": {},
   "source": [
    "### 2. Перейдем к обработке данных"
   ]
  },
  {
   "cell_type": "markdown",
   "id": "eabeefeb",
   "metadata": {},
   "source": [
    "проверяем дубликаты, при наличии удаляем"
   ]
  },
  {
   "cell_type": "code",
   "execution_count": 16,
   "id": "e49c1d1a",
   "metadata": {},
   "outputs": [
    {
     "data": {
      "text/plain": [
       "38"
      ]
     },
     "execution_count": 16,
     "metadata": {},
     "output_type": "execute_result"
    }
   ],
   "source": [
    "df.duplicated().sum()"
   ]
  },
  {
   "cell_type": "code",
   "execution_count": 17,
   "id": "30df6ae6",
   "metadata": {},
   "outputs": [],
   "source": [
    "df.drop_duplicates(inplace=True)"
   ]
  },
  {
   "cell_type": "code",
   "execution_count": 18,
   "id": "8a003b7e",
   "metadata": {
    "scrolled": true
   },
   "outputs": [
    {
     "data": {
      "text/plain": [
       "0"
      ]
     },
     "execution_count": 18,
     "metadata": {},
     "output_type": "execute_result"
    }
   ],
   "source": [
    "df.duplicated().sum()"
   ]
  },
  {
   "cell_type": "markdown",
   "id": "1d8cf67f",
   "metadata": {},
   "source": [
    "Посмотрим значения в столбцах, сколько их и обработаем пропуска, во многих столбцах есть занчение `other`, все неопределенное будем пихать туда, для числовых, подгоним к медиане, поскольку не очень много пропусков в столбцах, дату разделим на месяц , день, день недели. Время на время суток (утро, день, вечер , ночь)"
   ]
  },
  {
   "cell_type": "code",
   "execution_count": 19,
   "id": "743141b8",
   "metadata": {},
   "outputs": [
    {
     "data": {
      "text/plain": [
       "sedan    37168\n",
       "coupe    19038\n",
       "other        4\n",
       "Name: vehicle_type, dtype: int64"
      ]
     },
     "execution_count": 19,
     "metadata": {},
     "output_type": "execute_result"
    }
   ],
   "source": [
    "df['vehicle_type'].value_counts()"
   ]
  },
  {
   "cell_type": "code",
   "execution_count": 20,
   "id": "ed63e2bf",
   "metadata": {},
   "outputs": [
    {
     "data": {
      "text/plain": [
       "sedan    37168\n",
       "coupe    19038\n",
       "Name: vehicle_type, dtype: int64"
      ]
     },
     "execution_count": 20,
     "metadata": {},
     "output_type": "execute_result"
    }
   ],
   "source": [
    "df = df.drop(df[df['vehicle_type'] == 'other'].index)\n",
    "df['vehicle_type'].value_counts()"
   ]
  },
  {
   "cell_type": "code",
   "execution_count": 21,
   "id": "3d614d6a",
   "metadata": {},
   "outputs": [
    {
     "data": {
      "text/plain": [
       "3.0      11001\n",
       "4.0       7152\n",
       "2.0       6042\n",
       "5.0       5562\n",
       "6.0       3935\n",
       "7.0       3834\n",
       "8.0       3508\n",
       "0.0       3087\n",
       "9.0       2766\n",
       "1.0       2545\n",
       "10.0      1941\n",
       "11.0      1379\n",
       "12.0       879\n",
       "13.0       551\n",
       "14.0       282\n",
       "15.0        37\n",
       "16.0         6\n",
       "17.0         3\n",
       "161.0        2\n",
       "19.0         1\n",
       "Name: vehicle_age, dtype: int64"
      ]
     },
     "execution_count": 21,
     "metadata": {},
     "output_type": "execute_result"
    }
   ],
   "source": [
    "df['vehicle_age'].value_counts()"
   ]
  },
  {
   "cell_type": "code",
   "execution_count": 22,
   "id": "d9a3f0ca",
   "metadata": {
    "scrolled": false
   },
   "outputs": [
    {
     "data": {
      "text/plain": [
       "3     11001\n",
       "4      8845\n",
       "2      6042\n",
       "5      5562\n",
       "6      3935\n",
       "7      3834\n",
       "8      3508\n",
       "0      3087\n",
       "9      2766\n",
       "1      2545\n",
       "10     1941\n",
       "11     1379\n",
       "12      879\n",
       "13      551\n",
       "14      282\n",
       "15       37\n",
       "16        6\n",
       "17        3\n",
       "19        1\n",
       "Name: vehicle_age, dtype: int64"
      ]
     },
     "execution_count": 22,
     "metadata": {},
     "output_type": "execute_result"
    }
   ],
   "source": [
    "# Удаление строки с значением \"161\"\n",
    "df = df.drop(df[df['vehicle_age'] == 161].index)\n",
    "# Заменим пропуска на медиану\n",
    "median_age = df['vehicle_age'].median()\n",
    "df['vehicle_age'].fillna(median_age, inplace=True)\n",
    "# Преобразование формата столбца 'vehicle_age' в тип int\n",
    "df['vehicle_age'] = df['vehicle_age'].astype(int)\n",
    "df['vehicle_age'].value_counts()"
   ]
  },
  {
   "cell_type": "code",
   "execution_count": 23,
   "id": "5e5dcace",
   "metadata": {},
   "outputs": [],
   "source": [
    "median_insurance_premium = df['insurance_premium'].median()\n",
    "df['insurance_premium'].fillna(median_insurance_premium, inplace=True)"
   ]
  },
  {
   "cell_type": "code",
   "execution_count": 24,
   "id": "18adcdcd",
   "metadata": {},
   "outputs": [
    {
     "data": {
      "text/plain": [
       "had not been drinking                     48537\n",
       "had been drinking, under influence         4473\n",
       "impairment unknown                         1238\n",
       "had been drinking, not under influence      575\n",
       "had been drinking, impairment unknown       261\n",
       "not applicable                              250\n",
       "Name: party_sobriety, dtype: int64"
      ]
     },
     "execution_count": 24,
     "metadata": {},
     "output_type": "execute_result"
    }
   ],
   "source": [
    "df['party_sobriety'].value_counts()"
   ]
  },
  {
   "cell_type": "code",
   "execution_count": 25,
   "id": "e38e65e0",
   "metadata": {},
   "outputs": [],
   "source": [
    "df['party_sobriety'] = df['party_sobriety'].fillna('impairment unknown')"
   ]
  },
  {
   "cell_type": "code",
   "execution_count": 26,
   "id": "7702b183",
   "metadata": {},
   "outputs": [
    {
     "data": {
      "text/plain": [
       "G                        1238\n",
       "under drug influence      857\n",
       "sleepy/fatigued           390\n",
       "not applicable            250\n",
       "impairment - physical     122\n",
       "Name: party_drug_physical, dtype: int64"
      ]
     },
     "execution_count": 26,
     "metadata": {},
     "output_type": "execute_result"
    }
   ],
   "source": [
    "df['party_drug_physical'].value_counts()"
   ]
  },
  {
   "cell_type": "code",
   "execution_count": 27,
   "id": "eed12b02",
   "metadata": {},
   "outputs": [],
   "source": [
    "df['party_drug_physical'] = df['party_drug_physical'].fillna('impairment unknown')\n",
    "\n",
    "party_drug_physical_map = {\n",
    "    'G': 'impairment unknown'\n",
    "}\n",
    "\n",
    "df['party_drug_physical'] = df['party_drug_physical'].apply(lambda x: party_drug_physical_map[x] if x in party_drug_physical_map else x)\n"
   ]
  },
  {
   "cell_type": "code",
   "execution_count": 28,
   "id": "26ed2b36",
   "metadata": {},
   "outputs": [
    {
     "data": {
      "text/plain": [
       "0.0    50684\n",
       "1.0     1054\n",
       "Name: cellphone_in_use, dtype: int64"
      ]
     },
     "execution_count": 28,
     "metadata": {},
     "output_type": "execute_result"
    }
   ],
   "source": [
    "df['cellphone_in_use'].value_counts()   "
   ]
  },
  {
   "cell_type": "code",
   "execution_count": 29,
   "id": "284404cf",
   "metadata": {},
   "outputs": [],
   "source": [
    "df['cellphone_in_use'] = df['cellphone_in_use'].fillna(0)"
   ]
  },
  {
   "cell_type": "code",
   "execution_count": 30,
   "id": "f688ac9d",
   "metadata": {},
   "outputs": [
    {
     "data": {
      "text/plain": [
       "0.0    43615\n",
       "1.0    12414\n",
       "Name: intersection, dtype: int64"
      ]
     },
     "execution_count": 30,
     "metadata": {},
     "output_type": "execute_result"
    }
   ],
   "source": [
    "df['intersection'].value_counts()  "
   ]
  },
  {
   "cell_type": "code",
   "execution_count": 31,
   "id": "1f0b6d43",
   "metadata": {},
   "outputs": [
    {
     "data": {
      "text/plain": [
       "0.0    43790\n",
       "1.0    12414\n",
       "Name: intersection, dtype: int64"
      ]
     },
     "execution_count": 31,
     "metadata": {},
     "output_type": "execute_result"
    }
   ],
   "source": [
    "df['intersection'] = df['intersection'].fillna(0)\n",
    "df['intersection'].value_counts()  "
   ]
  },
  {
   "cell_type": "code",
   "execution_count": 32,
   "id": "2bca1c46",
   "metadata": {},
   "outputs": [
    {
     "data": {
      "text/plain": [
       "clear      45059\n",
       "cloudy      8418\n",
       "raining     2178\n",
       "fog          181\n",
       "snowing      157\n",
       "other         34\n",
       "wind          11\n",
       "Name: weather_1, dtype: int64"
      ]
     },
     "execution_count": 32,
     "metadata": {},
     "output_type": "execute_result"
    }
   ],
   "source": [
    "df['weather_1'].value_counts()"
   ]
  },
  {
   "cell_type": "code",
   "execution_count": 33,
   "id": "eefe90d3",
   "metadata": {},
   "outputs": [
    {
     "data": {
      "text/plain": [
       "clear      45059\n",
       "cloudy      8418\n",
       "raining     2178\n",
       "other        200\n",
       "fog          181\n",
       "snowing      157\n",
       "wind          11\n",
       "Name: weather_1, dtype: int64"
      ]
     },
     "execution_count": 33,
     "metadata": {},
     "output_type": "execute_result"
    }
   ],
   "source": [
    "df['weather_1'] = df['weather_1'].fillna('other')\n",
    "df['weather_1'].value_counts()"
   ]
  },
  {
   "cell_type": "code",
   "execution_count": 34,
   "id": "70ffc951",
   "metadata": {},
   "outputs": [
    {
     "data": {
      "text/plain": [
       "highway         21303\n",
       "ramp             3264\n",
       "intersection     1342\n",
       "Name: location_type, dtype: int64"
      ]
     },
     "execution_count": 34,
     "metadata": {},
     "output_type": "execute_result"
    }
   ],
   "source": [
    "df['location_type'].value_counts()"
   ]
  },
  {
   "cell_type": "code",
   "execution_count": 35,
   "id": "65f7c22a",
   "metadata": {},
   "outputs": [
    {
     "data": {
      "text/plain": [
       "other           30295\n",
       "highway         21303\n",
       "ramp             3264\n",
       "intersection     1342\n",
       "Name: location_type, dtype: int64"
      ]
     },
     "execution_count": 35,
     "metadata": {},
     "output_type": "execute_result"
    }
   ],
   "source": [
    "df['location_type'] = df['location_type'].fillna('other')\n",
    "df['location_type'].value_counts()"
   ]
  },
  {
   "cell_type": "code",
   "execution_count": 36,
   "id": "6fe7ffb0",
   "metadata": {},
   "outputs": [
    {
     "data": {
      "text/plain": [
       "dry         50205\n",
       "wet          5252\n",
       "snowy         357\n",
       "slippery       43\n",
       "Name: road_surface, dtype: int64"
      ]
     },
     "execution_count": 36,
     "metadata": {},
     "output_type": "execute_result"
    }
   ],
   "source": [
    "df['road_surface'].value_counts()"
   ]
  },
  {
   "cell_type": "code",
   "execution_count": 37,
   "id": "c341b9fa",
   "metadata": {
    "scrolled": true
   },
   "outputs": [
    {
     "data": {
      "text/plain": [
       "dry         50205\n",
       "wet          5252\n",
       "snowy         357\n",
       "other         347\n",
       "slippery       43\n",
       "Name: road_surface, dtype: int64"
      ]
     },
     "execution_count": 37,
     "metadata": {},
     "output_type": "execute_result"
    }
   ],
   "source": [
    "df['road_surface'] = df['road_surface'].fillna('other')\n",
    "df['road_surface'].value_counts()"
   ]
  },
  {
   "cell_type": "code",
   "execution_count": 38,
   "id": "898fd91d",
   "metadata": {},
   "outputs": [
    {
     "data": {
      "text/plain": [
       "normal            54025\n",
       "construction       1002\n",
       "obstruction         248\n",
       "other               228\n",
       "holes               222\n",
       "loose material      128\n",
       "reduced width        72\n",
       "flooded              32\n",
       "Name: road_condition_1, dtype: int64"
      ]
     },
     "execution_count": 38,
     "metadata": {},
     "output_type": "execute_result"
    }
   ],
   "source": [
    "df['road_condition_1'].value_counts()"
   ]
  },
  {
   "cell_type": "code",
   "execution_count": 39,
   "id": "dfd6a021",
   "metadata": {},
   "outputs": [
    {
     "data": {
      "text/plain": [
       "normal            54025\n",
       "construction       1002\n",
       "other               475\n",
       "obstruction         248\n",
       "holes               222\n",
       "loose material      128\n",
       "reduced width        72\n",
       "flooded              32\n",
       "Name: road_condition_1, dtype: int64"
      ]
     },
     "execution_count": 39,
     "metadata": {},
     "output_type": "execute_result"
    }
   ],
   "source": [
    "df['road_condition_1'] = df['road_condition_1'].fillna('other')\n",
    "df['road_condition_1'].value_counts()"
   ]
  },
  {
   "cell_type": "code",
   "execution_count": 40,
   "id": "61fd74ea",
   "metadata": {},
   "outputs": [
    {
     "data": {
      "text/plain": [
       "daylight                                   38032\n",
       "dark with street lights                    11011\n",
       "dark with no street lights                  5105\n",
       "dusk or dawn                                1768\n",
       "dark with street lights not functioning      135\n",
       "Name: lighting, dtype: int64"
      ]
     },
     "execution_count": 40,
     "metadata": {},
     "output_type": "execute_result"
    }
   ],
   "source": [
    "df['lighting'].value_counts()"
   ]
  },
  {
   "cell_type": "code",
   "execution_count": 41,
   "id": "b42d0651",
   "metadata": {
    "scrolled": false
   },
   "outputs": [
    {
     "data": {
      "text/plain": [
       "daylight                                   38032\n",
       "dark with street lights                    11011\n",
       "dark with no street lights                  5105\n",
       "dusk or dawn                                1768\n",
       "other                                        153\n",
       "dark with street lights not functioning      135\n",
       "Name: lighting, dtype: int64"
      ]
     },
     "execution_count": 41,
     "metadata": {},
     "output_type": "execute_result"
    }
   ],
   "source": [
    "df['lighting'] = df['lighting'].fillna('other')\n",
    "df['lighting'].value_counts()"
   ]
  },
  {
   "cell_type": "code",
   "execution_count": 42,
   "id": "fa0c4c32",
   "metadata": {},
   "outputs": [
    {
     "data": {
      "text/plain": [
       "0"
      ]
     },
     "execution_count": 42,
     "metadata": {},
     "output_type": "execute_result"
    }
   ],
   "source": [
    "df['collision_time'].replace('', np.nan, inplace=True)\n",
    "df.dropna(subset=['collision_time'], inplace=True)\n",
    "df['collision_time'].isnull().sum()"
   ]
  },
  {
   "cell_type": "code",
   "execution_count": 43,
   "id": "dac01a3d",
   "metadata": {},
   "outputs": [],
   "source": [
    "df['collision_time'] = df['collision_time'].astype(str)\n",
    "\n",
    "# Преобразование строки в формат datetime\n",
    "df['collision_time'] = pd.to_datetime(df['collision_time'], format='%H:%M:%S', errors='coerce')\n",
    "\n",
    "# Извлечение часов из столбца 'collision_time'\n",
    "df['hour'] = df['collision_time'].dt.hour\n",
    "\n",
    "# Замена пропущенных значений в столбце 'hour' на медиану\n",
    "median_hour = df['hour'].median()\n",
    "df['hour'].fillna(median_hour, inplace=True)\n",
    "\n",
    "# Создание категориального столбца 'time_category'\n",
    "time_bins = [0, 6, 12, 18, 23]\n",
    "time_labels = ['ночь', 'утро', 'день', 'вечер']\n",
    "df['time_category'] = pd.cut(df['hour'], bins=time_bins, labels=time_labels, right=False)"
   ]
  },
  {
   "cell_type": "code",
   "execution_count": 44,
   "id": "e4803086",
   "metadata": {},
   "outputs": [],
   "source": [
    "df.dropna(subset=['time_category'], inplace=True)"
   ]
  },
  {
   "cell_type": "code",
   "execution_count": 45,
   "id": "0b61eed2",
   "metadata": {},
   "outputs": [
    {
     "data": {
      "text/plain": [
       "['день', 'ночь', 'вечер', 'утро']\n",
       "Categories (4, object): ['ночь' < 'утро' < 'день' < 'вечер']"
      ]
     },
     "execution_count": 45,
     "metadata": {},
     "output_type": "execute_result"
    }
   ],
   "source": [
    "df['time_category'].unique()"
   ]
  },
  {
   "cell_type": "code",
   "execution_count": 46,
   "id": "518e7578",
   "metadata": {},
   "outputs": [],
   "source": [
    "df = df.drop(['collision_time', 'hour'], axis=1)"
   ]
  },
  {
   "cell_type": "code",
   "execution_count": 47,
   "id": "3e312295",
   "metadata": {},
   "outputs": [],
   "source": [
    "df['collision_date'] = pd.to_datetime(df['collision_date'])\n",
    "\n",
    "df['month'] = df['collision_date'].dt.month\n",
    "df['day'] = df['collision_date'].dt.day\n",
    "df['weekday'] = df['collision_date'].dt.weekday\n",
    "df = df.drop(['collision_date'], axis=1)"
   ]
  },
  {
   "cell_type": "code",
   "execution_count": 48,
   "id": "12247fcc",
   "metadata": {},
   "outputs": [
    {
     "name": "stdout",
     "output_type": "stream",
     "text": [
      "<class 'pandas.core.frame.DataFrame'>\n",
      "Int64Index: 54744 entries, 0 to 56247\n",
      "Data columns (total 17 columns):\n",
      " #   Column               Non-Null Count  Dtype   \n",
      "---  ------               --------------  -----   \n",
      " 0   at_fault             54744 non-null  int64   \n",
      " 1   vehicle_type         54744 non-null  object  \n",
      " 2   vehicle_age          54744 non-null  int64   \n",
      " 3   insurance_premium    54744 non-null  float64 \n",
      " 4   party_sobriety       54744 non-null  object  \n",
      " 5   party_drug_physical  54744 non-null  object  \n",
      " 6   cellphone_in_use     54744 non-null  float64 \n",
      " 7   intersection         54744 non-null  float64 \n",
      " 8   weather_1            54744 non-null  object  \n",
      " 9   location_type        54744 non-null  object  \n",
      " 10  road_surface         54744 non-null  object  \n",
      " 11  road_condition_1     54744 non-null  object  \n",
      " 12  lighting             54744 non-null  object  \n",
      " 13  time_category        54744 non-null  category\n",
      " 14  month                54744 non-null  int64   \n",
      " 15  day                  54744 non-null  int64   \n",
      " 16  weekday              54744 non-null  int64   \n",
      "dtypes: category(1), float64(3), int64(5), object(8)\n",
      "memory usage: 7.2+ MB\n"
     ]
    }
   ],
   "source": [
    "df.info()"
   ]
  },
  {
   "cell_type": "code",
   "execution_count": 49,
   "id": "94a5e1c9",
   "metadata": {
    "scrolled": false
   },
   "outputs": [
    {
     "data": {
      "text/html": [
       "<div>\n",
       "<style scoped>\n",
       "    .dataframe tbody tr th:only-of-type {\n",
       "        vertical-align: middle;\n",
       "    }\n",
       "\n",
       "    .dataframe tbody tr th {\n",
       "        vertical-align: top;\n",
       "    }\n",
       "\n",
       "    .dataframe thead th {\n",
       "        text-align: right;\n",
       "    }\n",
       "</style>\n",
       "<table border=\"1\" class=\"dataframe\">\n",
       "  <thead>\n",
       "    <tr style=\"text-align: right;\">\n",
       "      <th></th>\n",
       "      <th>at_fault</th>\n",
       "      <th>vehicle_type</th>\n",
       "      <th>vehicle_age</th>\n",
       "      <th>insurance_premium</th>\n",
       "      <th>party_sobriety</th>\n",
       "      <th>party_drug_physical</th>\n",
       "      <th>cellphone_in_use</th>\n",
       "      <th>intersection</th>\n",
       "      <th>weather_1</th>\n",
       "      <th>location_type</th>\n",
       "      <th>road_surface</th>\n",
       "      <th>road_condition_1</th>\n",
       "      <th>lighting</th>\n",
       "      <th>time_category</th>\n",
       "      <th>month</th>\n",
       "      <th>day</th>\n",
       "      <th>weekday</th>\n",
       "    </tr>\n",
       "  </thead>\n",
       "  <tbody>\n",
       "    <tr>\n",
       "      <th>0</th>\n",
       "      <td>1</td>\n",
       "      <td>sedan</td>\n",
       "      <td>2</td>\n",
       "      <td>34.0</td>\n",
       "      <td>had not been drinking</td>\n",
       "      <td>impairment unknown</td>\n",
       "      <td>0.0</td>\n",
       "      <td>0.0</td>\n",
       "      <td>cloudy</td>\n",
       "      <td>other</td>\n",
       "      <td>dry</td>\n",
       "      <td>normal</td>\n",
       "      <td>daylight</td>\n",
       "      <td>день</td>\n",
       "      <td>1</td>\n",
       "      <td>2</td>\n",
       "      <td>0</td>\n",
       "    </tr>\n",
       "    <tr>\n",
       "      <th>1</th>\n",
       "      <td>1</td>\n",
       "      <td>sedan</td>\n",
       "      <td>5</td>\n",
       "      <td>38.0</td>\n",
       "      <td>had been drinking, under influence</td>\n",
       "      <td>impairment unknown</td>\n",
       "      <td>0.0</td>\n",
       "      <td>0.0</td>\n",
       "      <td>clear</td>\n",
       "      <td>intersection</td>\n",
       "      <td>dry</td>\n",
       "      <td>other</td>\n",
       "      <td>dark with no street lights</td>\n",
       "      <td>ночь</td>\n",
       "      <td>5</td>\n",
       "      <td>1</td>\n",
       "      <td>1</td>\n",
       "    </tr>\n",
       "    <tr>\n",
       "      <th>2</th>\n",
       "      <td>0</td>\n",
       "      <td>sedan</td>\n",
       "      <td>4</td>\n",
       "      <td>34.0</td>\n",
       "      <td>impairment unknown</td>\n",
       "      <td>impairment unknown</td>\n",
       "      <td>0.0</td>\n",
       "      <td>0.0</td>\n",
       "      <td>clear</td>\n",
       "      <td>highway</td>\n",
       "      <td>dry</td>\n",
       "      <td>normal</td>\n",
       "      <td>daylight</td>\n",
       "      <td>день</td>\n",
       "      <td>4</td>\n",
       "      <td>19</td>\n",
       "      <td>3</td>\n",
       "    </tr>\n",
       "    <tr>\n",
       "      <th>3</th>\n",
       "      <td>1</td>\n",
       "      <td>sedan</td>\n",
       "      <td>8</td>\n",
       "      <td>43.0</td>\n",
       "      <td>had not been drinking</td>\n",
       "      <td>impairment unknown</td>\n",
       "      <td>0.0</td>\n",
       "      <td>0.0</td>\n",
       "      <td>clear</td>\n",
       "      <td>other</td>\n",
       "      <td>dry</td>\n",
       "      <td>normal</td>\n",
       "      <td>dark with street lights</td>\n",
       "      <td>вечер</td>\n",
       "      <td>4</td>\n",
       "      <td>19</td>\n",
       "      <td>3</td>\n",
       "    </tr>\n",
       "    <tr>\n",
       "      <th>4</th>\n",
       "      <td>1</td>\n",
       "      <td>sedan</td>\n",
       "      <td>6</td>\n",
       "      <td>38.0</td>\n",
       "      <td>had been drinking, under influence</td>\n",
       "      <td>impairment unknown</td>\n",
       "      <td>0.0</td>\n",
       "      <td>0.0</td>\n",
       "      <td>clear</td>\n",
       "      <td>other</td>\n",
       "      <td>dry</td>\n",
       "      <td>normal</td>\n",
       "      <td>dark with no street lights</td>\n",
       "      <td>ночь</td>\n",
       "      <td>4</td>\n",
       "      <td>21</td>\n",
       "      <td>5</td>\n",
       "    </tr>\n",
       "  </tbody>\n",
       "</table>\n",
       "</div>"
      ],
      "text/plain": [
       "   at_fault vehicle_type  vehicle_age  insurance_premium  \\\n",
       "0         1        sedan            2               34.0   \n",
       "1         1        sedan            5               38.0   \n",
       "2         0        sedan            4               34.0   \n",
       "3         1        sedan            8               43.0   \n",
       "4         1        sedan            6               38.0   \n",
       "\n",
       "                       party_sobriety party_drug_physical  cellphone_in_use  \\\n",
       "0               had not been drinking  impairment unknown               0.0   \n",
       "1  had been drinking, under influence  impairment unknown               0.0   \n",
       "2                  impairment unknown  impairment unknown               0.0   \n",
       "3               had not been drinking  impairment unknown               0.0   \n",
       "4  had been drinking, under influence  impairment unknown               0.0   \n",
       "\n",
       "   intersection weather_1 location_type road_surface road_condition_1  \\\n",
       "0           0.0    cloudy         other          dry           normal   \n",
       "1           0.0     clear  intersection          dry            other   \n",
       "2           0.0     clear       highway          dry           normal   \n",
       "3           0.0     clear         other          dry           normal   \n",
       "4           0.0     clear         other          dry           normal   \n",
       "\n",
       "                     lighting time_category  month  day  weekday  \n",
       "0                    daylight          день      1    2        0  \n",
       "1  dark with no street lights          ночь      5    1        1  \n",
       "2                    daylight          день      4   19        3  \n",
       "3     dark with street lights         вечер      4   19        3  \n",
       "4  dark with no street lights          ночь      4   21        5  "
      ]
     },
     "execution_count": 49,
     "metadata": {},
     "output_type": "execute_result"
    }
   ],
   "source": [
    "df.head()"
   ]
  },
  {
   "cell_type": "markdown",
   "id": "4247b914",
   "metadata": {},
   "source": [
    "От пропусков избавились, ДФ готов к оубчению"
   ]
  },
  {
   "cell_type": "markdown",
   "id": "d1ab197a",
   "metadata": {},
   "source": [
    "Созддадим новый df для тех признаков которые могут влять на ДТП"
   ]
  },
  {
   "cell_type": "markdown",
   "id": "cd18631a",
   "metadata": {},
   "source": [
    "### 3. Избивались от пропускоов , далее подготовим данные к обучению"
   ]
  },
  {
   "cell_type": "markdown",
   "id": "169fff24",
   "metadata": {},
   "source": [
    "Посмотрим на баланс классов\n"
   ]
  },
  {
   "cell_type": "code",
   "execution_count": 50,
   "id": "9ae37651",
   "metadata": {
    "scrolled": true
   },
   "outputs": [
    {
     "data": {
      "text/plain": [
       "1    50.096814\n",
       "0    49.903186\n",
       "Name: at_fault, dtype: float64"
      ]
     },
     "execution_count": 50,
     "metadata": {},
     "output_type": "execute_result"
    }
   ],
   "source": [
    "df['at_fault'].value_counts(normalize=True) * 100\n"
   ]
  },
  {
   "cell_type": "markdown",
   "id": "37b5dfd6",
   "metadata": {},
   "source": [
    "Есть небольшой дисбаланс, думаю он не критичен"
   ]
  },
  {
   "cell_type": "markdown",
   "id": "c48fce5b",
   "metadata": {},
   "source": [
    "Разбиваем данные на выборки, кодируем с помощью таргетэнкода, затем масштабируем количественные"
   ]
  },
  {
   "cell_type": "code",
   "execution_count": 51,
   "id": "7a163b3a",
   "metadata": {},
   "outputs": [],
   "source": [
    "df_train, df_valid, df_test = np.split(df.sample(frac=1, random_state=12345), [int(.6*len(df)), int(.8*len(df))])"
   ]
  },
  {
   "cell_type": "code",
   "execution_count": 52,
   "id": "1ff18be8",
   "metadata": {},
   "outputs": [],
   "source": [
    "categorical_features = ['vehicle_type', 'party_sobriety', 'party_drug_physical',\n",
    "                        'weather_1', 'location_type', 'road_surface',\n",
    "                        'road_condition_1', 'lighting', 'time_category']\n",
    "num_features = ['vehicle_age', 'insurance_premium', 'cellphone_in_use',\n",
    "                'intersection', 'month', 'day', 'weekday']"
   ]
  },
  {
   "cell_type": "code",
   "execution_count": 53,
   "id": "9683009d",
   "metadata": {},
   "outputs": [],
   "source": [
    "X_train = df_train.drop(['at_fault'], axis=1)\n",
    "y_train = df_train['at_fault']\n",
    "X_valid = df_valid.drop(['at_fault'], axis=1)\n",
    "y_valid = df_valid['at_fault']\n",
    "X_test = df_test.drop(['at_fault'], axis=1)\n",
    "y_test = df_test['at_fault']"
   ]
  },
  {
   "cell_type": "code",
   "execution_count": 54,
   "id": "ffe59cb1",
   "metadata": {},
   "outputs": [],
   "source": [
    "encoder = ce.TargetEncoder(cols=categorical_features)\n",
    "X_train_encoded = encoder.fit_transform(X_train, y_train)\n",
    "X_valid_encoded = encoder.transform(X_valid)\n",
    "X_test_encoded = encoder.transform(X_test)"
   ]
  },
  {
   "cell_type": "code",
   "execution_count": 55,
   "id": "79f6e197",
   "metadata": {},
   "outputs": [],
   "source": [
    "scaler = StandardScaler()\n",
    "X_train_scaled = scaler.fit_transform(X_train_encoded[num_features])\n",
    "X_valid_scaled = scaler.transform(X_valid_encoded[num_features])\n",
    "X_test_scaled = scaler.transform(X_test_encoded[num_features])"
   ]
  },
  {
   "cell_type": "markdown",
   "id": "1805dc29",
   "metadata": {},
   "source": [
    "выведем размер новых dfов\n"
   ]
  },
  {
   "cell_type": "code",
   "execution_count": 56,
   "id": "5f5395d3",
   "metadata": {},
   "outputs": [
    {
     "name": "stdout",
     "output_type": "stream",
     "text": [
      "Train shape: (32846, 7)\n",
      "Valid shape: (10949, 7)\n",
      "Test shape: (10949, 7)\n"
     ]
    }
   ],
   "source": [
    "print(\"Train shape:\", X_train_scaled.shape)\n",
    "print(\"Valid shape:\", X_valid_scaled.shape)\n",
    "print(\"Test shape:\", X_test_scaled.shape)"
   ]
  },
  {
   "cell_type": "code",
   "execution_count": 57,
   "id": "0de553a6",
   "metadata": {},
   "outputs": [
    {
     "data": {
      "text/plain": [
       "1    50.267917\n",
       "0    49.732083\n",
       "Name: at_fault, dtype: float64"
      ]
     },
     "execution_count": 57,
     "metadata": {},
     "output_type": "execute_result"
    }
   ],
   "source": [
    "y_train.value_counts(normalize=True) * 100"
   ]
  },
  {
   "cell_type": "code",
   "execution_count": 58,
   "id": "6a992c85",
   "metadata": {},
   "outputs": [
    {
     "data": {
      "text/plain": [
       "0    50.278564\n",
       "1    49.721436\n",
       "Name: at_fault, dtype: float64"
      ]
     },
     "execution_count": 58,
     "metadata": {},
     "output_type": "execute_result"
    }
   ],
   "source": [
    "y_test.value_counts(normalize=True) * 100"
   ]
  },
  {
   "cell_type": "markdown",
   "id": "1af8b4a1",
   "metadata": {},
   "source": [
    "## 5. Найдите лучшую модель"
   ]
  },
  {
   "cell_type": "markdown",
   "id": "3513e6a3",
   "metadata": {},
   "source": [
    "Определеим параметры для gridsearch"
   ]
  },
  {
   "cell_type": "code",
   "execution_count": 59,
   "id": "eedea96d",
   "metadata": {},
   "outputs": [],
   "source": [
    "decision_tree_params = {'max_depth': [3, 5, 7]}\n",
    "\n",
    "random_forest_params = {'n_estimators': [10, 20, 30],\n",
    "                        'max_depth': [3, 5, 7]}\n",
    "\n",
    "catboost_params = {'depth': [3, 5, 7],\n",
    "                   'learning_rate': [0.01, 0.1, 1]}\n"
   ]
  },
  {
   "cell_type": "markdown",
   "id": "51f4d33b",
   "metadata": {},
   "source": [
    "Создадим 3 классификатора"
   ]
  },
  {
   "cell_type": "markdown",
   "id": "b319a7c8",
   "metadata": {},
   "source": [
    "В каечстве метрики будем использовать f1 учитывая, что важно обнаружить и предсказать как можно больше случаев ДТП с повреждением транспортного средства, рекомендуется использовать метрику, которая уделяет внимание как точности, так и полноте предсказаний.\n",
    "\n",
    "F1-метрика является хорошим выбором в данном контексте, так как она учитывает и точность, и полноту модели. При оценке риска ДТП, высокая точность будет означать, что большинство предсказанных случаев ДТП являются действительными, а высокая полнота будет означать, что модель обнаруживает большую долю реальных случаев ДТП.\n",
    "\n",
    "Выберем f1 потому что она включает в себя точность и полноту, так же в отличии от accuarcy f1 учитывает дисбаланс классов"
   ]
  },
  {
   "cell_type": "code",
   "execution_count": 60,
   "id": "427266e1",
   "metadata": {},
   "outputs": [],
   "source": [
    "decision_tree = DecisionTreeClassifier()\n",
    "random_forest = RandomForestClassifier()\n",
    "catboost = CatBoostClassifier(verbose=False)"
   ]
  },
  {
   "cell_type": "code",
   "execution_count": 61,
   "id": "a5c4fa99",
   "metadata": {},
   "outputs": [],
   "source": [
    "decision_tree_grid = GridSearchCV(decision_tree, decision_tree_params, scoring='f1', cv=5)\n",
    "\n",
    "random_forest_grid = GridSearchCV(random_forest, random_forest_params,\n",
    "                                  scoring='f1', cv=5)\n",
    "\n",
    "catboost_grid = GridSearchCV(catboost, catboost_params,\n",
    "                             scoring='f1', cv=5)"
   ]
  },
  {
   "cell_type": "markdown",
   "id": "ed4da886",
   "metadata": {},
   "source": [
    "Обучим модели"
   ]
  },
  {
   "cell_type": "code",
   "execution_count": 62,
   "id": "df9e262a",
   "metadata": {
    "scrolled": true
   },
   "outputs": [
    {
     "name": "stdout",
     "output_type": "stream",
     "text": [
      "CPU times: user 445 ms, sys: 7.23 ms, total: 452 ms\n",
      "Wall time: 453 ms\n"
     ]
    },
    {
     "data": {
      "text/plain": [
       "GridSearchCV(cv=5, estimator=DecisionTreeClassifier(),\n",
       "             param_grid={'max_depth': [3, 5, 7]}, scoring='f1')"
      ]
     },
     "execution_count": 62,
     "metadata": {},
     "output_type": "execute_result"
    }
   ],
   "source": [
    "%%time\n",
    "\n",
    "decision_tree_grid.fit(X_train_scaled, y_train)"
   ]
  },
  {
   "cell_type": "code",
   "execution_count": 63,
   "id": "366a48e1",
   "metadata": {
    "scrolled": true
   },
   "outputs": [
    {
     "name": "stdout",
     "output_type": "stream",
     "text": [
      "CPU times: user 7.97 s, sys: 7.82 ms, total: 7.98 s\n",
      "Wall time: 7.99 s\n"
     ]
    },
    {
     "data": {
      "text/plain": [
       "GridSearchCV(cv=5, estimator=RandomForestClassifier(),\n",
       "             param_grid={'max_depth': [3, 5, 7], 'n_estimators': [10, 20, 30]},\n",
       "             scoring='f1')"
      ]
     },
     "execution_count": 63,
     "metadata": {},
     "output_type": "execute_result"
    }
   ],
   "source": [
    "%%time\n",
    "\n",
    "random_forest_grid.fit(X_train_scaled, y_train)"
   ]
  },
  {
   "cell_type": "code",
   "execution_count": null,
   "id": "ed066067",
   "metadata": {
    "scrolled": true
   },
   "outputs": [],
   "source": [
    "%%time\n",
    "\n",
    "catboost_grid.fit(X_train_scaled, y_train)"
   ]
  },
  {
   "cell_type": "code",
   "execution_count": null,
   "id": "11e979e0",
   "metadata": {
    "scrolled": true
   },
   "outputs": [],
   "source": [
    "print(\"Лучшие параметры LogisticRegression:\", decision_tree_grid.best_params_)\n",
    "print(\"Лучшее значение f1 LogisticRegression:\", decision_tree_grid.best_score_)\n",
    "print(\"Лучшие параметры RandomForestClassifier:\", random_forest_grid.best_params_)\n",
    "print(\"Лучшее значение f1 RandomForestClassifier:\", random_forest_grid.best_score_)\n",
    "print(\"Лучшие параметры CatBoostClassifier:\", catboost_grid.best_params_)\n",
    "print(\"Лучшее значение f1 CatBoostClassifier:\", catboost_grid.best_score_)"
   ]
  },
  {
   "cell_type": "markdown",
   "id": "79ef1cfb",
   "metadata": {},
   "source": [
    "Лучший результат f1 показал CatBoost\n",
    "\n",
    "Лучшие параметры CatBoostClassifier: {'depth': 5, 'learning_rate': 1}  \n",
    "Лучшее значение f1 CatBoostClassifier: 0.57\n",
    "\n",
    "будем использовать эту модель для тестовых данных"
   ]
  },
  {
   "cell_type": "code",
   "execution_count": null,
   "id": "6be59236",
   "metadata": {},
   "outputs": [],
   "source": [
    "%%time\n",
    "\n",
    "best_catboost = CatBoostClassifier(max_depth=5, learning_rate=1, verbose=False)\n",
    "best_catboost.fit(X_train_scaled, y_train)\n",
    "\n",
    "\n",
    "y_pred = best_catboost.predict(X_test_scaled)\n",
    "precision = precision_score(y_test, y_pred)\n",
    "recall = recall_score(y_test, y_pred)\n",
    "\n",
    "\n",
    "\n",
    "f1 = f1_score(y_test, y_pred)\n",
    "\n",
    "print(\"Значение F1 для catboost на тестовых данных:\", f1)\n",
    "print(\"Значение precision для catboost на тестовых данных:\", precision)\n",
    "print(\"Значение recall для catboost на тестовых данных:\", recall)"
   ]
  },
  {
   "cell_type": "markdown",
   "id": "f3b7687f",
   "metadata": {},
   "source": [
    "## 6. Проверьте лучшую модель в работе"
   ]
  },
  {
   "cell_type": "markdown",
   "id": "1e026189",
   "metadata": {},
   "source": [
    "Посмотрим на матрицу ошибок"
   ]
  },
  {
   "cell_type": "code",
   "execution_count": null,
   "id": "93ab0dcc",
   "metadata": {},
   "outputs": [],
   "source": [
    "cm = confusion_matrix(y_test, y_pred)\n",
    "print('Confusion matrix\\n\\n', cm)\n",
    "print('\\nTrue Positives(TP) = ', cm[0,0])\n",
    "print('\\nTrue Negatives(TN) = ', cm[1,1])\n",
    "print('\\nFalse Positives(FP) = ', cm[0,1])\n",
    "print('\\nFalse Negatives(FN) = ', cm[1,0])"
   ]
  },
  {
   "cell_type": "code",
   "execution_count": null,
   "id": "3c011220",
   "metadata": {
    "scrolled": false
   },
   "outputs": [],
   "source": [
    "cm_matrix = pd.DataFrame(data=cm, columns=['Actual Positive:1', 'Actual Negative:0'], \n",
    "                                 index=['Predict Positive:1', 'Predict Negative:0'])\n",
    "\n",
    "sns.heatmap(cm_matrix, annot=True, fmt='d', cmap='YlGnBu')\n",
    "plt.title('Confusion matrix')\n",
    "plt.show()"
   ]
  },
  {
   "cell_type": "markdown",
   "id": "d95c5d46",
   "metadata": {},
   "source": [
    "Верно классифицированных положительных результатов (True Positives, TP) было 2940. Это говорит о том, что модель правильно предсказала положительные исходы в 2940 случаях.\n",
    "\n",
    "Верно классифицированных отрицательных результатов (True Negatives, TN) было 3044. Это означает, что модель правильно предсказала отрицательные исходы в 3044 случаях.\n",
    "\n",
    "Ложно положительных результатов (False Positives, FP) было 2532. Это означает, что модель ошибочно предсказала положительные исходы в 2532 случаях.\n",
    "\n",
    "Ложно отрицательных результатов (False Negatives, FN) было 2433. Это говорит о том, что модель ошибочно предсказала отрицательные исходы в 2433 случаях."
   ]
  },
  {
   "cell_type": "code",
   "execution_count": null,
   "id": "5402111d",
   "metadata": {},
   "outputs": [],
   "source": [
    "y_prob = best_catboost.predict_proba(X_test_scaled)[:, 1]\n",
    "precision, recall, thresholds = precision_recall_curve(y_test, y_prob)\n",
    "\n",
    "# Построение графика точности\n",
    "plt.plot(thresholds, precision[:-1])\n",
    "plt.xlabel('Threshold')\n",
    "plt.ylabel('Precision')\n",
    "plt.title('График точности')\n",
    "plt.show()"
   ]
  },
  {
   "cell_type": "code",
   "execution_count": null,
   "id": "f456951c",
   "metadata": {},
   "outputs": [],
   "source": [
    "y_prob_rec = best_catboost.predict_proba(X_test_scaled)[:, 1]\n",
    "\n",
    "# Вычисление точности и полноты для различных пороговых значений\n",
    "precision, recall, thresholds = precision_recall_curve(y_test, y_prob_rec)\n",
    "\n",
    "# Построение графика полноты\n",
    "plt.plot(thresholds, recall[:-1])\n",
    "plt.xlabel('Threshold')\n",
    "plt.ylabel('Recall')\n",
    "plt.title('ГРафик полноты')\n",
    "plt.show()"
   ]
  },
  {
   "cell_type": "markdown",
   "id": "b6563f87",
   "metadata": {},
   "source": [
    "Посмотрим на зависимость числа ДТП от разных факторов"
   ]
  },
  {
   "cell_type": "code",
   "execution_count": null,
   "id": "36f2c6e2",
   "metadata": {
    "scrolled": false
   },
   "outputs": [],
   "source": [
    "feature_importances = best_catboost.feature_importances_\n",
    "plt.bar(X_test.columns[:len(feature_importances)], feature_importances)\n",
    "plt.xticks(rotation=90)\n",
    "plt.title('Признаки влияющие на аварийность')\n",
    "plt.show()"
   ]
  },
  {
   "cell_type": "markdown",
   "id": "b0fd4bfd",
   "metadata": {},
   "source": [
    "сильнее всего влияет возраст машины"
   ]
  },
  {
   "cell_type": "code",
   "execution_count": null,
   "id": "bcf0c902",
   "metadata": {
    "scrolled": false
   },
   "outputs": [],
   "source": [
    "##v.vehicle_age, p.at_fault\n",
    "query = '''\n",
    "SELECT v.vehicle_age, COUNT(*) AS accident_count\n",
    "FROM collisions c\n",
    "JOIN vehicles v ON c.case_id = v.case_id\n",
    "WHERE v.vehicle_age IS NOT NULL\n",
    "    and v.vehicle_age < 21\n",
    "GROUP BY v.vehicle_age\n",
    "ORDER BY v.vehicle_age\n",
    "'''\n",
    "\n",
    "df = pd.read_sql(query, con=engine)\n",
    "\n",
    "#Установка размера\n",
    "plt.figure(figsize=(10, 6))\n",
    "\n",
    "sns.barplot(data=df, x='vehicle_age', y='accident_count', color='skyblue')\n",
    "plt.xlabel(\"Возраст автомобиля\")\n",
    "plt.ylabel(\"Количество аварий\")\n",
    "plt.title(\"Зависимость количества аварий от возраста автомобиля\")\n",
    "plt.show()"
   ]
  },
  {
   "cell_type": "markdown",
   "id": "d8b8dddf",
   "metadata": {},
   "source": [
    "Кажется если вашей машине 3 года, стоит водить аккуратнее"
   ]
  },
  {
   "cell_type": "markdown",
   "id": "8bd40bd3",
   "metadata": {},
   "source": [
    "## 7. Сделайте общий вывод по модели"
   ]
  },
  {
   "cell_type": "markdown",
   "id": "b95bc9bc",
   "metadata": {},
   "source": [
    "1. Лучший результат f1 показал CatBoost\n",
    "Лучшие параметры CatBoostClassifier: {'depth': 5, 'learning_rate': 1}   \n",
    "Лучшее значение f1 CatBoostClassifier: 0.52  \n",
    "\n",
    "\n",
    "2. Итог по матрице ошибок  \n",
    "\n",
    "Верно классифицированных положительных результатов (True Positives, TP) было 2940. Это говорит о том, что модель правильно предсказала положительные исходы в 2940 случаях.\n",
    "\n",
    "Верно классифицированных отрицательных результатов (True Negatives, TN) было 3044. Это означает, что модель правильно предсказала отрицательные исходы в 3044 случаях.\n",
    "\n",
    "Ложно положительных результатов (False Positives, FP) было 2532. Это означает, что модель ошибочно предсказала положительные исходы в 2532 случаях.\n",
    "\n",
    "Ложно отрицательных результатов (False Negatives, FN) было 2433. Это говорит о том, что модель ошибочно предсказала отрицательные исходы в 2433 случаях."
   ]
  },
  {
   "cell_type": "markdown",
   "id": "363c5a26",
   "metadata": {},
   "source": [
    "Самым важным фактором ДТП являтся возраст авто.  \n",
    "нужно просто своевременно обновлять парк"
   ]
  },
  {
   "cell_type": "markdown",
   "id": "9fcdac2b",
   "metadata": {},
   "source": [
    "Насколько возможно создание адекватной системы оценки риска при выдаче авто?  \n",
    "Для этого нужен очень большой объем данных, но думаю это вполне реально для ЯД у них есть тариф фикс, возможно в него уже вшита эта функция, если нет, то ее можно вшить именно туда, поскольку можно добавить в модель параметры которые можно знать только при построении опредленного маршрута, фикс, на сколько я понимаю умеет анализировать его и на основе построенного маршрута и оценки данных выдает цену, в этом случае можно учитывать качество дорог, тип дорог, статистику по авариям на маршруте и тд  \n",
    "так что чисто в теории для тарифа ФИКС можно довести эту модель до совершенства используя кучу разных факторов, которые нельзя будет использовать в минутном тарифе.\n"
   ]
  },
  {
   "cell_type": "markdown",
   "id": "3dcd8455",
   "metadata": {},
   "source": [
    "Какие факторы ещё необходимо собирать, чтобы улучшить модель?  \n",
    "Думаю самым важным является усталость водителя, я встречал такие опции в машинах, которые отлеживают взгяд водителя и его сконцентрированность на дороге, опять же надо оценить выгодно ли это будет реальзовать.  \n",
    "Так же проблемой являются фековые аккаунты, уверен, что в этом случае ДТП переваливают за 50%, добавить селфи перед поездкой, думаю это реальзовать проще всего, во многих каршерингах есть аная фича"
   ]
  }
 ],
 "metadata": {
  "ExecuteTimeLog": [
   {
    "duration": 8,
    "start_time": "2023-06-07T16:02:37.398Z"
   },
   {
    "duration": 1646,
    "start_time": "2023-06-07T16:03:03.522Z"
   },
   {
    "duration": 121,
    "start_time": "2023-06-07T16:03:05.170Z"
   },
   {
    "duration": 0,
    "start_time": "2023-06-07T16:03:05.292Z"
   },
   {
    "duration": 0,
    "start_time": "2023-06-07T16:03:05.293Z"
   },
   {
    "duration": 0,
    "start_time": "2023-06-07T16:03:05.294Z"
   },
   {
    "duration": 0,
    "start_time": "2023-06-07T16:03:05.295Z"
   },
   {
    "duration": 0,
    "start_time": "2023-06-07T16:03:05.296Z"
   },
   {
    "duration": 1408,
    "start_time": "2023-06-07T16:06:02.073Z"
   },
   {
    "duration": 126,
    "start_time": "2023-06-07T16:06:03.484Z"
   },
   {
    "duration": 0,
    "start_time": "2023-06-07T16:06:03.611Z"
   },
   {
    "duration": 1,
    "start_time": "2023-06-07T16:06:03.612Z"
   },
   {
    "duration": 0,
    "start_time": "2023-06-07T16:06:03.613Z"
   },
   {
    "duration": 0,
    "start_time": "2023-06-07T16:06:03.615Z"
   },
   {
    "duration": 0,
    "start_time": "2023-06-07T16:06:03.616Z"
   },
   {
    "duration": 2307,
    "start_time": "2023-06-07T16:07:37.795Z"
   },
   {
    "duration": 1343,
    "start_time": "2023-06-07T16:07:40.105Z"
   },
   {
    "duration": 117,
    "start_time": "2023-06-07T16:07:41.449Z"
   },
   {
    "duration": 0,
    "start_time": "2023-06-07T16:07:41.567Z"
   },
   {
    "duration": 0,
    "start_time": "2023-06-07T16:07:41.568Z"
   },
   {
    "duration": 0,
    "start_time": "2023-06-07T16:07:41.569Z"
   },
   {
    "duration": 0,
    "start_time": "2023-06-07T16:07:41.570Z"
   },
   {
    "duration": 0,
    "start_time": "2023-06-07T16:07:41.571Z"
   },
   {
    "duration": 4,
    "start_time": "2023-06-07T16:08:09.956Z"
   },
   {
    "duration": 3,
    "start_time": "2023-06-07T16:08:12.042Z"
   },
   {
    "duration": 14,
    "start_time": "2023-06-07T16:08:12.997Z"
   },
   {
    "duration": 16,
    "start_time": "2023-06-07T16:08:13.270Z"
   },
   {
    "duration": 16,
    "start_time": "2023-06-07T16:08:13.472Z"
   },
   {
    "duration": 17,
    "start_time": "2023-06-07T16:08:13.883Z"
   },
   {
    "duration": 2104,
    "start_time": "2023-06-07T16:09:01.181Z"
   },
   {
    "duration": 1408,
    "start_time": "2023-06-07T16:09:03.287Z"
   },
   {
    "duration": 4,
    "start_time": "2023-06-07T16:09:04.697Z"
   },
   {
    "duration": 4912,
    "start_time": "2023-06-07T16:09:04.702Z"
   },
   {
    "duration": 3,
    "start_time": "2023-06-07T16:09:09.616Z"
   },
   {
    "duration": 238,
    "start_time": "2023-06-07T16:09:09.620Z"
   },
   {
    "duration": 0,
    "start_time": "2023-06-07T16:09:09.860Z"
   },
   {
    "duration": 0,
    "start_time": "2023-06-07T16:09:09.862Z"
   },
   {
    "duration": 0,
    "start_time": "2023-06-07T16:09:09.863Z"
   },
   {
    "duration": 86,
    "start_time": "2023-06-07T16:10:19.923Z"
   },
   {
    "duration": 90,
    "start_time": "2023-06-07T16:10:41.448Z"
   },
   {
    "duration": 5,
    "start_time": "2023-06-07T16:12:03.803Z"
   },
   {
    "duration": 4,
    "start_time": "2023-06-07T16:12:04.126Z"
   },
   {
    "duration": 4,
    "start_time": "2023-06-07T16:12:04.361Z"
   },
   {
    "duration": 3,
    "start_time": "2023-06-07T16:12:04.588Z"
   },
   {
    "duration": 43,
    "start_time": "2023-06-07T16:12:04.803Z"
   },
   {
    "duration": 5,
    "start_time": "2023-06-07T16:12:05.034Z"
   },
   {
    "duration": 6,
    "start_time": "2023-06-07T16:12:05.585Z"
   },
   {
    "duration": 9,
    "start_time": "2023-06-07T16:12:05.593Z"
   },
   {
    "duration": 33,
    "start_time": "2023-06-07T16:12:53.067Z"
   },
   {
    "duration": 11,
    "start_time": "2023-06-07T16:13:05.340Z"
   },
   {
    "duration": 13,
    "start_time": "2023-06-07T16:13:09.425Z"
   },
   {
    "duration": 18,
    "start_time": "2023-06-07T16:13:15.603Z"
   },
   {
    "duration": 14,
    "start_time": "2023-06-07T16:13:24.647Z"
   },
   {
    "duration": 13,
    "start_time": "2023-06-07T16:13:30.127Z"
   },
   {
    "duration": 3,
    "start_time": "2023-06-07T16:14:03.644Z"
   },
   {
    "duration": 15,
    "start_time": "2023-06-07T16:14:04.108Z"
   },
   {
    "duration": 19,
    "start_time": "2023-06-07T16:14:04.486Z"
   },
   {
    "duration": 10,
    "start_time": "2023-06-07T16:14:05.547Z"
   },
   {
    "duration": 10,
    "start_time": "2023-06-07T16:14:06.068Z"
   },
   {
    "duration": 3,
    "start_time": "2023-06-07T16:14:24.580Z"
   },
   {
    "duration": 22,
    "start_time": "2023-06-07T16:14:25.329Z"
   },
   {
    "duration": 11,
    "start_time": "2023-06-07T16:14:25.352Z"
   },
   {
    "duration": 11,
    "start_time": "2023-06-07T16:14:25.365Z"
   },
   {
    "duration": 19,
    "start_time": "2023-06-07T16:14:25.378Z"
   },
   {
    "duration": 29,
    "start_time": "2023-06-07T16:14:30.778Z"
   },
   {
    "duration": 11,
    "start_time": "2023-06-07T16:14:32.389Z"
   },
   {
    "duration": 1425,
    "start_time": "2023-06-07T16:14:40.883Z"
   },
   {
    "duration": 4,
    "start_time": "2023-06-07T16:14:42.310Z"
   },
   {
    "duration": 8704,
    "start_time": "2023-06-07T16:14:42.315Z"
   },
   {
    "duration": 4,
    "start_time": "2023-06-07T16:14:51.023Z"
   },
   {
    "duration": 98,
    "start_time": "2023-06-07T16:14:51.029Z"
   },
   {
    "duration": 11,
    "start_time": "2023-06-07T16:14:51.129Z"
   },
   {
    "duration": 16,
    "start_time": "2023-06-07T16:14:51.141Z"
   },
   {
    "duration": 18,
    "start_time": "2023-06-07T16:14:51.158Z"
   },
   {
    "duration": 6,
    "start_time": "2023-06-07T16:16:47.413Z"
   },
   {
    "duration": 110,
    "start_time": "2023-06-07T16:17:14.963Z"
   },
   {
    "duration": 3,
    "start_time": "2023-06-07T16:55:23.470Z"
   },
   {
    "duration": 4,
    "start_time": "2023-06-07T16:55:54.211Z"
   },
   {
    "duration": 374,
    "start_time": "2023-06-07T17:03:40.718Z"
   },
   {
    "duration": 438,
    "start_time": "2023-06-07T17:04:41.827Z"
   },
   {
    "duration": 374,
    "start_time": "2023-06-07T17:05:45.888Z"
   },
   {
    "duration": 10,
    "start_time": "2023-06-07T23:58:57.130Z"
   },
   {
    "duration": 27,
    "start_time": "2023-06-08T00:02:10.988Z"
   },
   {
    "duration": 1358,
    "start_time": "2023-06-08T00:02:16.081Z"
   },
   {
    "duration": 3,
    "start_time": "2023-06-08T00:02:17.441Z"
   },
   {
    "duration": 4839,
    "start_time": "2023-06-08T00:02:17.445Z"
   },
   {
    "duration": 3,
    "start_time": "2023-06-08T00:02:22.286Z"
   },
   {
    "duration": 88,
    "start_time": "2023-06-08T00:02:22.291Z"
   },
   {
    "duration": 5,
    "start_time": "2023-06-08T00:02:22.382Z"
   },
   {
    "duration": 6,
    "start_time": "2023-06-08T00:02:22.389Z"
   },
   {
    "duration": 11,
    "start_time": "2023-06-08T00:02:22.397Z"
   },
   {
    "duration": 395,
    "start_time": "2023-06-08T00:02:22.409Z"
   },
   {
    "duration": 3,
    "start_time": "2023-06-08T00:03:02.184Z"
   },
   {
    "duration": 102,
    "start_time": "2023-06-08T00:03:02.443Z"
   },
   {
    "duration": 11,
    "start_time": "2023-06-08T00:03:02.663Z"
   },
   {
    "duration": 12,
    "start_time": "2023-06-08T00:03:02.843Z"
   },
   {
    "duration": 16,
    "start_time": "2023-06-08T00:03:03.028Z"
   },
   {
    "duration": 367,
    "start_time": "2023-06-08T00:03:03.212Z"
   },
   {
    "duration": 435,
    "start_time": "2023-06-08T00:09:39.282Z"
   },
   {
    "duration": 328,
    "start_time": "2023-06-08T00:10:39.529Z"
   },
   {
    "duration": 267,
    "start_time": "2023-06-08T00:11:44.973Z"
   },
   {
    "duration": 310,
    "start_time": "2023-06-08T00:12:42.886Z"
   },
   {
    "duration": 332,
    "start_time": "2023-06-08T00:13:19.243Z"
   },
   {
    "duration": 82,
    "start_time": "2023-06-08T00:15:53.197Z"
   },
   {
    "duration": 72,
    "start_time": "2023-06-08T00:26:25.301Z"
   },
   {
    "duration": 95,
    "start_time": "2023-06-08T00:27:28.333Z"
   },
   {
    "duration": 1548,
    "start_time": "2023-06-08T00:30:31.641Z"
   },
   {
    "duration": 92,
    "start_time": "2023-06-08T00:30:51.251Z"
   },
   {
    "duration": 4,
    "start_time": "2023-06-08T00:30:52.550Z"
   },
   {
    "duration": 3,
    "start_time": "2023-06-08T00:30:52.726Z"
   },
   {
    "duration": 4,
    "start_time": "2023-06-08T00:30:52.882Z"
   },
   {
    "duration": 52,
    "start_time": "2023-06-08T00:30:53.017Z"
   },
   {
    "duration": 9,
    "start_time": "2023-06-08T00:30:53.132Z"
   },
   {
    "duration": 11,
    "start_time": "2023-06-08T00:30:53.270Z"
   },
   {
    "duration": 14,
    "start_time": "2023-06-08T00:30:53.508Z"
   },
   {
    "duration": 387,
    "start_time": "2023-06-08T00:30:53.632Z"
   },
   {
    "duration": 4615,
    "start_time": "2023-06-08T00:30:54.022Z"
   },
   {
    "duration": 128,
    "start_time": "2023-06-08T00:33:19.217Z"
   },
   {
    "duration": 83,
    "start_time": "2023-06-08T00:33:25.788Z"
   },
   {
    "duration": 2,
    "start_time": "2023-06-08T00:34:31.321Z"
   },
   {
    "duration": 92,
    "start_time": "2023-06-08T00:34:41.996Z"
   },
   {
    "duration": 13924,
    "start_time": "2023-06-08T00:36:33.277Z"
   },
   {
    "duration": 1421,
    "start_time": "2023-06-08T00:36:52.416Z"
   },
   {
    "duration": 4,
    "start_time": "2023-06-08T00:36:53.840Z"
   },
   {
    "duration": 4671,
    "start_time": "2023-06-08T00:36:53.846Z"
   },
   {
    "duration": 4,
    "start_time": "2023-06-08T00:36:58.519Z"
   },
   {
    "duration": 50,
    "start_time": "2023-06-08T00:36:58.525Z"
   },
   {
    "duration": 9,
    "start_time": "2023-06-08T00:36:58.577Z"
   },
   {
    "duration": 10,
    "start_time": "2023-06-08T00:36:58.587Z"
   },
   {
    "duration": 12,
    "start_time": "2023-06-08T00:36:58.599Z"
   },
   {
    "duration": 440,
    "start_time": "2023-06-08T00:36:58.612Z"
   },
   {
    "duration": 263,
    "start_time": "2023-06-08T00:36:59.054Z"
   },
   {
    "duration": 341,
    "start_time": "2023-06-08T00:36:59.319Z"
   },
   {
    "duration": 14288,
    "start_time": "2023-06-08T00:36:59.662Z"
   },
   {
    "duration": 13157,
    "start_time": "2023-06-08T00:37:17.414Z"
   },
   {
    "duration": 573,
    "start_time": "2023-06-08T00:37:43.308Z"
   },
   {
    "duration": 12146,
    "start_time": "2023-06-08T00:37:46.462Z"
   },
   {
    "duration": 603,
    "start_time": "2023-06-08T00:37:58.610Z"
   },
   {
    "duration": 14414,
    "start_time": "2023-06-08T02:54:17.215Z"
   },
   {
    "duration": 612,
    "start_time": "2023-06-08T02:54:31.631Z"
   },
   {
    "duration": 21,
    "start_time": "2023-06-08T02:54:34.635Z"
   },
   {
    "duration": 114,
    "start_time": "2023-06-08T03:08:34.806Z"
   },
   {
    "duration": 132,
    "start_time": "2023-06-08T03:09:19.043Z"
   },
   {
    "duration": 11,
    "start_time": "2023-06-08T03:09:28.995Z"
   },
   {
    "duration": 13,
    "start_time": "2023-06-08T03:09:33.646Z"
   },
   {
    "duration": 243,
    "start_time": "2023-06-08T03:09:42.581Z"
   },
   {
    "duration": 152,
    "start_time": "2023-06-08T03:10:57.632Z"
   },
   {
    "duration": 13,
    "start_time": "2023-06-08T03:10:58.280Z"
   },
   {
    "duration": 274,
    "start_time": "2023-06-08T03:10:59.144Z"
   },
   {
    "duration": 59,
    "start_time": "2023-06-08T03:11:23.320Z"
   },
   {
    "duration": 57,
    "start_time": "2023-06-08T03:15:38.653Z"
   },
   {
    "duration": 5,
    "start_time": "2023-06-08T03:15:53.926Z"
   },
   {
    "duration": 38,
    "start_time": "2023-06-08T03:16:15.783Z"
   },
   {
    "duration": 40,
    "start_time": "2023-06-08T03:17:03.566Z"
   },
   {
    "duration": 38,
    "start_time": "2023-06-08T03:17:08.710Z"
   },
   {
    "duration": 34,
    "start_time": "2023-06-08T03:17:11.518Z"
   },
   {
    "duration": 39,
    "start_time": "2023-06-08T03:17:15.814Z"
   },
   {
    "duration": 10,
    "start_time": "2023-06-08T03:17:31.212Z"
   },
   {
    "duration": 11,
    "start_time": "2023-06-08T03:17:33.510Z"
   },
   {
    "duration": 45,
    "start_time": "2023-06-08T03:17:37.113Z"
   },
   {
    "duration": 35,
    "start_time": "2023-06-08T03:22:44.912Z"
   },
   {
    "duration": 71,
    "start_time": "2023-06-08T03:24:49.551Z"
   },
   {
    "duration": 269,
    "start_time": "2023-06-08T03:25:01.727Z"
   },
   {
    "duration": 15,
    "start_time": "2023-06-08T03:28:00.433Z"
   },
   {
    "duration": 6,
    "start_time": "2023-06-08T03:28:21.363Z"
   },
   {
    "duration": 180,
    "start_time": "2023-06-08T03:29:13.601Z"
   },
   {
    "duration": 6,
    "start_time": "2023-06-08T03:29:17.832Z"
   },
   {
    "duration": 56,
    "start_time": "2023-06-08T03:29:50.634Z"
   },
   {
    "duration": 72,
    "start_time": "2023-06-08T03:31:43.572Z"
   },
   {
    "duration": 319,
    "start_time": "2023-06-08T03:32:35.737Z"
   },
   {
    "duration": 596,
    "start_time": "2023-06-08T03:32:43.145Z"
   },
   {
    "duration": 310,
    "start_time": "2023-06-08T03:32:58.844Z"
   },
   {
    "duration": 595,
    "start_time": "2023-06-08T03:32:59.156Z"
   },
   {
    "duration": 1481,
    "start_time": "2023-06-08T03:33:04.433Z"
   },
   {
    "duration": 3,
    "start_time": "2023-06-08T03:33:05.916Z"
   },
   {
    "duration": 4522,
    "start_time": "2023-06-08T03:33:05.921Z"
   },
   {
    "duration": 4,
    "start_time": "2023-06-08T03:33:10.445Z"
   },
   {
    "duration": 62,
    "start_time": "2023-06-08T03:33:10.452Z"
   },
   {
    "duration": 8,
    "start_time": "2023-06-08T03:33:10.516Z"
   },
   {
    "duration": 21,
    "start_time": "2023-06-08T03:33:10.526Z"
   },
   {
    "duration": 14,
    "start_time": "2023-06-08T03:33:10.549Z"
   },
   {
    "duration": 450,
    "start_time": "2023-06-08T03:33:10.565Z"
   },
   {
    "duration": 261,
    "start_time": "2023-06-08T03:33:11.017Z"
   },
   {
    "duration": 326,
    "start_time": "2023-06-08T03:33:11.280Z"
   },
   {
    "duration": 13536,
    "start_time": "2023-06-08T03:33:11.607Z"
   },
   {
    "duration": 23,
    "start_time": "2023-06-08T03:33:25.149Z"
   },
   {
    "duration": 598,
    "start_time": "2023-06-08T03:33:25.175Z"
   },
   {
    "duration": 152,
    "start_time": "2023-06-08T03:33:25.774Z"
   },
   {
    "duration": 13,
    "start_time": "2023-06-08T03:33:25.927Z"
   },
   {
    "duration": 271,
    "start_time": "2023-06-08T03:33:25.941Z"
   },
   {
    "duration": 46,
    "start_time": "2023-06-08T03:33:26.214Z"
   },
   {
    "duration": 46,
    "start_time": "2023-06-08T03:33:26.261Z"
   },
   {
    "duration": 22,
    "start_time": "2023-06-08T03:33:26.308Z"
   },
   {
    "duration": 21,
    "start_time": "2023-06-08T03:33:26.331Z"
   },
   {
    "duration": 96,
    "start_time": "2023-06-08T03:33:26.354Z"
   },
   {
    "duration": 43,
    "start_time": "2023-06-08T03:33:26.452Z"
   },
   {
    "duration": 73,
    "start_time": "2023-06-08T03:33:26.497Z"
   },
   {
    "duration": 360,
    "start_time": "2023-06-08T03:33:26.571Z"
   },
   {
    "duration": 277,
    "start_time": "2023-06-08T03:33:26.932Z"
   },
   {
    "duration": 232,
    "start_time": "2023-06-08T03:35:16.783Z"
   },
   {
    "duration": 137,
    "start_time": "2023-06-08T03:35:30.657Z"
   },
   {
    "duration": 130,
    "start_time": "2023-06-08T03:35:33.917Z"
   },
   {
    "duration": 118,
    "start_time": "2023-06-08T03:35:42.019Z"
   },
   {
    "duration": 124,
    "start_time": "2023-06-08T03:36:50.371Z"
   },
   {
    "duration": 21,
    "start_time": "2023-06-08T03:36:51.168Z"
   },
   {
    "duration": 68,
    "start_time": "2023-06-08T03:36:51.412Z"
   },
   {
    "duration": 122,
    "start_time": "2023-06-08T03:36:51.595Z"
   },
   {
    "duration": 265,
    "start_time": "2023-06-08T03:36:51.824Z"
   },
   {
    "duration": 60,
    "start_time": "2023-06-08T03:37:47.078Z"
   },
   {
    "duration": 269,
    "start_time": "2023-06-08T03:37:48.164Z"
   },
   {
    "duration": 56,
    "start_time": "2023-06-08T03:39:55.944Z"
   },
   {
    "duration": 58,
    "start_time": "2023-06-08T03:40:56.287Z"
   },
   {
    "duration": 353,
    "start_time": "2023-06-08T03:41:13.047Z"
   },
   {
    "duration": 60,
    "start_time": "2023-06-08T03:41:14.451Z"
   },
   {
    "duration": 263,
    "start_time": "2023-06-08T03:41:14.631Z"
   },
   {
    "duration": 168,
    "start_time": "2023-06-08T03:42:15.844Z"
   },
   {
    "duration": 13,
    "start_time": "2023-06-08T03:42:16.875Z"
   },
   {
    "duration": 247,
    "start_time": "2023-06-08T03:42:17.077Z"
   },
   {
    "duration": 53,
    "start_time": "2023-06-08T03:42:17.326Z"
   },
   {
    "duration": 43,
    "start_time": "2023-06-08T03:42:17.395Z"
   },
   {
    "duration": 22,
    "start_time": "2023-06-08T03:42:17.552Z"
   },
   {
    "duration": 7,
    "start_time": "2023-06-08T03:42:17.691Z"
   },
   {
    "duration": 80,
    "start_time": "2023-06-08T03:42:18.013Z"
   },
   {
    "duration": 20,
    "start_time": "2023-06-08T03:42:18.315Z"
   },
   {
    "duration": 66,
    "start_time": "2023-06-08T03:42:18.454Z"
   },
   {
    "duration": 330,
    "start_time": "2023-06-08T03:42:18.601Z"
   },
   {
    "duration": 51,
    "start_time": "2023-06-08T03:42:18.941Z"
   },
   {
    "duration": 238,
    "start_time": "2023-06-08T03:42:19.163Z"
   },
   {
    "duration": 11,
    "start_time": "2023-06-08T03:43:35.652Z"
   },
   {
    "duration": 10,
    "start_time": "2023-06-08T03:43:46.754Z"
   },
   {
    "duration": 10,
    "start_time": "2023-06-08T03:43:50.169Z"
   },
   {
    "duration": 57,
    "start_time": "2023-06-08T03:43:53.912Z"
   },
   {
    "duration": 28,
    "start_time": "2023-06-08T03:47:00.049Z"
   },
   {
    "duration": 22,
    "start_time": "2023-06-08T03:47:08.651Z"
   },
   {
    "duration": 1402,
    "start_time": "2023-06-08T03:48:38.317Z"
   },
   {
    "duration": 3,
    "start_time": "2023-06-08T03:48:39.721Z"
   },
   {
    "duration": 4617,
    "start_time": "2023-06-08T03:48:39.726Z"
   },
   {
    "duration": 3,
    "start_time": "2023-06-08T03:48:44.345Z"
   },
   {
    "duration": 57,
    "start_time": "2023-06-08T03:48:44.349Z"
   },
   {
    "duration": 8,
    "start_time": "2023-06-08T03:48:44.408Z"
   },
   {
    "duration": 9,
    "start_time": "2023-06-08T03:48:44.417Z"
   },
   {
    "duration": 11,
    "start_time": "2023-06-08T03:48:44.428Z"
   },
   {
    "duration": 442,
    "start_time": "2023-06-08T03:48:44.440Z"
   },
   {
    "duration": 267,
    "start_time": "2023-06-08T03:48:44.885Z"
   },
   {
    "duration": 330,
    "start_time": "2023-06-08T03:48:45.153Z"
   },
   {
    "duration": 13326,
    "start_time": "2023-06-08T03:48:45.485Z"
   },
   {
    "duration": 23,
    "start_time": "2023-06-08T03:48:58.813Z"
   },
   {
    "duration": 571,
    "start_time": "2023-06-08T03:48:58.837Z"
   },
   {
    "duration": 141,
    "start_time": "2023-06-08T03:48:59.410Z"
   },
   {
    "duration": 12,
    "start_time": "2023-06-08T03:48:59.553Z"
   },
   {
    "duration": 251,
    "start_time": "2023-06-08T03:48:59.567Z"
   },
   {
    "duration": 42,
    "start_time": "2023-06-08T03:48:59.819Z"
   },
   {
    "duration": 46,
    "start_time": "2023-06-08T03:48:59.863Z"
   },
   {
    "duration": 39,
    "start_time": "2023-06-08T03:48:59.911Z"
   },
   {
    "duration": 6,
    "start_time": "2023-06-08T03:48:59.951Z"
   },
   {
    "duration": 96,
    "start_time": "2023-06-08T03:48:59.958Z"
   },
   {
    "duration": 43,
    "start_time": "2023-06-08T03:49:00.056Z"
   },
   {
    "duration": 69,
    "start_time": "2023-06-08T03:49:00.101Z"
   },
   {
    "duration": 524,
    "start_time": "2023-06-08T03:49:00.172Z"
   },
   {
    "duration": 64,
    "start_time": "2023-06-08T03:49:00.698Z"
   },
   {
    "duration": 253,
    "start_time": "2023-06-08T03:49:00.763Z"
   },
   {
    "duration": 32,
    "start_time": "2023-06-08T03:49:01.018Z"
   },
   {
    "duration": 13,
    "start_time": "2023-06-08T03:50:08.748Z"
   },
   {
    "duration": 121,
    "start_time": "2023-06-08T03:50:40.985Z"
   },
   {
    "duration": 12,
    "start_time": "2023-06-08T03:50:41.429Z"
   },
   {
    "duration": 216,
    "start_time": "2023-06-08T03:50:41.601Z"
   },
   {
    "duration": 48,
    "start_time": "2023-06-08T03:50:41.819Z"
   },
   {
    "duration": 44,
    "start_time": "2023-06-08T03:50:41.868Z"
   },
   {
    "duration": 21,
    "start_time": "2023-06-08T03:50:41.998Z"
   },
   {
    "duration": 6,
    "start_time": "2023-06-08T03:50:42.111Z"
   },
   {
    "duration": 78,
    "start_time": "2023-06-08T03:50:42.625Z"
   },
   {
    "duration": 20,
    "start_time": "2023-06-08T03:50:42.705Z"
   },
   {
    "duration": 74,
    "start_time": "2023-06-08T03:50:42.726Z"
   },
   {
    "duration": 329,
    "start_time": "2023-06-08T03:50:42.802Z"
   },
   {
    "duration": 54,
    "start_time": "2023-06-08T03:50:43.133Z"
   },
   {
    "duration": 12,
    "start_time": "2023-06-08T03:50:43.188Z"
   },
   {
    "duration": 231,
    "start_time": "2023-06-08T03:50:43.202Z"
   },
   {
    "duration": 519,
    "start_time": "2023-06-08T03:54:44.188Z"
   },
   {
    "duration": 94,
    "start_time": "2023-06-08T03:55:14.495Z"
   },
   {
    "duration": 39,
    "start_time": "2023-06-08T03:55:39.846Z"
   },
   {
    "duration": 21,
    "start_time": "2023-06-08T03:55:46.673Z"
   },
   {
    "duration": 4,
    "start_time": "2023-06-08T03:56:21.590Z"
   },
   {
    "duration": 106,
    "start_time": "2023-06-08T04:05:54.666Z"
   },
   {
    "duration": 4,
    "start_time": "2023-06-08T04:05:58.088Z"
   },
   {
    "duration": 9,
    "start_time": "2023-06-08T04:05:58.372Z"
   },
   {
    "duration": 24,
    "start_time": "2023-06-08T04:06:12.664Z"
   },
   {
    "duration": 1446,
    "start_time": "2023-06-08T04:06:17.179Z"
   },
   {
    "duration": 4,
    "start_time": "2023-06-08T04:06:18.627Z"
   },
   {
    "duration": 4890,
    "start_time": "2023-06-08T04:06:18.632Z"
   },
   {
    "duration": 3,
    "start_time": "2023-06-08T04:06:23.524Z"
   },
   {
    "duration": 59,
    "start_time": "2023-06-08T04:06:23.529Z"
   },
   {
    "duration": 8,
    "start_time": "2023-06-08T04:06:23.589Z"
   },
   {
    "duration": 16,
    "start_time": "2023-06-08T04:06:23.598Z"
   },
   {
    "duration": 12,
    "start_time": "2023-06-08T04:06:23.616Z"
   },
   {
    "duration": 457,
    "start_time": "2023-06-08T04:06:23.630Z"
   },
   {
    "duration": 264,
    "start_time": "2023-06-08T04:06:24.088Z"
   },
   {
    "duration": 338,
    "start_time": "2023-06-08T04:06:24.353Z"
   },
   {
    "duration": 13306,
    "start_time": "2023-06-08T04:06:24.692Z"
   },
   {
    "duration": 22,
    "start_time": "2023-06-08T04:06:37.999Z"
   },
   {
    "duration": 581,
    "start_time": "2023-06-08T04:06:38.024Z"
   },
   {
    "duration": 127,
    "start_time": "2023-06-08T04:06:38.607Z"
   },
   {
    "duration": 15,
    "start_time": "2023-06-08T04:06:38.736Z"
   },
   {
    "duration": 223,
    "start_time": "2023-06-08T04:06:38.752Z"
   },
   {
    "duration": 39,
    "start_time": "2023-06-08T04:06:38.977Z"
   },
   {
    "duration": 57,
    "start_time": "2023-06-08T04:06:39.018Z"
   },
   {
    "duration": 21,
    "start_time": "2023-06-08T04:06:39.077Z"
   },
   {
    "duration": 5,
    "start_time": "2023-06-08T04:06:39.100Z"
   },
   {
    "duration": 89,
    "start_time": "2023-06-08T04:06:39.106Z"
   },
   {
    "duration": 39,
    "start_time": "2023-06-08T04:06:39.196Z"
   },
   {
    "duration": 68,
    "start_time": "2023-06-08T04:06:39.236Z"
   },
   {
    "duration": 467,
    "start_time": "2023-06-08T04:06:39.306Z"
   },
   {
    "duration": 50,
    "start_time": "2023-06-08T04:06:39.775Z"
   },
   {
    "duration": 23,
    "start_time": "2023-06-08T04:06:39.827Z"
   },
   {
    "duration": 222,
    "start_time": "2023-06-08T04:06:39.851Z"
   },
   {
    "duration": 545,
    "start_time": "2023-06-08T04:06:40.075Z"
   },
   {
    "duration": 86,
    "start_time": "2023-06-08T04:06:40.622Z"
   },
   {
    "duration": 41,
    "start_time": "2023-06-08T04:06:40.710Z"
   },
   {
    "duration": 4,
    "start_time": "2023-06-08T04:06:40.753Z"
   },
   {
    "duration": 8,
    "start_time": "2023-06-08T04:06:40.758Z"
   },
   {
    "duration": 124,
    "start_time": "2023-06-08T04:06:40.767Z"
   },
   {
    "duration": 53,
    "start_time": "2023-06-08T04:06:55.291Z"
   },
   {
    "duration": 3,
    "start_time": "2023-06-08T04:07:00.822Z"
   },
   {
    "duration": 3,
    "start_time": "2023-06-08T04:07:27.577Z"
   },
   {
    "duration": 1504,
    "start_time": "2023-06-08T04:08:03.515Z"
   },
   {
    "duration": 4,
    "start_time": "2023-06-08T04:08:05.022Z"
   },
   {
    "duration": 4695,
    "start_time": "2023-06-08T04:08:05.027Z"
   },
   {
    "duration": 3,
    "start_time": "2023-06-08T04:08:09.724Z"
   },
   {
    "duration": 50,
    "start_time": "2023-06-08T04:08:09.730Z"
   },
   {
    "duration": 8,
    "start_time": "2023-06-08T04:08:09.782Z"
   },
   {
    "duration": 10,
    "start_time": "2023-06-08T04:08:09.791Z"
   },
   {
    "duration": 13,
    "start_time": "2023-06-08T04:08:09.802Z"
   },
   {
    "duration": 387,
    "start_time": "2023-06-08T04:08:09.817Z"
   },
   {
    "duration": 262,
    "start_time": "2023-06-08T04:08:10.205Z"
   },
   {
    "duration": 330,
    "start_time": "2023-06-08T04:08:10.468Z"
   },
   {
    "duration": 12838,
    "start_time": "2023-06-08T04:08:10.799Z"
   },
   {
    "duration": 29,
    "start_time": "2023-06-08T04:08:23.639Z"
   },
   {
    "duration": 569,
    "start_time": "2023-06-08T04:08:23.671Z"
   },
   {
    "duration": 121,
    "start_time": "2023-06-08T04:08:24.250Z"
   },
   {
    "duration": 12,
    "start_time": "2023-06-08T04:08:24.373Z"
   },
   {
    "duration": 230,
    "start_time": "2023-06-08T04:08:24.387Z"
   },
   {
    "duration": 46,
    "start_time": "2023-06-08T04:08:24.618Z"
   },
   {
    "duration": 43,
    "start_time": "2023-06-08T04:08:24.666Z"
   },
   {
    "duration": 22,
    "start_time": "2023-06-08T04:08:24.711Z"
   },
   {
    "duration": 5,
    "start_time": "2023-06-08T04:08:24.734Z"
   },
   {
    "duration": 73,
    "start_time": "2023-06-08T04:08:24.741Z"
   },
   {
    "duration": 64,
    "start_time": "2023-06-08T04:08:24.815Z"
   },
   {
    "duration": 82,
    "start_time": "2023-06-08T04:08:24.880Z"
   },
   {
    "duration": 507,
    "start_time": "2023-06-08T04:08:24.964Z"
   },
   {
    "duration": 47,
    "start_time": "2023-06-08T04:08:25.472Z"
   },
   {
    "duration": 11,
    "start_time": "2023-06-08T04:08:25.520Z"
   },
   {
    "duration": 233,
    "start_time": "2023-06-08T04:08:25.533Z"
   },
   {
    "duration": 532,
    "start_time": "2023-06-08T04:08:25.767Z"
   },
   {
    "duration": 87,
    "start_time": "2023-06-08T04:08:26.301Z"
   },
   {
    "duration": 40,
    "start_time": "2023-06-08T04:08:26.390Z"
   },
   {
    "duration": 4,
    "start_time": "2023-06-08T04:08:26.431Z"
   },
   {
    "duration": 15,
    "start_time": "2023-06-08T04:08:26.436Z"
   },
   {
    "duration": 4,
    "start_time": "2023-06-08T04:08:26.453Z"
   },
   {
    "duration": 12,
    "start_time": "2023-06-08T04:08:26.459Z"
   },
   {
    "duration": 1404,
    "start_time": "2023-06-08T04:10:51.206Z"
   },
   {
    "duration": 3,
    "start_time": "2023-06-08T04:10:52.612Z"
   },
   {
    "duration": 5353,
    "start_time": "2023-06-08T04:10:52.616Z"
   },
   {
    "duration": 3,
    "start_time": "2023-06-08T04:10:57.971Z"
   },
   {
    "duration": 50,
    "start_time": "2023-06-08T04:10:57.975Z"
   },
   {
    "duration": 8,
    "start_time": "2023-06-08T04:10:58.027Z"
   },
   {
    "duration": 10,
    "start_time": "2023-06-08T04:10:58.037Z"
   },
   {
    "duration": 13,
    "start_time": "2023-06-08T04:10:58.049Z"
   },
   {
    "duration": 380,
    "start_time": "2023-06-08T04:10:58.063Z"
   },
   {
    "duration": 258,
    "start_time": "2023-06-08T04:10:58.449Z"
   },
   {
    "duration": 328,
    "start_time": "2023-06-08T04:10:58.709Z"
   },
   {
    "duration": 13729,
    "start_time": "2023-06-08T04:10:59.039Z"
   },
   {
    "duration": 21,
    "start_time": "2023-06-08T04:11:12.770Z"
   },
   {
    "duration": 588,
    "start_time": "2023-06-08T04:11:12.793Z"
   },
   {
    "duration": 127,
    "start_time": "2023-06-08T04:11:13.383Z"
   },
   {
    "duration": 13,
    "start_time": "2023-06-08T04:11:13.512Z"
   },
   {
    "duration": 224,
    "start_time": "2023-06-08T04:11:13.527Z"
   },
   {
    "duration": 38,
    "start_time": "2023-06-08T04:11:13.752Z"
   },
   {
    "duration": 41,
    "start_time": "2023-06-08T04:11:13.792Z"
   },
   {
    "duration": 20,
    "start_time": "2023-06-08T04:11:13.851Z"
   },
   {
    "duration": 5,
    "start_time": "2023-06-08T04:11:13.873Z"
   },
   {
    "duration": 91,
    "start_time": "2023-06-08T04:11:13.880Z"
   },
   {
    "duration": 39,
    "start_time": "2023-06-08T04:11:13.973Z"
   },
   {
    "duration": 76,
    "start_time": "2023-06-08T04:11:14.014Z"
   },
   {
    "duration": 477,
    "start_time": "2023-06-08T04:11:14.092Z"
   },
   {
    "duration": 50,
    "start_time": "2023-06-08T04:11:14.571Z"
   },
   {
    "duration": 12,
    "start_time": "2023-06-08T04:11:14.623Z"
   },
   {
    "duration": 219,
    "start_time": "2023-06-08T04:11:14.653Z"
   },
   {
    "duration": 535,
    "start_time": "2023-06-08T04:11:14.874Z"
   },
   {
    "duration": 88,
    "start_time": "2023-06-08T04:11:15.410Z"
   },
   {
    "duration": 38,
    "start_time": "2023-06-08T04:11:15.500Z"
   },
   {
    "duration": 10,
    "start_time": "2023-06-08T04:11:15.540Z"
   },
   {
    "duration": 11,
    "start_time": "2023-06-08T04:11:15.551Z"
   },
   {
    "duration": 6,
    "start_time": "2023-06-08T04:11:15.563Z"
   },
   {
    "duration": 4,
    "start_time": "2023-06-08T04:11:15.571Z"
   },
   {
    "duration": 424734,
    "start_time": "2023-06-08T04:11:15.576Z"
   },
   {
    "duration": 15,
    "start_time": "2023-06-08T04:18:20.311Z"
   },
   {
    "duration": 4,
    "start_time": "2023-06-08T04:26:16.924Z"
   },
   {
    "duration": 1539,
    "start_time": "2023-06-08T04:27:12.715Z"
   },
   {
    "duration": 3,
    "start_time": "2023-06-08T04:27:14.256Z"
   },
   {
    "duration": 5703,
    "start_time": "2023-06-08T04:27:14.261Z"
   },
   {
    "duration": 3,
    "start_time": "2023-06-08T04:27:19.966Z"
   },
   {
    "duration": 60,
    "start_time": "2023-06-08T04:27:19.971Z"
   },
   {
    "duration": 8,
    "start_time": "2023-06-08T04:27:20.033Z"
   },
   {
    "duration": 10,
    "start_time": "2023-06-08T04:27:20.043Z"
   },
   {
    "duration": 12,
    "start_time": "2023-06-08T04:27:20.055Z"
   },
   {
    "duration": 385,
    "start_time": "2023-06-08T04:27:20.069Z"
   },
   {
    "duration": 265,
    "start_time": "2023-06-08T04:27:20.456Z"
   },
   {
    "duration": 332,
    "start_time": "2023-06-08T04:27:20.723Z"
   },
   {
    "duration": 10951,
    "start_time": "2023-06-08T04:27:21.057Z"
   },
   {
    "duration": 22,
    "start_time": "2023-06-08T04:27:32.010Z"
   },
   {
    "duration": 580,
    "start_time": "2023-06-08T04:27:32.049Z"
   },
   {
    "duration": 131,
    "start_time": "2023-06-08T04:27:32.631Z"
   },
   {
    "duration": 13,
    "start_time": "2023-06-08T04:27:32.763Z"
   },
   {
    "duration": 223,
    "start_time": "2023-06-08T04:27:32.777Z"
   },
   {
    "duration": 39,
    "start_time": "2023-06-08T04:27:33.002Z"
   },
   {
    "duration": 44,
    "start_time": "2023-06-08T04:27:33.051Z"
   },
   {
    "duration": 21,
    "start_time": "2023-06-08T04:27:33.097Z"
   },
   {
    "duration": 6,
    "start_time": "2023-06-08T04:27:33.120Z"
   },
   {
    "duration": 92,
    "start_time": "2023-06-08T04:27:33.127Z"
   },
   {
    "duration": 48,
    "start_time": "2023-06-08T04:27:33.221Z"
   },
   {
    "duration": 61,
    "start_time": "2023-06-08T04:27:33.271Z"
   },
   {
    "duration": 456,
    "start_time": "2023-06-08T04:27:33.333Z"
   },
   {
    "duration": 47,
    "start_time": "2023-06-08T04:27:33.791Z"
   },
   {
    "duration": 12,
    "start_time": "2023-06-08T04:27:33.850Z"
   },
   {
    "duration": 231,
    "start_time": "2023-06-08T04:27:33.863Z"
   },
   {
    "duration": 548,
    "start_time": "2023-06-08T04:27:34.096Z"
   },
   {
    "duration": 82,
    "start_time": "2023-06-08T04:27:34.645Z"
   },
   {
    "duration": 47,
    "start_time": "2023-06-08T04:27:34.729Z"
   },
   {
    "duration": 3,
    "start_time": "2023-06-08T04:27:34.778Z"
   },
   {
    "duration": 4,
    "start_time": "2023-06-08T04:27:34.783Z"
   },
   {
    "duration": 4,
    "start_time": "2023-06-08T04:27:34.788Z"
   },
   {
    "duration": 4,
    "start_time": "2023-06-08T04:27:34.793Z"
   },
   {
    "duration": 1609,
    "start_time": "2023-06-08T04:27:43.812Z"
   },
   {
    "duration": 4,
    "start_time": "2023-06-08T04:27:45.423Z"
   },
   {
    "duration": 6441,
    "start_time": "2023-06-08T04:27:45.428Z"
   },
   {
    "duration": 3,
    "start_time": "2023-06-08T04:27:51.871Z"
   },
   {
    "duration": 51,
    "start_time": "2023-06-08T04:27:51.876Z"
   },
   {
    "duration": 8,
    "start_time": "2023-06-08T04:27:51.929Z"
   },
   {
    "duration": 10,
    "start_time": "2023-06-08T04:27:51.939Z"
   },
   {
    "duration": 13,
    "start_time": "2023-06-08T04:27:51.951Z"
   },
   {
    "duration": 382,
    "start_time": "2023-06-08T04:27:51.966Z"
   },
   {
    "duration": 272,
    "start_time": "2023-06-08T04:27:52.350Z"
   },
   {
    "duration": 339,
    "start_time": "2023-06-08T04:27:52.623Z"
   },
   {
    "duration": 1536,
    "start_time": "2023-06-08T04:27:57.174Z"
   },
   {
    "duration": 3,
    "start_time": "2023-06-08T04:27:58.712Z"
   },
   {
    "duration": 5801,
    "start_time": "2023-06-08T04:27:58.717Z"
   },
   {
    "duration": 3,
    "start_time": "2023-06-08T04:28:04.520Z"
   },
   {
    "duration": 62,
    "start_time": "2023-06-08T04:28:04.525Z"
   },
   {
    "duration": 9,
    "start_time": "2023-06-08T04:28:04.589Z"
   },
   {
    "duration": 9,
    "start_time": "2023-06-08T04:28:04.600Z"
   },
   {
    "duration": 13,
    "start_time": "2023-06-08T04:28:04.611Z"
   },
   {
    "duration": 381,
    "start_time": "2023-06-08T04:28:04.626Z"
   },
   {
    "duration": 274,
    "start_time": "2023-06-08T04:28:05.009Z"
   },
   {
    "duration": 339,
    "start_time": "2023-06-08T04:28:05.285Z"
   },
   {
    "duration": 13239,
    "start_time": "2023-06-08T04:28:05.626Z"
   },
   {
    "duration": 23,
    "start_time": "2023-06-08T04:28:18.866Z"
   },
   {
    "duration": 580,
    "start_time": "2023-06-08T04:28:18.891Z"
   },
   {
    "duration": 128,
    "start_time": "2023-06-08T04:28:19.473Z"
   },
   {
    "duration": 12,
    "start_time": "2023-06-08T04:28:19.603Z"
   },
   {
    "duration": 224,
    "start_time": "2023-06-08T04:28:19.616Z"
   },
   {
    "duration": 45,
    "start_time": "2023-06-08T04:28:19.841Z"
   },
   {
    "duration": 47,
    "start_time": "2023-06-08T04:28:19.887Z"
   },
   {
    "duration": 35,
    "start_time": "2023-06-08T04:28:19.936Z"
   },
   {
    "duration": 6,
    "start_time": "2023-06-08T04:28:19.973Z"
   },
   {
    "duration": 89,
    "start_time": "2023-06-08T04:28:19.980Z"
   },
   {
    "duration": 40,
    "start_time": "2023-06-08T04:28:20.070Z"
   },
   {
    "duration": 72,
    "start_time": "2023-06-08T04:28:20.112Z"
   },
   {
    "duration": 490,
    "start_time": "2023-06-08T04:28:20.185Z"
   },
   {
    "duration": 56,
    "start_time": "2023-06-08T04:28:20.676Z"
   },
   {
    "duration": 25,
    "start_time": "2023-06-08T04:28:20.733Z"
   },
   {
    "duration": 228,
    "start_time": "2023-06-08T04:28:20.760Z"
   },
   {
    "duration": 540,
    "start_time": "2023-06-08T04:28:20.990Z"
   },
   {
    "duration": 88,
    "start_time": "2023-06-08T04:28:21.532Z"
   },
   {
    "duration": 49,
    "start_time": "2023-06-08T04:28:21.621Z"
   },
   {
    "duration": 4,
    "start_time": "2023-06-08T04:28:21.671Z"
   },
   {
    "duration": 11,
    "start_time": "2023-06-08T04:28:21.677Z"
   },
   {
    "duration": 4,
    "start_time": "2023-06-08T04:28:21.689Z"
   },
   {
    "duration": 6,
    "start_time": "2023-06-08T04:28:21.695Z"
   },
   {
    "duration": 284453,
    "start_time": "2023-06-08T04:28:21.702Z"
   },
   {
    "duration": 64325,
    "start_time": "2023-06-08T04:33:06.156Z"
   },
   {
    "duration": 80918,
    "start_time": "2023-06-08T04:34:10.483Z"
   },
   {
    "duration": 216627,
    "start_time": "2023-06-08T04:35:31.403Z"
   },
   {
    "duration": 6,
    "start_time": "2023-06-08T04:39:08.032Z"
   },
   {
    "duration": 5,
    "start_time": "2023-06-08T04:39:35.535Z"
   },
   {
    "duration": 1521,
    "start_time": "2023-06-08T04:41:35.555Z"
   },
   {
    "duration": 3,
    "start_time": "2023-06-08T04:41:37.078Z"
   },
   {
    "duration": 4854,
    "start_time": "2023-06-08T04:41:37.082Z"
   },
   {
    "duration": 4,
    "start_time": "2023-06-08T04:41:41.938Z"
   },
   {
    "duration": 46,
    "start_time": "2023-06-08T04:41:41.944Z"
   },
   {
    "duration": 8,
    "start_time": "2023-06-08T04:41:41.991Z"
   },
   {
    "duration": 11,
    "start_time": "2023-06-08T04:41:42.000Z"
   },
   {
    "duration": 12,
    "start_time": "2023-06-08T04:41:42.013Z"
   },
   {
    "duration": 374,
    "start_time": "2023-06-08T04:41:42.027Z"
   },
   {
    "duration": 260,
    "start_time": "2023-06-08T04:41:42.404Z"
   },
   {
    "duration": 332,
    "start_time": "2023-06-08T04:41:42.665Z"
   },
   {
    "duration": 14164,
    "start_time": "2023-06-08T04:41:42.998Z"
   },
   {
    "duration": 21,
    "start_time": "2023-06-08T04:41:57.163Z"
   },
   {
    "duration": 560,
    "start_time": "2023-06-08T04:41:57.185Z"
   },
   {
    "duration": 121,
    "start_time": "2023-06-08T04:41:57.749Z"
   },
   {
    "duration": 11,
    "start_time": "2023-06-08T04:41:57.872Z"
   },
   {
    "duration": 218,
    "start_time": "2023-06-08T04:41:57.885Z"
   },
   {
    "duration": 45,
    "start_time": "2023-06-08T04:41:58.105Z"
   },
   {
    "duration": 44,
    "start_time": "2023-06-08T04:41:58.152Z"
   },
   {
    "duration": 23,
    "start_time": "2023-06-08T04:41:58.197Z"
   },
   {
    "duration": 7,
    "start_time": "2023-06-08T04:41:58.222Z"
   },
   {
    "duration": 93,
    "start_time": "2023-06-08T04:41:58.230Z"
   },
   {
    "duration": 51,
    "start_time": "2023-06-08T04:41:58.324Z"
   },
   {
    "duration": 58,
    "start_time": "2023-06-08T04:41:58.377Z"
   },
   {
    "duration": 467,
    "start_time": "2023-06-08T04:41:58.437Z"
   },
   {
    "duration": 57,
    "start_time": "2023-06-08T04:41:58.906Z"
   },
   {
    "duration": 11,
    "start_time": "2023-06-08T04:41:58.964Z"
   },
   {
    "duration": 222,
    "start_time": "2023-06-08T04:41:58.978Z"
   },
   {
    "duration": 516,
    "start_time": "2023-06-08T04:41:59.201Z"
   },
   {
    "duration": 87,
    "start_time": "2023-06-08T04:41:59.719Z"
   },
   {
    "duration": 43,
    "start_time": "2023-06-08T04:41:59.807Z"
   },
   {
    "duration": 3,
    "start_time": "2023-06-08T04:41:59.852Z"
   },
   {
    "duration": 4,
    "start_time": "2023-06-08T04:41:59.857Z"
   },
   {
    "duration": 4,
    "start_time": "2023-06-08T04:41:59.862Z"
   },
   {
    "duration": 7,
    "start_time": "2023-06-08T04:41:59.867Z"
   },
   {
    "duration": 998,
    "start_time": "2023-06-08T04:41:59.876Z"
   },
   {
    "duration": 94638,
    "start_time": "2023-06-08T04:42:00.876Z"
   },
   {
    "duration": 1519,
    "start_time": "2023-06-08T04:46:35.188Z"
   },
   {
    "duration": 3,
    "start_time": "2023-06-08T04:46:36.709Z"
   },
   {
    "duration": 5649,
    "start_time": "2023-06-08T04:46:36.714Z"
   },
   {
    "duration": 3,
    "start_time": "2023-06-08T04:46:42.365Z"
   },
   {
    "duration": 64,
    "start_time": "2023-06-08T04:46:42.370Z"
   },
   {
    "duration": 10,
    "start_time": "2023-06-08T04:46:42.436Z"
   },
   {
    "duration": 10,
    "start_time": "2023-06-08T04:46:42.448Z"
   },
   {
    "duration": 15,
    "start_time": "2023-06-08T04:46:42.460Z"
   },
   {
    "duration": 372,
    "start_time": "2023-06-08T04:46:42.476Z"
   },
   {
    "duration": 265,
    "start_time": "2023-06-08T04:46:42.849Z"
   },
   {
    "duration": 328,
    "start_time": "2023-06-08T04:46:43.115Z"
   },
   {
    "duration": 14321,
    "start_time": "2023-06-08T04:46:43.444Z"
   },
   {
    "duration": 22,
    "start_time": "2023-06-08T04:46:57.767Z"
   },
   {
    "duration": 596,
    "start_time": "2023-06-08T04:46:57.792Z"
   },
   {
    "duration": 138,
    "start_time": "2023-06-08T04:46:58.390Z"
   },
   {
    "duration": 12,
    "start_time": "2023-06-08T04:46:58.530Z"
   },
   {
    "duration": 230,
    "start_time": "2023-06-08T04:46:58.543Z"
   },
   {
    "duration": 40,
    "start_time": "2023-06-08T04:46:58.774Z"
   },
   {
    "duration": 61,
    "start_time": "2023-06-08T04:46:58.816Z"
   },
   {
    "duration": 23,
    "start_time": "2023-06-08T04:46:58.878Z"
   },
   {
    "duration": 6,
    "start_time": "2023-06-08T04:46:58.903Z"
   },
   {
    "duration": 98,
    "start_time": "2023-06-08T04:46:58.910Z"
   },
   {
    "duration": 51,
    "start_time": "2023-06-08T04:46:59.010Z"
   },
   {
    "duration": 62,
    "start_time": "2023-06-08T04:46:59.063Z"
   },
   {
    "duration": 500,
    "start_time": "2023-06-08T04:46:59.126Z"
   },
   {
    "duration": 57,
    "start_time": "2023-06-08T04:46:59.628Z"
   },
   {
    "duration": 14,
    "start_time": "2023-06-08T04:46:59.686Z"
   },
   {
    "duration": 248,
    "start_time": "2023-06-08T04:46:59.702Z"
   },
   {
    "duration": 572,
    "start_time": "2023-06-08T04:46:59.952Z"
   },
   {
    "duration": 92,
    "start_time": "2023-06-08T04:47:00.526Z"
   },
   {
    "duration": 47,
    "start_time": "2023-06-08T04:47:00.620Z"
   },
   {
    "duration": 4,
    "start_time": "2023-06-08T04:47:00.669Z"
   },
   {
    "duration": 23,
    "start_time": "2023-06-08T04:47:00.675Z"
   },
   {
    "duration": 27,
    "start_time": "2023-06-08T04:47:00.699Z"
   },
   {
    "duration": 24,
    "start_time": "2023-06-08T04:47:00.728Z"
   },
   {
    "duration": 1017,
    "start_time": "2023-06-08T04:47:00.754Z"
   },
   {
    "duration": 96498,
    "start_time": "2023-06-08T04:47:01.773Z"
   },
   {
    "duration": 205297,
    "start_time": "2023-06-08T04:48:38.273Z"
   },
   {
    "duration": 5,
    "start_time": "2023-06-08T04:52:03.572Z"
   },
   {
    "duration": 1566,
    "start_time": "2023-06-08T04:58:02.953Z"
   },
   {
    "duration": 4,
    "start_time": "2023-06-08T04:58:04.520Z"
   },
   {
    "duration": 4774,
    "start_time": "2023-06-08T04:58:04.525Z"
   },
   {
    "duration": 3,
    "start_time": "2023-06-08T04:58:09.300Z"
   },
   {
    "duration": 61,
    "start_time": "2023-06-08T04:58:09.307Z"
   },
   {
    "duration": 9,
    "start_time": "2023-06-08T04:58:09.370Z"
   },
   {
    "duration": 11,
    "start_time": "2023-06-08T04:58:09.381Z"
   },
   {
    "duration": 14,
    "start_time": "2023-06-08T04:58:09.393Z"
   },
   {
    "duration": 370,
    "start_time": "2023-06-08T04:58:09.408Z"
   },
   {
    "duration": 260,
    "start_time": "2023-06-08T04:58:09.780Z"
   },
   {
    "duration": 329,
    "start_time": "2023-06-08T04:58:10.042Z"
   },
   {
    "duration": 14869,
    "start_time": "2023-06-08T04:58:10.373Z"
   },
   {
    "duration": 25,
    "start_time": "2023-06-08T04:58:25.244Z"
   },
   {
    "duration": 591,
    "start_time": "2023-06-08T04:58:25.272Z"
   },
   {
    "duration": 131,
    "start_time": "2023-06-08T04:58:25.864Z"
   },
   {
    "duration": 12,
    "start_time": "2023-06-08T04:58:25.996Z"
   },
   {
    "duration": 229,
    "start_time": "2023-06-08T04:58:26.010Z"
   },
   {
    "duration": 43,
    "start_time": "2023-06-08T04:58:26.241Z"
   },
   {
    "duration": 48,
    "start_time": "2023-06-08T04:58:26.285Z"
   },
   {
    "duration": 36,
    "start_time": "2023-06-08T04:58:26.335Z"
   },
   {
    "duration": 5,
    "start_time": "2023-06-08T04:58:26.373Z"
   },
   {
    "duration": 101,
    "start_time": "2023-06-08T04:58:26.380Z"
   },
   {
    "duration": 44,
    "start_time": "2023-06-08T04:58:26.483Z"
   },
   {
    "duration": 69,
    "start_time": "2023-06-08T04:58:26.528Z"
   },
   {
    "duration": 503,
    "start_time": "2023-06-08T04:58:26.599Z"
   },
   {
    "duration": 66,
    "start_time": "2023-06-08T04:58:27.104Z"
   },
   {
    "duration": 13,
    "start_time": "2023-06-08T04:58:27.172Z"
   },
   {
    "duration": 240,
    "start_time": "2023-06-08T04:58:27.187Z"
   },
   {
    "duration": 542,
    "start_time": "2023-06-08T04:58:27.429Z"
   },
   {
    "duration": 93,
    "start_time": "2023-06-08T04:58:27.972Z"
   },
   {
    "duration": 44,
    "start_time": "2023-06-08T04:58:28.067Z"
   },
   {
    "duration": 4,
    "start_time": "2023-06-08T04:58:28.113Z"
   },
   {
    "duration": 4,
    "start_time": "2023-06-08T04:58:28.119Z"
   },
   {
    "duration": 26,
    "start_time": "2023-06-08T04:58:28.125Z"
   },
   {
    "duration": 4,
    "start_time": "2023-06-08T04:58:28.153Z"
   },
   {
    "duration": 978,
    "start_time": "2023-06-08T04:58:28.159Z"
   },
   {
    "duration": 1472,
    "start_time": "2023-06-08T04:59:40.555Z"
   },
   {
    "duration": 4,
    "start_time": "2023-06-08T04:59:42.029Z"
   },
   {
    "duration": 4623,
    "start_time": "2023-06-08T04:59:42.034Z"
   },
   {
    "duration": 3,
    "start_time": "2023-06-08T04:59:46.659Z"
   },
   {
    "duration": 52,
    "start_time": "2023-06-08T04:59:46.664Z"
   },
   {
    "duration": 8,
    "start_time": "2023-06-08T04:59:46.718Z"
   },
   {
    "duration": 10,
    "start_time": "2023-06-08T04:59:46.728Z"
   },
   {
    "duration": 13,
    "start_time": "2023-06-08T04:59:46.739Z"
   },
   {
    "duration": 372,
    "start_time": "2023-06-08T04:59:46.754Z"
   },
   {
    "duration": 258,
    "start_time": "2023-06-08T04:59:47.128Z"
   },
   {
    "duration": 329,
    "start_time": "2023-06-08T04:59:47.387Z"
   },
   {
    "duration": 13790,
    "start_time": "2023-06-08T04:59:47.717Z"
   },
   {
    "duration": 23,
    "start_time": "2023-06-08T05:00:01.509Z"
   },
   {
    "duration": 659,
    "start_time": "2023-06-08T05:00:01.535Z"
   },
   {
    "duration": 137,
    "start_time": "2023-06-08T05:00:02.196Z"
   },
   {
    "duration": 23,
    "start_time": "2023-06-08T05:00:02.334Z"
   },
   {
    "duration": 265,
    "start_time": "2023-06-08T05:00:02.359Z"
   },
   {
    "duration": 46,
    "start_time": "2023-06-08T05:00:02.626Z"
   },
   {
    "duration": 80,
    "start_time": "2023-06-08T05:00:02.674Z"
   },
   {
    "duration": 24,
    "start_time": "2023-06-08T05:00:02.756Z"
   },
   {
    "duration": 12,
    "start_time": "2023-06-08T05:00:02.781Z"
   },
   {
    "duration": 93,
    "start_time": "2023-06-08T05:00:02.795Z"
   },
   {
    "duration": 44,
    "start_time": "2023-06-08T05:00:02.890Z"
   },
   {
    "duration": 69,
    "start_time": "2023-06-08T05:00:02.935Z"
   },
   {
    "duration": 516,
    "start_time": "2023-06-08T05:00:03.006Z"
   },
   {
    "duration": 60,
    "start_time": "2023-06-08T05:00:03.524Z"
   },
   {
    "duration": 12,
    "start_time": "2023-06-08T05:00:03.586Z"
   },
   {
    "duration": 239,
    "start_time": "2023-06-08T05:00:03.600Z"
   },
   {
    "duration": 566,
    "start_time": "2023-06-08T05:00:03.841Z"
   },
   {
    "duration": 89,
    "start_time": "2023-06-08T05:00:04.409Z"
   },
   {
    "duration": 51,
    "start_time": "2023-06-08T05:00:04.500Z"
   },
   {
    "duration": 4,
    "start_time": "2023-06-08T05:00:04.553Z"
   },
   {
    "duration": 34,
    "start_time": "2023-06-08T05:00:04.559Z"
   },
   {
    "duration": 7,
    "start_time": "2023-06-08T05:00:04.595Z"
   },
   {
    "duration": 7,
    "start_time": "2023-06-08T05:00:04.603Z"
   },
   {
    "duration": 961,
    "start_time": "2023-06-08T05:00:04.612Z"
   },
   {
    "duration": 96614,
    "start_time": "2023-06-08T05:00:05.574Z"
   },
   {
    "duration": 1489,
    "start_time": "2023-06-08T05:01:58.030Z"
   },
   {
    "duration": 3,
    "start_time": "2023-06-08T05:01:59.521Z"
   },
   {
    "duration": 4861,
    "start_time": "2023-06-08T05:01:59.526Z"
   },
   {
    "duration": 3,
    "start_time": "2023-06-08T05:02:04.388Z"
   },
   {
    "duration": 61,
    "start_time": "2023-06-08T05:02:04.394Z"
   },
   {
    "duration": 11,
    "start_time": "2023-06-08T05:02:04.456Z"
   },
   {
    "duration": 13,
    "start_time": "2023-06-08T05:02:04.468Z"
   },
   {
    "duration": 14,
    "start_time": "2023-06-08T05:02:04.483Z"
   },
   {
    "duration": 369,
    "start_time": "2023-06-08T05:02:04.498Z"
   },
   {
    "duration": 263,
    "start_time": "2023-06-08T05:02:04.868Z"
   },
   {
    "duration": 340,
    "start_time": "2023-06-08T05:02:05.132Z"
   },
   {
    "duration": 14261,
    "start_time": "2023-06-08T05:02:05.474Z"
   },
   {
    "duration": 24,
    "start_time": "2023-06-08T05:02:19.737Z"
   },
   {
    "duration": 586,
    "start_time": "2023-06-08T05:02:19.764Z"
   },
   {
    "duration": 140,
    "start_time": "2023-06-08T05:02:20.352Z"
   },
   {
    "duration": 14,
    "start_time": "2023-06-08T05:02:20.493Z"
   },
   {
    "duration": 230,
    "start_time": "2023-06-08T05:02:20.508Z"
   },
   {
    "duration": 42,
    "start_time": "2023-06-08T05:02:20.740Z"
   },
   {
    "duration": 57,
    "start_time": "2023-06-08T05:02:20.783Z"
   },
   {
    "duration": 30,
    "start_time": "2023-06-08T05:02:20.842Z"
   },
   {
    "duration": 8,
    "start_time": "2023-06-08T05:02:20.873Z"
   },
   {
    "duration": 87,
    "start_time": "2023-06-08T05:02:20.883Z"
   },
   {
    "duration": 39,
    "start_time": "2023-06-08T05:02:20.972Z"
   },
   {
    "duration": 67,
    "start_time": "2023-06-08T05:02:21.013Z"
   },
   {
    "duration": 491,
    "start_time": "2023-06-08T05:02:21.082Z"
   },
   {
    "duration": 54,
    "start_time": "2023-06-08T05:02:21.574Z"
   },
   {
    "duration": 23,
    "start_time": "2023-06-08T05:02:21.629Z"
   },
   {
    "duration": 237,
    "start_time": "2023-06-08T05:02:21.654Z"
   },
   {
    "duration": 536,
    "start_time": "2023-06-08T05:02:21.893Z"
   },
   {
    "duration": 93,
    "start_time": "2023-06-08T05:02:22.431Z"
   },
   {
    "duration": 52,
    "start_time": "2023-06-08T05:02:22.526Z"
   },
   {
    "duration": 5,
    "start_time": "2023-06-08T05:02:22.579Z"
   },
   {
    "duration": 12,
    "start_time": "2023-06-08T05:02:22.585Z"
   },
   {
    "duration": 17,
    "start_time": "2023-06-08T05:02:22.598Z"
   },
   {
    "duration": 30,
    "start_time": "2023-06-08T05:02:22.616Z"
   },
   {
    "duration": 280110,
    "start_time": "2023-06-08T05:02:22.647Z"
   },
   {
    "duration": 95115,
    "start_time": "2023-06-08T05:07:02.758Z"
   },
   {
    "duration": 205793,
    "start_time": "2023-06-08T05:08:37.874Z"
   },
   {
    "duration": 5,
    "start_time": "2023-06-08T05:12:03.669Z"
   },
   {
    "duration": 3,
    "start_time": "2023-06-08T05:28:53.852Z"
   },
   {
    "duration": 855,
    "start_time": "2023-06-08T05:29:10.909Z"
   },
   {
    "duration": 220,
    "start_time": "2023-06-08T05:30:36.843Z"
   },
   {
    "duration": 214,
    "start_time": "2023-06-08T05:42:27.544Z"
   },
   {
    "duration": 221,
    "start_time": "2023-06-08T05:42:31.555Z"
   },
   {
    "duration": 117,
    "start_time": "2023-06-08T05:43:51.971Z"
   },
   {
    "duration": 75,
    "start_time": "2023-06-08T05:45:26.112Z"
   },
   {
    "duration": 27,
    "start_time": "2023-06-08T05:45:49.595Z"
   },
   {
    "duration": 445,
    "start_time": "2023-06-08T05:45:53.778Z"
   },
   {
    "duration": 2100,
    "start_time": "2023-06-08T05:48:51.340Z"
   },
   {
    "duration": 2357,
    "start_time": "2023-06-08T05:49:17.953Z"
   },
   {
    "duration": 2499,
    "start_time": "2023-06-08T05:50:08.187Z"
   },
   {
    "duration": 2403,
    "start_time": "2023-06-08T05:50:17.451Z"
   },
   {
    "duration": 10,
    "start_time": "2023-06-08T05:51:35.713Z"
   },
   {
    "duration": 11,
    "start_time": "2023-06-08T05:51:52.979Z"
   },
   {
    "duration": 10,
    "start_time": "2023-06-08T05:52:30.893Z"
   },
   {
    "duration": 20,
    "start_time": "2023-06-08T05:52:52.718Z"
   },
   {
    "duration": 10,
    "start_time": "2023-06-08T05:52:55.871Z"
   },
   {
    "duration": 31,
    "start_time": "2023-06-08T05:54:07.678Z"
   },
   {
    "duration": 4833,
    "start_time": "2023-06-08T05:54:46.781Z"
   },
   {
    "duration": 159,
    "start_time": "2023-06-08T05:55:06.902Z"
   },
   {
    "duration": 136,
    "start_time": "2023-06-08T05:55:11.589Z"
   },
   {
    "duration": 3,
    "start_time": "2023-06-08T05:56:34.572Z"
   },
   {
    "duration": 81,
    "start_time": "2023-06-08T05:57:00.987Z"
   },
   {
    "duration": 48,
    "start_time": "2023-06-08T05:57:03.672Z"
   },
   {
    "duration": 56,
    "start_time": "2023-06-08T05:57:51.910Z"
   },
   {
    "duration": 2,
    "start_time": "2023-06-08T06:00:34.470Z"
   },
   {
    "duration": 281,
    "start_time": "2023-06-08T06:03:36.121Z"
   },
   {
    "duration": 5,
    "start_time": "2023-06-08T06:13:41.953Z"
   },
   {
    "duration": 3,
    "start_time": "2023-06-08T06:13:55.428Z"
   },
   {
    "duration": 4,
    "start_time": "2023-06-08T06:13:58.045Z"
   },
   {
    "duration": 12,
    "start_time": "2023-06-08T06:21:27.432Z"
   },
   {
    "duration": 6,
    "start_time": "2023-06-08T06:22:53.213Z"
   },
   {
    "duration": 9,
    "start_time": "2023-06-08T06:23:39.045Z"
   },
   {
    "duration": 10,
    "start_time": "2023-06-08T06:23:56.469Z"
   },
   {
    "duration": 6,
    "start_time": "2023-06-08T06:25:19.593Z"
   },
   {
    "duration": 1713,
    "start_time": "2023-06-08T06:43:20.253Z"
   },
   {
    "duration": 4,
    "start_time": "2023-06-08T06:43:21.968Z"
   },
   {
    "duration": 4861,
    "start_time": "2023-06-08T06:43:21.974Z"
   },
   {
    "duration": 2,
    "start_time": "2023-06-08T06:43:26.837Z"
   },
   {
    "duration": 58,
    "start_time": "2023-06-08T06:43:26.841Z"
   },
   {
    "duration": 10,
    "start_time": "2023-06-08T06:43:26.900Z"
   },
   {
    "duration": 11,
    "start_time": "2023-06-08T06:43:26.912Z"
   },
   {
    "duration": 15,
    "start_time": "2023-06-08T06:43:26.924Z"
   },
   {
    "duration": 389,
    "start_time": "2023-06-08T06:43:26.940Z"
   },
   {
    "duration": 288,
    "start_time": "2023-06-08T06:43:27.332Z"
   },
   {
    "duration": 337,
    "start_time": "2023-06-08T06:43:27.621Z"
   },
   {
    "duration": 12675,
    "start_time": "2023-06-08T06:43:27.959Z"
   },
   {
    "duration": 25,
    "start_time": "2023-06-08T06:43:40.636Z"
   },
   {
    "duration": 582,
    "start_time": "2023-06-08T06:43:40.663Z"
   },
   {
    "duration": 129,
    "start_time": "2023-06-08T06:43:41.251Z"
   },
   {
    "duration": 12,
    "start_time": "2023-06-08T06:43:41.383Z"
   },
   {
    "duration": 230,
    "start_time": "2023-06-08T06:43:41.397Z"
   },
   {
    "duration": 427,
    "start_time": "2023-06-08T06:43:41.629Z"
   },
   {
    "duration": 33,
    "start_time": "2023-06-08T06:43:42.058Z"
   },
   {
    "duration": 60,
    "start_time": "2023-06-08T06:43:42.092Z"
   },
   {
    "duration": 22,
    "start_time": "2023-06-08T06:43:42.154Z"
   },
   {
    "duration": 5,
    "start_time": "2023-06-08T06:43:42.178Z"
   },
   {
    "duration": 92,
    "start_time": "2023-06-08T06:43:42.185Z"
   },
   {
    "duration": 39,
    "start_time": "2023-06-08T06:43:42.279Z"
   },
   {
    "duration": 65,
    "start_time": "2023-06-08T06:43:42.319Z"
   },
   {
    "duration": 491,
    "start_time": "2023-06-08T06:43:42.386Z"
   },
   {
    "duration": 12,
    "start_time": "2023-06-08T06:43:42.878Z"
   },
   {
    "duration": 227,
    "start_time": "2023-06-08T06:43:42.893Z"
   },
   {
    "duration": 541,
    "start_time": "2023-06-08T06:43:43.122Z"
   },
   {
    "duration": 26,
    "start_time": "2023-06-08T06:43:43.664Z"
   },
   {
    "duration": 68,
    "start_time": "2023-06-08T06:43:43.692Z"
   },
   {
    "duration": 40,
    "start_time": "2023-06-08T06:43:43.762Z"
   },
   {
    "duration": 3,
    "start_time": "2023-06-08T06:43:43.804Z"
   },
   {
    "duration": 3,
    "start_time": "2023-06-08T06:43:43.809Z"
   },
   {
    "duration": 12,
    "start_time": "2023-06-08T06:43:43.814Z"
   },
   {
    "duration": 5,
    "start_time": "2023-06-08T06:43:43.827Z"
   },
   {
    "duration": 275726,
    "start_time": "2023-06-08T06:43:43.833Z"
   },
   {
    "duration": 95846,
    "start_time": "2023-06-08T06:48:19.651Z"
   },
   {
    "duration": 216651,
    "start_time": "2023-06-08T06:49:55.499Z"
   },
   {
    "duration": 4,
    "start_time": "2023-06-08T06:53:32.152Z"
   },
   {
    "duration": 893,
    "start_time": "2023-06-08T06:53:32.158Z"
   },
   {
    "duration": 360,
    "start_time": "2023-06-08T06:53:33.052Z"
   },
   {
    "duration": 6,
    "start_time": "2023-06-08T06:53:33.413Z"
   },
   {
    "duration": 12,
    "start_time": "2023-06-08T06:53:33.421Z"
   },
   {
    "duration": 173,
    "start_time": "2023-06-08T06:53:33.435Z"
   },
   {
    "duration": 130,
    "start_time": "2023-06-08T06:53:33.609Z"
   },
   {
    "duration": 51,
    "start_time": "2023-06-08T23:59:21.429Z"
   },
   {
    "duration": 2011,
    "start_time": "2023-06-08T23:59:27.534Z"
   },
   {
    "duration": 4,
    "start_time": "2023-06-08T23:59:29.547Z"
   },
   {
    "duration": 5358,
    "start_time": "2023-06-08T23:59:29.553Z"
   },
   {
    "duration": 3,
    "start_time": "2023-06-08T23:59:34.913Z"
   },
   {
    "duration": 117,
    "start_time": "2023-06-08T23:59:34.918Z"
   },
   {
    "duration": 11,
    "start_time": "2023-06-08T23:59:35.037Z"
   },
   {
    "duration": 13,
    "start_time": "2023-06-08T23:59:35.050Z"
   },
   {
    "duration": 16,
    "start_time": "2023-06-08T23:59:35.064Z"
   },
   {
    "duration": 1059,
    "start_time": "2023-06-08T23:59:35.081Z"
   },
   {
    "duration": 1009,
    "start_time": "2023-06-08T23:59:56.098Z"
   },
   {
    "duration": 1362,
    "start_time": "2023-06-09T00:00:10.263Z"
   },
   {
    "duration": 764,
    "start_time": "2023-06-09T00:00:23.736Z"
   },
   {
    "duration": 341,
    "start_time": "2023-06-09T00:02:52.150Z"
   },
   {
    "duration": 464,
    "start_time": "2023-06-09T00:04:01.443Z"
   },
   {
    "duration": 456,
    "start_time": "2023-06-09T00:04:13.254Z"
   },
   {
    "duration": 359,
    "start_time": "2023-06-09T00:04:22.474Z"
   },
   {
    "duration": 455,
    "start_time": "2023-06-09T00:04:58.725Z"
   },
   {
    "duration": 602,
    "start_time": "2023-06-09T00:05:34.642Z"
   },
   {
    "duration": 407,
    "start_time": "2023-06-09T00:05:59.239Z"
   },
   {
    "duration": 1966,
    "start_time": "2023-06-09T00:08:53.885Z"
   },
   {
    "duration": 4,
    "start_time": "2023-06-09T00:08:55.853Z"
   },
   {
    "duration": 5580,
    "start_time": "2023-06-09T00:08:55.859Z"
   },
   {
    "duration": 4,
    "start_time": "2023-06-09T00:09:01.441Z"
   },
   {
    "duration": 221,
    "start_time": "2023-06-09T00:09:01.449Z"
   },
   {
    "duration": 11,
    "start_time": "2023-06-09T00:09:01.672Z"
   },
   {
    "duration": 43,
    "start_time": "2023-06-09T00:09:01.686Z"
   },
   {
    "duration": 58,
    "start_time": "2023-06-09T00:09:01.731Z"
   },
   {
    "duration": 464,
    "start_time": "2023-06-09T00:09:01.791Z"
   },
   {
    "duration": 199963,
    "start_time": "2023-06-09T00:09:02.257Z"
   },
   {
    "duration": 0,
    "start_time": "2023-06-09T00:12:22.225Z"
   },
   {
    "duration": 0,
    "start_time": "2023-06-09T00:12:22.226Z"
   },
   {
    "duration": 0,
    "start_time": "2023-06-09T00:12:22.227Z"
   },
   {
    "duration": 0,
    "start_time": "2023-06-09T00:12:22.229Z"
   },
   {
    "duration": 0,
    "start_time": "2023-06-09T00:12:22.231Z"
   },
   {
    "duration": 0,
    "start_time": "2023-06-09T00:12:22.232Z"
   },
   {
    "duration": 0,
    "start_time": "2023-06-09T00:12:22.233Z"
   },
   {
    "duration": 0,
    "start_time": "2023-06-09T00:12:22.234Z"
   },
   {
    "duration": 0,
    "start_time": "2023-06-09T00:12:22.235Z"
   },
   {
    "duration": 0,
    "start_time": "2023-06-09T00:12:31.956Z"
   },
   {
    "duration": 0,
    "start_time": "2023-06-09T00:12:31.957Z"
   },
   {
    "duration": 0,
    "start_time": "2023-06-09T00:12:31.959Z"
   },
   {
    "duration": 0,
    "start_time": "2023-06-09T00:12:31.959Z"
   },
   {
    "duration": 0,
    "start_time": "2023-06-09T00:12:31.961Z"
   },
   {
    "duration": 0,
    "start_time": "2023-06-09T00:12:31.962Z"
   },
   {
    "duration": 0,
    "start_time": "2023-06-09T00:12:31.963Z"
   },
   {
    "duration": 0,
    "start_time": "2023-06-09T00:12:31.965Z"
   },
   {
    "duration": 0,
    "start_time": "2023-06-09T00:12:31.965Z"
   },
   {
    "duration": 0,
    "start_time": "2023-06-09T00:12:31.966Z"
   },
   {
    "duration": 0,
    "start_time": "2023-06-09T00:12:31.967Z"
   },
   {
    "duration": 0,
    "start_time": "2023-06-09T00:12:31.969Z"
   },
   {
    "duration": 0,
    "start_time": "2023-06-09T00:12:31.970Z"
   },
   {
    "duration": 0,
    "start_time": "2023-06-09T00:12:31.970Z"
   },
   {
    "duration": 0,
    "start_time": "2023-06-09T00:12:31.972Z"
   },
   {
    "duration": 0,
    "start_time": "2023-06-09T00:12:31.973Z"
   },
   {
    "duration": 0,
    "start_time": "2023-06-09T00:12:31.974Z"
   },
   {
    "duration": 0,
    "start_time": "2023-06-09T00:12:31.975Z"
   },
   {
    "duration": 0,
    "start_time": "2023-06-09T00:12:31.976Z"
   },
   {
    "duration": 0,
    "start_time": "2023-06-09T00:12:31.978Z"
   },
   {
    "duration": 0,
    "start_time": "2023-06-09T00:12:31.979Z"
   },
   {
    "duration": 0,
    "start_time": "2023-06-09T00:12:31.980Z"
   },
   {
    "duration": 0,
    "start_time": "2023-06-09T00:12:31.981Z"
   },
   {
    "duration": 0,
    "start_time": "2023-06-09T00:12:32.025Z"
   },
   {
    "duration": 0,
    "start_time": "2023-06-09T00:12:32.027Z"
   },
   {
    "duration": 0,
    "start_time": "2023-06-09T00:12:32.028Z"
   },
   {
    "duration": 0,
    "start_time": "2023-06-09T00:12:32.029Z"
   },
   {
    "duration": 0,
    "start_time": "2023-06-09T00:12:32.031Z"
   },
   {
    "duration": 7778,
    "start_time": "2023-06-09T00:13:45.549Z"
   },
   {
    "duration": 7687,
    "start_time": "2023-06-09T00:15:43.700Z"
   },
   {
    "duration": 7837,
    "start_time": "2023-06-09T00:16:36.722Z"
   },
   {
    "duration": 11246,
    "start_time": "2023-06-09T00:19:32.218Z"
   },
   {
    "duration": 11274,
    "start_time": "2023-06-09T00:19:58.669Z"
   },
   {
    "duration": 4216,
    "start_time": "2023-06-09T00:22:47.218Z"
   },
   {
    "duration": 4273,
    "start_time": "2023-06-09T00:23:35.788Z"
   },
   {
    "duration": 4644,
    "start_time": "2023-06-09T00:24:34.181Z"
   },
   {
    "duration": 11210,
    "start_time": "2023-06-09T00:25:01.488Z"
   },
   {
    "duration": 4717,
    "start_time": "2023-06-09T00:25:12.700Z"
   },
   {
    "duration": 124,
    "start_time": "2023-06-09T00:29:43.636Z"
   },
   {
    "duration": 99,
    "start_time": "2023-06-09T00:31:44.327Z"
   },
   {
    "duration": 2919,
    "start_time": "2023-06-09T00:34:50.910Z"
   },
   {
    "duration": 653,
    "start_time": "2023-06-09T00:37:24.815Z"
   },
   {
    "duration": 15,
    "start_time": "2023-06-09T00:38:56.472Z"
   },
   {
    "duration": 1348,
    "start_time": "2023-06-09T00:39:59.816Z"
   },
   {
    "duration": 5587,
    "start_time": "2023-06-09T00:41:51.451Z"
   },
   {
    "duration": 69,
    "start_time": "2023-06-09T00:50:53.496Z"
   },
   {
    "duration": 54,
    "start_time": "2023-06-09T00:53:13.891Z"
   },
   {
    "duration": 7874,
    "start_time": "2023-06-09T00:53:18.227Z"
   },
   {
    "duration": 4683,
    "start_time": "2023-06-09T00:53:26.104Z"
   },
   {
    "duration": 10340,
    "start_time": "2023-06-09T00:59:07.864Z"
   },
   {
    "duration": 11426,
    "start_time": "2023-06-09T01:02:06.447Z"
   },
   {
    "duration": 115,
    "start_time": "2023-06-09T01:18:02.132Z"
   },
   {
    "duration": 1247,
    "start_time": "2023-06-09T01:18:15.181Z"
   },
   {
    "duration": 777,
    "start_time": "2023-06-09T01:28:35.091Z"
   },
   {
    "duration": 1771,
    "start_time": "2023-06-09T01:29:25.073Z"
   },
   {
    "duration": 4,
    "start_time": "2023-06-09T01:29:26.847Z"
   },
   {
    "duration": 5241,
    "start_time": "2023-06-09T01:29:26.854Z"
   },
   {
    "duration": 3,
    "start_time": "2023-06-09T01:29:32.097Z"
   },
   {
    "duration": 84,
    "start_time": "2023-06-09T01:29:32.102Z"
   },
   {
    "duration": 31,
    "start_time": "2023-06-09T01:29:32.188Z"
   },
   {
    "duration": 51,
    "start_time": "2023-06-09T01:29:32.222Z"
   },
   {
    "duration": 35,
    "start_time": "2023-06-09T01:29:32.276Z"
   },
   {
    "duration": 126,
    "start_time": "2023-06-09T01:29:32.313Z"
   },
   {
    "duration": 0,
    "start_time": "2023-06-09T01:29:32.443Z"
   },
   {
    "duration": 0,
    "start_time": "2023-06-09T01:29:32.445Z"
   },
   {
    "duration": 0,
    "start_time": "2023-06-09T01:29:32.447Z"
   },
   {
    "duration": 0,
    "start_time": "2023-06-09T01:29:32.449Z"
   },
   {
    "duration": 0,
    "start_time": "2023-06-09T01:29:32.450Z"
   },
   {
    "duration": 0,
    "start_time": "2023-06-09T01:29:32.452Z"
   },
   {
    "duration": 0,
    "start_time": "2023-06-09T01:29:32.453Z"
   },
   {
    "duration": 0,
    "start_time": "2023-06-09T01:29:32.455Z"
   },
   {
    "duration": 0,
    "start_time": "2023-06-09T01:29:32.457Z"
   },
   {
    "duration": 0,
    "start_time": "2023-06-09T01:29:32.458Z"
   },
   {
    "duration": 0,
    "start_time": "2023-06-09T01:29:32.460Z"
   },
   {
    "duration": 0,
    "start_time": "2023-06-09T01:29:32.461Z"
   },
   {
    "duration": 1,
    "start_time": "2023-06-09T01:29:32.463Z"
   },
   {
    "duration": 0,
    "start_time": "2023-06-09T01:29:32.465Z"
   },
   {
    "duration": 0,
    "start_time": "2023-06-09T01:29:32.466Z"
   },
   {
    "duration": 0,
    "start_time": "2023-06-09T01:29:32.468Z"
   },
   {
    "duration": 0,
    "start_time": "2023-06-09T01:29:32.470Z"
   },
   {
    "duration": 0,
    "start_time": "2023-06-09T01:29:32.471Z"
   },
   {
    "duration": 0,
    "start_time": "2023-06-09T01:29:32.473Z"
   },
   {
    "duration": 0,
    "start_time": "2023-06-09T01:29:32.474Z"
   },
   {
    "duration": 0,
    "start_time": "2023-06-09T01:29:32.526Z"
   },
   {
    "duration": 0,
    "start_time": "2023-06-09T01:29:32.528Z"
   },
   {
    "duration": 0,
    "start_time": "2023-06-09T01:29:32.530Z"
   },
   {
    "duration": 0,
    "start_time": "2023-06-09T01:29:32.531Z"
   },
   {
    "duration": 0,
    "start_time": "2023-06-09T01:29:32.532Z"
   },
   {
    "duration": 0,
    "start_time": "2023-06-09T01:29:32.534Z"
   },
   {
    "duration": 0,
    "start_time": "2023-06-09T01:29:32.535Z"
   },
   {
    "duration": 0,
    "start_time": "2023-06-09T01:29:32.537Z"
   },
   {
    "duration": 0,
    "start_time": "2023-06-09T01:29:32.538Z"
   },
   {
    "duration": 0,
    "start_time": "2023-06-09T01:29:32.539Z"
   },
   {
    "duration": 0,
    "start_time": "2023-06-09T01:29:32.541Z"
   },
   {
    "duration": 0,
    "start_time": "2023-06-09T01:29:32.542Z"
   },
   {
    "duration": 0,
    "start_time": "2023-06-09T01:29:32.544Z"
   },
   {
    "duration": 0,
    "start_time": "2023-06-09T01:29:32.545Z"
   },
   {
    "duration": 0,
    "start_time": "2023-06-09T01:29:32.546Z"
   },
   {
    "duration": 1,
    "start_time": "2023-06-09T01:29:32.547Z"
   },
   {
    "duration": 0,
    "start_time": "2023-06-09T01:29:32.549Z"
   },
   {
    "duration": 0,
    "start_time": "2023-06-09T01:29:32.550Z"
   },
   {
    "duration": 21,
    "start_time": "2023-06-09T01:29:43.186Z"
   },
   {
    "duration": 427,
    "start_time": "2023-06-09T01:29:44.317Z"
   },
   {
    "duration": 7829,
    "start_time": "2023-06-09T01:29:46.158Z"
   },
   {
    "duration": 4705,
    "start_time": "2023-06-09T01:29:53.990Z"
   },
   {
    "duration": 1458,
    "start_time": "2023-06-09T01:30:09.317Z"
   },
   {
    "duration": 6,
    "start_time": "2023-06-09T01:30:29.580Z"
   },
   {
    "duration": 5,
    "start_time": "2023-06-09T01:31:55.680Z"
   },
   {
    "duration": 806,
    "start_time": "2023-06-09T01:32:32.089Z"
   },
   {
    "duration": 242,
    "start_time": "2023-06-09T01:33:13.266Z"
   },
   {
    "duration": 22,
    "start_time": "2023-06-09T01:33:53.989Z"
   },
   {
    "duration": 830,
    "start_time": "2023-06-09T01:34:04.257Z"
   },
   {
    "duration": 485,
    "start_time": "2023-06-09T01:34:49.792Z"
   },
   {
    "duration": 101,
    "start_time": "2023-06-09T01:35:19.896Z"
   },
   {
    "duration": 43,
    "start_time": "2023-06-09T01:35:28.055Z"
   },
   {
    "duration": 156,
    "start_time": "2023-06-09T01:36:10.764Z"
   },
   {
    "duration": 31,
    "start_time": "2023-06-09T01:36:23.601Z"
   },
   {
    "duration": 34,
    "start_time": "2023-06-09T01:36:43.054Z"
   },
   {
    "duration": 46,
    "start_time": "2023-06-09T01:36:43.300Z"
   },
   {
    "duration": 110,
    "start_time": "2023-06-09T01:37:07.588Z"
   },
   {
    "duration": 39,
    "start_time": "2023-06-09T01:37:55.599Z"
   },
   {
    "duration": 34,
    "start_time": "2023-06-09T01:37:55.822Z"
   },
   {
    "duration": 100,
    "start_time": "2023-06-09T01:37:55.977Z"
   },
   {
    "duration": 29,
    "start_time": "2023-06-09T01:38:04.443Z"
   },
   {
    "duration": 33,
    "start_time": "2023-06-09T01:40:00.846Z"
   },
   {
    "duration": 120,
    "start_time": "2023-06-09T01:40:47.321Z"
   },
   {
    "duration": 92,
    "start_time": "2023-06-09T01:41:22.371Z"
   },
   {
    "duration": 1478,
    "start_time": "2023-06-09T01:42:10.769Z"
   },
   {
    "duration": 113,
    "start_time": "2023-06-09T01:42:12.249Z"
   },
   {
    "duration": 229,
    "start_time": "2023-06-09T01:42:41.160Z"
   },
   {
    "duration": 197,
    "start_time": "2023-06-09T01:43:10.496Z"
   },
   {
    "duration": 290,
    "start_time": "2023-06-09T01:43:44.912Z"
   },
   {
    "duration": 225,
    "start_time": "2023-06-09T01:43:45.712Z"
   },
   {
    "duration": 202,
    "start_time": "2023-06-09T01:43:52.520Z"
   },
   {
    "duration": 36,
    "start_time": "2023-06-09T01:46:00.546Z"
   },
   {
    "duration": 78,
    "start_time": "2023-06-09T01:46:00.727Z"
   },
   {
    "duration": 42,
    "start_time": "2023-06-09T01:46:00.883Z"
   },
   {
    "duration": 103,
    "start_time": "2023-06-09T01:46:16.260Z"
   },
   {
    "duration": 18,
    "start_time": "2023-06-09T01:46:46.420Z"
   },
   {
    "duration": 93,
    "start_time": "2023-06-09T01:48:24.585Z"
   },
   {
    "duration": 84,
    "start_time": "2023-06-09T01:49:54.647Z"
   },
   {
    "duration": 67,
    "start_time": "2023-06-09T01:50:16.310Z"
   },
   {
    "duration": 13,
    "start_time": "2023-06-09T01:50:46.160Z"
   },
   {
    "duration": 17,
    "start_time": "2023-06-09T01:51:35.052Z"
   },
   {
    "duration": 30,
    "start_time": "2023-06-09T01:52:33.573Z"
   },
   {
    "duration": 26,
    "start_time": "2023-06-09T01:52:33.757Z"
   },
   {
    "duration": 41,
    "start_time": "2023-06-09T01:52:37.820Z"
   },
   {
    "duration": 60,
    "start_time": "2023-06-09T01:53:27.803Z"
   },
   {
    "duration": 24,
    "start_time": "2023-06-09T01:53:35.876Z"
   },
   {
    "duration": 66,
    "start_time": "2023-06-09T01:53:36.120Z"
   },
   {
    "duration": 16,
    "start_time": "2023-06-09T01:53:40.768Z"
   },
   {
    "duration": 54,
    "start_time": "2023-06-09T01:53:52.000Z"
   },
   {
    "duration": 27,
    "start_time": "2023-06-09T01:53:52.551Z"
   },
   {
    "duration": 48,
    "start_time": "2023-06-09T01:53:53.744Z"
   },
   {
    "duration": 30,
    "start_time": "2023-06-09T01:53:54.307Z"
   },
   {
    "duration": 165,
    "start_time": "2023-06-09T01:54:46.684Z"
   },
   {
    "duration": 9,
    "start_time": "2023-06-09T01:55:14.499Z"
   },
   {
    "duration": 32,
    "start_time": "2023-06-09T01:55:14.959Z"
   },
   {
    "duration": 34,
    "start_time": "2023-06-09T01:55:15.150Z"
   },
   {
    "duration": 25,
    "start_time": "2023-06-09T01:55:15.288Z"
   },
   {
    "duration": 32,
    "start_time": "2023-06-09T01:55:15.447Z"
   },
   {
    "duration": 40,
    "start_time": "2023-06-09T01:55:15.574Z"
   },
   {
    "duration": 35,
    "start_time": "2023-06-09T01:55:15.715Z"
   },
   {
    "duration": 127,
    "start_time": "2023-06-09T01:55:15.878Z"
   },
   {
    "duration": 10,
    "start_time": "2023-06-09T01:55:38.679Z"
   },
   {
    "duration": 6,
    "start_time": "2023-06-09T01:56:19.020Z"
   },
   {
    "duration": 14,
    "start_time": "2023-06-09T01:57:28.267Z"
   },
   {
    "duration": 10,
    "start_time": "2023-06-09T01:57:44.069Z"
   },
   {
    "duration": 156,
    "start_time": "2023-06-09T01:57:56.442Z"
   },
   {
    "duration": 63,
    "start_time": "2023-06-09T01:58:31.081Z"
   },
   {
    "duration": 33,
    "start_time": "2023-06-09T01:58:54.590Z"
   },
   {
    "duration": 73,
    "start_time": "2023-06-09T01:58:59.476Z"
   },
   {
    "duration": 35,
    "start_time": "2023-06-09T01:59:22.916Z"
   },
   {
    "duration": 26,
    "start_time": "2023-06-09T01:59:50.680Z"
   },
   {
    "duration": 79,
    "start_time": "2023-06-09T01:59:55.599Z"
   },
   {
    "duration": 127,
    "start_time": "2023-06-09T02:00:28.391Z"
   },
   {
    "duration": 50,
    "start_time": "2023-06-09T02:00:38.780Z"
   },
   {
    "duration": 80,
    "start_time": "2023-06-09T02:01:18.571Z"
   },
   {
    "duration": 141,
    "start_time": "2023-06-09T02:01:18.770Z"
   },
   {
    "duration": 46,
    "start_time": "2023-06-09T02:01:33.517Z"
   },
   {
    "duration": 77,
    "start_time": "2023-06-09T02:01:43.894Z"
   },
   {
    "duration": 60,
    "start_time": "2023-06-09T02:02:24.186Z"
   },
   {
    "duration": 18,
    "start_time": "2023-06-09T02:03:23.595Z"
   },
   {
    "duration": 29,
    "start_time": "2023-06-09T02:03:27.520Z"
   },
   {
    "duration": 92,
    "start_time": "2023-06-09T02:03:42.194Z"
   },
   {
    "duration": 156,
    "start_time": "2023-06-09T02:03:53.013Z"
   },
   {
    "duration": 28,
    "start_time": "2023-06-09T02:04:27.071Z"
   },
   {
    "duration": 297,
    "start_time": "2023-06-09T02:04:53.460Z"
   },
   {
    "duration": 111,
    "start_time": "2023-06-09T02:04:53.763Z"
   },
   {
    "duration": 26,
    "start_time": "2023-06-09T02:05:53.144Z"
   },
   {
    "duration": 7,
    "start_time": "2023-06-09T02:07:05.067Z"
   },
   {
    "duration": 34,
    "start_time": "2023-06-09T02:07:05.076Z"
   },
   {
    "duration": 9,
    "start_time": "2023-06-09T02:07:05.112Z"
   },
   {
    "duration": 3,
    "start_time": "2023-06-09T02:07:05.260Z"
   },
   {
    "duration": 90,
    "start_time": "2023-06-09T02:07:05.721Z"
   },
   {
    "duration": 13,
    "start_time": "2023-06-09T02:07:05.860Z"
   },
   {
    "duration": 13,
    "start_time": "2023-06-09T02:07:05.964Z"
   },
   {
    "duration": 16,
    "start_time": "2023-06-09T02:07:06.082Z"
   },
   {
    "duration": 435,
    "start_time": "2023-06-09T02:07:06.702Z"
   },
   {
    "duration": 8910,
    "start_time": "2023-06-09T02:07:07.558Z"
   },
   {
    "duration": 4807,
    "start_time": "2023-06-09T02:07:16.470Z"
   },
   {
    "duration": 1716,
    "start_time": "2023-06-09T02:07:21.278Z"
   },
   {
    "duration": 120,
    "start_time": "2023-06-09T02:07:22.997Z"
   },
   {
    "duration": 264,
    "start_time": "2023-06-09T02:07:23.125Z"
   },
   {
    "duration": 273,
    "start_time": "2023-06-09T02:07:23.391Z"
   },
   {
    "duration": 218,
    "start_time": "2023-06-09T02:07:23.667Z"
   },
   {
    "duration": 47,
    "start_time": "2023-06-09T02:07:23.886Z"
   },
   {
    "duration": 248,
    "start_time": "2023-06-09T02:07:23.935Z"
   },
   {
    "duration": 8,
    "start_time": "2023-06-09T02:07:24.186Z"
   },
   {
    "duration": 100,
    "start_time": "2023-06-09T02:07:24.196Z"
   },
   {
    "duration": 8,
    "start_time": "2023-06-09T02:07:24.297Z"
   },
   {
    "duration": 45,
    "start_time": "2023-06-09T02:07:24.306Z"
   },
   {
    "duration": 25,
    "start_time": "2023-06-09T02:07:24.353Z"
   },
   {
    "duration": 12,
    "start_time": "2023-06-09T02:07:24.380Z"
   },
   {
    "duration": 40,
    "start_time": "2023-06-09T02:07:24.394Z"
   },
   {
    "duration": 12,
    "start_time": "2023-06-09T02:07:24.436Z"
   },
   {
    "duration": 6,
    "start_time": "2023-06-09T02:07:24.450Z"
   },
   {
    "duration": 12,
    "start_time": "2023-06-09T02:07:24.458Z"
   },
   {
    "duration": 38,
    "start_time": "2023-06-09T02:07:24.473Z"
   },
   {
    "duration": 50,
    "start_time": "2023-06-09T02:07:24.513Z"
   },
   {
    "duration": 72,
    "start_time": "2023-06-09T02:07:24.565Z"
   },
   {
    "duration": 26,
    "start_time": "2023-06-09T02:07:24.641Z"
   },
   {
    "duration": 50,
    "start_time": "2023-06-09T02:07:24.669Z"
   },
   {
    "duration": 64,
    "start_time": "2023-06-09T02:07:24.720Z"
   },
   {
    "duration": 79,
    "start_time": "2023-06-09T02:07:24.786Z"
   },
   {
    "duration": 33,
    "start_time": "2023-06-09T02:07:24.867Z"
   },
   {
    "duration": 81,
    "start_time": "2023-06-09T02:07:24.903Z"
   },
   {
    "duration": 34,
    "start_time": "2023-06-09T02:07:24.986Z"
   },
   {
    "duration": 82,
    "start_time": "2023-06-09T02:07:25.030Z"
   },
   {
    "duration": 262,
    "start_time": "2023-06-09T02:07:25.114Z"
   },
   {
    "duration": 17,
    "start_time": "2023-06-09T02:07:25.379Z"
   },
   {
    "duration": 153,
    "start_time": "2023-06-09T02:07:25.398Z"
   },
   {
    "duration": 982,
    "start_time": "2023-06-09T02:11:13.541Z"
   },
   {
    "duration": 0,
    "start_time": "2023-06-09T02:11:14.537Z"
   },
   {
    "duration": 845,
    "start_time": "2023-06-09T02:11:45.326Z"
   },
   {
    "duration": 0,
    "start_time": "2023-06-09T02:11:46.173Z"
   },
   {
    "duration": 102,
    "start_time": "2023-06-09T02:11:46.359Z"
   },
   {
    "duration": 883,
    "start_time": "2023-06-09T02:12:18.746Z"
   },
   {
    "duration": 1057,
    "start_time": "2023-06-09T02:13:11.020Z"
   },
   {
    "duration": 2162,
    "start_time": "2023-06-09T02:13:32.015Z"
   },
   {
    "duration": 4,
    "start_time": "2023-06-09T02:13:34.179Z"
   },
   {
    "duration": 7114,
    "start_time": "2023-06-09T02:13:34.185Z"
   },
   {
    "duration": 4,
    "start_time": "2023-06-09T02:13:41.301Z"
   },
   {
    "duration": 107,
    "start_time": "2023-06-09T02:13:41.308Z"
   },
   {
    "duration": 45,
    "start_time": "2023-06-09T02:13:41.423Z"
   },
   {
    "duration": 18,
    "start_time": "2023-06-09T02:13:41.474Z"
   },
   {
    "duration": 20,
    "start_time": "2023-06-09T02:13:41.494Z"
   },
   {
    "duration": 558,
    "start_time": "2023-06-09T02:13:41.516Z"
   },
   {
    "duration": 10029,
    "start_time": "2023-06-09T02:13:42.079Z"
   },
   {
    "duration": 0,
    "start_time": "2023-06-09T02:13:52.113Z"
   },
   {
    "duration": 0,
    "start_time": "2023-06-09T02:13:52.116Z"
   },
   {
    "duration": 0,
    "start_time": "2023-06-09T02:13:52.117Z"
   },
   {
    "duration": 0,
    "start_time": "2023-06-09T02:13:52.120Z"
   },
   {
    "duration": 0,
    "start_time": "2023-06-09T02:13:52.122Z"
   },
   {
    "duration": 0,
    "start_time": "2023-06-09T02:13:52.129Z"
   },
   {
    "duration": 0,
    "start_time": "2023-06-09T02:13:52.130Z"
   },
   {
    "duration": 0,
    "start_time": "2023-06-09T02:13:52.131Z"
   },
   {
    "duration": 0,
    "start_time": "2023-06-09T02:13:52.132Z"
   },
   {
    "duration": 0,
    "start_time": "2023-06-09T02:13:52.134Z"
   },
   {
    "duration": 0,
    "start_time": "2023-06-09T02:13:52.135Z"
   },
   {
    "duration": 0,
    "start_time": "2023-06-09T02:13:52.136Z"
   },
   {
    "duration": 0,
    "start_time": "2023-06-09T02:13:52.137Z"
   },
   {
    "duration": 0,
    "start_time": "2023-06-09T02:13:52.139Z"
   },
   {
    "duration": 0,
    "start_time": "2023-06-09T02:13:52.140Z"
   },
   {
    "duration": 0,
    "start_time": "2023-06-09T02:13:52.142Z"
   },
   {
    "duration": 0,
    "start_time": "2023-06-09T02:13:52.143Z"
   },
   {
    "duration": 0,
    "start_time": "2023-06-09T02:13:52.144Z"
   },
   {
    "duration": 0,
    "start_time": "2023-06-09T02:13:52.146Z"
   },
   {
    "duration": 0,
    "start_time": "2023-06-09T02:13:52.147Z"
   },
   {
    "duration": 0,
    "start_time": "2023-06-09T02:13:52.148Z"
   },
   {
    "duration": 0,
    "start_time": "2023-06-09T02:13:52.150Z"
   },
   {
    "duration": 0,
    "start_time": "2023-06-09T02:13:52.151Z"
   },
   {
    "duration": 0,
    "start_time": "2023-06-09T02:13:52.153Z"
   },
   {
    "duration": 0,
    "start_time": "2023-06-09T02:13:52.154Z"
   },
   {
    "duration": 0,
    "start_time": "2023-06-09T02:13:52.155Z"
   },
   {
    "duration": 0,
    "start_time": "2023-06-09T02:13:52.156Z"
   },
   {
    "duration": 0,
    "start_time": "2023-06-09T02:13:52.158Z"
   },
   {
    "duration": 0,
    "start_time": "2023-06-09T02:13:52.159Z"
   },
   {
    "duration": 0,
    "start_time": "2023-06-09T02:13:52.161Z"
   },
   {
    "duration": 0,
    "start_time": "2023-06-09T02:13:52.162Z"
   },
   {
    "duration": 0,
    "start_time": "2023-06-09T02:13:52.164Z"
   },
   {
    "duration": 0,
    "start_time": "2023-06-09T02:13:52.164Z"
   },
   {
    "duration": 0,
    "start_time": "2023-06-09T02:13:52.166Z"
   },
   {
    "duration": 0,
    "start_time": "2023-06-09T02:13:52.167Z"
   },
   {
    "duration": 0,
    "start_time": "2023-06-09T02:13:52.168Z"
   },
   {
    "duration": 0,
    "start_time": "2023-06-09T02:13:52.170Z"
   },
   {
    "duration": 0,
    "start_time": "2023-06-09T02:13:52.171Z"
   },
   {
    "duration": 0,
    "start_time": "2023-06-09T02:13:52.173Z"
   },
   {
    "duration": 0,
    "start_time": "2023-06-09T02:13:52.174Z"
   },
   {
    "duration": 0,
    "start_time": "2023-06-09T02:13:52.175Z"
   },
   {
    "duration": 0,
    "start_time": "2023-06-09T02:13:52.177Z"
   },
   {
    "duration": 0,
    "start_time": "2023-06-09T02:13:52.178Z"
   },
   {
    "duration": 0,
    "start_time": "2023-06-09T02:13:52.179Z"
   },
   {
    "duration": 0,
    "start_time": "2023-06-09T02:13:52.180Z"
   },
   {
    "duration": 0,
    "start_time": "2023-06-09T02:13:52.182Z"
   },
   {
    "duration": 0,
    "start_time": "2023-06-09T02:13:52.183Z"
   },
   {
    "duration": 0,
    "start_time": "2023-06-09T02:13:52.184Z"
   },
   {
    "duration": 0,
    "start_time": "2023-06-09T02:13:52.186Z"
   },
   {
    "duration": 0,
    "start_time": "2023-06-09T02:13:52.187Z"
   },
   {
    "duration": 0,
    "start_time": "2023-06-09T02:13:52.189Z"
   },
   {
    "duration": 0,
    "start_time": "2023-06-09T02:13:52.225Z"
   },
   {
    "duration": 0,
    "start_time": "2023-06-09T02:13:52.227Z"
   },
   {
    "duration": 0,
    "start_time": "2023-06-09T02:13:52.228Z"
   },
   {
    "duration": 0,
    "start_time": "2023-06-09T02:13:52.229Z"
   },
   {
    "duration": 0,
    "start_time": "2023-06-09T02:13:52.230Z"
   },
   {
    "duration": 0,
    "start_time": "2023-06-09T02:13:52.232Z"
   },
   {
    "duration": 0,
    "start_time": "2023-06-09T02:13:52.233Z"
   },
   {
    "duration": 0,
    "start_time": "2023-06-09T02:13:52.234Z"
   },
   {
    "duration": 0,
    "start_time": "2023-06-09T02:13:52.235Z"
   },
   {
    "duration": 0,
    "start_time": "2023-06-09T02:13:52.236Z"
   },
   {
    "duration": 0,
    "start_time": "2023-06-09T02:13:52.237Z"
   },
   {
    "duration": 0,
    "start_time": "2023-06-09T02:13:52.238Z"
   },
   {
    "duration": 11330,
    "start_time": "2023-06-09T02:13:55.176Z"
   },
   {
    "duration": 4756,
    "start_time": "2023-06-09T02:14:06.508Z"
   },
   {
    "duration": 1553,
    "start_time": "2023-06-09T02:14:11.269Z"
   },
   {
    "duration": 135,
    "start_time": "2023-06-09T02:14:12.827Z"
   },
   {
    "duration": 294,
    "start_time": "2023-06-09T02:14:12.965Z"
   },
   {
    "duration": 330,
    "start_time": "2023-06-09T02:14:13.267Z"
   },
   {
    "duration": 241,
    "start_time": "2023-06-09T02:14:13.600Z"
   },
   {
    "duration": 44,
    "start_time": "2023-06-09T02:14:13.847Z"
   },
   {
    "duration": 169,
    "start_time": "2023-06-09T02:14:13.893Z"
   },
   {
    "duration": 10,
    "start_time": "2023-06-09T02:14:14.066Z"
   },
   {
    "duration": 101,
    "start_time": "2023-06-09T02:14:14.078Z"
   },
   {
    "duration": 7,
    "start_time": "2023-06-09T02:14:14.181Z"
   },
   {
    "duration": 52,
    "start_time": "2023-06-09T02:14:14.190Z"
   },
   {
    "duration": 43,
    "start_time": "2023-06-09T02:14:14.244Z"
   },
   {
    "duration": 12,
    "start_time": "2023-06-09T02:14:14.288Z"
   },
   {
    "duration": 61,
    "start_time": "2023-06-09T02:14:14.302Z"
   },
   {
    "duration": 9,
    "start_time": "2023-06-09T02:14:14.365Z"
   },
   {
    "duration": 39,
    "start_time": "2023-06-09T02:14:14.376Z"
   },
   {
    "duration": 42,
    "start_time": "2023-06-09T02:14:14.417Z"
   },
   {
    "duration": 34,
    "start_time": "2023-06-09T02:14:14.463Z"
   },
   {
    "duration": 64,
    "start_time": "2023-06-09T02:14:14.499Z"
   },
   {
    "duration": 75,
    "start_time": "2023-06-09T02:14:14.565Z"
   },
   {
    "duration": 34,
    "start_time": "2023-06-09T02:14:14.642Z"
   },
   {
    "duration": 60,
    "start_time": "2023-06-09T02:14:14.678Z"
   },
   {
    "duration": 38,
    "start_time": "2023-06-09T02:14:14.739Z"
   },
   {
    "duration": 73,
    "start_time": "2023-06-09T02:14:14.780Z"
   },
   {
    "duration": 40,
    "start_time": "2023-06-09T02:14:14.854Z"
   },
   {
    "duration": 101,
    "start_time": "2023-06-09T02:14:14.897Z"
   },
   {
    "duration": 42,
    "start_time": "2023-06-09T02:14:15.001Z"
   },
   {
    "duration": 120,
    "start_time": "2023-06-09T02:14:15.046Z"
   },
   {
    "duration": 130,
    "start_time": "2023-06-09T02:14:26.465Z"
   },
   {
    "duration": 183,
    "start_time": "2023-06-09T02:14:40.378Z"
   },
   {
    "duration": 97,
    "start_time": "2023-06-09T02:14:44.681Z"
   },
   {
    "duration": 20,
    "start_time": "2023-06-09T02:14:48.550Z"
   },
   {
    "duration": 10,
    "start_time": "2023-06-09T02:14:53.144Z"
   },
   {
    "duration": 9,
    "start_time": "2023-06-09T02:14:57.085Z"
   },
   {
    "duration": 167,
    "start_time": "2023-06-09T02:15:03.312Z"
   },
   {
    "duration": 23,
    "start_time": "2023-06-09T02:15:15.087Z"
   },
   {
    "duration": 43,
    "start_time": "2023-06-09T02:15:33.963Z"
   },
   {
    "duration": 122,
    "start_time": "2023-06-09T02:15:34.793Z"
   },
   {
    "duration": 24,
    "start_time": "2023-06-09T02:15:36.978Z"
   },
   {
    "duration": 26,
    "start_time": "2023-06-09T02:16:55.198Z"
   },
   {
    "duration": 57,
    "start_time": "2023-06-09T02:19:29.343Z"
   },
   {
    "duration": 6,
    "start_time": "2023-06-09T02:19:35.152Z"
   },
   {
    "duration": 6,
    "start_time": "2023-06-09T02:19:38.285Z"
   },
   {
    "duration": 109,
    "start_time": "2023-06-09T02:20:42.060Z"
   },
   {
    "duration": 117,
    "start_time": "2023-06-09T02:20:42.771Z"
   },
   {
    "duration": 18,
    "start_time": "2023-06-09T02:20:50.797Z"
   },
   {
    "duration": 124,
    "start_time": "2023-06-09T02:21:18.327Z"
   },
   {
    "duration": 114,
    "start_time": "2023-06-09T02:23:04.860Z"
   },
   {
    "duration": 136,
    "start_time": "2023-06-09T02:28:54.324Z"
   },
   {
    "duration": 12,
    "start_time": "2023-06-09T02:30:01.128Z"
   },
   {
    "duration": 14,
    "start_time": "2023-06-09T02:30:27.946Z"
   },
   {
    "duration": 2330,
    "start_time": "2023-06-09T02:34:08.054Z"
   },
   {
    "duration": 12,
    "start_time": "2023-06-09T02:34:10.437Z"
   },
   {
    "duration": 6850,
    "start_time": "2023-06-09T02:34:10.452Z"
   },
   {
    "duration": 4,
    "start_time": "2023-06-09T02:34:17.304Z"
   },
   {
    "duration": 121,
    "start_time": "2023-06-09T02:34:17.311Z"
   },
   {
    "duration": 41,
    "start_time": "2023-06-09T02:34:17.435Z"
   },
   {
    "duration": 11,
    "start_time": "2023-06-09T02:34:17.478Z"
   },
   {
    "duration": 24,
    "start_time": "2023-06-09T02:34:17.491Z"
   },
   {
    "duration": 453,
    "start_time": "2023-06-09T02:34:17.517Z"
   },
   {
    "duration": 0,
    "start_time": "2023-06-09T02:34:25.795Z"
   },
   {
    "duration": 1,
    "start_time": "2023-06-09T02:34:25.796Z"
   },
   {
    "duration": 0,
    "start_time": "2023-06-09T02:34:25.798Z"
   },
   {
    "duration": 0,
    "start_time": "2023-06-09T02:34:25.800Z"
   },
   {
    "duration": 0,
    "start_time": "2023-06-09T02:34:25.801Z"
   },
   {
    "duration": 0,
    "start_time": "2023-06-09T02:34:25.803Z"
   },
   {
    "duration": 0,
    "start_time": "2023-06-09T02:34:25.804Z"
   },
   {
    "duration": 0,
    "start_time": "2023-06-09T02:34:25.805Z"
   },
   {
    "duration": 0,
    "start_time": "2023-06-09T02:34:25.807Z"
   },
   {
    "duration": 0,
    "start_time": "2023-06-09T02:34:25.808Z"
   },
   {
    "duration": 0,
    "start_time": "2023-06-09T02:34:25.810Z"
   },
   {
    "duration": 0,
    "start_time": "2023-06-09T02:34:25.812Z"
   },
   {
    "duration": 0,
    "start_time": "2023-06-09T02:34:25.813Z"
   },
   {
    "duration": 0,
    "start_time": "2023-06-09T02:34:25.815Z"
   },
   {
    "duration": 0,
    "start_time": "2023-06-09T02:34:25.816Z"
   },
   {
    "duration": 0,
    "start_time": "2023-06-09T02:34:25.817Z"
   },
   {
    "duration": 0,
    "start_time": "2023-06-09T02:34:25.819Z"
   },
   {
    "duration": 0,
    "start_time": "2023-06-09T02:34:25.820Z"
   },
   {
    "duration": 0,
    "start_time": "2023-06-09T02:34:25.822Z"
   },
   {
    "duration": 0,
    "start_time": "2023-06-09T02:34:25.823Z"
   },
   {
    "duration": 0,
    "start_time": "2023-06-09T02:34:25.824Z"
   },
   {
    "duration": 0,
    "start_time": "2023-06-09T02:34:25.840Z"
   },
   {
    "duration": 0,
    "start_time": "2023-06-09T02:34:25.842Z"
   },
   {
    "duration": 0,
    "start_time": "2023-06-09T02:34:25.845Z"
   },
   {
    "duration": 0,
    "start_time": "2023-06-09T02:34:25.846Z"
   },
   {
    "duration": 0,
    "start_time": "2023-06-09T02:34:25.847Z"
   },
   {
    "duration": 0,
    "start_time": "2023-06-09T02:34:25.848Z"
   },
   {
    "duration": 0,
    "start_time": "2023-06-09T02:34:25.849Z"
   },
   {
    "duration": 0,
    "start_time": "2023-06-09T02:34:25.850Z"
   },
   {
    "duration": 0,
    "start_time": "2023-06-09T02:34:25.850Z"
   },
   {
    "duration": 0,
    "start_time": "2023-06-09T02:34:25.851Z"
   },
   {
    "duration": 0,
    "start_time": "2023-06-09T02:34:25.852Z"
   },
   {
    "duration": 0,
    "start_time": "2023-06-09T02:34:25.853Z"
   },
   {
    "duration": 0,
    "start_time": "2023-06-09T02:34:25.860Z"
   },
   {
    "duration": 1,
    "start_time": "2023-06-09T02:34:25.861Z"
   },
   {
    "duration": 0,
    "start_time": "2023-06-09T02:34:25.863Z"
   },
   {
    "duration": 0,
    "start_time": "2023-06-09T02:34:25.864Z"
   },
   {
    "duration": 0,
    "start_time": "2023-06-09T02:34:25.865Z"
   },
   {
    "duration": 0,
    "start_time": "2023-06-09T02:34:25.866Z"
   },
   {
    "duration": 0,
    "start_time": "2023-06-09T02:34:25.867Z"
   },
   {
    "duration": 0,
    "start_time": "2023-06-09T02:34:25.872Z"
   },
   {
    "duration": 0,
    "start_time": "2023-06-09T02:34:25.874Z"
   },
   {
    "duration": 0,
    "start_time": "2023-06-09T02:34:25.875Z"
   },
   {
    "duration": 0,
    "start_time": "2023-06-09T02:34:25.877Z"
   },
   {
    "duration": 0,
    "start_time": "2023-06-09T02:34:25.879Z"
   },
   {
    "duration": 0,
    "start_time": "2023-06-09T02:34:25.881Z"
   },
   {
    "duration": 0,
    "start_time": "2023-06-09T02:34:25.883Z"
   },
   {
    "duration": 0,
    "start_time": "2023-06-09T02:34:25.884Z"
   },
   {
    "duration": 0,
    "start_time": "2023-06-09T02:34:25.930Z"
   },
   {
    "duration": 0,
    "start_time": "2023-06-09T02:34:25.936Z"
   },
   {
    "duration": 0,
    "start_time": "2023-06-09T02:34:25.938Z"
   },
   {
    "duration": 0,
    "start_time": "2023-06-09T02:34:25.939Z"
   },
   {
    "duration": 0,
    "start_time": "2023-06-09T02:34:25.947Z"
   },
   {
    "duration": 0,
    "start_time": "2023-06-09T02:34:25.949Z"
   },
   {
    "duration": 0,
    "start_time": "2023-06-09T02:34:25.951Z"
   },
   {
    "duration": 0,
    "start_time": "2023-06-09T02:34:25.952Z"
   },
   {
    "duration": 0,
    "start_time": "2023-06-09T02:34:25.954Z"
   },
   {
    "duration": 0,
    "start_time": "2023-06-09T02:34:25.955Z"
   },
   {
    "duration": 0,
    "start_time": "2023-06-09T02:34:25.957Z"
   },
   {
    "duration": 0,
    "start_time": "2023-06-09T02:34:25.958Z"
   },
   {
    "duration": 1,
    "start_time": "2023-06-09T02:34:25.959Z"
   },
   {
    "duration": 0,
    "start_time": "2023-06-09T02:34:25.961Z"
   },
   {
    "duration": 0,
    "start_time": "2023-06-09T02:34:25.964Z"
   },
   {
    "duration": 0,
    "start_time": "2023-06-09T02:34:25.966Z"
   },
   {
    "duration": 1586,
    "start_time": "2023-06-09T02:34:26.261Z"
   },
   {
    "duration": 125,
    "start_time": "2023-06-09T02:34:27.849Z"
   },
   {
    "duration": 288,
    "start_time": "2023-06-09T02:34:27.976Z"
   },
   {
    "duration": 233,
    "start_time": "2023-06-09T02:34:28.266Z"
   },
   {
    "duration": 237,
    "start_time": "2023-06-09T02:34:28.502Z"
   },
   {
    "duration": 39,
    "start_time": "2023-06-09T02:34:28.747Z"
   },
   {
    "duration": 120,
    "start_time": "2023-06-09T02:34:28.788Z"
   },
   {
    "duration": 21,
    "start_time": "2023-06-09T02:34:28.910Z"
   },
   {
    "duration": 81,
    "start_time": "2023-06-09T02:34:28.936Z"
   },
   {
    "duration": 11,
    "start_time": "2023-06-09T02:34:29.021Z"
   },
   {
    "duration": 34,
    "start_time": "2023-06-09T02:34:29.037Z"
   },
   {
    "duration": 24,
    "start_time": "2023-06-09T02:34:29.074Z"
   },
   {
    "duration": 32,
    "start_time": "2023-06-09T02:34:29.100Z"
   },
   {
    "duration": 54,
    "start_time": "2023-06-09T02:34:31.613Z"
   },
   {
    "duration": 22,
    "start_time": "2023-06-09T02:34:31.916Z"
   },
   {
    "duration": 5,
    "start_time": "2023-06-09T02:34:32.171Z"
   },
   {
    "duration": 10,
    "start_time": "2023-06-09T02:34:32.492Z"
   },
   {
    "duration": 20,
    "start_time": "2023-06-09T02:34:32.720Z"
   },
   {
    "duration": 50,
    "start_time": "2023-06-09T02:34:34.120Z"
   },
   {
    "duration": 71,
    "start_time": "2023-06-09T02:34:34.384Z"
   },
   {
    "duration": 25,
    "start_time": "2023-06-09T02:34:36.167Z"
   },
   {
    "duration": 54,
    "start_time": "2023-06-09T02:34:36.453Z"
   },
   {
    "duration": 36,
    "start_time": "2023-06-09T02:34:37.851Z"
   },
   {
    "duration": 78,
    "start_time": "2023-06-09T02:34:38.152Z"
   },
   {
    "duration": 36,
    "start_time": "2023-06-09T02:34:39.791Z"
   },
   {
    "duration": 67,
    "start_time": "2023-06-09T02:34:39.982Z"
   },
   {
    "duration": 33,
    "start_time": "2023-06-09T02:34:40.168Z"
   },
   {
    "duration": 77,
    "start_time": "2023-06-09T02:34:40.319Z"
   },
   {
    "duration": 126,
    "start_time": "2023-06-09T02:34:41.750Z"
   },
   {
    "duration": 125,
    "start_time": "2023-06-09T02:34:42.051Z"
   },
   {
    "duration": 87,
    "start_time": "2023-06-09T02:34:44.299Z"
   },
   {
    "duration": 13,
    "start_time": "2023-06-09T02:34:44.659Z"
   },
   {
    "duration": 4,
    "start_time": "2023-06-09T02:34:45.710Z"
   },
   {
    "duration": 8,
    "start_time": "2023-06-09T02:34:46.210Z"
   },
   {
    "duration": 48,
    "start_time": "2023-06-09T02:34:47.463Z"
   },
   {
    "duration": 113,
    "start_time": "2023-06-09T02:34:49.174Z"
   },
   {
    "duration": 133,
    "start_time": "2023-06-09T02:34:54.641Z"
   },
   {
    "duration": 135,
    "start_time": "2023-06-09T02:34:55.494Z"
   },
   {
    "duration": 106,
    "start_time": "2023-06-09T02:35:16.860Z"
   },
   {
    "duration": 116,
    "start_time": "2023-06-09T02:35:16.969Z"
   },
   {
    "duration": 11,
    "start_time": "2023-06-09T02:35:28.050Z"
   },
   {
    "duration": 17,
    "start_time": "2023-06-09T02:35:28.161Z"
   },
   {
    "duration": 4,
    "start_time": "2023-06-09T02:35:28.382Z"
   },
   {
    "duration": 4,
    "start_time": "2023-06-09T02:35:28.608Z"
   },
   {
    "duration": 77,
    "start_time": "2023-06-09T02:35:28.817Z"
   },
   {
    "duration": 12,
    "start_time": "2023-06-09T02:35:28.907Z"
   },
   {
    "duration": 13,
    "start_time": "2023-06-09T02:35:29.098Z"
   },
   {
    "duration": 17,
    "start_time": "2023-06-09T02:35:29.271Z"
   },
   {
    "duration": 514,
    "start_time": "2023-06-09T02:35:29.905Z"
   },
   {
    "duration": 7492,
    "start_time": "2023-06-09T02:35:31.067Z"
   },
   {
    "duration": 4547,
    "start_time": "2023-06-09T02:35:38.562Z"
   },
   {
    "duration": 1585,
    "start_time": "2023-06-09T02:35:43.112Z"
   },
   {
    "duration": 146,
    "start_time": "2023-06-09T02:35:44.700Z"
   },
   {
    "duration": 259,
    "start_time": "2023-06-09T02:35:44.849Z"
   },
   {
    "duration": 292,
    "start_time": "2023-06-09T02:35:45.111Z"
   },
   {
    "duration": 274,
    "start_time": "2023-06-09T02:35:45.405Z"
   },
   {
    "duration": 51,
    "start_time": "2023-06-09T02:35:45.681Z"
   },
   {
    "duration": 123,
    "start_time": "2023-06-09T02:35:45.742Z"
   },
   {
    "duration": 9,
    "start_time": "2023-06-09T02:35:45.869Z"
   },
   {
    "duration": 104,
    "start_time": "2023-06-09T02:35:45.880Z"
   },
   {
    "duration": 8,
    "start_time": "2023-06-09T02:35:45.987Z"
   },
   {
    "duration": 60,
    "start_time": "2023-06-09T02:35:45.997Z"
   },
   {
    "duration": 22,
    "start_time": "2023-06-09T02:35:46.061Z"
   },
   {
    "duration": 11,
    "start_time": "2023-06-09T02:35:46.085Z"
   },
   {
    "duration": 69,
    "start_time": "2023-06-09T02:35:46.099Z"
   },
   {
    "duration": 9,
    "start_time": "2023-06-09T02:35:46.170Z"
   },
   {
    "duration": 23,
    "start_time": "2023-06-09T02:35:46.182Z"
   },
   {
    "duration": 16,
    "start_time": "2023-06-09T02:35:46.207Z"
   },
   {
    "duration": 19,
    "start_time": "2023-06-09T02:35:46.227Z"
   },
   {
    "duration": 33,
    "start_time": "2023-06-09T02:35:46.267Z"
   },
   {
    "duration": 80,
    "start_time": "2023-06-09T02:35:46.302Z"
   },
   {
    "duration": 23,
    "start_time": "2023-06-09T02:35:46.384Z"
   },
   {
    "duration": 76,
    "start_time": "2023-06-09T02:35:46.409Z"
   },
   {
    "duration": 44,
    "start_time": "2023-06-09T02:35:46.487Z"
   },
   {
    "duration": 69,
    "start_time": "2023-06-09T02:35:46.537Z"
   },
   {
    "duration": 39,
    "start_time": "2023-06-09T02:35:46.608Z"
   },
   {
    "duration": 73,
    "start_time": "2023-06-09T02:35:46.657Z"
   },
   {
    "duration": 44,
    "start_time": "2023-06-09T02:35:46.732Z"
   },
   {
    "duration": 78,
    "start_time": "2023-06-09T02:35:46.778Z"
   },
   {
    "duration": 141,
    "start_time": "2023-06-09T02:35:46.858Z"
   },
   {
    "duration": 138,
    "start_time": "2023-06-09T02:35:47.001Z"
   },
   {
    "duration": 86,
    "start_time": "2023-06-09T02:35:47.146Z"
   },
   {
    "duration": 18,
    "start_time": "2023-06-09T02:35:47.240Z"
   },
   {
    "duration": 7,
    "start_time": "2023-06-09T02:35:47.260Z"
   },
   {
    "duration": 15,
    "start_time": "2023-06-09T02:35:47.269Z"
   },
   {
    "duration": 59,
    "start_time": "2023-06-09T02:35:47.286Z"
   },
   {
    "duration": 157,
    "start_time": "2023-06-09T02:35:47.347Z"
   },
   {
    "duration": 133,
    "start_time": "2023-06-09T02:35:47.506Z"
   },
   {
    "duration": 27,
    "start_time": "2023-06-09T02:35:47.646Z"
   },
   {
    "duration": 123,
    "start_time": "2023-06-09T02:36:09.165Z"
   },
   {
    "duration": 844,
    "start_time": "2023-06-09T02:39:11.752Z"
   },
   {
    "duration": 7,
    "start_time": "2023-06-09T02:39:25.209Z"
   },
   {
    "duration": 5,
    "start_time": "2023-06-09T02:39:25.387Z"
   },
   {
    "duration": 4,
    "start_time": "2023-06-09T02:39:25.542Z"
   },
   {
    "duration": 7,
    "start_time": "2023-06-09T02:39:29.622Z"
   },
   {
    "duration": 94,
    "start_time": "2023-06-09T02:39:29.794Z"
   },
   {
    "duration": 16,
    "start_time": "2023-06-09T02:39:29.966Z"
   },
   {
    "duration": 23,
    "start_time": "2023-06-09T02:39:30.119Z"
   },
   {
    "duration": 25,
    "start_time": "2023-06-09T02:39:30.277Z"
   },
   {
    "duration": 418,
    "start_time": "2023-06-09T02:39:30.938Z"
   },
   {
    "duration": 8012,
    "start_time": "2023-06-09T02:39:31.753Z"
   },
   {
    "duration": 4523,
    "start_time": "2023-06-09T02:39:39.772Z"
   },
   {
    "duration": 1482,
    "start_time": "2023-06-09T02:39:44.297Z"
   },
   {
    "duration": 126,
    "start_time": "2023-06-09T02:39:45.782Z"
   },
   {
    "duration": 234,
    "start_time": "2023-06-09T02:39:45.911Z"
   },
   {
    "duration": 232,
    "start_time": "2023-06-09T02:39:46.147Z"
   },
   {
    "duration": 205,
    "start_time": "2023-06-09T02:39:46.381Z"
   },
   {
    "duration": 41,
    "start_time": "2023-06-09T02:39:46.587Z"
   },
   {
    "duration": 131,
    "start_time": "2023-06-09T02:39:46.636Z"
   },
   {
    "duration": 9,
    "start_time": "2023-06-09T02:39:46.771Z"
   },
   {
    "duration": 112,
    "start_time": "2023-06-09T02:39:46.783Z"
   },
   {
    "duration": 9,
    "start_time": "2023-06-09T02:39:46.897Z"
   },
   {
    "duration": 40,
    "start_time": "2023-06-09T02:39:46.909Z"
   },
   {
    "duration": 18,
    "start_time": "2023-06-09T02:39:46.951Z"
   },
   {
    "duration": 12,
    "start_time": "2023-06-09T02:39:46.971Z"
   },
   {
    "duration": 75,
    "start_time": "2023-06-09T02:39:46.985Z"
   },
   {
    "duration": 8,
    "start_time": "2023-06-09T02:39:47.062Z"
   },
   {
    "duration": 5,
    "start_time": "2023-06-09T02:39:47.073Z"
   },
   {
    "duration": 10,
    "start_time": "2023-06-09T02:39:47.081Z"
   },
   {
    "duration": 47,
    "start_time": "2023-06-09T02:39:47.093Z"
   },
   {
    "duration": 31,
    "start_time": "2023-06-09T02:39:47.142Z"
   },
   {
    "duration": 87,
    "start_time": "2023-06-09T02:39:47.176Z"
   },
   {
    "duration": 31,
    "start_time": "2023-06-09T02:39:47.266Z"
   },
   {
    "duration": 86,
    "start_time": "2023-06-09T02:39:47.300Z"
   },
   {
    "duration": 51,
    "start_time": "2023-06-09T02:39:47.389Z"
   },
   {
    "duration": 68,
    "start_time": "2023-06-09T02:39:47.443Z"
   },
   {
    "duration": 46,
    "start_time": "2023-06-09T02:39:47.513Z"
   },
   {
    "duration": 82,
    "start_time": "2023-06-09T02:39:47.570Z"
   },
   {
    "duration": 35,
    "start_time": "2023-06-09T02:39:47.654Z"
   },
   {
    "duration": 80,
    "start_time": "2023-06-09T02:39:47.690Z"
   },
   {
    "duration": 113,
    "start_time": "2023-06-09T02:39:47.772Z"
   },
   {
    "duration": 56,
    "start_time": "2023-06-09T02:39:47.887Z"
   },
   {
    "duration": 0,
    "start_time": "2023-06-09T02:39:47.945Z"
   },
   {
    "duration": 0,
    "start_time": "2023-06-09T02:39:47.947Z"
   },
   {
    "duration": 0,
    "start_time": "2023-06-09T02:39:47.948Z"
   },
   {
    "duration": 0,
    "start_time": "2023-06-09T02:39:47.949Z"
   },
   {
    "duration": 0,
    "start_time": "2023-06-09T02:39:47.951Z"
   },
   {
    "duration": 0,
    "start_time": "2023-06-09T02:39:47.953Z"
   },
   {
    "duration": 0,
    "start_time": "2023-06-09T02:39:47.954Z"
   },
   {
    "duration": 0,
    "start_time": "2023-06-09T02:39:47.956Z"
   },
   {
    "duration": 125,
    "start_time": "2023-06-09T02:40:23.535Z"
   },
   {
    "duration": 49,
    "start_time": "2023-06-09T02:40:24.245Z"
   },
   {
    "duration": 13,
    "start_time": "2023-06-09T02:40:24.744Z"
   },
   {
    "duration": 3,
    "start_time": "2023-06-09T02:40:25.204Z"
   },
   {
    "duration": 10,
    "start_time": "2023-06-09T02:40:25.644Z"
   },
   {
    "duration": 52,
    "start_time": "2023-06-09T02:40:26.134Z"
   },
   {
    "duration": 166,
    "start_time": "2023-06-09T02:40:27.617Z"
   },
   {
    "duration": 113,
    "start_time": "2023-06-09T02:40:27.936Z"
   },
   {
    "duration": 1123,
    "start_time": "2023-06-09T02:41:29.888Z"
   },
   {
    "duration": 6,
    "start_time": "2023-06-09T02:41:46.082Z"
   },
   {
    "duration": 9,
    "start_time": "2023-06-09T02:41:46.235Z"
   },
   {
    "duration": 4,
    "start_time": "2023-06-09T02:41:46.381Z"
   },
   {
    "duration": 5,
    "start_time": "2023-06-09T02:41:46.646Z"
   },
   {
    "duration": 80,
    "start_time": "2023-06-09T02:41:46.881Z"
   },
   {
    "duration": 13,
    "start_time": "2023-06-09T02:41:46.975Z"
   },
   {
    "duration": 18,
    "start_time": "2023-06-09T02:41:47.091Z"
   },
   {
    "duration": 28,
    "start_time": "2023-06-09T02:41:47.227Z"
   },
   {
    "duration": 442,
    "start_time": "2023-06-09T02:41:47.810Z"
   },
   {
    "duration": 963,
    "start_time": "2023-06-09T02:41:57.044Z"
   },
   {
    "duration": 1919,
    "start_time": "2023-06-09T02:42:07.400Z"
   },
   {
    "duration": 17,
    "start_time": "2023-06-09T02:42:09.325Z"
   },
   {
    "duration": 6523,
    "start_time": "2023-06-09T02:42:09.344Z"
   },
   {
    "duration": 3,
    "start_time": "2023-06-09T02:42:15.869Z"
   },
   {
    "duration": 69,
    "start_time": "2023-06-09T02:42:15.875Z"
   },
   {
    "duration": 11,
    "start_time": "2023-06-09T02:42:15.946Z"
   },
   {
    "duration": 15,
    "start_time": "2023-06-09T02:42:15.958Z"
   },
   {
    "duration": 16,
    "start_time": "2023-06-09T02:42:15.975Z"
   },
   {
    "duration": 411,
    "start_time": "2023-06-09T02:42:15.993Z"
   },
   {
    "duration": 7867,
    "start_time": "2023-06-09T02:42:16.406Z"
   },
   {
    "duration": 4668,
    "start_time": "2023-06-09T02:42:24.275Z"
   },
   {
    "duration": 1669,
    "start_time": "2023-06-09T02:42:28.949Z"
   },
   {
    "duration": 147,
    "start_time": "2023-06-09T02:42:30.620Z"
   },
   {
    "duration": 265,
    "start_time": "2023-06-09T02:42:30.774Z"
   },
   {
    "duration": 257,
    "start_time": "2023-06-09T02:42:31.046Z"
   },
   {
    "duration": 205,
    "start_time": "2023-06-09T02:42:31.305Z"
   },
   {
    "duration": 40,
    "start_time": "2023-06-09T02:42:31.512Z"
   },
   {
    "duration": 159,
    "start_time": "2023-06-09T02:42:31.555Z"
   },
   {
    "duration": 21,
    "start_time": "2023-06-09T02:42:31.716Z"
   },
   {
    "duration": 137,
    "start_time": "2023-06-09T02:42:31.741Z"
   },
   {
    "duration": 9,
    "start_time": "2023-06-09T02:42:31.880Z"
   },
   {
    "duration": 73,
    "start_time": "2023-06-09T02:42:31.891Z"
   },
   {
    "duration": 40,
    "start_time": "2023-06-09T02:42:31.966Z"
   },
   {
    "duration": 27,
    "start_time": "2023-06-09T02:42:32.008Z"
   },
   {
    "duration": 43,
    "start_time": "2023-06-09T02:42:32.038Z"
   },
   {
    "duration": 10,
    "start_time": "2023-06-09T02:42:32.083Z"
   },
   {
    "duration": 24,
    "start_time": "2023-06-09T02:42:32.095Z"
   },
   {
    "duration": 30,
    "start_time": "2023-06-09T02:42:32.121Z"
   },
   {
    "duration": 11,
    "start_time": "2023-06-09T02:42:32.154Z"
   },
   {
    "duration": 0,
    "start_time": "2023-06-09T02:42:32.169Z"
   },
   {
    "duration": 0,
    "start_time": "2023-06-09T02:42:32.171Z"
   },
   {
    "duration": 0,
    "start_time": "2023-06-09T02:42:32.172Z"
   },
   {
    "duration": 0,
    "start_time": "2023-06-09T02:42:32.174Z"
   },
   {
    "duration": 0,
    "start_time": "2023-06-09T02:42:32.176Z"
   },
   {
    "duration": 0,
    "start_time": "2023-06-09T02:42:32.177Z"
   },
   {
    "duration": 0,
    "start_time": "2023-06-09T02:42:32.179Z"
   },
   {
    "duration": 1,
    "start_time": "2023-06-09T02:42:32.180Z"
   },
   {
    "duration": 0,
    "start_time": "2023-06-09T02:42:32.182Z"
   },
   {
    "duration": 0,
    "start_time": "2023-06-09T02:42:32.184Z"
   },
   {
    "duration": 0,
    "start_time": "2023-06-09T02:42:32.185Z"
   },
   {
    "duration": 0,
    "start_time": "2023-06-09T02:42:32.187Z"
   },
   {
    "duration": 0,
    "start_time": "2023-06-09T02:42:32.188Z"
   },
   {
    "duration": 0,
    "start_time": "2023-06-09T02:42:32.190Z"
   },
   {
    "duration": 0,
    "start_time": "2023-06-09T02:42:32.192Z"
   },
   {
    "duration": 0,
    "start_time": "2023-06-09T02:42:32.226Z"
   },
   {
    "duration": 1,
    "start_time": "2023-06-09T02:42:32.227Z"
   },
   {
    "duration": 0,
    "start_time": "2023-06-09T02:42:32.229Z"
   },
   {
    "duration": 0,
    "start_time": "2023-06-09T02:42:32.230Z"
   },
   {
    "duration": 0,
    "start_time": "2023-06-09T02:42:32.231Z"
   },
   {
    "duration": 0,
    "start_time": "2023-06-09T02:42:32.233Z"
   },
   {
    "duration": 0,
    "start_time": "2023-06-09T02:42:32.234Z"
   },
   {
    "duration": 0,
    "start_time": "2023-06-09T02:42:32.235Z"
   },
   {
    "duration": 0,
    "start_time": "2023-06-09T02:42:32.237Z"
   },
   {
    "duration": 0,
    "start_time": "2023-06-09T02:42:32.238Z"
   },
   {
    "duration": 0,
    "start_time": "2023-06-09T02:42:32.239Z"
   },
   {
    "duration": 0,
    "start_time": "2023-06-09T02:42:32.241Z"
   },
   {
    "duration": 0,
    "start_time": "2023-06-09T02:42:32.242Z"
   },
   {
    "duration": 0,
    "start_time": "2023-06-09T02:42:32.243Z"
   },
   {
    "duration": 0,
    "start_time": "2023-06-09T02:42:32.244Z"
   },
   {
    "duration": 0,
    "start_time": "2023-06-09T02:42:32.246Z"
   },
   {
    "duration": 0,
    "start_time": "2023-06-09T02:42:32.247Z"
   },
   {
    "duration": 0,
    "start_time": "2023-06-09T02:42:32.248Z"
   },
   {
    "duration": 0,
    "start_time": "2023-06-09T02:42:32.249Z"
   },
   {
    "duration": 0,
    "start_time": "2023-06-09T02:42:32.250Z"
   },
   {
    "duration": 0,
    "start_time": "2023-06-09T02:42:32.252Z"
   },
   {
    "duration": 0,
    "start_time": "2023-06-09T02:42:32.254Z"
   },
   {
    "duration": 0,
    "start_time": "2023-06-09T02:42:32.255Z"
   },
   {
    "duration": 0,
    "start_time": "2023-06-09T02:42:32.257Z"
   },
   {
    "duration": 0,
    "start_time": "2023-06-09T02:42:32.258Z"
   },
   {
    "duration": 0,
    "start_time": "2023-06-09T02:42:32.259Z"
   },
   {
    "duration": 1,
    "start_time": "2023-06-09T02:42:32.260Z"
   },
   {
    "duration": 12,
    "start_time": "2023-06-09T02:42:35.699Z"
   },
   {
    "duration": 30,
    "start_time": "2023-06-09T02:42:36.263Z"
   },
   {
    "duration": 73,
    "start_time": "2023-06-09T02:42:36.477Z"
   },
   {
    "duration": 25,
    "start_time": "2023-06-09T02:42:36.666Z"
   },
   {
    "duration": 51,
    "start_time": "2023-06-09T02:42:36.847Z"
   },
   {
    "duration": 31,
    "start_time": "2023-06-09T02:42:38.175Z"
   },
   {
    "duration": 59,
    "start_time": "2023-06-09T02:42:38.399Z"
   },
   {
    "duration": 35,
    "start_time": "2023-06-09T02:42:38.633Z"
   },
   {
    "duration": 72,
    "start_time": "2023-06-09T02:42:39.840Z"
   },
   {
    "duration": 34,
    "start_time": "2023-06-09T02:42:42.482Z"
   },
   {
    "duration": 80,
    "start_time": "2023-06-09T02:42:42.981Z"
   },
   {
    "duration": 113,
    "start_time": "2023-06-09T02:42:45.721Z"
   },
   {
    "duration": 122,
    "start_time": "2023-06-09T02:42:47.725Z"
   },
   {
    "duration": 27,
    "start_time": "2023-06-09T02:42:49.173Z"
   },
   {
    "duration": 167,
    "start_time": "2023-06-09T02:43:58.941Z"
   },
   {
    "duration": 25,
    "start_time": "2023-06-09T02:44:09.873Z"
   },
   {
    "duration": 129,
    "start_time": "2023-06-09T02:44:16.759Z"
   },
   {
    "duration": 37,
    "start_time": "2023-06-09T02:45:04.174Z"
   },
   {
    "duration": 12,
    "start_time": "2023-06-09T02:45:35.686Z"
   },
   {
    "duration": 12,
    "start_time": "2023-06-09T02:45:41.150Z"
   },
   {
    "duration": 12,
    "start_time": "2023-06-09T02:45:41.309Z"
   },
   {
    "duration": 15,
    "start_time": "2023-06-09T02:45:45.549Z"
   },
   {
    "duration": 57,
    "start_time": "2023-06-09T02:45:57.347Z"
   },
   {
    "duration": 6,
    "start_time": "2023-06-09T02:46:04.281Z"
   },
   {
    "duration": 18,
    "start_time": "2023-06-09T02:46:10.314Z"
   },
   {
    "duration": 7,
    "start_time": "2023-06-09T02:46:13.689Z"
   },
   {
    "duration": 5,
    "start_time": "2023-06-09T02:46:16.424Z"
   },
   {
    "duration": 7,
    "start_time": "2023-06-09T02:46:19.456Z"
   },
   {
    "duration": 12,
    "start_time": "2023-06-09T02:46:22.057Z"
   },
   {
    "duration": 13,
    "start_time": "2023-06-09T02:46:24.548Z"
   },
   {
    "duration": 56,
    "start_time": "2023-06-09T02:46:28.156Z"
   },
   {
    "duration": 975,
    "start_time": "2023-06-09T02:47:02.601Z"
   },
   {
    "duration": 6,
    "start_time": "2023-06-09T02:47:08.678Z"
   },
   {
    "duration": 3,
    "start_time": "2023-06-09T02:47:08.867Z"
   },
   {
    "duration": 4,
    "start_time": "2023-06-09T02:47:08.998Z"
   },
   {
    "duration": 6,
    "start_time": "2023-06-09T02:47:13.326Z"
   },
   {
    "duration": 88,
    "start_time": "2023-06-09T02:47:13.469Z"
   },
   {
    "duration": 11,
    "start_time": "2023-06-09T02:47:13.578Z"
   },
   {
    "duration": 13,
    "start_time": "2023-06-09T02:47:13.706Z"
   },
   {
    "duration": 23,
    "start_time": "2023-06-09T02:47:13.854Z"
   },
   {
    "duration": 467,
    "start_time": "2023-06-09T02:47:14.663Z"
   },
   {
    "duration": 1039,
    "start_time": "2023-06-09T02:47:27.979Z"
   },
   {
    "duration": 2304,
    "start_time": "2023-06-09T02:48:08.118Z"
   },
   {
    "duration": 12,
    "start_time": "2023-06-09T02:48:10.424Z"
   },
   {
    "duration": 8134,
    "start_time": "2023-06-09T02:48:10.441Z"
   },
   {
    "duration": 4,
    "start_time": "2023-06-09T02:48:18.577Z"
   },
   {
    "duration": 111,
    "start_time": "2023-06-09T02:48:18.583Z"
   },
   {
    "duration": 11,
    "start_time": "2023-06-09T02:48:18.695Z"
   },
   {
    "duration": 11,
    "start_time": "2023-06-09T02:48:18.708Z"
   },
   {
    "duration": 27,
    "start_time": "2023-06-09T02:48:18.721Z"
   },
   {
    "duration": 436,
    "start_time": "2023-06-09T02:48:18.750Z"
   },
   {
    "duration": 10815,
    "start_time": "2023-06-09T02:48:19.188Z"
   },
   {
    "duration": 4686,
    "start_time": "2023-06-09T02:48:30.006Z"
   },
   {
    "duration": 1499,
    "start_time": "2023-06-09T02:48:34.694Z"
   },
   {
    "duration": 119,
    "start_time": "2023-06-09T02:48:36.195Z"
   },
   {
    "duration": 239,
    "start_time": "2023-06-09T02:48:36.326Z"
   },
   {
    "duration": 277,
    "start_time": "2023-06-09T02:48:36.569Z"
   },
   {
    "duration": 213,
    "start_time": "2023-06-09T02:48:36.848Z"
   },
   {
    "duration": 37,
    "start_time": "2023-06-09T02:48:37.063Z"
   },
   {
    "duration": 109,
    "start_time": "2023-06-09T02:48:37.102Z"
   },
   {
    "duration": 25,
    "start_time": "2023-06-09T02:48:37.213Z"
   },
   {
    "duration": 225,
    "start_time": "2023-06-09T02:48:37.242Z"
   },
   {
    "duration": 0,
    "start_time": "2023-06-09T02:48:37.470Z"
   },
   {
    "duration": 0,
    "start_time": "2023-06-09T02:48:37.472Z"
   },
   {
    "duration": 0,
    "start_time": "2023-06-09T02:48:37.473Z"
   },
   {
    "duration": 0,
    "start_time": "2023-06-09T02:48:37.476Z"
   },
   {
    "duration": 1,
    "start_time": "2023-06-09T02:48:37.476Z"
   },
   {
    "duration": 0,
    "start_time": "2023-06-09T02:48:37.477Z"
   },
   {
    "duration": 0,
    "start_time": "2023-06-09T02:48:37.478Z"
   },
   {
    "duration": 0,
    "start_time": "2023-06-09T02:48:37.480Z"
   },
   {
    "duration": 0,
    "start_time": "2023-06-09T02:48:37.481Z"
   },
   {
    "duration": 0,
    "start_time": "2023-06-09T02:48:37.482Z"
   },
   {
    "duration": 0,
    "start_time": "2023-06-09T02:48:37.483Z"
   },
   {
    "duration": 0,
    "start_time": "2023-06-09T02:48:37.484Z"
   },
   {
    "duration": 0,
    "start_time": "2023-06-09T02:48:37.487Z"
   },
   {
    "duration": 0,
    "start_time": "2023-06-09T02:48:37.487Z"
   },
   {
    "duration": 0,
    "start_time": "2023-06-09T02:48:37.489Z"
   },
   {
    "duration": 0,
    "start_time": "2023-06-09T02:48:37.490Z"
   },
   {
    "duration": 0,
    "start_time": "2023-06-09T02:48:37.491Z"
   },
   {
    "duration": 0,
    "start_time": "2023-06-09T02:48:37.492Z"
   },
   {
    "duration": 0,
    "start_time": "2023-06-09T02:48:37.493Z"
   },
   {
    "duration": 0,
    "start_time": "2023-06-09T02:48:37.494Z"
   },
   {
    "duration": 0,
    "start_time": "2023-06-09T02:48:37.495Z"
   },
   {
    "duration": 0,
    "start_time": "2023-06-09T02:48:37.496Z"
   },
   {
    "duration": 0,
    "start_time": "2023-06-09T02:48:37.497Z"
   },
   {
    "duration": 0,
    "start_time": "2023-06-09T02:48:37.499Z"
   },
   {
    "duration": 0,
    "start_time": "2023-06-09T02:48:37.500Z"
   },
   {
    "duration": 0,
    "start_time": "2023-06-09T02:48:37.530Z"
   },
   {
    "duration": 0,
    "start_time": "2023-06-09T02:48:37.531Z"
   },
   {
    "duration": 0,
    "start_time": "2023-06-09T02:48:37.533Z"
   },
   {
    "duration": 0,
    "start_time": "2023-06-09T02:48:37.535Z"
   },
   {
    "duration": 0,
    "start_time": "2023-06-09T02:48:37.537Z"
   },
   {
    "duration": 0,
    "start_time": "2023-06-09T02:48:37.539Z"
   },
   {
    "duration": 0,
    "start_time": "2023-06-09T02:48:37.540Z"
   },
   {
    "duration": 0,
    "start_time": "2023-06-09T02:48:37.541Z"
   },
   {
    "duration": 0,
    "start_time": "2023-06-09T02:48:37.542Z"
   },
   {
    "duration": 1,
    "start_time": "2023-06-09T02:48:37.543Z"
   },
   {
    "duration": 0,
    "start_time": "2023-06-09T02:48:37.545Z"
   },
   {
    "duration": 0,
    "start_time": "2023-06-09T02:48:37.546Z"
   },
   {
    "duration": 0,
    "start_time": "2023-06-09T02:48:37.547Z"
   },
   {
    "duration": 0,
    "start_time": "2023-06-09T02:48:37.549Z"
   },
   {
    "duration": 0,
    "start_time": "2023-06-09T02:48:37.550Z"
   },
   {
    "duration": 0,
    "start_time": "2023-06-09T02:48:37.551Z"
   },
   {
    "duration": 0,
    "start_time": "2023-06-09T02:48:37.561Z"
   },
   {
    "duration": 0,
    "start_time": "2023-06-09T02:48:37.564Z"
   },
   {
    "duration": 0,
    "start_time": "2023-06-09T02:48:37.568Z"
   },
   {
    "duration": 0,
    "start_time": "2023-06-09T02:48:37.570Z"
   },
   {
    "duration": 0,
    "start_time": "2023-06-09T02:48:37.571Z"
   },
   {
    "duration": 0,
    "start_time": "2023-06-09T02:48:37.572Z"
   },
   {
    "duration": 0,
    "start_time": "2023-06-09T02:48:37.573Z"
   },
   {
    "duration": 0,
    "start_time": "2023-06-09T02:48:37.575Z"
   },
   {
    "duration": 0,
    "start_time": "2023-06-09T02:48:37.576Z"
   },
   {
    "duration": 0,
    "start_time": "2023-06-09T02:48:37.577Z"
   },
   {
    "duration": 79,
    "start_time": "2023-06-09T02:48:42.166Z"
   },
   {
    "duration": 7,
    "start_time": "2023-06-09T02:48:42.570Z"
   },
   {
    "duration": 25,
    "start_time": "2023-06-09T02:48:42.884Z"
   },
   {
    "duration": 24,
    "start_time": "2023-06-09T02:48:43.069Z"
   },
   {
    "duration": 27,
    "start_time": "2023-06-09T02:48:43.242Z"
   },
   {
    "duration": 33,
    "start_time": "2023-06-09T02:48:43.555Z"
   },
   {
    "duration": 7,
    "start_time": "2023-06-09T02:48:43.787Z"
   },
   {
    "duration": 18,
    "start_time": "2023-06-09T02:48:43.971Z"
   },
   {
    "duration": 15,
    "start_time": "2023-06-09T02:48:44.144Z"
   },
   {
    "duration": 11,
    "start_time": "2023-06-09T02:48:44.670Z"
   },
   {
    "duration": 42,
    "start_time": "2023-06-09T02:48:44.920Z"
   },
   {
    "duration": 65,
    "start_time": "2023-06-09T02:48:45.095Z"
   },
   {
    "duration": 30,
    "start_time": "2023-06-09T02:48:46.280Z"
   },
   {
    "duration": 52,
    "start_time": "2023-06-09T02:48:46.428Z"
   },
   {
    "duration": 29,
    "start_time": "2023-06-09T02:48:46.587Z"
   },
   {
    "duration": 62,
    "start_time": "2023-06-09T02:48:46.722Z"
   },
   {
    "duration": 28,
    "start_time": "2023-06-09T02:48:47.886Z"
   },
   {
    "duration": 68,
    "start_time": "2023-06-09T02:48:48.039Z"
   },
   {
    "duration": 32,
    "start_time": "2023-06-09T02:48:49.262Z"
   },
   {
    "duration": 71,
    "start_time": "2023-06-09T02:48:49.506Z"
   },
   {
    "duration": 109,
    "start_time": "2023-06-09T02:48:50.646Z"
   },
   {
    "duration": 76,
    "start_time": "2023-06-09T02:48:50.794Z"
   },
   {
    "duration": 26,
    "start_time": "2023-06-09T02:48:53.017Z"
   },
   {
    "duration": 9,
    "start_time": "2023-06-09T02:48:53.753Z"
   },
   {
    "duration": 3,
    "start_time": "2023-06-09T02:48:54.414Z"
   },
   {
    "duration": 8,
    "start_time": "2023-06-09T02:48:54.967Z"
   },
   {
    "duration": 54,
    "start_time": "2023-06-09T02:48:55.452Z"
   },
   {
    "duration": 184,
    "start_time": "2023-06-09T02:48:55.952Z"
   },
   {
    "duration": 101,
    "start_time": "2023-06-09T02:48:56.459Z"
   },
   {
    "duration": 17,
    "start_time": "2023-06-09T02:48:56.968Z"
   },
   {
    "duration": 1968,
    "start_time": "2023-06-09T02:50:06.900Z"
   },
   {
    "duration": 15,
    "start_time": "2023-06-09T02:50:08.875Z"
   },
   {
    "duration": 7608,
    "start_time": "2023-06-09T02:50:08.897Z"
   },
   {
    "duration": 4,
    "start_time": "2023-06-09T02:50:16.507Z"
   },
   {
    "duration": 86,
    "start_time": "2023-06-09T02:50:16.513Z"
   },
   {
    "duration": 12,
    "start_time": "2023-06-09T02:50:16.601Z"
   },
   {
    "duration": 30,
    "start_time": "2023-06-09T02:50:16.614Z"
   },
   {
    "duration": 22,
    "start_time": "2023-06-09T02:50:16.646Z"
   },
   {
    "duration": 436,
    "start_time": "2023-06-09T02:50:16.670Z"
   },
   {
    "duration": 7786,
    "start_time": "2023-06-09T02:50:17.108Z"
   },
   {
    "duration": 4775,
    "start_time": "2023-06-09T02:50:24.896Z"
   },
   {
    "duration": 1619,
    "start_time": "2023-06-09T02:50:29.681Z"
   },
   {
    "duration": 127,
    "start_time": "2023-06-09T02:50:31.302Z"
   },
   {
    "duration": 278,
    "start_time": "2023-06-09T02:50:31.433Z"
   },
   {
    "duration": 296,
    "start_time": "2023-06-09T02:50:31.713Z"
   },
   {
    "duration": 235,
    "start_time": "2023-06-09T02:50:32.010Z"
   },
   {
    "duration": 41,
    "start_time": "2023-06-09T02:50:32.252Z"
   },
   {
    "duration": 123,
    "start_time": "2023-06-09T02:50:32.295Z"
   },
   {
    "duration": 15,
    "start_time": "2023-06-09T02:50:32.420Z"
   },
   {
    "duration": 108,
    "start_time": "2023-06-09T02:50:32.437Z"
   },
   {
    "duration": 9,
    "start_time": "2023-06-09T02:50:32.547Z"
   },
   {
    "duration": 64,
    "start_time": "2023-06-09T02:50:32.558Z"
   },
   {
    "duration": 43,
    "start_time": "2023-06-09T02:50:32.624Z"
   },
   {
    "duration": 34,
    "start_time": "2023-06-09T02:50:32.670Z"
   },
   {
    "duration": 71,
    "start_time": "2023-06-09T02:50:32.706Z"
   },
   {
    "duration": 8,
    "start_time": "2023-06-09T02:50:32.779Z"
   },
   {
    "duration": 7,
    "start_time": "2023-06-09T02:50:32.789Z"
   },
   {
    "duration": 20,
    "start_time": "2023-06-09T02:50:32.799Z"
   },
   {
    "duration": 24,
    "start_time": "2023-06-09T02:50:32.821Z"
   },
   {
    "duration": 44,
    "start_time": "2023-06-09T02:50:32.851Z"
   },
   {
    "duration": 85,
    "start_time": "2023-06-09T02:50:32.898Z"
   },
   {
    "duration": 26,
    "start_time": "2023-06-09T02:50:32.990Z"
   },
   {
    "duration": 122,
    "start_time": "2023-06-09T02:50:33.019Z"
   },
   {
    "duration": 38,
    "start_time": "2023-06-09T02:50:33.143Z"
   },
   {
    "duration": 72,
    "start_time": "2023-06-09T02:50:33.183Z"
   },
   {
    "duration": 39,
    "start_time": "2023-06-09T02:50:33.261Z"
   },
   {
    "duration": 79,
    "start_time": "2023-06-09T02:50:33.303Z"
   },
   {
    "duration": 51,
    "start_time": "2023-06-09T02:50:33.384Z"
   },
   {
    "duration": 65,
    "start_time": "2023-06-09T02:50:33.464Z"
   },
   {
    "duration": 160,
    "start_time": "2023-06-09T02:50:33.532Z"
   },
   {
    "duration": 92,
    "start_time": "2023-06-09T02:50:33.700Z"
   },
   {
    "duration": 17,
    "start_time": "2023-06-09T02:50:33.794Z"
   },
   {
    "duration": 33,
    "start_time": "2023-06-09T02:50:33.813Z"
   },
   {
    "duration": 3,
    "start_time": "2023-06-09T02:50:33.849Z"
   },
   {
    "duration": 221,
    "start_time": "2023-06-09T02:50:33.854Z"
   },
   {
    "duration": 0,
    "start_time": "2023-06-09T02:50:34.083Z"
   },
   {
    "duration": 0,
    "start_time": "2023-06-09T02:50:34.085Z"
   },
   {
    "duration": 0,
    "start_time": "2023-06-09T02:50:34.087Z"
   },
   {
    "duration": 0,
    "start_time": "2023-06-09T02:50:34.095Z"
   },
   {
    "duration": 0,
    "start_time": "2023-06-09T02:50:34.104Z"
   },
   {
    "duration": 0,
    "start_time": "2023-06-09T02:50:34.105Z"
   },
   {
    "duration": 0,
    "start_time": "2023-06-09T02:50:34.106Z"
   },
   {
    "duration": 0,
    "start_time": "2023-06-09T02:50:34.107Z"
   },
   {
    "duration": 0,
    "start_time": "2023-06-09T02:50:34.109Z"
   },
   {
    "duration": 0,
    "start_time": "2023-06-09T02:50:34.110Z"
   },
   {
    "duration": 0,
    "start_time": "2023-06-09T02:50:34.111Z"
   },
   {
    "duration": 0,
    "start_time": "2023-06-09T02:50:34.118Z"
   },
   {
    "duration": 0,
    "start_time": "2023-06-09T02:50:34.120Z"
   },
   {
    "duration": 0,
    "start_time": "2023-06-09T02:50:34.122Z"
   },
   {
    "duration": 0,
    "start_time": "2023-06-09T02:50:34.139Z"
   },
   {
    "duration": 0,
    "start_time": "2023-06-09T02:50:34.142Z"
   },
   {
    "duration": 0,
    "start_time": "2023-06-09T02:50:34.143Z"
   },
   {
    "duration": 0,
    "start_time": "2023-06-09T02:50:34.143Z"
   },
   {
    "duration": 0,
    "start_time": "2023-06-09T02:50:34.144Z"
   },
   {
    "duration": 0,
    "start_time": "2023-06-09T02:50:34.153Z"
   },
   {
    "duration": 0,
    "start_time": "2023-06-09T02:50:34.154Z"
   },
   {
    "duration": 0,
    "start_time": "2023-06-09T02:50:34.155Z"
   },
   {
    "duration": 0,
    "start_time": "2023-06-09T02:50:34.155Z"
   },
   {
    "duration": 0,
    "start_time": "2023-06-09T02:50:34.161Z"
   },
   {
    "duration": 0,
    "start_time": "2023-06-09T02:50:34.163Z"
   },
   {
    "duration": 2023,
    "start_time": "2023-06-09T02:52:12.879Z"
   },
   {
    "duration": 4,
    "start_time": "2023-06-09T02:52:14.904Z"
   },
   {
    "duration": 8794,
    "start_time": "2023-06-09T02:52:14.910Z"
   },
   {
    "duration": 13,
    "start_time": "2023-06-09T02:52:23.706Z"
   },
   {
    "duration": 125,
    "start_time": "2023-06-09T02:52:23.721Z"
   },
   {
    "duration": 23,
    "start_time": "2023-06-09T02:52:23.849Z"
   },
   {
    "duration": 23,
    "start_time": "2023-06-09T02:52:23.874Z"
   },
   {
    "duration": 14,
    "start_time": "2023-06-09T02:52:23.899Z"
   },
   {
    "duration": 466,
    "start_time": "2023-06-09T02:52:23.915Z"
   },
   {
    "duration": 7920,
    "start_time": "2023-06-09T02:52:24.384Z"
   },
   {
    "duration": 4632,
    "start_time": "2023-06-09T02:52:32.306Z"
   },
   {
    "duration": 1550,
    "start_time": "2023-06-09T02:52:36.940Z"
   },
   {
    "duration": 115,
    "start_time": "2023-06-09T02:52:38.491Z"
   },
   {
    "duration": 246,
    "start_time": "2023-06-09T02:52:38.608Z"
   },
   {
    "duration": 231,
    "start_time": "2023-06-09T02:52:38.860Z"
   },
   {
    "duration": 220,
    "start_time": "2023-06-09T02:52:39.093Z"
   },
   {
    "duration": 58,
    "start_time": "2023-06-09T02:52:39.315Z"
   },
   {
    "duration": 109,
    "start_time": "2023-06-09T02:52:39.375Z"
   },
   {
    "duration": 10,
    "start_time": "2023-06-09T02:52:39.489Z"
   },
   {
    "duration": 174,
    "start_time": "2023-06-09T02:52:39.502Z"
   },
   {
    "duration": 8,
    "start_time": "2023-06-09T02:52:39.678Z"
   },
   {
    "duration": 62,
    "start_time": "2023-06-09T02:52:39.688Z"
   },
   {
    "duration": 37,
    "start_time": "2023-06-09T02:52:39.752Z"
   },
   {
    "duration": 15,
    "start_time": "2023-06-09T02:52:39.791Z"
   },
   {
    "duration": 70,
    "start_time": "2023-06-09T02:52:39.808Z"
   },
   {
    "duration": 10,
    "start_time": "2023-06-09T02:52:39.882Z"
   },
   {
    "duration": 5,
    "start_time": "2023-06-09T02:52:39.894Z"
   },
   {
    "duration": 22,
    "start_time": "2023-06-09T02:52:39.906Z"
   },
   {
    "duration": 21,
    "start_time": "2023-06-09T02:52:39.936Z"
   },
   {
    "duration": 44,
    "start_time": "2023-06-09T02:52:39.958Z"
   },
   {
    "duration": 75,
    "start_time": "2023-06-09T02:52:40.005Z"
   },
   {
    "duration": 29,
    "start_time": "2023-06-09T02:52:40.083Z"
   },
   {
    "duration": 71,
    "start_time": "2023-06-09T02:52:40.114Z"
   },
   {
    "duration": 37,
    "start_time": "2023-06-09T02:52:40.187Z"
   },
   {
    "duration": 66,
    "start_time": "2023-06-09T02:52:40.234Z"
   },
   {
    "duration": 45,
    "start_time": "2023-06-09T02:52:40.302Z"
   },
   {
    "duration": 66,
    "start_time": "2023-06-09T02:52:40.348Z"
   },
   {
    "duration": 52,
    "start_time": "2023-06-09T02:52:40.416Z"
   },
   {
    "duration": 74,
    "start_time": "2023-06-09T02:52:40.470Z"
   },
   {
    "duration": 225,
    "start_time": "2023-06-09T02:52:40.553Z"
   },
   {
    "duration": 66,
    "start_time": "2023-06-09T02:52:40.780Z"
   },
   {
    "duration": 139,
    "start_time": "2023-06-09T02:52:40.848Z"
   },
   {
    "duration": 110,
    "start_time": "2023-06-09T02:52:40.989Z"
   },
   {
    "duration": 41,
    "start_time": "2023-06-09T02:52:41.103Z"
   },
   {
    "duration": 81,
    "start_time": "2023-06-09T02:52:41.146Z"
   },
   {
    "duration": 0,
    "start_time": "2023-06-09T02:52:41.230Z"
   },
   {
    "duration": 0,
    "start_time": "2023-06-09T02:52:41.234Z"
   },
   {
    "duration": 0,
    "start_time": "2023-06-09T02:52:41.236Z"
   },
   {
    "duration": 0,
    "start_time": "2023-06-09T02:52:41.238Z"
   },
   {
    "duration": 0,
    "start_time": "2023-06-09T02:52:41.239Z"
   },
   {
    "duration": 0,
    "start_time": "2023-06-09T02:52:41.241Z"
   },
   {
    "duration": 0,
    "start_time": "2023-06-09T02:52:41.242Z"
   },
   {
    "duration": 0,
    "start_time": "2023-06-09T02:52:41.244Z"
   },
   {
    "duration": 0,
    "start_time": "2023-06-09T02:52:41.245Z"
   },
   {
    "duration": 0,
    "start_time": "2023-06-09T02:52:41.246Z"
   },
   {
    "duration": 0,
    "start_time": "2023-06-09T02:52:41.248Z"
   },
   {
    "duration": 0,
    "start_time": "2023-06-09T02:52:41.250Z"
   },
   {
    "duration": 0,
    "start_time": "2023-06-09T02:52:41.252Z"
   },
   {
    "duration": 0,
    "start_time": "2023-06-09T02:52:41.253Z"
   },
   {
    "duration": 0,
    "start_time": "2023-06-09T02:52:41.255Z"
   },
   {
    "duration": 0,
    "start_time": "2023-06-09T02:52:41.257Z"
   },
   {
    "duration": 0,
    "start_time": "2023-06-09T02:52:41.258Z"
   },
   {
    "duration": 0,
    "start_time": "2023-06-09T02:52:41.260Z"
   },
   {
    "duration": 0,
    "start_time": "2023-06-09T02:52:41.262Z"
   },
   {
    "duration": 0,
    "start_time": "2023-06-09T02:52:41.263Z"
   },
   {
    "duration": 1148,
    "start_time": "2023-06-09T02:53:10.753Z"
   },
   {
    "duration": 1330,
    "start_time": "2023-06-09T02:53:31.454Z"
   },
   {
    "duration": 24,
    "start_time": "2023-06-09T02:54:13.056Z"
   },
   {
    "duration": 20,
    "start_time": "2023-06-09T02:54:33.148Z"
   },
   {
    "duration": 16,
    "start_time": "2023-06-09T02:54:35.723Z"
   },
   {
    "duration": 15,
    "start_time": "2023-06-09T02:54:52.320Z"
   },
   {
    "duration": 7,
    "start_time": "2023-06-09T02:54:57.455Z"
   },
   {
    "duration": 2121,
    "start_time": "2023-06-09T02:56:50.422Z"
   },
   {
    "duration": 7,
    "start_time": "2023-06-09T02:56:52.546Z"
   },
   {
    "duration": 8764,
    "start_time": "2023-06-09T02:56:52.555Z"
   },
   {
    "duration": 4,
    "start_time": "2023-06-09T02:57:01.321Z"
   },
   {
    "duration": 154,
    "start_time": "2023-06-09T02:57:01.328Z"
   },
   {
    "duration": 10,
    "start_time": "2023-06-09T02:57:01.484Z"
   },
   {
    "duration": 74,
    "start_time": "2023-06-09T02:57:01.497Z"
   },
   {
    "duration": 105,
    "start_time": "2023-06-09T02:57:01.574Z"
   },
   {
    "duration": 527,
    "start_time": "2023-06-09T02:57:01.681Z"
   },
   {
    "duration": 7948,
    "start_time": "2023-06-09T02:57:02.210Z"
   },
   {
    "duration": 4651,
    "start_time": "2023-06-09T02:57:10.160Z"
   },
   {
    "duration": 1472,
    "start_time": "2023-06-09T02:57:14.812Z"
   },
   {
    "duration": 120,
    "start_time": "2023-06-09T02:57:16.286Z"
   },
   {
    "duration": 235,
    "start_time": "2023-06-09T02:57:16.410Z"
   },
   {
    "duration": 236,
    "start_time": "2023-06-09T02:57:16.648Z"
   },
   {
    "duration": 212,
    "start_time": "2023-06-09T02:57:16.887Z"
   },
   {
    "duration": 56,
    "start_time": "2023-06-09T02:57:17.102Z"
   },
   {
    "duration": 110,
    "start_time": "2023-06-09T02:57:17.161Z"
   },
   {
    "duration": 7,
    "start_time": "2023-06-09T02:57:17.274Z"
   },
   {
    "duration": 117,
    "start_time": "2023-06-09T02:57:17.283Z"
   },
   {
    "duration": 8,
    "start_time": "2023-06-09T02:57:17.402Z"
   },
   {
    "duration": 36,
    "start_time": "2023-06-09T02:57:17.411Z"
   },
   {
    "duration": 19,
    "start_time": "2023-06-09T02:57:17.449Z"
   },
   {
    "duration": 17,
    "start_time": "2023-06-09T02:57:17.470Z"
   },
   {
    "duration": 53,
    "start_time": "2023-06-09T02:57:17.489Z"
   },
   {
    "duration": 11,
    "start_time": "2023-06-09T02:57:17.543Z"
   },
   {
    "duration": 15,
    "start_time": "2023-06-09T02:57:17.556Z"
   },
   {
    "duration": 31,
    "start_time": "2023-06-09T02:57:17.574Z"
   },
   {
    "duration": 16,
    "start_time": "2023-06-09T02:57:17.607Z"
   },
   {
    "duration": 47,
    "start_time": "2023-06-09T02:57:17.625Z"
   },
   {
    "duration": 89,
    "start_time": "2023-06-09T02:57:17.674Z"
   },
   {
    "duration": 23,
    "start_time": "2023-06-09T02:57:17.765Z"
   },
   {
    "duration": 70,
    "start_time": "2023-06-09T02:57:17.790Z"
   },
   {
    "duration": 31,
    "start_time": "2023-06-09T02:57:17.862Z"
   },
   {
    "duration": 89,
    "start_time": "2023-06-09T02:57:17.895Z"
   },
   {
    "duration": 31,
    "start_time": "2023-06-09T02:57:17.986Z"
   },
   {
    "duration": 65,
    "start_time": "2023-06-09T02:57:18.019Z"
   },
   {
    "duration": 31,
    "start_time": "2023-06-09T02:57:18.086Z"
   },
   {
    "duration": 71,
    "start_time": "2023-06-09T02:57:18.119Z"
   },
   {
    "duration": 204,
    "start_time": "2023-06-09T02:57:18.192Z"
   },
   {
    "duration": 7,
    "start_time": "2023-06-09T02:57:18.401Z"
   },
   {
    "duration": 49,
    "start_time": "2023-06-09T02:57:18.410Z"
   },
   {
    "duration": 153,
    "start_time": "2023-06-09T02:57:18.461Z"
   },
   {
    "duration": 156,
    "start_time": "2023-06-09T02:57:18.616Z"
   },
   {
    "duration": 99,
    "start_time": "2023-06-09T02:57:18.774Z"
   },
   {
    "duration": 15,
    "start_time": "2023-06-09T02:57:18.875Z"
   },
   {
    "duration": 82,
    "start_time": "2023-06-09T02:57:18.892Z"
   },
   {
    "duration": 0,
    "start_time": "2023-06-09T02:57:18.976Z"
   },
   {
    "duration": 0,
    "start_time": "2023-06-09T02:57:18.977Z"
   },
   {
    "duration": 0,
    "start_time": "2023-06-09T02:57:18.978Z"
   },
   {
    "duration": 0,
    "start_time": "2023-06-09T02:57:18.979Z"
   },
   {
    "duration": 0,
    "start_time": "2023-06-09T02:57:18.980Z"
   },
   {
    "duration": 0,
    "start_time": "2023-06-09T02:57:18.981Z"
   },
   {
    "duration": 0,
    "start_time": "2023-06-09T02:57:18.982Z"
   },
   {
    "duration": 0,
    "start_time": "2023-06-09T02:57:18.983Z"
   },
   {
    "duration": 0,
    "start_time": "2023-06-09T02:57:18.985Z"
   },
   {
    "duration": 0,
    "start_time": "2023-06-09T02:57:18.986Z"
   },
   {
    "duration": 0,
    "start_time": "2023-06-09T02:57:18.987Z"
   },
   {
    "duration": 0,
    "start_time": "2023-06-09T02:57:18.988Z"
   },
   {
    "duration": 0,
    "start_time": "2023-06-09T02:57:18.989Z"
   },
   {
    "duration": 0,
    "start_time": "2023-06-09T02:57:18.990Z"
   },
   {
    "duration": 0,
    "start_time": "2023-06-09T02:57:18.992Z"
   },
   {
    "duration": 0,
    "start_time": "2023-06-09T02:57:18.993Z"
   },
   {
    "duration": 0,
    "start_time": "2023-06-09T02:57:18.994Z"
   },
   {
    "duration": 0,
    "start_time": "2023-06-09T02:57:18.995Z"
   },
   {
    "duration": 0,
    "start_time": "2023-06-09T02:57:18.996Z"
   },
   {
    "duration": 0,
    "start_time": "2023-06-09T02:57:18.997Z"
   },
   {
    "duration": 132,
    "start_time": "2023-06-09T02:57:55.266Z"
   },
   {
    "duration": 1096,
    "start_time": "2023-06-09T02:57:55.544Z"
   },
   {
    "duration": 0,
    "start_time": "2023-06-09T02:57:56.642Z"
   },
   {
    "duration": 5,
    "start_time": "2023-06-09T02:58:07.240Z"
   },
   {
    "duration": 1258,
    "start_time": "2023-06-09T02:58:09.479Z"
   },
   {
    "duration": 1838,
    "start_time": "2023-06-09T02:58:17.348Z"
   },
   {
    "duration": 4,
    "start_time": "2023-06-09T02:58:19.188Z"
   },
   {
    "duration": 7357,
    "start_time": "2023-06-09T02:58:19.193Z"
   },
   {
    "duration": 3,
    "start_time": "2023-06-09T02:58:26.552Z"
   },
   {
    "duration": 70,
    "start_time": "2023-06-09T02:58:26.558Z"
   },
   {
    "duration": 18,
    "start_time": "2023-06-09T02:58:26.634Z"
   },
   {
    "duration": 16,
    "start_time": "2023-06-09T02:58:26.654Z"
   },
   {
    "duration": 15,
    "start_time": "2023-06-09T02:58:26.672Z"
   },
   {
    "duration": 396,
    "start_time": "2023-06-09T02:58:26.689Z"
   },
   {
    "duration": 11209,
    "start_time": "2023-06-09T02:58:27.087Z"
   },
   {
    "duration": 4715,
    "start_time": "2023-06-09T02:58:38.298Z"
   },
   {
    "duration": 1542,
    "start_time": "2023-06-09T02:58:43.014Z"
   },
   {
    "duration": 113,
    "start_time": "2023-06-09T02:58:44.557Z"
   },
   {
    "duration": 415,
    "start_time": "2023-06-09T02:58:44.674Z"
   },
   {
    "duration": 223,
    "start_time": "2023-06-09T02:58:45.091Z"
   },
   {
    "duration": 199,
    "start_time": "2023-06-09T02:58:45.316Z"
   },
   {
    "duration": 38,
    "start_time": "2023-06-09T02:58:45.516Z"
   },
   {
    "duration": 110,
    "start_time": "2023-06-09T02:58:45.556Z"
   },
   {
    "duration": 8,
    "start_time": "2023-06-09T02:58:45.668Z"
   },
   {
    "duration": 83,
    "start_time": "2023-06-09T02:58:45.678Z"
   },
   {
    "duration": 7,
    "start_time": "2023-06-09T02:58:45.762Z"
   },
   {
    "duration": 19,
    "start_time": "2023-06-09T02:58:45.771Z"
   },
   {
    "duration": 48,
    "start_time": "2023-06-09T02:58:45.791Z"
   },
   {
    "duration": 12,
    "start_time": "2023-06-09T02:58:45.841Z"
   },
   {
    "duration": 30,
    "start_time": "2023-06-09T02:58:45.854Z"
   },
   {
    "duration": 8,
    "start_time": "2023-06-09T02:58:45.886Z"
   },
   {
    "duration": 5,
    "start_time": "2023-06-09T02:58:45.896Z"
   },
   {
    "duration": 14,
    "start_time": "2023-06-09T02:58:45.927Z"
   },
   {
    "duration": 8,
    "start_time": "2023-06-09T02:58:45.943Z"
   },
   {
    "duration": 29,
    "start_time": "2023-06-09T02:58:45.953Z"
   },
   {
    "duration": 77,
    "start_time": "2023-06-09T02:58:45.983Z"
   },
   {
    "duration": 23,
    "start_time": "2023-06-09T02:58:46.061Z"
   },
   {
    "duration": 57,
    "start_time": "2023-06-09T02:58:46.086Z"
   },
   {
    "duration": 29,
    "start_time": "2023-06-09T02:58:46.145Z"
   },
   {
    "duration": 72,
    "start_time": "2023-06-09T02:58:46.176Z"
   },
   {
    "duration": 28,
    "start_time": "2023-06-09T02:58:46.250Z"
   },
   {
    "duration": 71,
    "start_time": "2023-06-09T02:58:46.280Z"
   },
   {
    "duration": 33,
    "start_time": "2023-06-09T02:58:46.352Z"
   },
   {
    "duration": 77,
    "start_time": "2023-06-09T02:58:46.387Z"
   },
   {
    "duration": 215,
    "start_time": "2023-06-09T02:58:46.465Z"
   },
   {
    "duration": 18,
    "start_time": "2023-06-09T02:58:46.684Z"
   },
   {
    "duration": 27,
    "start_time": "2023-06-09T02:58:46.708Z"
   },
   {
    "duration": 54,
    "start_time": "2023-06-09T02:58:47.151Z"
   },
   {
    "duration": 0,
    "start_time": "2023-06-09T02:58:47.207Z"
   },
   {
    "duration": 0,
    "start_time": "2023-06-09T02:58:47.209Z"
   },
   {
    "duration": 0,
    "start_time": "2023-06-09T02:58:47.210Z"
   },
   {
    "duration": 0,
    "start_time": "2023-06-09T02:58:47.212Z"
   },
   {
    "duration": 0,
    "start_time": "2023-06-09T02:58:47.213Z"
   },
   {
    "duration": 0,
    "start_time": "2023-06-09T02:58:47.215Z"
   },
   {
    "duration": 0,
    "start_time": "2023-06-09T02:58:47.217Z"
   },
   {
    "duration": 0,
    "start_time": "2023-06-09T02:58:47.218Z"
   },
   {
    "duration": 0,
    "start_time": "2023-06-09T02:58:47.220Z"
   },
   {
    "duration": 0,
    "start_time": "2023-06-09T02:58:47.221Z"
   },
   {
    "duration": 0,
    "start_time": "2023-06-09T02:58:47.222Z"
   },
   {
    "duration": 0,
    "start_time": "2023-06-09T02:58:47.224Z"
   },
   {
    "duration": 0,
    "start_time": "2023-06-09T02:58:47.230Z"
   },
   {
    "duration": 0,
    "start_time": "2023-06-09T02:58:47.230Z"
   },
   {
    "duration": 0,
    "start_time": "2023-06-09T02:58:47.232Z"
   },
   {
    "duration": 0,
    "start_time": "2023-06-09T02:58:47.232Z"
   },
   {
    "duration": 0,
    "start_time": "2023-06-09T02:58:47.236Z"
   },
   {
    "duration": 0,
    "start_time": "2023-06-09T02:58:47.238Z"
   },
   {
    "duration": 0,
    "start_time": "2023-06-09T02:58:47.239Z"
   },
   {
    "duration": 0,
    "start_time": "2023-06-09T02:58:47.242Z"
   },
   {
    "duration": 0,
    "start_time": "2023-06-09T02:58:47.243Z"
   },
   {
    "duration": 0,
    "start_time": "2023-06-09T02:58:47.245Z"
   },
   {
    "duration": 0,
    "start_time": "2023-06-09T02:58:47.246Z"
   },
   {
    "duration": 0,
    "start_time": "2023-06-09T02:58:47.247Z"
   },
   {
    "duration": 0,
    "start_time": "2023-06-09T02:58:47.248Z"
   },
   {
    "duration": 143,
    "start_time": "2023-06-09T02:58:54.823Z"
   },
   {
    "duration": 7,
    "start_time": "2023-06-09T02:59:21.466Z"
   },
   {
    "duration": 1316,
    "start_time": "2023-06-09T02:59:22.073Z"
   },
   {
    "duration": 0,
    "start_time": "2023-06-09T02:59:23.391Z"
   },
   {
    "duration": 0,
    "start_time": "2023-06-09T02:59:23.392Z"
   },
   {
    "duration": 1840,
    "start_time": "2023-06-09T02:59:31.402Z"
   },
   {
    "duration": 4,
    "start_time": "2023-06-09T02:59:33.244Z"
   },
   {
    "duration": 6004,
    "start_time": "2023-06-09T02:59:33.250Z"
   },
   {
    "duration": 3,
    "start_time": "2023-06-09T02:59:39.256Z"
   },
   {
    "duration": 74,
    "start_time": "2023-06-09T02:59:39.262Z"
   },
   {
    "duration": 12,
    "start_time": "2023-06-09T02:59:39.337Z"
   },
   {
    "duration": 11,
    "start_time": "2023-06-09T02:59:39.351Z"
   },
   {
    "duration": 15,
    "start_time": "2023-06-09T02:59:39.363Z"
   },
   {
    "duration": 472,
    "start_time": "2023-06-09T02:59:39.380Z"
   },
   {
    "duration": 7902,
    "start_time": "2023-06-09T02:59:39.855Z"
   },
   {
    "duration": 4676,
    "start_time": "2023-06-09T02:59:47.759Z"
   },
   {
    "duration": 1454,
    "start_time": "2023-06-09T02:59:52.439Z"
   },
   {
    "duration": 137,
    "start_time": "2023-06-09T02:59:53.895Z"
   },
   {
    "duration": 214,
    "start_time": "2023-06-09T02:59:54.045Z"
   },
   {
    "duration": 221,
    "start_time": "2023-06-09T02:59:54.261Z"
   },
   {
    "duration": 205,
    "start_time": "2023-06-09T02:59:54.484Z"
   },
   {
    "duration": 52,
    "start_time": "2023-06-09T02:59:54.691Z"
   },
   {
    "duration": 102,
    "start_time": "2023-06-09T02:59:54.745Z"
   },
   {
    "duration": 9,
    "start_time": "2023-06-09T02:59:54.848Z"
   },
   {
    "duration": 87,
    "start_time": "2023-06-09T02:59:54.859Z"
   },
   {
    "duration": 7,
    "start_time": "2023-06-09T02:59:54.948Z"
   },
   {
    "duration": 43,
    "start_time": "2023-06-09T02:59:54.957Z"
   },
   {
    "duration": 42,
    "start_time": "2023-06-09T02:59:55.002Z"
   },
   {
    "duration": 17,
    "start_time": "2023-06-09T02:59:55.047Z"
   },
   {
    "duration": 72,
    "start_time": "2023-06-09T02:59:55.066Z"
   },
   {
    "duration": 9,
    "start_time": "2023-06-09T02:59:55.140Z"
   },
   {
    "duration": 29,
    "start_time": "2023-06-09T02:59:55.151Z"
   },
   {
    "duration": 30,
    "start_time": "2023-06-09T02:59:55.183Z"
   },
   {
    "duration": 24,
    "start_time": "2023-06-09T02:59:55.215Z"
   },
   {
    "duration": 50,
    "start_time": "2023-06-09T02:59:55.242Z"
   },
   {
    "duration": 72,
    "start_time": "2023-06-09T02:59:55.294Z"
   },
   {
    "duration": 25,
    "start_time": "2023-06-09T02:59:55.368Z"
   },
   {
    "duration": 61,
    "start_time": "2023-06-09T02:59:55.395Z"
   },
   {
    "duration": 30,
    "start_time": "2023-06-09T02:59:55.458Z"
   },
   {
    "duration": 75,
    "start_time": "2023-06-09T02:59:55.490Z"
   },
   {
    "duration": 30,
    "start_time": "2023-06-09T02:59:55.567Z"
   },
   {
    "duration": 72,
    "start_time": "2023-06-09T02:59:55.599Z"
   },
   {
    "duration": 38,
    "start_time": "2023-06-09T02:59:55.674Z"
   },
   {
    "duration": 84,
    "start_time": "2023-06-09T02:59:55.714Z"
   },
   {
    "duration": 195,
    "start_time": "2023-06-09T02:59:55.799Z"
   },
   {
    "duration": 7,
    "start_time": "2023-06-09T02:59:55.998Z"
   },
   {
    "duration": 43,
    "start_time": "2023-06-09T02:59:56.007Z"
   },
   {
    "duration": 40,
    "start_time": "2023-06-09T02:59:56.052Z"
   },
   {
    "duration": 5,
    "start_time": "2023-06-09T02:59:56.094Z"
   },
   {
    "duration": 207,
    "start_time": "2023-06-09T02:59:56.100Z"
   },
   {
    "duration": 103,
    "start_time": "2023-06-09T02:59:56.308Z"
   },
   {
    "duration": 30,
    "start_time": "2023-06-09T02:59:56.413Z"
   },
   {
    "duration": 59,
    "start_time": "2023-06-09T02:59:56.445Z"
   },
   {
    "duration": 0,
    "start_time": "2023-06-09T02:59:56.505Z"
   },
   {
    "duration": 0,
    "start_time": "2023-06-09T02:59:56.506Z"
   },
   {
    "duration": 0,
    "start_time": "2023-06-09T02:59:56.508Z"
   },
   {
    "duration": 0,
    "start_time": "2023-06-09T02:59:56.509Z"
   },
   {
    "duration": 0,
    "start_time": "2023-06-09T02:59:56.510Z"
   },
   {
    "duration": 0,
    "start_time": "2023-06-09T02:59:56.511Z"
   },
   {
    "duration": 0,
    "start_time": "2023-06-09T02:59:56.512Z"
   },
   {
    "duration": 0,
    "start_time": "2023-06-09T02:59:56.513Z"
   },
   {
    "duration": 0,
    "start_time": "2023-06-09T02:59:56.514Z"
   },
   {
    "duration": 0,
    "start_time": "2023-06-09T02:59:56.515Z"
   },
   {
    "duration": 0,
    "start_time": "2023-06-09T02:59:56.516Z"
   },
   {
    "duration": 0,
    "start_time": "2023-06-09T02:59:56.517Z"
   },
   {
    "duration": 0,
    "start_time": "2023-06-09T02:59:56.518Z"
   },
   {
    "duration": 0,
    "start_time": "2023-06-09T02:59:56.519Z"
   },
   {
    "duration": 0,
    "start_time": "2023-06-09T02:59:56.520Z"
   },
   {
    "duration": 0,
    "start_time": "2023-06-09T02:59:56.521Z"
   },
   {
    "duration": 0,
    "start_time": "2023-06-09T02:59:56.522Z"
   },
   {
    "duration": 0,
    "start_time": "2023-06-09T02:59:56.523Z"
   },
   {
    "duration": 0,
    "start_time": "2023-06-09T02:59:56.524Z"
   },
   {
    "duration": 0,
    "start_time": "2023-06-09T02:59:56.525Z"
   },
   {
    "duration": 1982,
    "start_time": "2023-06-09T03:02:06.525Z"
   },
   {
    "duration": 4,
    "start_time": "2023-06-09T03:02:08.510Z"
   },
   {
    "duration": 6586,
    "start_time": "2023-06-09T03:02:08.515Z"
   },
   {
    "duration": 4,
    "start_time": "2023-06-09T03:02:15.104Z"
   },
   {
    "duration": 96,
    "start_time": "2023-06-09T03:02:15.110Z"
   },
   {
    "duration": 11,
    "start_time": "2023-06-09T03:02:15.209Z"
   },
   {
    "duration": 23,
    "start_time": "2023-06-09T03:02:15.222Z"
   },
   {
    "duration": 21,
    "start_time": "2023-06-09T03:02:15.248Z"
   },
   {
    "duration": 476,
    "start_time": "2023-06-09T03:02:15.272Z"
   },
   {
    "duration": 7938,
    "start_time": "2023-06-09T03:02:15.753Z"
   },
   {
    "duration": 4699,
    "start_time": "2023-06-09T03:02:23.693Z"
   },
   {
    "duration": 1454,
    "start_time": "2023-06-09T03:02:28.394Z"
   },
   {
    "duration": 122,
    "start_time": "2023-06-09T03:02:29.850Z"
   },
   {
    "duration": 235,
    "start_time": "2023-06-09T03:02:29.974Z"
   },
   {
    "duration": 235,
    "start_time": "2023-06-09T03:02:30.211Z"
   },
   {
    "duration": 199,
    "start_time": "2023-06-09T03:02:30.448Z"
   },
   {
    "duration": 34,
    "start_time": "2023-06-09T03:02:30.650Z"
   },
   {
    "duration": 150,
    "start_time": "2023-06-09T03:02:30.686Z"
   },
   {
    "duration": 9,
    "start_time": "2023-06-09T03:02:30.846Z"
   },
   {
    "duration": 147,
    "start_time": "2023-06-09T03:02:30.856Z"
   },
   {
    "duration": 7,
    "start_time": "2023-06-09T03:02:31.006Z"
   },
   {
    "duration": 72,
    "start_time": "2023-06-09T03:02:31.015Z"
   },
   {
    "duration": 114,
    "start_time": "2023-06-09T03:02:31.089Z"
   },
   {
    "duration": 80,
    "start_time": "2023-06-09T03:02:31.206Z"
   },
   {
    "duration": 86,
    "start_time": "2023-06-09T03:02:31.288Z"
   },
   {
    "duration": 21,
    "start_time": "2023-06-09T03:02:31.376Z"
   },
   {
    "duration": 35,
    "start_time": "2023-06-09T03:02:31.399Z"
   },
   {
    "duration": 60,
    "start_time": "2023-06-09T03:02:31.439Z"
   },
   {
    "duration": 54,
    "start_time": "2023-06-09T03:02:31.501Z"
   },
   {
    "duration": 89,
    "start_time": "2023-06-09T03:02:31.556Z"
   },
   {
    "duration": 104,
    "start_time": "2023-06-09T03:02:31.647Z"
   },
   {
    "duration": 26,
    "start_time": "2023-06-09T03:02:31.753Z"
   },
   {
    "duration": 88,
    "start_time": "2023-06-09T03:02:31.781Z"
   },
   {
    "duration": 87,
    "start_time": "2023-06-09T03:02:31.871Z"
   },
   {
    "duration": 62,
    "start_time": "2023-06-09T03:02:31.960Z"
   },
   {
    "duration": 39,
    "start_time": "2023-06-09T03:02:32.034Z"
   },
   {
    "duration": 84,
    "start_time": "2023-06-09T03:02:32.075Z"
   },
   {
    "duration": 42,
    "start_time": "2023-06-09T03:02:32.160Z"
   },
   {
    "duration": 79,
    "start_time": "2023-06-09T03:02:32.204Z"
   },
   {
    "duration": 0,
    "start_time": "2023-06-09T03:02:32.285Z"
   },
   {
    "duration": 0,
    "start_time": "2023-06-09T03:02:32.286Z"
   },
   {
    "duration": 0,
    "start_time": "2023-06-09T03:02:32.288Z"
   },
   {
    "duration": 0,
    "start_time": "2023-06-09T03:02:32.290Z"
   },
   {
    "duration": 0,
    "start_time": "2023-06-09T03:02:32.291Z"
   },
   {
    "duration": 0,
    "start_time": "2023-06-09T03:02:32.293Z"
   },
   {
    "duration": 0,
    "start_time": "2023-06-09T03:02:32.294Z"
   },
   {
    "duration": 0,
    "start_time": "2023-06-09T03:02:32.296Z"
   },
   {
    "duration": 0,
    "start_time": "2023-06-09T03:02:32.297Z"
   },
   {
    "duration": 0,
    "start_time": "2023-06-09T03:02:32.298Z"
   },
   {
    "duration": 0,
    "start_time": "2023-06-09T03:02:32.300Z"
   },
   {
    "duration": 0,
    "start_time": "2023-06-09T03:02:32.301Z"
   },
   {
    "duration": 0,
    "start_time": "2023-06-09T03:02:32.302Z"
   },
   {
    "duration": 0,
    "start_time": "2023-06-09T03:02:32.303Z"
   },
   {
    "duration": 0,
    "start_time": "2023-06-09T03:02:32.304Z"
   },
   {
    "duration": 0,
    "start_time": "2023-06-09T03:02:32.305Z"
   },
   {
    "duration": 1,
    "start_time": "2023-06-09T03:02:32.306Z"
   },
   {
    "duration": 0,
    "start_time": "2023-06-09T03:02:32.308Z"
   },
   {
    "duration": 0,
    "start_time": "2023-06-09T03:02:32.309Z"
   },
   {
    "duration": 0,
    "start_time": "2023-06-09T03:02:32.310Z"
   },
   {
    "duration": 0,
    "start_time": "2023-06-09T03:02:32.311Z"
   },
   {
    "duration": 0,
    "start_time": "2023-06-09T03:02:32.312Z"
   },
   {
    "duration": 0,
    "start_time": "2023-06-09T03:02:32.313Z"
   },
   {
    "duration": 0,
    "start_time": "2023-06-09T03:02:32.314Z"
   },
   {
    "duration": 0,
    "start_time": "2023-06-09T03:02:32.315Z"
   },
   {
    "duration": 12,
    "start_time": "2023-06-09T03:02:42.821Z"
   },
   {
    "duration": 17,
    "start_time": "2023-06-09T03:05:06.216Z"
   },
   {
    "duration": 19,
    "start_time": "2023-06-09T03:05:20.543Z"
   },
   {
    "duration": 283,
    "start_time": "2023-06-09T03:05:39.573Z"
   },
   {
    "duration": 21,
    "start_time": "2023-06-09T03:06:17.640Z"
   },
   {
    "duration": 106,
    "start_time": "2023-06-09T03:06:50.429Z"
   },
   {
    "duration": 84,
    "start_time": "2023-06-09T03:06:56.676Z"
   },
   {
    "duration": 276,
    "start_time": "2023-06-09T03:07:01.901Z"
   },
   {
    "duration": 105,
    "start_time": "2023-06-09T03:07:08.536Z"
   },
   {
    "duration": 75,
    "start_time": "2023-06-09T03:07:17.072Z"
   },
   {
    "duration": 82,
    "start_time": "2023-06-09T03:07:17.768Z"
   },
   {
    "duration": 193,
    "start_time": "2023-06-09T03:07:18.901Z"
   },
   {
    "duration": 106,
    "start_time": "2023-06-09T03:07:22.743Z"
   },
   {
    "duration": 2059,
    "start_time": "2023-06-09T03:07:51.250Z"
   },
   {
    "duration": 4,
    "start_time": "2023-06-09T03:07:53.311Z"
   },
   {
    "duration": 7948,
    "start_time": "2023-06-09T03:07:53.317Z"
   },
   {
    "duration": 3,
    "start_time": "2023-06-09T03:08:01.267Z"
   },
   {
    "duration": 274,
    "start_time": "2023-06-09T03:08:01.273Z"
   },
   {
    "duration": 13,
    "start_time": "2023-06-09T03:08:01.554Z"
   },
   {
    "duration": 84,
    "start_time": "2023-06-09T03:08:01.568Z"
   },
   {
    "duration": 18,
    "start_time": "2023-06-09T03:08:01.658Z"
   },
   {
    "duration": 482,
    "start_time": "2023-06-09T03:08:01.678Z"
   },
   {
    "duration": 7815,
    "start_time": "2023-06-09T03:08:02.163Z"
   },
   {
    "duration": 4680,
    "start_time": "2023-06-09T03:08:09.981Z"
   },
   {
    "duration": 1482,
    "start_time": "2023-06-09T03:08:14.663Z"
   },
   {
    "duration": 134,
    "start_time": "2023-06-09T03:08:16.147Z"
   },
   {
    "duration": 226,
    "start_time": "2023-06-09T03:08:16.285Z"
   },
   {
    "duration": 239,
    "start_time": "2023-06-09T03:08:16.513Z"
   },
   {
    "duration": 200,
    "start_time": "2023-06-09T03:08:16.754Z"
   },
   {
    "duration": 31,
    "start_time": "2023-06-09T03:08:16.956Z"
   },
   {
    "duration": 146,
    "start_time": "2023-06-09T03:08:16.989Z"
   },
   {
    "duration": 12,
    "start_time": "2023-06-09T03:08:17.136Z"
   },
   {
    "duration": 101,
    "start_time": "2023-06-09T03:08:17.150Z"
   },
   {
    "duration": 7,
    "start_time": "2023-06-09T03:08:17.253Z"
   },
   {
    "duration": 22,
    "start_time": "2023-06-09T03:08:17.261Z"
   },
   {
    "duration": 47,
    "start_time": "2023-06-09T03:08:17.285Z"
   },
   {
    "duration": 18,
    "start_time": "2023-06-09T03:08:17.334Z"
   },
   {
    "duration": 47,
    "start_time": "2023-06-09T03:08:17.355Z"
   },
   {
    "duration": 8,
    "start_time": "2023-06-09T03:08:17.404Z"
   },
   {
    "duration": 19,
    "start_time": "2023-06-09T03:08:17.427Z"
   },
   {
    "duration": 41,
    "start_time": "2023-06-09T03:08:17.448Z"
   },
   {
    "duration": 15,
    "start_time": "2023-06-09T03:08:17.491Z"
   },
   {
    "duration": 39,
    "start_time": "2023-06-09T03:08:17.508Z"
   },
   {
    "duration": 61,
    "start_time": "2023-06-09T03:08:17.549Z"
   },
   {
    "duration": 34,
    "start_time": "2023-06-09T03:08:17.613Z"
   },
   {
    "duration": 49,
    "start_time": "2023-06-09T03:08:17.655Z"
   },
   {
    "duration": 51,
    "start_time": "2023-06-09T03:08:17.706Z"
   },
   {
    "duration": 82,
    "start_time": "2023-06-09T03:08:17.759Z"
   },
   {
    "duration": 28,
    "start_time": "2023-06-09T03:08:17.843Z"
   },
   {
    "duration": 64,
    "start_time": "2023-06-09T03:08:17.873Z"
   },
   {
    "duration": 42,
    "start_time": "2023-06-09T03:08:17.947Z"
   },
   {
    "duration": 86,
    "start_time": "2023-06-09T03:08:17.991Z"
   },
   {
    "duration": 91,
    "start_time": "2023-06-09T03:08:18.079Z"
   },
   {
    "duration": 194,
    "start_time": "2023-06-09T03:08:18.175Z"
   },
   {
    "duration": 110,
    "start_time": "2023-06-09T03:08:18.372Z"
   },
   {
    "duration": 159,
    "start_time": "2023-06-09T03:08:18.484Z"
   },
   {
    "duration": 0,
    "start_time": "2023-06-09T03:08:18.645Z"
   },
   {
    "duration": 0,
    "start_time": "2023-06-09T03:08:18.647Z"
   },
   {
    "duration": 0,
    "start_time": "2023-06-09T03:08:18.648Z"
   },
   {
    "duration": 0,
    "start_time": "2023-06-09T03:08:18.649Z"
   },
   {
    "duration": 0,
    "start_time": "2023-06-09T03:08:18.650Z"
   },
   {
    "duration": 0,
    "start_time": "2023-06-09T03:08:18.652Z"
   },
   {
    "duration": 0,
    "start_time": "2023-06-09T03:08:18.654Z"
   },
   {
    "duration": 0,
    "start_time": "2023-06-09T03:08:18.655Z"
   },
   {
    "duration": 0,
    "start_time": "2023-06-09T03:08:18.657Z"
   },
   {
    "duration": 0,
    "start_time": "2023-06-09T03:08:18.659Z"
   },
   {
    "duration": 0,
    "start_time": "2023-06-09T03:08:18.660Z"
   },
   {
    "duration": 0,
    "start_time": "2023-06-09T03:08:18.662Z"
   },
   {
    "duration": 0,
    "start_time": "2023-06-09T03:08:18.663Z"
   },
   {
    "duration": 0,
    "start_time": "2023-06-09T03:08:18.664Z"
   },
   {
    "duration": 0,
    "start_time": "2023-06-09T03:08:18.665Z"
   },
   {
    "duration": 0,
    "start_time": "2023-06-09T03:08:18.666Z"
   },
   {
    "duration": 0,
    "start_time": "2023-06-09T03:08:18.668Z"
   },
   {
    "duration": 0,
    "start_time": "2023-06-09T03:08:18.669Z"
   },
   {
    "duration": 0,
    "start_time": "2023-06-09T03:08:18.670Z"
   },
   {
    "duration": 0,
    "start_time": "2023-06-09T03:08:18.672Z"
   },
   {
    "duration": 0,
    "start_time": "2023-06-09T03:08:18.673Z"
   },
   {
    "duration": 0,
    "start_time": "2023-06-09T03:08:18.674Z"
   },
   {
    "duration": 0,
    "start_time": "2023-06-09T03:08:18.676Z"
   },
   {
    "duration": 1,
    "start_time": "2023-06-09T03:08:18.729Z"
   },
   {
    "duration": 93,
    "start_time": "2023-06-09T03:09:16.151Z"
   },
   {
    "duration": 6,
    "start_time": "2023-06-09T03:09:18.963Z"
   },
   {
    "duration": 10,
    "start_time": "2023-06-09T03:09:27.925Z"
   },
   {
    "duration": 65,
    "start_time": "2023-06-09T03:10:42.163Z"
   },
   {
    "duration": 7,
    "start_time": "2023-06-09T03:10:54.244Z"
   },
   {
    "duration": 141,
    "start_time": "2023-06-09T03:10:59.805Z"
   },
   {
    "duration": 1987,
    "start_time": "2023-06-09T03:11:13.597Z"
   },
   {
    "duration": 5,
    "start_time": "2023-06-09T03:11:15.587Z"
   },
   {
    "duration": 7252,
    "start_time": "2023-06-09T03:11:15.594Z"
   },
   {
    "duration": 4,
    "start_time": "2023-06-09T03:11:22.849Z"
   },
   {
    "duration": 86,
    "start_time": "2023-06-09T03:11:22.855Z"
   },
   {
    "duration": 11,
    "start_time": "2023-06-09T03:11:22.943Z"
   },
   {
    "duration": 15,
    "start_time": "2023-06-09T03:11:22.955Z"
   },
   {
    "duration": 18,
    "start_time": "2023-06-09T03:11:22.972Z"
   },
   {
    "duration": 429,
    "start_time": "2023-06-09T03:11:22.991Z"
   },
   {
    "duration": 6820,
    "start_time": "2023-06-09T03:11:23.426Z"
   },
   {
    "duration": 4661,
    "start_time": "2023-06-09T03:11:30.248Z"
   },
   {
    "duration": 1492,
    "start_time": "2023-06-09T03:11:34.911Z"
   },
   {
    "duration": 128,
    "start_time": "2023-06-09T03:11:36.405Z"
   },
   {
    "duration": 233,
    "start_time": "2023-06-09T03:11:36.539Z"
   },
   {
    "duration": 232,
    "start_time": "2023-06-09T03:11:36.775Z"
   },
   {
    "duration": 210,
    "start_time": "2023-06-09T03:11:37.009Z"
   },
   {
    "duration": 37,
    "start_time": "2023-06-09T03:11:37.222Z"
   },
   {
    "duration": 124,
    "start_time": "2023-06-09T03:11:37.261Z"
   },
   {
    "duration": 8,
    "start_time": "2023-06-09T03:11:37.387Z"
   },
   {
    "duration": 82,
    "start_time": "2023-06-09T03:11:37.397Z"
   },
   {
    "duration": 6,
    "start_time": "2023-06-09T03:11:37.481Z"
   },
   {
    "duration": 19,
    "start_time": "2023-06-09T03:11:37.489Z"
   },
   {
    "duration": 18,
    "start_time": "2023-06-09T03:11:37.538Z"
   },
   {
    "duration": 12,
    "start_time": "2023-06-09T03:11:37.565Z"
   },
   {
    "duration": 29,
    "start_time": "2023-06-09T03:11:37.579Z"
   },
   {
    "duration": 20,
    "start_time": "2023-06-09T03:11:37.610Z"
   },
   {
    "duration": 11,
    "start_time": "2023-06-09T03:11:37.634Z"
   },
   {
    "duration": 8,
    "start_time": "2023-06-09T03:11:37.651Z"
   },
   {
    "duration": 9,
    "start_time": "2023-06-09T03:11:37.662Z"
   },
   {
    "duration": 52,
    "start_time": "2023-06-09T03:11:37.674Z"
   },
   {
    "duration": 70,
    "start_time": "2023-06-09T03:11:37.728Z"
   },
   {
    "duration": 39,
    "start_time": "2023-06-09T03:11:37.800Z"
   },
   {
    "duration": 46,
    "start_time": "2023-06-09T03:11:37.846Z"
   },
   {
    "duration": 62,
    "start_time": "2023-06-09T03:11:37.895Z"
   },
   {
    "duration": 58,
    "start_time": "2023-06-09T03:11:37.959Z"
   },
   {
    "duration": 42,
    "start_time": "2023-06-09T03:11:38.028Z"
   },
   {
    "duration": 74,
    "start_time": "2023-06-09T03:11:38.072Z"
   },
   {
    "duration": 37,
    "start_time": "2023-06-09T03:11:38.147Z"
   },
   {
    "duration": 88,
    "start_time": "2023-06-09T03:11:38.186Z"
   },
   {
    "duration": 86,
    "start_time": "2023-06-09T03:11:38.275Z"
   },
   {
    "duration": 205,
    "start_time": "2023-06-09T03:11:38.363Z"
   },
   {
    "duration": 112,
    "start_time": "2023-06-09T03:11:38.571Z"
   },
   {
    "duration": 68,
    "start_time": "2023-06-09T03:11:38.685Z"
   },
   {
    "duration": 7,
    "start_time": "2023-06-09T03:11:38.755Z"
   },
   {
    "duration": 151,
    "start_time": "2023-06-09T03:11:38.764Z"
   },
   {
    "duration": 121,
    "start_time": "2023-06-09T03:11:38.917Z"
   },
   {
    "duration": 25,
    "start_time": "2023-06-09T03:11:39.046Z"
   },
   {
    "duration": 68,
    "start_time": "2023-06-09T03:11:39.073Z"
   },
   {
    "duration": 0,
    "start_time": "2023-06-09T03:11:39.143Z"
   },
   {
    "duration": 0,
    "start_time": "2023-06-09T03:11:39.144Z"
   },
   {
    "duration": 0,
    "start_time": "2023-06-09T03:11:39.146Z"
   },
   {
    "duration": 0,
    "start_time": "2023-06-09T03:11:39.147Z"
   },
   {
    "duration": 0,
    "start_time": "2023-06-09T03:11:39.149Z"
   },
   {
    "duration": 0,
    "start_time": "2023-06-09T03:11:39.151Z"
   },
   {
    "duration": 0,
    "start_time": "2023-06-09T03:11:39.152Z"
   },
   {
    "duration": 0,
    "start_time": "2023-06-09T03:11:39.153Z"
   },
   {
    "duration": 0,
    "start_time": "2023-06-09T03:11:39.154Z"
   },
   {
    "duration": 0,
    "start_time": "2023-06-09T03:11:39.155Z"
   },
   {
    "duration": 0,
    "start_time": "2023-06-09T03:11:39.156Z"
   },
   {
    "duration": 0,
    "start_time": "2023-06-09T03:11:39.157Z"
   },
   {
    "duration": 0,
    "start_time": "2023-06-09T03:11:39.158Z"
   },
   {
    "duration": 0,
    "start_time": "2023-06-09T03:11:39.159Z"
   },
   {
    "duration": 0,
    "start_time": "2023-06-09T03:11:39.160Z"
   },
   {
    "duration": 0,
    "start_time": "2023-06-09T03:11:39.162Z"
   },
   {
    "duration": 0,
    "start_time": "2023-06-09T03:11:39.163Z"
   },
   {
    "duration": 0,
    "start_time": "2023-06-09T03:11:39.164Z"
   },
   {
    "duration": 0,
    "start_time": "2023-06-09T03:11:39.165Z"
   },
   {
    "duration": 0,
    "start_time": "2023-06-09T03:11:39.166Z"
   },
   {
    "duration": 134,
    "start_time": "2023-06-09T03:12:25.965Z"
   },
   {
    "duration": 28,
    "start_time": "2023-06-09T03:12:30.993Z"
   },
   {
    "duration": 1169,
    "start_time": "2023-06-09T03:12:31.622Z"
   },
   {
    "duration": 0,
    "start_time": "2023-06-09T03:12:32.794Z"
   },
   {
    "duration": 0,
    "start_time": "2023-06-09T03:12:32.796Z"
   },
   {
    "duration": 2112,
    "start_time": "2023-06-09T03:12:43.303Z"
   },
   {
    "duration": 15,
    "start_time": "2023-06-09T03:12:45.418Z"
   },
   {
    "duration": 6763,
    "start_time": "2023-06-09T03:12:45.435Z"
   },
   {
    "duration": 5,
    "start_time": "2023-06-09T03:12:52.201Z"
   },
   {
    "duration": 83,
    "start_time": "2023-06-09T03:12:52.209Z"
   },
   {
    "duration": 11,
    "start_time": "2023-06-09T03:12:52.294Z"
   },
   {
    "duration": 16,
    "start_time": "2023-06-09T03:12:52.307Z"
   },
   {
    "duration": 30,
    "start_time": "2023-06-09T03:12:52.327Z"
   },
   {
    "duration": 429,
    "start_time": "2023-06-09T03:12:52.359Z"
   },
   {
    "duration": 7768,
    "start_time": "2023-06-09T03:12:52.790Z"
   },
   {
    "duration": 4747,
    "start_time": "2023-06-09T03:13:00.560Z"
   },
   {
    "duration": 1455,
    "start_time": "2023-06-09T03:13:05.309Z"
   },
   {
    "duration": 125,
    "start_time": "2023-06-09T03:13:06.766Z"
   },
   {
    "duration": 237,
    "start_time": "2023-06-09T03:13:06.894Z"
   },
   {
    "duration": 226,
    "start_time": "2023-06-09T03:13:07.139Z"
   },
   {
    "duration": 205,
    "start_time": "2023-06-09T03:13:07.367Z"
   },
   {
    "duration": 61,
    "start_time": "2023-06-09T03:13:07.575Z"
   },
   {
    "duration": 104,
    "start_time": "2023-06-09T03:13:07.641Z"
   },
   {
    "duration": 11,
    "start_time": "2023-06-09T03:13:07.747Z"
   },
   {
    "duration": 86,
    "start_time": "2023-06-09T03:13:07.760Z"
   },
   {
    "duration": 9,
    "start_time": "2023-06-09T03:13:07.848Z"
   },
   {
    "duration": 31,
    "start_time": "2023-06-09T03:13:07.859Z"
   },
   {
    "duration": 46,
    "start_time": "2023-06-09T03:13:07.892Z"
   },
   {
    "duration": 14,
    "start_time": "2023-06-09T03:13:07.940Z"
   },
   {
    "duration": 39,
    "start_time": "2023-06-09T03:13:07.956Z"
   },
   {
    "duration": 7,
    "start_time": "2023-06-09T03:13:07.997Z"
   },
   {
    "duration": 11,
    "start_time": "2023-06-09T03:13:08.006Z"
   },
   {
    "duration": 20,
    "start_time": "2023-06-09T03:13:08.025Z"
   },
   {
    "duration": 9,
    "start_time": "2023-06-09T03:13:08.047Z"
   },
   {
    "duration": 34,
    "start_time": "2023-06-09T03:13:08.058Z"
   },
   {
    "duration": 79,
    "start_time": "2023-06-09T03:13:08.095Z"
   },
   {
    "duration": 28,
    "start_time": "2023-06-09T03:13:08.176Z"
   },
   {
    "duration": 97,
    "start_time": "2023-06-09T03:13:08.206Z"
   },
   {
    "duration": 47,
    "start_time": "2023-06-09T03:13:08.304Z"
   },
   {
    "duration": 118,
    "start_time": "2023-06-09T03:13:08.353Z"
   },
   {
    "duration": 31,
    "start_time": "2023-06-09T03:13:08.473Z"
   },
   {
    "duration": 81,
    "start_time": "2023-06-09T03:13:08.505Z"
   },
   {
    "duration": 33,
    "start_time": "2023-06-09T03:13:08.588Z"
   },
   {
    "duration": 60,
    "start_time": "2023-06-09T03:13:08.638Z"
   },
   {
    "duration": 103,
    "start_time": "2023-06-09T03:13:08.700Z"
   },
   {
    "duration": 215,
    "start_time": "2023-06-09T03:13:08.808Z"
   },
   {
    "duration": 59,
    "start_time": "2023-06-09T03:13:09.026Z"
   },
   {
    "duration": 8,
    "start_time": "2023-06-09T03:13:09.087Z"
   },
   {
    "duration": 65,
    "start_time": "2023-06-09T03:13:09.097Z"
   },
   {
    "duration": 146,
    "start_time": "2023-06-09T03:13:09.164Z"
   },
   {
    "duration": 105,
    "start_time": "2023-06-09T03:13:09.312Z"
   },
   {
    "duration": 29,
    "start_time": "2023-06-09T03:13:09.430Z"
   },
   {
    "duration": 59,
    "start_time": "2023-06-09T03:13:09.462Z"
   },
   {
    "duration": 0,
    "start_time": "2023-06-09T03:13:09.523Z"
   },
   {
    "duration": 0,
    "start_time": "2023-06-09T03:13:09.525Z"
   },
   {
    "duration": 0,
    "start_time": "2023-06-09T03:13:09.526Z"
   },
   {
    "duration": 0,
    "start_time": "2023-06-09T03:13:09.530Z"
   },
   {
    "duration": 0,
    "start_time": "2023-06-09T03:13:09.531Z"
   },
   {
    "duration": 0,
    "start_time": "2023-06-09T03:13:09.534Z"
   },
   {
    "duration": 0,
    "start_time": "2023-06-09T03:13:09.535Z"
   },
   {
    "duration": 0,
    "start_time": "2023-06-09T03:13:09.536Z"
   },
   {
    "duration": 0,
    "start_time": "2023-06-09T03:13:09.538Z"
   },
   {
    "duration": 0,
    "start_time": "2023-06-09T03:13:09.539Z"
   },
   {
    "duration": 0,
    "start_time": "2023-06-09T03:13:09.540Z"
   },
   {
    "duration": 0,
    "start_time": "2023-06-09T03:13:09.542Z"
   },
   {
    "duration": 0,
    "start_time": "2023-06-09T03:13:09.543Z"
   },
   {
    "duration": 0,
    "start_time": "2023-06-09T03:13:09.545Z"
   },
   {
    "duration": 0,
    "start_time": "2023-06-09T03:13:09.547Z"
   },
   {
    "duration": 0,
    "start_time": "2023-06-09T03:13:09.548Z"
   },
   {
    "duration": 0,
    "start_time": "2023-06-09T03:13:09.549Z"
   },
   {
    "duration": 0,
    "start_time": "2023-06-09T03:13:09.550Z"
   },
   {
    "duration": 0,
    "start_time": "2023-06-09T03:13:09.552Z"
   },
   {
    "duration": 0,
    "start_time": "2023-06-09T03:13:09.553Z"
   },
   {
    "duration": 104,
    "start_time": "2023-06-09T03:14:17.752Z"
   },
   {
    "duration": 9,
    "start_time": "2023-06-09T03:21:33.248Z"
   },
   {
    "duration": 8,
    "start_time": "2023-06-09T03:21:45.576Z"
   },
   {
    "duration": 13,
    "start_time": "2023-06-09T03:21:52.421Z"
   },
   {
    "duration": 6,
    "start_time": "2023-06-09T03:22:41.282Z"
   },
   {
    "duration": 56,
    "start_time": "2023-06-09T03:22:46.052Z"
   },
   {
    "duration": 8,
    "start_time": "2023-06-09T03:22:47.794Z"
   },
   {
    "duration": 25,
    "start_time": "2023-06-09T03:25:24.781Z"
   },
   {
    "duration": 139,
    "start_time": "2023-06-09T03:25:25.411Z"
   },
   {
    "duration": 62,
    "start_time": "2023-06-09T03:25:26.115Z"
   },
   {
    "duration": 796,
    "start_time": "2023-06-09T03:25:26.743Z"
   },
   {
    "duration": 157,
    "start_time": "2023-06-09T03:25:28.544Z"
   },
   {
    "duration": 29,
    "start_time": "2023-06-09T03:25:34.213Z"
   },
   {
    "duration": 31,
    "start_time": "2023-06-09T03:25:43.542Z"
   },
   {
    "duration": 113,
    "start_time": "2023-06-09T03:29:07.564Z"
   },
   {
    "duration": 4,
    "start_time": "2023-06-09T03:31:14.178Z"
   },
   {
    "duration": 26,
    "start_time": "2023-06-09T03:35:57.476Z"
   },
   {
    "duration": 208,
    "start_time": "2023-06-09T03:37:58.515Z"
   },
   {
    "duration": 238,
    "start_time": "2023-06-09T03:42:09.884Z"
   },
   {
    "duration": 51,
    "start_time": "2023-06-09T03:43:35.766Z"
   },
   {
    "duration": 5,
    "start_time": "2023-06-09T03:43:50.279Z"
   },
   {
    "duration": 6,
    "start_time": "2023-06-09T03:44:56.088Z"
   },
   {
    "duration": 26,
    "start_time": "2023-06-09T03:46:16.123Z"
   },
   {
    "duration": 18,
    "start_time": "2023-06-09T03:46:52.863Z"
   },
   {
    "duration": 22,
    "start_time": "2023-06-09T03:47:09.551Z"
   },
   {
    "duration": 3625,
    "start_time": "2023-06-09T03:47:35.774Z"
   },
   {
    "duration": 100,
    "start_time": "2023-06-09T03:47:40.573Z"
   },
   {
    "duration": 27,
    "start_time": "2023-06-09T03:47:48.681Z"
   },
   {
    "duration": 71,
    "start_time": "2023-06-09T03:48:18.863Z"
   },
   {
    "duration": 41,
    "start_time": "2023-06-09T03:48:30.504Z"
   },
   {
    "duration": 3487,
    "start_time": "2023-06-09T03:48:41.148Z"
   },
   {
    "duration": 20,
    "start_time": "2023-06-09T03:48:48.668Z"
   },
   {
    "duration": 3440,
    "start_time": "2023-06-09T03:51:57.978Z"
   },
   {
    "duration": 36,
    "start_time": "2023-06-09T03:52:02.039Z"
   },
   {
    "duration": 33,
    "start_time": "2023-06-09T03:52:02.291Z"
   },
   {
    "duration": 23,
    "start_time": "2023-06-09T03:52:02.517Z"
   },
   {
    "duration": 22,
    "start_time": "2023-06-09T03:52:02.753Z"
   },
   {
    "duration": 4,
    "start_time": "2023-06-09T03:52:03.305Z"
   },
   {
    "duration": 24,
    "start_time": "2023-06-09T03:52:32.186Z"
   },
   {
    "duration": 3945,
    "start_time": "2023-06-09T03:59:52.913Z"
   },
   {
    "duration": 36,
    "start_time": "2023-06-09T03:59:56.860Z"
   },
   {
    "duration": 6,
    "start_time": "2023-06-09T04:00:02.191Z"
   },
   {
    "duration": 16,
    "start_time": "2023-06-09T04:00:25.514Z"
   },
   {
    "duration": 6,
    "start_time": "2023-06-09T04:00:42.746Z"
   },
   {
    "duration": 28,
    "start_time": "2023-06-09T04:01:18.886Z"
   },
   {
    "duration": 30,
    "start_time": "2023-06-09T04:01:28.811Z"
   },
   {
    "duration": 3045,
    "start_time": "2023-06-09T04:10:02.276Z"
   },
   {
    "duration": 1889,
    "start_time": "2023-06-09T04:10:05.323Z"
   },
   {
    "duration": 5,
    "start_time": "2023-06-09T04:10:07.214Z"
   },
   {
    "duration": 152,
    "start_time": "2023-06-09T04:10:07.225Z"
   },
   {
    "duration": 0,
    "start_time": "2023-06-09T04:10:07.382Z"
   },
   {
    "duration": 0,
    "start_time": "2023-06-09T04:10:07.383Z"
   },
   {
    "duration": 0,
    "start_time": "2023-06-09T04:10:07.385Z"
   },
   {
    "duration": 0,
    "start_time": "2023-06-09T04:10:07.389Z"
   },
   {
    "duration": 0,
    "start_time": "2023-06-09T04:10:07.390Z"
   },
   {
    "duration": 0,
    "start_time": "2023-06-09T04:10:07.393Z"
   },
   {
    "duration": 0,
    "start_time": "2023-06-09T04:10:07.395Z"
   },
   {
    "duration": 0,
    "start_time": "2023-06-09T04:10:07.396Z"
   },
   {
    "duration": 0,
    "start_time": "2023-06-09T04:10:07.398Z"
   },
   {
    "duration": 0,
    "start_time": "2023-06-09T04:10:07.400Z"
   },
   {
    "duration": 0,
    "start_time": "2023-06-09T04:10:07.401Z"
   },
   {
    "duration": 0,
    "start_time": "2023-06-09T04:10:07.428Z"
   },
   {
    "duration": 0,
    "start_time": "2023-06-09T04:10:07.429Z"
   },
   {
    "duration": 0,
    "start_time": "2023-06-09T04:10:07.431Z"
   },
   {
    "duration": 0,
    "start_time": "2023-06-09T04:10:07.432Z"
   },
   {
    "duration": 0,
    "start_time": "2023-06-09T04:10:07.433Z"
   },
   {
    "duration": 0,
    "start_time": "2023-06-09T04:10:07.435Z"
   },
   {
    "duration": 0,
    "start_time": "2023-06-09T04:10:07.436Z"
   },
   {
    "duration": 0,
    "start_time": "2023-06-09T04:10:07.437Z"
   },
   {
    "duration": 0,
    "start_time": "2023-06-09T04:10:07.439Z"
   },
   {
    "duration": 0,
    "start_time": "2023-06-09T04:10:07.440Z"
   },
   {
    "duration": 0,
    "start_time": "2023-06-09T04:10:07.441Z"
   },
   {
    "duration": 0,
    "start_time": "2023-06-09T04:10:07.443Z"
   },
   {
    "duration": 0,
    "start_time": "2023-06-09T04:10:07.444Z"
   },
   {
    "duration": 0,
    "start_time": "2023-06-09T04:10:07.445Z"
   },
   {
    "duration": 0,
    "start_time": "2023-06-09T04:10:07.447Z"
   },
   {
    "duration": 0,
    "start_time": "2023-06-09T04:10:07.448Z"
   },
   {
    "duration": 0,
    "start_time": "2023-06-09T04:10:07.449Z"
   },
   {
    "duration": 1,
    "start_time": "2023-06-09T04:10:07.450Z"
   },
   {
    "duration": 0,
    "start_time": "2023-06-09T04:10:07.452Z"
   },
   {
    "duration": 0,
    "start_time": "2023-06-09T04:10:07.454Z"
   },
   {
    "duration": 0,
    "start_time": "2023-06-09T04:10:07.454Z"
   },
   {
    "duration": 0,
    "start_time": "2023-06-09T04:10:07.455Z"
   },
   {
    "duration": 0,
    "start_time": "2023-06-09T04:10:07.457Z"
   },
   {
    "duration": 0,
    "start_time": "2023-06-09T04:10:07.459Z"
   },
   {
    "duration": 0,
    "start_time": "2023-06-09T04:10:07.461Z"
   },
   {
    "duration": 0,
    "start_time": "2023-06-09T04:10:07.462Z"
   },
   {
    "duration": 0,
    "start_time": "2023-06-09T04:10:07.464Z"
   },
   {
    "duration": 0,
    "start_time": "2023-06-09T04:10:07.465Z"
   },
   {
    "duration": 0,
    "start_time": "2023-06-09T04:10:07.467Z"
   },
   {
    "duration": 0,
    "start_time": "2023-06-09T04:10:07.469Z"
   },
   {
    "duration": 0,
    "start_time": "2023-06-09T04:10:07.470Z"
   },
   {
    "duration": 0,
    "start_time": "2023-06-09T04:10:07.471Z"
   },
   {
    "duration": 0,
    "start_time": "2023-06-09T04:10:07.473Z"
   },
   {
    "duration": 0,
    "start_time": "2023-06-09T04:10:07.525Z"
   },
   {
    "duration": 0,
    "start_time": "2023-06-09T04:10:07.532Z"
   },
   {
    "duration": 0,
    "start_time": "2023-06-09T04:10:07.534Z"
   },
   {
    "duration": 0,
    "start_time": "2023-06-09T04:10:07.537Z"
   },
   {
    "duration": 0,
    "start_time": "2023-06-09T04:10:07.538Z"
   },
   {
    "duration": 0,
    "start_time": "2023-06-09T04:10:07.539Z"
   },
   {
    "duration": 1,
    "start_time": "2023-06-09T04:10:07.539Z"
   },
   {
    "duration": 0,
    "start_time": "2023-06-09T04:10:07.540Z"
   },
   {
    "duration": 0,
    "start_time": "2023-06-09T04:10:07.541Z"
   },
   {
    "duration": 0,
    "start_time": "2023-06-09T04:10:07.542Z"
   },
   {
    "duration": 0,
    "start_time": "2023-06-09T04:10:07.547Z"
   },
   {
    "duration": 0,
    "start_time": "2023-06-09T04:10:07.549Z"
   },
   {
    "duration": 0,
    "start_time": "2023-06-09T04:10:07.553Z"
   },
   {
    "duration": 0,
    "start_time": "2023-06-09T04:10:07.556Z"
   },
   {
    "duration": 0,
    "start_time": "2023-06-09T04:10:07.558Z"
   },
   {
    "duration": 0,
    "start_time": "2023-06-09T04:10:07.560Z"
   },
   {
    "duration": 0,
    "start_time": "2023-06-09T04:10:07.567Z"
   },
   {
    "duration": 0,
    "start_time": "2023-06-09T04:10:07.569Z"
   },
   {
    "duration": 0,
    "start_time": "2023-06-09T04:10:07.570Z"
   },
   {
    "duration": 0,
    "start_time": "2023-06-09T04:10:07.571Z"
   },
   {
    "duration": 0,
    "start_time": "2023-06-09T04:10:07.573Z"
   },
   {
    "duration": 0,
    "start_time": "2023-06-09T04:10:07.574Z"
   },
   {
    "duration": 11,
    "start_time": "2023-06-09T04:11:12.563Z"
   },
   {
    "duration": 4407,
    "start_time": "2023-06-09T04:11:58.527Z"
   },
   {
    "duration": 1736,
    "start_time": "2023-06-09T04:12:02.937Z"
   },
   {
    "duration": 4,
    "start_time": "2023-06-09T04:12:04.675Z"
   },
   {
    "duration": 162,
    "start_time": "2023-06-09T04:12:04.681Z"
   },
   {
    "duration": 0,
    "start_time": "2023-06-09T04:12:04.848Z"
   },
   {
    "duration": 0,
    "start_time": "2023-06-09T04:12:04.850Z"
   },
   {
    "duration": 0,
    "start_time": "2023-06-09T04:12:04.852Z"
   },
   {
    "duration": 0,
    "start_time": "2023-06-09T04:12:04.853Z"
   },
   {
    "duration": 0,
    "start_time": "2023-06-09T04:12:04.855Z"
   },
   {
    "duration": 0,
    "start_time": "2023-06-09T04:12:04.857Z"
   },
   {
    "duration": 0,
    "start_time": "2023-06-09T04:12:04.858Z"
   },
   {
    "duration": 0,
    "start_time": "2023-06-09T04:12:04.859Z"
   },
   {
    "duration": 0,
    "start_time": "2023-06-09T04:12:04.860Z"
   },
   {
    "duration": 0,
    "start_time": "2023-06-09T04:12:04.862Z"
   },
   {
    "duration": 0,
    "start_time": "2023-06-09T04:12:04.863Z"
   },
   {
    "duration": 0,
    "start_time": "2023-06-09T04:12:04.865Z"
   },
   {
    "duration": 0,
    "start_time": "2023-06-09T04:12:04.866Z"
   },
   {
    "duration": 0,
    "start_time": "2023-06-09T04:12:04.868Z"
   },
   {
    "duration": 0,
    "start_time": "2023-06-09T04:12:04.869Z"
   },
   {
    "duration": 0,
    "start_time": "2023-06-09T04:12:04.871Z"
   },
   {
    "duration": 0,
    "start_time": "2023-06-09T04:12:04.872Z"
   },
   {
    "duration": 0,
    "start_time": "2023-06-09T04:12:04.873Z"
   },
   {
    "duration": 0,
    "start_time": "2023-06-09T04:12:04.874Z"
   },
   {
    "duration": 0,
    "start_time": "2023-06-09T04:12:04.876Z"
   },
   {
    "duration": 0,
    "start_time": "2023-06-09T04:12:04.878Z"
   },
   {
    "duration": 0,
    "start_time": "2023-06-09T04:12:04.879Z"
   },
   {
    "duration": 0,
    "start_time": "2023-06-09T04:12:04.881Z"
   },
   {
    "duration": 0,
    "start_time": "2023-06-09T04:12:04.931Z"
   },
   {
    "duration": 0,
    "start_time": "2023-06-09T04:12:04.935Z"
   },
   {
    "duration": 0,
    "start_time": "2023-06-09T04:12:04.937Z"
   },
   {
    "duration": 0,
    "start_time": "2023-06-09T04:12:04.938Z"
   },
   {
    "duration": 0,
    "start_time": "2023-06-09T04:12:04.939Z"
   },
   {
    "duration": 0,
    "start_time": "2023-06-09T04:12:04.941Z"
   },
   {
    "duration": 0,
    "start_time": "2023-06-09T04:12:04.942Z"
   },
   {
    "duration": 0,
    "start_time": "2023-06-09T04:12:04.943Z"
   },
   {
    "duration": 0,
    "start_time": "2023-06-09T04:12:04.944Z"
   },
   {
    "duration": 0,
    "start_time": "2023-06-09T04:12:04.946Z"
   },
   {
    "duration": 0,
    "start_time": "2023-06-09T04:12:04.947Z"
   },
   {
    "duration": 0,
    "start_time": "2023-06-09T04:12:04.948Z"
   },
   {
    "duration": 0,
    "start_time": "2023-06-09T04:12:04.949Z"
   },
   {
    "duration": 0,
    "start_time": "2023-06-09T04:12:04.950Z"
   },
   {
    "duration": 0,
    "start_time": "2023-06-09T04:12:04.955Z"
   },
   {
    "duration": 0,
    "start_time": "2023-06-09T04:12:04.956Z"
   },
   {
    "duration": 0,
    "start_time": "2023-06-09T04:12:04.958Z"
   },
   {
    "duration": 0,
    "start_time": "2023-06-09T04:12:04.960Z"
   },
   {
    "duration": 0,
    "start_time": "2023-06-09T04:12:04.961Z"
   },
   {
    "duration": 0,
    "start_time": "2023-06-09T04:12:04.963Z"
   },
   {
    "duration": 0,
    "start_time": "2023-06-09T04:12:04.965Z"
   },
   {
    "duration": 0,
    "start_time": "2023-06-09T04:12:04.966Z"
   },
   {
    "duration": 0,
    "start_time": "2023-06-09T04:12:04.968Z"
   },
   {
    "duration": 0,
    "start_time": "2023-06-09T04:12:04.969Z"
   },
   {
    "duration": 0,
    "start_time": "2023-06-09T04:12:04.970Z"
   },
   {
    "duration": 0,
    "start_time": "2023-06-09T04:12:04.971Z"
   },
   {
    "duration": 0,
    "start_time": "2023-06-09T04:12:04.972Z"
   },
   {
    "duration": 0,
    "start_time": "2023-06-09T04:12:04.974Z"
   },
   {
    "duration": 0,
    "start_time": "2023-06-09T04:12:04.976Z"
   },
   {
    "duration": 0,
    "start_time": "2023-06-09T04:12:05.025Z"
   },
   {
    "duration": 0,
    "start_time": "2023-06-09T04:12:05.026Z"
   },
   {
    "duration": 0,
    "start_time": "2023-06-09T04:12:05.027Z"
   },
   {
    "duration": 0,
    "start_time": "2023-06-09T04:12:05.027Z"
   },
   {
    "duration": 0,
    "start_time": "2023-06-09T04:12:05.028Z"
   },
   {
    "duration": 0,
    "start_time": "2023-06-09T04:12:05.029Z"
   },
   {
    "duration": 0,
    "start_time": "2023-06-09T04:12:05.029Z"
   },
   {
    "duration": 0,
    "start_time": "2023-06-09T04:12:05.030Z"
   },
   {
    "duration": 0,
    "start_time": "2023-06-09T04:12:05.031Z"
   },
   {
    "duration": 0,
    "start_time": "2023-06-09T04:12:05.031Z"
   },
   {
    "duration": 0,
    "start_time": "2023-06-09T04:12:05.032Z"
   },
   {
    "duration": 0,
    "start_time": "2023-06-09T04:12:05.033Z"
   },
   {
    "duration": 0,
    "start_time": "2023-06-09T04:12:05.036Z"
   },
   {
    "duration": 0,
    "start_time": "2023-06-09T04:12:05.037Z"
   },
   {
    "duration": 210,
    "start_time": "2023-06-09T04:12:43.165Z"
   },
   {
    "duration": 4,
    "start_time": "2023-06-09T04:12:44.070Z"
   },
   {
    "duration": 6529,
    "start_time": "2023-06-09T04:12:44.645Z"
   },
   {
    "duration": 2598,
    "start_time": "2023-06-09T04:12:53.318Z"
   },
   {
    "duration": 1952,
    "start_time": "2023-06-09T04:12:55.918Z"
   },
   {
    "duration": 4,
    "start_time": "2023-06-09T04:12:57.872Z"
   },
   {
    "duration": 6941,
    "start_time": "2023-06-09T04:12:57.878Z"
   },
   {
    "duration": 9,
    "start_time": "2023-06-09T04:13:04.822Z"
   },
   {
    "duration": 93,
    "start_time": "2023-06-09T04:13:04.840Z"
   },
   {
    "duration": 32,
    "start_time": "2023-06-09T04:13:04.935Z"
   },
   {
    "duration": 12,
    "start_time": "2023-06-09T04:13:04.969Z"
   },
   {
    "duration": 16,
    "start_time": "2023-06-09T04:13:04.982Z"
   },
   {
    "duration": 451,
    "start_time": "2023-06-09T04:13:05.000Z"
   },
   {
    "duration": 12149,
    "start_time": "2023-06-09T04:13:05.453Z"
   },
   {
    "duration": 4733,
    "start_time": "2023-06-09T04:13:17.604Z"
   },
   {
    "duration": 1615,
    "start_time": "2023-06-09T04:13:22.340Z"
   },
   {
    "duration": 116,
    "start_time": "2023-06-09T04:13:23.960Z"
   },
   {
    "duration": 243,
    "start_time": "2023-06-09T04:13:24.078Z"
   },
   {
    "duration": 249,
    "start_time": "2023-06-09T04:13:24.325Z"
   },
   {
    "duration": 220,
    "start_time": "2023-06-09T04:13:24.576Z"
   },
   {
    "duration": 50,
    "start_time": "2023-06-09T04:13:24.798Z"
   },
   {
    "duration": 120,
    "start_time": "2023-06-09T04:13:24.850Z"
   },
   {
    "duration": 8,
    "start_time": "2023-06-09T04:13:24.972Z"
   },
   {
    "duration": 104,
    "start_time": "2023-06-09T04:13:24.982Z"
   },
   {
    "duration": 7,
    "start_time": "2023-06-09T04:13:25.088Z"
   },
   {
    "duration": 33,
    "start_time": "2023-06-09T04:13:25.096Z"
   },
   {
    "duration": 28,
    "start_time": "2023-06-09T04:13:25.139Z"
   },
   {
    "duration": 15,
    "start_time": "2023-06-09T04:13:25.169Z"
   },
   {
    "duration": 36,
    "start_time": "2023-06-09T04:13:25.186Z"
   },
   {
    "duration": 19,
    "start_time": "2023-06-09T04:13:25.236Z"
   },
   {
    "duration": 8,
    "start_time": "2023-06-09T04:13:25.257Z"
   },
   {
    "duration": 8,
    "start_time": "2023-06-09T04:13:25.267Z"
   },
   {
    "duration": 18,
    "start_time": "2023-06-09T04:13:25.277Z"
   },
   {
    "duration": 42,
    "start_time": "2023-06-09T04:13:25.297Z"
   },
   {
    "duration": 70,
    "start_time": "2023-06-09T04:13:25.341Z"
   },
   {
    "duration": 39,
    "start_time": "2023-06-09T04:13:25.413Z"
   },
   {
    "duration": 43,
    "start_time": "2023-06-09T04:13:25.454Z"
   },
   {
    "duration": 46,
    "start_time": "2023-06-09T04:13:25.499Z"
   },
   {
    "duration": 58,
    "start_time": "2023-06-09T04:13:25.552Z"
   },
   {
    "duration": 53,
    "start_time": "2023-06-09T04:13:25.612Z"
   },
   {
    "duration": 77,
    "start_time": "2023-06-09T04:13:25.667Z"
   },
   {
    "duration": 34,
    "start_time": "2023-06-09T04:13:25.746Z"
   },
   {
    "duration": 90,
    "start_time": "2023-06-09T04:13:25.782Z"
   },
   {
    "duration": 91,
    "start_time": "2023-06-09T04:13:25.878Z"
   },
   {
    "duration": 203,
    "start_time": "2023-06-09T04:13:25.971Z"
   },
   {
    "duration": 60,
    "start_time": "2023-06-09T04:13:26.176Z"
   },
   {
    "duration": 9,
    "start_time": "2023-06-09T04:13:26.238Z"
   },
   {
    "duration": 45,
    "start_time": "2023-06-09T04:13:26.253Z"
   },
   {
    "duration": 139,
    "start_time": "2023-06-09T04:13:26.299Z"
   },
   {
    "duration": 107,
    "start_time": "2023-06-09T04:13:26.440Z"
   },
   {
    "duration": 26,
    "start_time": "2023-06-09T04:13:26.549Z"
   },
   {
    "duration": 111,
    "start_time": "2023-06-09T04:13:26.577Z"
   },
   {
    "duration": 6,
    "start_time": "2023-06-09T04:13:26.691Z"
   },
   {
    "duration": 190,
    "start_time": "2023-06-09T04:13:26.699Z"
   },
   {
    "duration": 3,
    "start_time": "2023-06-09T04:13:26.891Z"
   },
   {
    "duration": 59,
    "start_time": "2023-06-09T04:13:26.896Z"
   },
   {
    "duration": 3822,
    "start_time": "2023-06-09T04:13:26.956Z"
   },
   {
    "duration": 33,
    "start_time": "2023-06-09T04:13:30.780Z"
   },
   {
    "duration": 42,
    "start_time": "2023-06-09T04:13:30.815Z"
   },
   {
    "duration": 36,
    "start_time": "2023-06-09T04:13:30.859Z"
   },
   {
    "duration": 41,
    "start_time": "2023-06-09T04:13:30.897Z"
   },
   {
    "duration": 20,
    "start_time": "2023-06-09T04:13:30.940Z"
   },
   {
    "duration": 236,
    "start_time": "2023-06-09T04:13:30.962Z"
   },
   {
    "duration": 17665,
    "start_time": "2023-06-09T04:13:31.200Z"
   },
   {
    "duration": 3442,
    "start_time": "2023-06-09T04:14:22.575Z"
   },
   {
    "duration": 2542,
    "start_time": "2023-06-09T04:14:26.020Z"
   },
   {
    "duration": 4,
    "start_time": "2023-06-09T04:14:28.564Z"
   },
   {
    "duration": 10079,
    "start_time": "2023-06-09T04:14:28.570Z"
   },
   {
    "duration": 12,
    "start_time": "2023-06-09T04:14:38.659Z"
   },
   {
    "duration": 60,
    "start_time": "2023-06-09T04:14:38.677Z"
   },
   {
    "duration": 53,
    "start_time": "2023-06-09T04:14:38.739Z"
   },
   {
    "duration": 12,
    "start_time": "2023-06-09T04:14:38.793Z"
   },
   {
    "duration": 19,
    "start_time": "2023-06-09T04:14:38.807Z"
   },
   {
    "duration": 539,
    "start_time": "2023-06-09T04:14:38.828Z"
   },
   {
    "duration": 8514,
    "start_time": "2023-06-09T04:14:39.371Z"
   },
   {
    "duration": 4702,
    "start_time": "2023-06-09T04:14:47.894Z"
   },
   {
    "duration": 1788,
    "start_time": "2023-06-09T04:14:52.598Z"
   },
   {
    "duration": 167,
    "start_time": "2023-06-09T04:14:54.391Z"
   },
   {
    "duration": 308,
    "start_time": "2023-06-09T04:14:54.585Z"
   },
   {
    "duration": 334,
    "start_time": "2023-06-09T04:14:54.895Z"
   },
   {
    "duration": 271,
    "start_time": "2023-06-09T04:14:55.231Z"
   },
   {
    "duration": 43,
    "start_time": "2023-06-09T04:14:55.504Z"
   },
   {
    "duration": 151,
    "start_time": "2023-06-09T04:14:55.549Z"
   },
   {
    "duration": 8,
    "start_time": "2023-06-09T04:14:55.702Z"
   },
   {
    "duration": 122,
    "start_time": "2023-06-09T04:14:55.712Z"
   },
   {
    "duration": 17,
    "start_time": "2023-06-09T04:14:55.836Z"
   },
   {
    "duration": 41,
    "start_time": "2023-06-09T04:14:55.856Z"
   },
   {
    "duration": 52,
    "start_time": "2023-06-09T04:14:55.900Z"
   },
   {
    "duration": 30,
    "start_time": "2023-06-09T04:14:55.955Z"
   },
   {
    "duration": 68,
    "start_time": "2023-06-09T04:14:55.987Z"
   },
   {
    "duration": 10,
    "start_time": "2023-06-09T04:14:56.061Z"
   },
   {
    "duration": 10,
    "start_time": "2023-06-09T04:14:56.074Z"
   },
   {
    "duration": 26,
    "start_time": "2023-06-09T04:14:56.087Z"
   },
   {
    "duration": 22,
    "start_time": "2023-06-09T04:14:56.115Z"
   },
   {
    "duration": 52,
    "start_time": "2023-06-09T04:14:56.139Z"
   },
   {
    "duration": 107,
    "start_time": "2023-06-09T04:14:56.193Z"
   },
   {
    "duration": 43,
    "start_time": "2023-06-09T04:14:56.303Z"
   },
   {
    "duration": 69,
    "start_time": "2023-06-09T04:14:56.350Z"
   },
   {
    "duration": 40,
    "start_time": "2023-06-09T04:14:56.420Z"
   },
   {
    "duration": 74,
    "start_time": "2023-06-09T04:14:56.463Z"
   },
   {
    "duration": 53,
    "start_time": "2023-06-09T04:14:56.539Z"
   },
   {
    "duration": 73,
    "start_time": "2023-06-09T04:14:56.594Z"
   },
   {
    "duration": 38,
    "start_time": "2023-06-09T04:14:56.671Z"
   },
   {
    "duration": 88,
    "start_time": "2023-06-09T04:14:56.711Z"
   },
   {
    "duration": 130,
    "start_time": "2023-06-09T04:14:56.806Z"
   },
   {
    "duration": 280,
    "start_time": "2023-06-09T04:14:56.938Z"
   },
   {
    "duration": 84,
    "start_time": "2023-06-09T04:14:57.228Z"
   },
   {
    "duration": 7,
    "start_time": "2023-06-09T04:14:57.314Z"
   },
   {
    "duration": 65,
    "start_time": "2023-06-09T04:14:57.322Z"
   },
   {
    "duration": 196,
    "start_time": "2023-06-09T04:14:57.389Z"
   },
   {
    "duration": 124,
    "start_time": "2023-06-09T04:14:57.587Z"
   },
   {
    "duration": 35,
    "start_time": "2023-06-09T04:14:57.713Z"
   },
   {
    "duration": 125,
    "start_time": "2023-06-09T04:14:57.753Z"
   },
   {
    "duration": 10,
    "start_time": "2023-06-09T04:14:57.881Z"
   },
   {
    "duration": 237,
    "start_time": "2023-06-09T04:14:57.894Z"
   },
   {
    "duration": 5,
    "start_time": "2023-06-09T04:14:58.135Z"
   },
   {
    "duration": 54,
    "start_time": "2023-06-09T04:14:58.142Z"
   },
   {
    "duration": 4915,
    "start_time": "2023-06-09T04:14:58.198Z"
   },
   {
    "duration": 53,
    "start_time": "2023-06-09T04:15:03.115Z"
   },
   {
    "duration": 6,
    "start_time": "2023-06-09T04:15:03.179Z"
   },
   {
    "duration": 35,
    "start_time": "2023-06-09T04:15:03.187Z"
   },
   {
    "duration": 25,
    "start_time": "2023-06-09T04:15:03.224Z"
   },
   {
    "duration": 26,
    "start_time": "2023-06-09T04:15:03.251Z"
   },
   {
    "duration": 1241,
    "start_time": "2023-06-09T04:15:03.282Z"
   },
   {
    "duration": 19913,
    "start_time": "2023-06-09T04:15:04.529Z"
   },
   {
    "duration": 688191,
    "start_time": "2023-06-09T04:15:24.445Z"
   },
   {
    "duration": 8,
    "start_time": "2023-06-09T04:26:52.644Z"
   },
   {
    "duration": 175,
    "start_time": "2023-06-09T04:26:52.655Z"
   },
   {
    "duration": 0,
    "start_time": "2023-06-09T04:26:52.832Z"
   },
   {
    "duration": 0,
    "start_time": "2023-06-09T04:26:52.833Z"
   },
   {
    "duration": 0,
    "start_time": "2023-06-09T04:26:52.834Z"
   },
   {
    "duration": 0,
    "start_time": "2023-06-09T04:26:52.835Z"
   },
   {
    "duration": 0,
    "start_time": "2023-06-09T04:26:52.837Z"
   },
   {
    "duration": 0,
    "start_time": "2023-06-09T04:26:52.838Z"
   },
   {
    "duration": 60,
    "start_time": "2023-06-09T04:36:37.089Z"
   },
   {
    "duration": 0,
    "start_time": "2023-06-09T04:36:58.661Z"
   },
   {
    "duration": 17643,
    "start_time": "2023-06-09T04:37:15.568Z"
   },
   {
    "duration": 6,
    "start_time": "2023-06-09T04:39:08.874Z"
   },
   {
    "duration": 16916,
    "start_time": "2023-06-09T04:39:18.226Z"
   },
   {
    "duration": 15,
    "start_time": "2023-06-09T04:41:08.668Z"
   },
   {
    "duration": 1906,
    "start_time": "2023-06-09T04:41:31.077Z"
   },
   {
    "duration": 378,
    "start_time": "2023-06-09T04:42:03.849Z"
   },
   {
    "duration": 6,
    "start_time": "2023-06-09T04:42:13.493Z"
   },
   {
    "duration": 15,
    "start_time": "2023-06-09T04:46:17.669Z"
   },
   {
    "duration": 12,
    "start_time": "2023-06-09T04:47:03.803Z"
   },
   {
    "duration": 20,
    "start_time": "2023-06-09T04:47:08.359Z"
   },
   {
    "duration": 330,
    "start_time": "2023-06-09T04:49:35.186Z"
   },
   {
    "duration": 314,
    "start_time": "2023-06-09T04:49:55.000Z"
   },
   {
    "duration": 15,
    "start_time": "2023-06-09T04:54:09.938Z"
   },
   {
    "duration": 16,
    "start_time": "2023-06-09T04:56:52.586Z"
   },
   {
    "duration": 4301,
    "start_time": "2023-06-09T04:57:09.547Z"
   },
   {
    "duration": 2522,
    "start_time": "2023-06-09T04:57:13.852Z"
   },
   {
    "duration": 21,
    "start_time": "2023-06-09T04:59:00.244Z"
   },
   {
    "duration": 13,
    "start_time": "2023-06-09T05:00:23.543Z"
   },
   {
    "duration": 12,
    "start_time": "2023-06-09T05:00:34.607Z"
   },
   {
    "duration": 12,
    "start_time": "2023-06-09T05:00:52.008Z"
   },
   {
    "duration": 15,
    "start_time": "2023-06-09T05:00:59.092Z"
   },
   {
    "duration": 12,
    "start_time": "2023-06-09T05:02:34.062Z"
   },
   {
    "duration": 14,
    "start_time": "2023-06-09T05:02:49.686Z"
   },
   {
    "duration": 21,
    "start_time": "2023-06-09T05:03:18.625Z"
   },
   {
    "duration": 3324,
    "start_time": "2023-06-09T05:04:34.110Z"
   },
   {
    "duration": 98,
    "start_time": "2023-06-09T05:04:42.700Z"
   },
   {
    "duration": 17,
    "start_time": "2023-06-09T05:06:12.881Z"
   },
   {
    "duration": 48,
    "start_time": "2023-06-09T05:07:37.324Z"
   },
   {
    "duration": 15,
    "start_time": "2023-06-09T05:07:52.775Z"
   },
   {
    "duration": 268,
    "start_time": "2023-06-09T05:09:08.768Z"
   },
   {
    "duration": 44,
    "start_time": "2023-06-09T05:10:16.523Z"
   },
   {
    "duration": 5,
    "start_time": "2023-06-09T05:11:59.286Z"
   },
   {
    "duration": 4,
    "start_time": "2023-06-09T05:12:08.401Z"
   },
   {
    "duration": 14,
    "start_time": "2023-06-09T05:12:23.607Z"
   },
   {
    "duration": 357,
    "start_time": "2023-06-09T05:25:03.019Z"
   },
   {
    "duration": 20,
    "start_time": "2023-06-09T05:27:06.243Z"
   },
   {
    "duration": 5,
    "start_time": "2023-06-09T05:27:12.257Z"
   },
   {
    "duration": 175,
    "start_time": "2023-06-09T05:27:44.013Z"
   },
   {
    "duration": 17,
    "start_time": "2023-06-09T05:28:17.762Z"
   },
   {
    "duration": 310,
    "start_time": "2023-06-09T05:28:59.004Z"
   },
   {
    "duration": 272,
    "start_time": "2023-06-09T05:29:04.912Z"
   },
   {
    "duration": 16,
    "start_time": "2023-06-09T05:29:27.886Z"
   },
   {
    "duration": 34,
    "start_time": "2023-06-09T05:29:44.463Z"
   },
   {
    "duration": 48,
    "start_time": "2023-06-09T05:30:59.522Z"
   },
   {
    "duration": 214,
    "start_time": "2023-06-09T05:31:50.092Z"
   },
   {
    "duration": 281,
    "start_time": "2023-06-09T05:31:56.068Z"
   },
   {
    "duration": 286,
    "start_time": "2023-06-09T05:32:35.780Z"
   },
   {
    "duration": 224,
    "start_time": "2023-06-09T05:32:58.906Z"
   },
   {
    "duration": 12,
    "start_time": "2023-06-09T05:42:23.823Z"
   },
   {
    "duration": 208,
    "start_time": "2023-06-09T05:44:29.564Z"
   },
   {
    "duration": 177,
    "start_time": "2023-06-09T05:49:11.280Z"
   },
   {
    "duration": 199,
    "start_time": "2023-06-09T05:49:33.388Z"
   },
   {
    "duration": 205,
    "start_time": "2023-06-09T05:49:40.068Z"
   },
   {
    "duration": 10,
    "start_time": "2023-06-09T05:50:16.060Z"
   },
   {
    "duration": 14,
    "start_time": "2023-06-09T05:50:25.485Z"
   },
   {
    "duration": 3,
    "start_time": "2023-06-09T05:51:22.987Z"
   },
   {
    "duration": 4,
    "start_time": "2023-06-09T05:52:19.718Z"
   },
   {
    "duration": 9,
    "start_time": "2023-06-09T05:58:54.918Z"
   },
   {
    "duration": 96,
    "start_time": "2023-06-09T06:06:59.493Z"
   },
   {
    "duration": 3505,
    "start_time": "2023-06-09T06:09:15.585Z"
   },
   {
    "duration": 3219,
    "start_time": "2023-06-09T06:09:19.093Z"
   },
   {
    "duration": 3159,
    "start_time": "2023-06-09T06:09:22.314Z"
   },
   {
    "duration": 6,
    "start_time": "2023-06-09T06:09:25.490Z"
   },
   {
    "duration": 9412,
    "start_time": "2023-06-09T06:09:25.504Z"
   },
   {
    "duration": 4,
    "start_time": "2023-06-09T06:09:34.918Z"
   },
   {
    "duration": 140,
    "start_time": "2023-06-09T06:09:34.923Z"
   },
   {
    "duration": 36,
    "start_time": "2023-06-09T06:09:35.070Z"
   },
   {
    "duration": 13,
    "start_time": "2023-06-09T06:09:35.108Z"
   },
   {
    "duration": 72,
    "start_time": "2023-06-09T06:09:35.123Z"
   },
   {
    "duration": 487,
    "start_time": "2023-06-09T06:09:35.199Z"
   },
   {
    "duration": 7995,
    "start_time": "2023-06-09T06:09:35.690Z"
   },
   {
    "duration": 4580,
    "start_time": "2023-06-09T06:09:43.687Z"
   },
   {
    "duration": 1722,
    "start_time": "2023-06-09T06:09:48.279Z"
   },
   {
    "duration": 142,
    "start_time": "2023-06-09T06:09:50.002Z"
   },
   {
    "duration": 286,
    "start_time": "2023-06-09T06:09:50.146Z"
   },
   {
    "duration": 289,
    "start_time": "2023-06-09T06:09:50.434Z"
   },
   {
    "duration": 239,
    "start_time": "2023-06-09T06:09:50.735Z"
   },
   {
    "duration": 37,
    "start_time": "2023-06-09T06:09:50.975Z"
   },
   {
    "duration": 177,
    "start_time": "2023-06-09T06:09:51.014Z"
   },
   {
    "duration": 7,
    "start_time": "2023-06-09T06:09:51.193Z"
   },
   {
    "duration": 121,
    "start_time": "2023-06-09T06:09:51.202Z"
   },
   {
    "duration": 9,
    "start_time": "2023-06-09T06:09:51.324Z"
   },
   {
    "duration": 63,
    "start_time": "2023-06-09T06:09:51.335Z"
   },
   {
    "duration": 35,
    "start_time": "2023-06-09T06:09:51.400Z"
   },
   {
    "duration": 53,
    "start_time": "2023-06-09T06:09:51.437Z"
   },
   {
    "duration": 73,
    "start_time": "2023-06-09T06:09:51.492Z"
   },
   {
    "duration": 18,
    "start_time": "2023-06-09T06:09:51.571Z"
   },
   {
    "duration": 44,
    "start_time": "2023-06-09T06:09:51.591Z"
   },
   {
    "duration": 28,
    "start_time": "2023-06-09T06:09:51.637Z"
   },
   {
    "duration": 37,
    "start_time": "2023-06-09T06:09:51.667Z"
   },
   {
    "duration": 61,
    "start_time": "2023-06-09T06:09:51.707Z"
   },
   {
    "duration": 72,
    "start_time": "2023-06-09T06:09:51.776Z"
   },
   {
    "duration": 29,
    "start_time": "2023-06-09T06:09:51.853Z"
   },
   {
    "duration": 50,
    "start_time": "2023-06-09T06:09:51.884Z"
   },
   {
    "duration": 38,
    "start_time": "2023-06-09T06:09:51.936Z"
   },
   {
    "duration": 78,
    "start_time": "2023-06-09T06:09:51.977Z"
   },
   {
    "duration": 42,
    "start_time": "2023-06-09T06:09:52.058Z"
   },
   {
    "duration": 81,
    "start_time": "2023-06-09T06:09:52.103Z"
   },
   {
    "duration": 33,
    "start_time": "2023-06-09T06:09:52.189Z"
   },
   {
    "duration": 78,
    "start_time": "2023-06-09T06:09:52.229Z"
   },
   {
    "duration": 96,
    "start_time": "2023-06-09T06:09:52.309Z"
   },
   {
    "duration": 242,
    "start_time": "2023-06-09T06:09:52.407Z"
   },
   {
    "duration": 60,
    "start_time": "2023-06-09T06:09:52.651Z"
   },
   {
    "duration": 2,
    "start_time": "2023-06-09T06:09:52.713Z"
   },
   {
    "duration": 14,
    "start_time": "2023-06-09T06:09:52.726Z"
   },
   {
    "duration": 66,
    "start_time": "2023-06-09T06:09:52.746Z"
   },
   {
    "duration": 146,
    "start_time": "2023-06-09T06:09:52.814Z"
   },
   {
    "duration": 122,
    "start_time": "2023-06-09T06:09:52.964Z"
   },
   {
    "duration": 21,
    "start_time": "2023-06-09T06:09:53.092Z"
   },
   {
    "duration": 7,
    "start_time": "2023-06-09T06:09:53.115Z"
   },
   {
    "duration": 278,
    "start_time": "2023-06-09T06:09:53.135Z"
   },
   {
    "duration": 0,
    "start_time": "2023-06-09T06:09:53.416Z"
   },
   {
    "duration": 0,
    "start_time": "2023-06-09T06:09:53.417Z"
   },
   {
    "duration": 0,
    "start_time": "2023-06-09T06:09:53.420Z"
   },
   {
    "duration": 0,
    "start_time": "2023-06-09T06:09:53.422Z"
   },
   {
    "duration": 0,
    "start_time": "2023-06-09T06:09:53.423Z"
   },
   {
    "duration": 0,
    "start_time": "2023-06-09T06:09:53.434Z"
   },
   {
    "duration": 0,
    "start_time": "2023-06-09T06:09:53.435Z"
   },
   {
    "duration": 0,
    "start_time": "2023-06-09T06:09:53.442Z"
   },
   {
    "duration": 0,
    "start_time": "2023-06-09T06:09:53.444Z"
   },
   {
    "duration": 0,
    "start_time": "2023-06-09T06:09:53.446Z"
   },
   {
    "duration": 0,
    "start_time": "2023-06-09T06:09:53.447Z"
   },
   {
    "duration": 0,
    "start_time": "2023-06-09T06:09:53.449Z"
   },
   {
    "duration": 0,
    "start_time": "2023-06-09T06:09:53.451Z"
   },
   {
    "duration": 0,
    "start_time": "2023-06-09T06:09:53.452Z"
   },
   {
    "duration": 0,
    "start_time": "2023-06-09T06:09:53.456Z"
   },
   {
    "duration": 0,
    "start_time": "2023-06-09T06:09:53.458Z"
   },
   {
    "duration": 0,
    "start_time": "2023-06-09T06:09:53.461Z"
   },
   {
    "duration": 0,
    "start_time": "2023-06-09T06:09:53.462Z"
   },
   {
    "duration": 0,
    "start_time": "2023-06-09T06:09:53.464Z"
   },
   {
    "duration": 0,
    "start_time": "2023-06-09T06:09:53.465Z"
   },
   {
    "duration": 2978,
    "start_time": "2023-06-09T06:10:46.219Z"
   },
   {
    "duration": 2965,
    "start_time": "2023-06-09T06:10:49.199Z"
   },
   {
    "duration": 3297,
    "start_time": "2023-06-09T06:10:52.168Z"
   },
   {
    "duration": 9,
    "start_time": "2023-06-09T06:10:55.468Z"
   },
   {
    "duration": 9408,
    "start_time": "2023-06-09T06:10:55.486Z"
   },
   {
    "duration": 4,
    "start_time": "2023-06-09T06:11:04.896Z"
   },
   {
    "duration": 135,
    "start_time": "2023-06-09T06:11:04.902Z"
   },
   {
    "duration": 30,
    "start_time": "2023-06-09T06:11:05.039Z"
   },
   {
    "duration": 32,
    "start_time": "2023-06-09T06:11:05.072Z"
   },
   {
    "duration": 41,
    "start_time": "2023-06-09T06:11:05.109Z"
   },
   {
    "duration": 464,
    "start_time": "2023-06-09T06:11:05.152Z"
   },
   {
    "duration": 6804,
    "start_time": "2023-06-09T06:11:05.618Z"
   },
   {
    "duration": 4803,
    "start_time": "2023-06-09T06:11:12.425Z"
   },
   {
    "duration": 1872,
    "start_time": "2023-06-09T06:11:17.232Z"
   },
   {
    "duration": 153,
    "start_time": "2023-06-09T06:11:19.106Z"
   },
   {
    "duration": 330,
    "start_time": "2023-06-09T06:11:19.267Z"
   },
   {
    "duration": 315,
    "start_time": "2023-06-09T06:11:19.598Z"
   },
   {
    "duration": 287,
    "start_time": "2023-06-09T06:11:19.916Z"
   },
   {
    "duration": 59,
    "start_time": "2023-06-09T06:11:20.209Z"
   },
   {
    "duration": 157,
    "start_time": "2023-06-09T06:11:20.272Z"
   },
   {
    "duration": 11,
    "start_time": "2023-06-09T06:11:20.430Z"
   },
   {
    "duration": 112,
    "start_time": "2023-06-09T06:11:20.443Z"
   },
   {
    "duration": 13,
    "start_time": "2023-06-09T06:11:20.557Z"
   },
   {
    "duration": 49,
    "start_time": "2023-06-09T06:11:20.576Z"
   },
   {
    "duration": 41,
    "start_time": "2023-06-09T06:11:20.627Z"
   },
   {
    "duration": 36,
    "start_time": "2023-06-09T06:11:20.670Z"
   },
   {
    "duration": 80,
    "start_time": "2023-06-09T06:11:20.710Z"
   },
   {
    "duration": 22,
    "start_time": "2023-06-09T06:11:20.799Z"
   },
   {
    "duration": 12,
    "start_time": "2023-06-09T06:11:20.824Z"
   },
   {
    "duration": 29,
    "start_time": "2023-06-09T06:11:20.838Z"
   },
   {
    "duration": 30,
    "start_time": "2023-06-09T06:11:20.870Z"
   },
   {
    "duration": 59,
    "start_time": "2023-06-09T06:11:20.909Z"
   },
   {
    "duration": 119,
    "start_time": "2023-06-09T06:11:20.974Z"
   },
   {
    "duration": 42,
    "start_time": "2023-06-09T06:11:21.105Z"
   },
   {
    "duration": 100,
    "start_time": "2023-06-09T06:11:21.149Z"
   },
   {
    "duration": 45,
    "start_time": "2023-06-09T06:11:21.250Z"
   },
   {
    "duration": 84,
    "start_time": "2023-06-09T06:11:21.299Z"
   },
   {
    "duration": 36,
    "start_time": "2023-06-09T06:11:21.391Z"
   },
   {
    "duration": 88,
    "start_time": "2023-06-09T06:11:21.429Z"
   },
   {
    "duration": 44,
    "start_time": "2023-06-09T06:11:21.519Z"
   },
   {
    "duration": 96,
    "start_time": "2023-06-09T06:11:21.565Z"
   },
   {
    "duration": 121,
    "start_time": "2023-06-09T06:11:21.663Z"
   },
   {
    "duration": 257,
    "start_time": "2023-06-09T06:11:21.786Z"
   },
   {
    "duration": 64,
    "start_time": "2023-06-09T06:11:22.049Z"
   },
   {
    "duration": 3,
    "start_time": "2023-06-09T06:11:22.115Z"
   },
   {
    "duration": 51,
    "start_time": "2023-06-09T06:11:22.120Z"
   },
   {
    "duration": 57,
    "start_time": "2023-06-09T06:11:22.177Z"
   },
   {
    "duration": 175,
    "start_time": "2023-06-09T06:11:22.238Z"
   },
   {
    "duration": 129,
    "start_time": "2023-06-09T06:11:22.415Z"
   },
   {
    "duration": 26,
    "start_time": "2023-06-09T06:11:22.553Z"
   },
   {
    "duration": 12,
    "start_time": "2023-06-09T06:11:22.581Z"
   },
   {
    "duration": 203,
    "start_time": "2023-06-09T06:11:22.595Z"
   },
   {
    "duration": 8,
    "start_time": "2023-06-09T06:11:22.800Z"
   },
   {
    "duration": 66,
    "start_time": "2023-06-09T06:11:22.810Z"
   },
   {
    "duration": 3975,
    "start_time": "2023-06-09T06:11:22.878Z"
   },
   {
    "duration": 52,
    "start_time": "2023-06-09T06:11:26.861Z"
   },
   {
    "duration": 34,
    "start_time": "2023-06-09T06:11:26.915Z"
   },
   {
    "duration": 38,
    "start_time": "2023-06-09T06:11:26.951Z"
   },
   {
    "duration": 53,
    "start_time": "2023-06-09T06:11:26.994Z"
   },
   {
    "duration": 43,
    "start_time": "2023-06-09T06:11:27.050Z"
   },
   {
    "duration": 17,
    "start_time": "2023-06-09T06:11:27.095Z"
   },
   {
    "duration": 1198,
    "start_time": "2023-06-09T06:11:27.114Z"
   },
   {
    "duration": 21157,
    "start_time": "2023-06-09T06:11:28.315Z"
   },
   {
    "duration": 865743,
    "start_time": "2023-06-09T06:11:49.474Z"
   },
   {
    "duration": 3,
    "start_time": "2023-06-09T06:26:15.220Z"
   },
   {
    "duration": 27,
    "start_time": "2023-06-09T06:26:15.225Z"
   },
   {
    "duration": 21433,
    "start_time": "2023-06-09T06:26:15.257Z"
   },
   {
    "duration": 49,
    "start_time": "2023-06-09T06:26:36.699Z"
   },
   {
    "duration": 374,
    "start_time": "2023-06-09T06:26:36.750Z"
   },
   {
    "duration": 228,
    "start_time": "2023-06-09T06:26:37.127Z"
   },
   {
    "duration": 15,
    "start_time": "2023-06-09T06:26:37.362Z"
   },
   {
    "duration": 4202,
    "start_time": "2023-06-09T22:21:14.236Z"
   },
   {
    "duration": 2814,
    "start_time": "2023-06-09T22:21:18.441Z"
   },
   {
    "duration": 2850,
    "start_time": "2023-06-09T22:21:21.257Z"
   },
   {
    "duration": 4,
    "start_time": "2023-06-09T22:21:24.109Z"
   },
   {
    "duration": 12325,
    "start_time": "2023-06-09T22:21:24.114Z"
   },
   {
    "duration": 3,
    "start_time": "2023-06-09T22:21:36.441Z"
   },
   {
    "duration": 305,
    "start_time": "2023-06-09T22:21:36.445Z"
   },
   {
    "duration": 57,
    "start_time": "2023-06-09T22:21:36.752Z"
   },
   {
    "duration": 43,
    "start_time": "2023-06-09T22:21:36.810Z"
   },
   {
    "duration": 60,
    "start_time": "2023-06-09T22:21:36.855Z"
   },
   {
    "duration": 484,
    "start_time": "2023-06-09T22:21:36.917Z"
   },
   {
    "duration": 7846,
    "start_time": "2023-06-09T22:21:37.406Z"
   },
   {
    "duration": 4331,
    "start_time": "2023-06-09T22:21:45.254Z"
   },
   {
    "duration": 1471,
    "start_time": "2023-06-09T22:21:49.587Z"
   },
   {
    "duration": 94,
    "start_time": "2023-06-09T22:21:51.060Z"
   },
   {
    "duration": 190,
    "start_time": "2023-06-09T22:21:51.155Z"
   },
   {
    "duration": 195,
    "start_time": "2023-06-09T22:21:51.347Z"
   },
   {
    "duration": 202,
    "start_time": "2023-06-09T22:21:51.544Z"
   },
   {
    "duration": 46,
    "start_time": "2023-06-09T22:21:51.748Z"
   },
   {
    "duration": 99,
    "start_time": "2023-06-09T22:21:51.795Z"
   },
   {
    "duration": 9,
    "start_time": "2023-06-09T22:21:51.896Z"
   },
   {
    "duration": 68,
    "start_time": "2023-06-09T22:21:51.906Z"
   },
   {
    "duration": 7,
    "start_time": "2023-06-09T22:21:51.980Z"
   },
   {
    "duration": 38,
    "start_time": "2023-06-09T22:21:51.989Z"
   },
   {
    "duration": 21,
    "start_time": "2023-06-09T22:21:52.028Z"
   },
   {
    "duration": 16,
    "start_time": "2023-06-09T22:21:52.051Z"
   },
   {
    "duration": 62,
    "start_time": "2023-06-09T22:21:52.069Z"
   },
   {
    "duration": 6,
    "start_time": "2023-06-09T22:21:52.134Z"
   },
   {
    "duration": 6,
    "start_time": "2023-06-09T22:21:52.141Z"
   },
   {
    "duration": 8,
    "start_time": "2023-06-09T22:21:52.148Z"
   },
   {
    "duration": 7,
    "start_time": "2023-06-09T22:21:52.157Z"
   },
   {
    "duration": 30,
    "start_time": "2023-06-09T22:21:52.166Z"
   },
   {
    "duration": 61,
    "start_time": "2023-06-09T22:21:52.197Z"
   },
   {
    "duration": 23,
    "start_time": "2023-06-09T22:21:52.260Z"
   },
   {
    "duration": 54,
    "start_time": "2023-06-09T22:21:52.284Z"
   },
   {
    "duration": 25,
    "start_time": "2023-06-09T22:21:52.340Z"
   },
   {
    "duration": 45,
    "start_time": "2023-06-09T22:21:52.367Z"
   },
   {
    "duration": 27,
    "start_time": "2023-06-09T22:21:52.413Z"
   },
   {
    "duration": 67,
    "start_time": "2023-06-09T22:21:52.441Z"
   },
   {
    "duration": 30,
    "start_time": "2023-06-09T22:21:52.509Z"
   },
   {
    "duration": 61,
    "start_time": "2023-06-09T22:21:52.541Z"
   },
   {
    "duration": 65,
    "start_time": "2023-06-09T22:21:52.604Z"
   },
   {
    "duration": 177,
    "start_time": "2023-06-09T22:21:52.671Z"
   },
   {
    "duration": 58,
    "start_time": "2023-06-09T22:21:52.849Z"
   },
   {
    "duration": 2,
    "start_time": "2023-06-09T22:21:52.909Z"
   },
   {
    "duration": 13,
    "start_time": "2023-06-09T22:21:52.913Z"
   },
   {
    "duration": 43,
    "start_time": "2023-06-09T22:21:52.928Z"
   },
   {
    "duration": 113,
    "start_time": "2023-06-09T22:21:52.977Z"
   },
   {
    "duration": 92,
    "start_time": "2023-06-09T22:21:53.091Z"
   },
   {
    "duration": 26,
    "start_time": "2023-06-09T22:21:53.186Z"
   },
   {
    "duration": 16,
    "start_time": "2023-06-09T22:21:53.214Z"
   },
   {
    "duration": 182,
    "start_time": "2023-06-09T22:21:53.232Z"
   },
   {
    "duration": 3,
    "start_time": "2023-06-09T22:21:53.416Z"
   },
   {
    "duration": 41,
    "start_time": "2023-06-09T22:21:53.420Z"
   },
   {
    "duration": 2615,
    "start_time": "2023-06-09T22:21:53.463Z"
   },
   {
    "duration": 31,
    "start_time": "2023-06-09T22:21:56.089Z"
   },
   {
    "duration": 4,
    "start_time": "2023-06-09T22:21:56.122Z"
   },
   {
    "duration": 10,
    "start_time": "2023-06-09T22:21:56.128Z"
   },
   {
    "duration": 9,
    "start_time": "2023-06-09T22:21:56.139Z"
   },
   {
    "duration": 15,
    "start_time": "2023-06-09T22:21:56.149Z"
   },
   {
    "duration": 43,
    "start_time": "2023-06-09T22:21:56.166Z"
   },
   {
    "duration": 838,
    "start_time": "2023-06-09T22:21:56.210Z"
   },
   {
    "duration": 15114,
    "start_time": "2023-06-09T22:21:57.050Z"
   },
   {
    "duration": 566181,
    "start_time": "2023-06-09T22:22:12.166Z"
   },
   {
    "duration": 2,
    "start_time": "2023-06-09T22:31:38.348Z"
   },
   {
    "duration": 8,
    "start_time": "2023-06-09T22:31:38.352Z"
   },
   {
    "duration": 14167,
    "start_time": "2023-06-09T22:31:38.361Z"
   },
   {
    "duration": 16,
    "start_time": "2023-06-09T22:31:52.529Z"
   },
   {
    "duration": 318,
    "start_time": "2023-06-09T22:31:52.547Z"
   },
   {
    "duration": 136,
    "start_time": "2023-06-09T22:31:52.867Z"
   },
   {
    "duration": 2,
    "start_time": "2023-06-09T22:31:53.005Z"
   },
   {
    "duration": 10,
    "start_time": "2023-06-09T22:41:13.900Z"
   },
   {
    "duration": 11,
    "start_time": "2023-06-09T22:45:10.583Z"
   },
   {
    "duration": 5,
    "start_time": "2023-06-09T23:33:22.106Z"
   },
   {
    "duration": 25,
    "start_time": "2023-06-09T23:33:59.220Z"
   },
   {
    "duration": 16,
    "start_time": "2023-06-09T23:34:14.556Z"
   },
   {
    "duration": 5,
    "start_time": "2023-06-09T23:34:56.676Z"
   },
   {
    "duration": 16,
    "start_time": "2023-06-10T00:15:07.810Z"
   },
   {
    "duration": 15,
    "start_time": "2023-06-10T00:15:29.169Z"
   },
   {
    "duration": 44,
    "start_time": "2023-06-10T01:28:50.262Z"
   },
   {
    "duration": 3357,
    "start_time": "2023-06-10T01:28:56.076Z"
   },
   {
    "duration": 2765,
    "start_time": "2023-06-10T01:28:59.435Z"
   },
   {
    "duration": 2512,
    "start_time": "2023-06-10T01:29:02.201Z"
   },
   {
    "duration": 3,
    "start_time": "2023-06-10T01:29:04.716Z"
   },
   {
    "duration": 8700,
    "start_time": "2023-06-10T01:29:04.720Z"
   },
   {
    "duration": 3,
    "start_time": "2023-06-10T01:29:13.421Z"
   },
   {
    "duration": 278,
    "start_time": "2023-06-10T01:29:13.426Z"
   },
   {
    "duration": 40,
    "start_time": "2023-06-10T01:29:13.705Z"
   },
   {
    "duration": 41,
    "start_time": "2023-06-10T01:29:13.747Z"
   },
   {
    "duration": 43,
    "start_time": "2023-06-10T01:29:13.791Z"
   },
   {
    "duration": 451,
    "start_time": "2023-06-10T01:29:13.836Z"
   },
   {
    "duration": 12541,
    "start_time": "2023-06-10T01:29:14.289Z"
   },
   {
    "duration": 94,
    "start_time": "2023-06-10T01:44:33.710Z"
   },
   {
    "duration": 1803,
    "start_time": "2023-06-10T01:46:57.728Z"
   },
   {
    "duration": 192,
    "start_time": "2023-06-10T01:47:27.458Z"
   },
   {
    "duration": 74,
    "start_time": "2023-06-10T01:57:34.888Z"
   },
   {
    "duration": 90,
    "start_time": "2023-06-10T01:59:02.121Z"
   },
   {
    "duration": 12,
    "start_time": "2023-06-10T02:00:32.533Z"
   },
   {
    "duration": 43,
    "start_time": "2023-06-10T02:01:53.388Z"
   },
   {
    "duration": 142,
    "start_time": "2023-06-10T02:01:58.902Z"
   },
   {
    "duration": 1942,
    "start_time": "2023-06-10T02:02:15.219Z"
   },
   {
    "duration": 2881,
    "start_time": "2023-06-10T02:02:17.163Z"
   },
   {
    "duration": 3247,
    "start_time": "2023-06-10T02:02:20.046Z"
   },
   {
    "duration": 7,
    "start_time": "2023-06-10T02:02:23.296Z"
   },
   {
    "duration": 11538,
    "start_time": "2023-06-10T02:02:23.308Z"
   },
   {
    "duration": 3,
    "start_time": "2023-06-10T02:02:34.848Z"
   },
   {
    "duration": 250,
    "start_time": "2023-06-10T02:02:34.852Z"
   },
   {
    "duration": 41,
    "start_time": "2023-06-10T02:02:35.104Z"
   },
   {
    "duration": 42,
    "start_time": "2023-06-10T02:02:35.147Z"
   },
   {
    "duration": 44,
    "start_time": "2023-06-10T02:02:35.193Z"
   },
   {
    "duration": 435,
    "start_time": "2023-06-10T02:02:35.238Z"
   },
   {
    "duration": 14172,
    "start_time": "2023-06-10T02:02:35.675Z"
   },
   {
    "duration": 4639,
    "start_time": "2023-06-10T02:02:49.848Z"
   },
   {
    "duration": 1783,
    "start_time": "2023-06-10T02:02:54.490Z"
   },
   {
    "duration": 103,
    "start_time": "2023-06-10T02:02:56.276Z"
   },
   {
    "duration": 194,
    "start_time": "2023-06-10T02:02:56.385Z"
   },
   {
    "duration": 185,
    "start_time": "2023-06-10T02:02:56.581Z"
   },
   {
    "duration": 170,
    "start_time": "2023-06-10T02:02:56.768Z"
   },
   {
    "duration": 45,
    "start_time": "2023-06-10T02:02:56.940Z"
   },
   {
    "duration": 105,
    "start_time": "2023-06-10T02:02:56.987Z"
   },
   {
    "duration": 8,
    "start_time": "2023-06-10T02:02:57.094Z"
   },
   {
    "duration": 81,
    "start_time": "2023-06-10T02:02:57.105Z"
   },
   {
    "duration": 5,
    "start_time": "2023-06-10T02:02:57.188Z"
   },
   {
    "duration": 26,
    "start_time": "2023-06-10T02:02:57.195Z"
   },
   {
    "duration": 28,
    "start_time": "2023-06-10T02:02:57.222Z"
   },
   {
    "duration": 11,
    "start_time": "2023-06-10T02:02:57.251Z"
   },
   {
    "duration": 37,
    "start_time": "2023-06-10T02:02:57.264Z"
   },
   {
    "duration": 12,
    "start_time": "2023-06-10T02:02:57.304Z"
   },
   {
    "duration": 5,
    "start_time": "2023-06-10T02:02:57.317Z"
   },
   {
    "duration": 8,
    "start_time": "2023-06-10T02:02:57.324Z"
   },
   {
    "duration": 7,
    "start_time": "2023-06-10T02:02:57.333Z"
   },
   {
    "duration": 43,
    "start_time": "2023-06-10T02:02:57.342Z"
   },
   {
    "duration": 50,
    "start_time": "2023-06-10T02:02:57.386Z"
   },
   {
    "duration": 20,
    "start_time": "2023-06-10T02:02:57.438Z"
   },
   {
    "duration": 42,
    "start_time": "2023-06-10T02:02:57.460Z"
   },
   {
    "duration": 50,
    "start_time": "2023-06-10T02:02:57.503Z"
   },
   {
    "duration": 59,
    "start_time": "2023-06-10T02:02:57.555Z"
   },
   {
    "duration": 29,
    "start_time": "2023-06-10T02:02:57.616Z"
   },
   {
    "duration": 80,
    "start_time": "2023-06-10T02:02:57.647Z"
   },
   {
    "duration": 33,
    "start_time": "2023-06-10T02:02:57.729Z"
   },
   {
    "duration": 68,
    "start_time": "2023-06-10T02:02:57.763Z"
   },
   {
    "duration": 70,
    "start_time": "2023-06-10T02:02:57.832Z"
   },
   {
    "duration": 180,
    "start_time": "2023-06-10T02:02:57.903Z"
   },
   {
    "duration": 45,
    "start_time": "2023-06-10T02:02:58.085Z"
   },
   {
    "duration": 7,
    "start_time": "2023-06-10T02:02:58.131Z"
   },
   {
    "duration": 53,
    "start_time": "2023-06-10T02:02:58.139Z"
   },
   {
    "duration": 118,
    "start_time": "2023-06-10T02:02:58.193Z"
   },
   {
    "duration": 86,
    "start_time": "2023-06-10T02:02:58.313Z"
   },
   {
    "duration": 15,
    "start_time": "2023-06-10T02:02:58.401Z"
   },
   {
    "duration": 19,
    "start_time": "2023-06-10T02:02:58.417Z"
   },
   {
    "duration": 184,
    "start_time": "2023-06-10T02:02:58.438Z"
   },
   {
    "duration": 3,
    "start_time": "2023-06-10T02:02:58.624Z"
   },
   {
    "duration": 55,
    "start_time": "2023-06-10T02:02:58.629Z"
   },
   {
    "duration": 2914,
    "start_time": "2023-06-10T02:02:58.686Z"
   },
   {
    "duration": 33,
    "start_time": "2023-06-10T02:03:01.602Z"
   },
   {
    "duration": 11,
    "start_time": "2023-06-10T02:03:01.637Z"
   },
   {
    "duration": 56,
    "start_time": "2023-06-10T02:03:01.650Z"
   },
   {
    "duration": 76,
    "start_time": "2023-06-10T02:03:01.708Z"
   },
   {
    "duration": 33,
    "start_time": "2023-06-10T02:03:01.786Z"
   },
   {
    "duration": 778,
    "start_time": "2023-06-10T02:03:01.820Z"
   },
   {
    "duration": 13467,
    "start_time": "2023-06-10T02:03:02.599Z"
   },
   {
    "duration": 105670,
    "start_time": "2023-06-10T02:03:16.072Z"
   },
   {
    "duration": 14,
    "start_time": "2023-06-10T02:05:01.743Z"
   },
   {
    "duration": 0,
    "start_time": "2023-06-10T02:05:01.759Z"
   },
   {
    "duration": 0,
    "start_time": "2023-06-10T02:05:01.759Z"
   },
   {
    "duration": 0,
    "start_time": "2023-06-10T02:05:01.760Z"
   },
   {
    "duration": 0,
    "start_time": "2023-06-10T02:05:01.761Z"
   },
   {
    "duration": 0,
    "start_time": "2023-06-10T02:05:01.762Z"
   },
   {
    "duration": 11172,
    "start_time": "2023-06-10T02:05:03.555Z"
   },
   {
    "duration": 1925,
    "start_time": "2023-06-10T02:05:18.538Z"
   },
   {
    "duration": 3735,
    "start_time": "2023-06-10T02:05:20.466Z"
   },
   {
    "duration": 2514,
    "start_time": "2023-06-10T02:05:24.203Z"
   },
   {
    "duration": 3,
    "start_time": "2023-06-10T02:05:26.720Z"
   },
   {
    "duration": 3,
    "start_time": "2023-06-10T02:05:36.423Z"
   },
   {
    "duration": 277,
    "start_time": "2023-06-10T02:05:36.427Z"
   },
   {
    "duration": 40,
    "start_time": "2023-06-10T02:05:36.706Z"
   },
   {
    "duration": 46,
    "start_time": "2023-06-10T02:05:36.747Z"
   },
   {
    "duration": 46,
    "start_time": "2023-06-10T02:05:36.796Z"
   },
   {
    "duration": 456,
    "start_time": "2023-06-10T02:05:36.844Z"
   },
   {
    "duration": 12732,
    "start_time": "2023-06-10T02:05:37.302Z"
   },
   {
    "duration": 0,
    "start_time": "2023-06-10T02:05:50.037Z"
   },
   {
    "duration": 0,
    "start_time": "2023-06-10T02:05:50.039Z"
   },
   {
    "duration": 0,
    "start_time": "2023-06-10T02:05:50.039Z"
   },
   {
    "duration": 0,
    "start_time": "2023-06-10T02:05:50.040Z"
   },
   {
    "duration": 0,
    "start_time": "2023-06-10T02:05:50.041Z"
   },
   {
    "duration": 0,
    "start_time": "2023-06-10T02:05:50.042Z"
   },
   {
    "duration": 0,
    "start_time": "2023-06-10T02:05:50.043Z"
   },
   {
    "duration": 0,
    "start_time": "2023-06-10T02:05:50.044Z"
   },
   {
    "duration": 0,
    "start_time": "2023-06-10T02:05:50.045Z"
   },
   {
    "duration": 0,
    "start_time": "2023-06-10T02:05:50.046Z"
   },
   {
    "duration": 0,
    "start_time": "2023-06-10T02:05:50.047Z"
   },
   {
    "duration": 0,
    "start_time": "2023-06-10T02:05:50.048Z"
   },
   {
    "duration": 0,
    "start_time": "2023-06-10T02:05:50.049Z"
   },
   {
    "duration": 0,
    "start_time": "2023-06-10T02:05:50.050Z"
   },
   {
    "duration": 0,
    "start_time": "2023-06-10T02:05:50.051Z"
   },
   {
    "duration": 0,
    "start_time": "2023-06-10T02:05:50.052Z"
   },
   {
    "duration": 1,
    "start_time": "2023-06-10T02:05:50.052Z"
   },
   {
    "duration": 0,
    "start_time": "2023-06-10T02:05:50.053Z"
   },
   {
    "duration": 0,
    "start_time": "2023-06-10T02:05:50.054Z"
   },
   {
    "duration": 0,
    "start_time": "2023-06-10T02:05:50.055Z"
   },
   {
    "duration": 0,
    "start_time": "2023-06-10T02:05:50.056Z"
   },
   {
    "duration": 0,
    "start_time": "2023-06-10T02:05:50.057Z"
   },
   {
    "duration": 0,
    "start_time": "2023-06-10T02:05:50.058Z"
   },
   {
    "duration": 0,
    "start_time": "2023-06-10T02:05:50.059Z"
   },
   {
    "duration": 0,
    "start_time": "2023-06-10T02:05:50.060Z"
   },
   {
    "duration": 0,
    "start_time": "2023-06-10T02:05:50.061Z"
   },
   {
    "duration": 0,
    "start_time": "2023-06-10T02:05:50.061Z"
   },
   {
    "duration": 0,
    "start_time": "2023-06-10T02:05:50.063Z"
   },
   {
    "duration": 0,
    "start_time": "2023-06-10T02:05:50.071Z"
   },
   {
    "duration": 0,
    "start_time": "2023-06-10T02:05:50.072Z"
   },
   {
    "duration": 0,
    "start_time": "2023-06-10T02:05:50.073Z"
   },
   {
    "duration": 0,
    "start_time": "2023-06-10T02:05:50.074Z"
   },
   {
    "duration": 0,
    "start_time": "2023-06-10T02:05:50.075Z"
   },
   {
    "duration": 0,
    "start_time": "2023-06-10T02:05:50.076Z"
   },
   {
    "duration": 0,
    "start_time": "2023-06-10T02:05:50.077Z"
   },
   {
    "duration": 0,
    "start_time": "2023-06-10T02:05:50.078Z"
   },
   {
    "duration": 0,
    "start_time": "2023-06-10T02:05:50.079Z"
   },
   {
    "duration": 0,
    "start_time": "2023-06-10T02:05:50.080Z"
   },
   {
    "duration": 0,
    "start_time": "2023-06-10T02:05:50.081Z"
   },
   {
    "duration": 0,
    "start_time": "2023-06-10T02:05:50.081Z"
   },
   {
    "duration": 0,
    "start_time": "2023-06-10T02:05:50.082Z"
   },
   {
    "duration": 0,
    "start_time": "2023-06-10T02:05:50.083Z"
   },
   {
    "duration": 0,
    "start_time": "2023-06-10T02:05:50.084Z"
   },
   {
    "duration": 0,
    "start_time": "2023-06-10T02:05:50.085Z"
   },
   {
    "duration": 0,
    "start_time": "2023-06-10T02:05:50.086Z"
   },
   {
    "duration": 0,
    "start_time": "2023-06-10T02:05:50.087Z"
   },
   {
    "duration": 0,
    "start_time": "2023-06-10T02:05:50.088Z"
   },
   {
    "duration": 0,
    "start_time": "2023-06-10T02:05:50.088Z"
   },
   {
    "duration": 0,
    "start_time": "2023-06-10T02:05:50.089Z"
   },
   {
    "duration": 0,
    "start_time": "2023-06-10T02:05:50.090Z"
   },
   {
    "duration": 0,
    "start_time": "2023-06-10T02:05:50.091Z"
   },
   {
    "duration": 0,
    "start_time": "2023-06-10T02:05:50.092Z"
   },
   {
    "duration": 0,
    "start_time": "2023-06-10T02:05:50.093Z"
   },
   {
    "duration": 0,
    "start_time": "2023-06-10T02:05:50.094Z"
   },
   {
    "duration": 0,
    "start_time": "2023-06-10T02:05:50.095Z"
   },
   {
    "duration": 0,
    "start_time": "2023-06-10T02:05:50.095Z"
   },
   {
    "duration": 0,
    "start_time": "2023-06-10T02:05:50.105Z"
   },
   {
    "duration": 0,
    "start_time": "2023-06-10T02:05:50.106Z"
   },
   {
    "duration": 1933,
    "start_time": "2023-06-10T02:05:50.510Z"
   },
   {
    "duration": 1875,
    "start_time": "2023-06-10T02:05:52.446Z"
   },
   {
    "duration": 5,
    "start_time": "2023-06-10T02:05:54.323Z"
   },
   {
    "duration": 8,
    "start_time": "2023-06-10T02:05:54.330Z"
   },
   {
    "duration": 9,
    "start_time": "2023-06-10T02:05:54.339Z"
   },
   {
    "duration": 8,
    "start_time": "2023-06-10T02:05:54.349Z"
   },
   {
    "duration": 283,
    "start_time": "2023-06-10T02:05:54.358Z"
   },
   {
    "duration": 40,
    "start_time": "2023-06-10T02:05:54.642Z"
   },
   {
    "duration": 42,
    "start_time": "2023-06-10T02:05:54.684Z"
   },
   {
    "duration": 45,
    "start_time": "2023-06-10T02:05:54.728Z"
   },
   {
    "duration": 418,
    "start_time": "2023-06-10T02:05:54.775Z"
   },
   {
    "duration": 12323,
    "start_time": "2023-06-10T02:05:55.195Z"
   },
   {
    "duration": 4572,
    "start_time": "2023-06-10T02:06:07.520Z"
   },
   {
    "duration": 1458,
    "start_time": "2023-06-10T02:06:12.093Z"
   },
   {
    "duration": 92,
    "start_time": "2023-06-10T02:06:16.170Z"
   },
   {
    "duration": 178,
    "start_time": "2023-06-10T02:06:17.626Z"
   },
   {
    "duration": 181,
    "start_time": "2023-06-10T02:06:17.900Z"
   },
   {
    "duration": 162,
    "start_time": "2023-06-10T02:06:18.172Z"
   },
   {
    "duration": 29,
    "start_time": "2023-06-10T02:06:19.047Z"
   },
   {
    "duration": 89,
    "start_time": "2023-06-10T02:06:19.213Z"
   },
   {
    "duration": 8,
    "start_time": "2023-06-10T02:06:19.373Z"
   },
   {
    "duration": 63,
    "start_time": "2023-06-10T02:06:19.489Z"
   },
   {
    "duration": 6,
    "start_time": "2023-06-10T02:06:19.724Z"
   },
   {
    "duration": 15,
    "start_time": "2023-06-10T02:06:19.854Z"
   },
   {
    "duration": 15,
    "start_time": "2023-06-10T02:06:19.988Z"
   },
   {
    "duration": 9,
    "start_time": "2023-06-10T02:06:20.118Z"
   },
   {
    "duration": 24,
    "start_time": "2023-06-10T02:06:20.233Z"
   },
   {
    "duration": 8,
    "start_time": "2023-06-10T02:06:20.356Z"
   },
   {
    "duration": 4,
    "start_time": "2023-06-10T02:06:20.471Z"
   },
   {
    "duration": 6,
    "start_time": "2023-06-10T02:06:20.590Z"
   },
   {
    "duration": 8,
    "start_time": "2023-06-10T02:06:20.709Z"
   },
   {
    "duration": 28,
    "start_time": "2023-06-10T02:06:20.845Z"
   },
   {
    "duration": 42,
    "start_time": "2023-06-10T02:06:20.971Z"
   },
   {
    "duration": 22,
    "start_time": "2023-06-10T02:06:21.091Z"
   },
   {
    "duration": 32,
    "start_time": "2023-06-10T02:06:21.223Z"
   },
   {
    "duration": 29,
    "start_time": "2023-06-10T02:06:21.592Z"
   },
   {
    "duration": 40,
    "start_time": "2023-06-10T02:06:21.717Z"
   },
   {
    "duration": 28,
    "start_time": "2023-06-10T02:06:21.848Z"
   },
   {
    "duration": 47,
    "start_time": "2023-06-10T02:06:21.990Z"
   },
   {
    "duration": 31,
    "start_time": "2023-06-10T02:06:22.137Z"
   },
   {
    "duration": 45,
    "start_time": "2023-06-10T02:06:22.279Z"
   },
   {
    "duration": 70,
    "start_time": "2023-06-10T02:06:22.403Z"
   },
   {
    "duration": 160,
    "start_time": "2023-06-10T02:06:22.547Z"
   },
   {
    "duration": 45,
    "start_time": "2023-06-10T02:06:22.709Z"
   },
   {
    "duration": 5,
    "start_time": "2023-06-10T02:06:22.917Z"
   },
   {
    "duration": 39,
    "start_time": "2023-06-10T02:06:23.057Z"
   },
   {
    "duration": 114,
    "start_time": "2023-06-10T02:06:23.189Z"
   },
   {
    "duration": 91,
    "start_time": "2023-06-10T02:06:23.441Z"
   },
   {
    "duration": 15,
    "start_time": "2023-06-10T02:06:23.584Z"
   },
   {
    "duration": 6,
    "start_time": "2023-06-10T02:06:26.477Z"
   },
   {
    "duration": 168,
    "start_time": "2023-06-10T02:06:26.590Z"
   },
   {
    "duration": 3,
    "start_time": "2023-06-10T02:06:26.760Z"
   },
   {
    "duration": 35,
    "start_time": "2023-06-10T02:06:26.873Z"
   },
   {
    "duration": 2680,
    "start_time": "2023-06-10T02:06:27.003Z"
   },
   {
    "duration": 27,
    "start_time": "2023-06-10T02:06:29.685Z"
   },
   {
    "duration": 4,
    "start_time": "2023-06-10T02:06:30.099Z"
   },
   {
    "duration": 3,
    "start_time": "2023-06-10T02:06:34.149Z"
   },
   {
    "duration": 3,
    "start_time": "2023-06-10T02:06:36.830Z"
   },
   {
    "duration": 4,
    "start_time": "2023-06-10T02:06:38.028Z"
   },
   {
    "duration": 760,
    "start_time": "2023-06-10T02:06:41.327Z"
   },
   {
    "duration": 13168,
    "start_time": "2023-06-10T02:06:42.089Z"
   },
   {
    "duration": 487108,
    "start_time": "2023-06-10T02:06:55.258Z"
   },
   {
    "duration": 5,
    "start_time": "2023-06-10T02:17:07.344Z"
   },
   {
    "duration": 12386,
    "start_time": "2023-06-10T02:17:15.373Z"
   },
   {
    "duration": 13030,
    "start_time": "2023-06-10T02:17:41.845Z"
   },
   {
    "duration": 12612,
    "start_time": "2023-06-10T02:18:26.745Z"
   },
   {
    "duration": 19,
    "start_time": "2023-06-10T02:19:38.610Z"
   },
   {
    "duration": 327,
    "start_time": "2023-06-10T02:19:38.957Z"
   },
   {
    "duration": 14,
    "start_time": "2023-06-10T02:19:41.685Z"
   },
   {
    "duration": 153,
    "start_time": "2023-06-10T02:19:51.520Z"
   },
   {
    "duration": 145,
    "start_time": "2023-06-10T02:20:40.543Z"
   },
   {
    "duration": 104,
    "start_time": "2023-06-10T02:45:31.923Z"
   },
   {
    "duration": 120,
    "start_time": "2023-06-10T02:45:56.404Z"
   },
   {
    "duration": 13,
    "start_time": "2023-06-10T02:46:53.743Z"
   },
   {
    "duration": 188,
    "start_time": "2023-06-10T02:47:12.665Z"
   },
   {
    "duration": 207,
    "start_time": "2023-06-10T02:47:33.717Z"
   },
   {
    "duration": 138,
    "start_time": "2023-06-10T02:47:42.286Z"
   },
   {
    "duration": 5,
    "start_time": "2023-06-10T02:48:32.591Z"
   },
   {
    "duration": 26,
    "start_time": "2023-06-10T02:49:21.331Z"
   },
   {
    "duration": 119,
    "start_time": "2023-06-10T02:50:02.174Z"
   },
   {
    "duration": 144,
    "start_time": "2023-06-10T02:52:51.280Z"
   },
   {
    "duration": 81,
    "start_time": "2023-06-10T02:53:19.996Z"
   },
   {
    "duration": 271,
    "start_time": "2023-06-10T02:53:23.402Z"
   },
   {
    "duration": 275,
    "start_time": "2023-06-10T02:53:36.027Z"
   },
   {
    "duration": 663,
    "start_time": "2023-06-10T03:04:11.168Z"
   },
   {
    "duration": 394,
    "start_time": "2023-06-10T03:06:17.045Z"
   },
   {
    "duration": 5,
    "start_time": "2023-06-10T03:06:51.543Z"
   },
   {
    "duration": 9,
    "start_time": "2023-06-10T03:07:28.284Z"
   },
   {
    "duration": 2145,
    "start_time": "2023-06-10T03:08:24.334Z"
   },
   {
    "duration": 1979,
    "start_time": "2023-06-10T03:08:26.481Z"
   },
   {
    "duration": 2967,
    "start_time": "2023-06-10T03:08:28.461Z"
   },
   {
    "duration": 3,
    "start_time": "2023-06-10T03:08:31.430Z"
   },
   {
    "duration": 14938,
    "start_time": "2023-06-10T03:08:31.435Z"
   },
   {
    "duration": 3,
    "start_time": "2023-06-10T03:08:46.375Z"
   },
   {
    "duration": 248,
    "start_time": "2023-06-10T03:08:46.379Z"
   },
   {
    "duration": 41,
    "start_time": "2023-06-10T03:08:46.628Z"
   },
   {
    "duration": 42,
    "start_time": "2023-06-10T03:08:46.670Z"
   },
   {
    "duration": 43,
    "start_time": "2023-06-10T03:08:46.714Z"
   },
   {
    "duration": 431,
    "start_time": "2023-06-10T03:08:46.759Z"
   },
   {
    "duration": 12688,
    "start_time": "2023-06-10T03:08:47.192Z"
   },
   {
    "duration": 4635,
    "start_time": "2023-06-10T03:08:59.882Z"
   },
   {
    "duration": 1427,
    "start_time": "2023-06-10T03:09:04.520Z"
   },
   {
    "duration": 100,
    "start_time": "2023-06-10T03:09:05.949Z"
   },
   {
    "duration": 198,
    "start_time": "2023-06-10T03:09:06.051Z"
   },
   {
    "duration": 190,
    "start_time": "2023-06-10T03:09:06.251Z"
   },
   {
    "duration": 157,
    "start_time": "2023-06-10T03:09:06.443Z"
   },
   {
    "duration": 30,
    "start_time": "2023-06-10T03:09:06.601Z"
   },
   {
    "duration": 100,
    "start_time": "2023-06-10T03:09:06.632Z"
   },
   {
    "duration": 7,
    "start_time": "2023-06-10T03:09:06.733Z"
   },
   {
    "duration": 78,
    "start_time": "2023-06-10T03:09:06.741Z"
   },
   {
    "duration": 6,
    "start_time": "2023-06-10T03:09:06.820Z"
   },
   {
    "duration": 37,
    "start_time": "2023-06-10T03:09:06.828Z"
   },
   {
    "duration": 55,
    "start_time": "2023-06-10T03:09:06.866Z"
   },
   {
    "duration": 78,
    "start_time": "2023-06-10T03:09:06.923Z"
   },
   {
    "duration": 37,
    "start_time": "2023-06-10T03:09:07.003Z"
   },
   {
    "duration": 47,
    "start_time": "2023-06-10T03:09:07.042Z"
   },
   {
    "duration": 27,
    "start_time": "2023-06-10T03:09:07.090Z"
   },
   {
    "duration": 14,
    "start_time": "2023-06-10T03:09:07.119Z"
   },
   {
    "duration": 9,
    "start_time": "2023-06-10T03:09:07.134Z"
   },
   {
    "duration": 42,
    "start_time": "2023-06-10T03:09:07.144Z"
   },
   {
    "duration": 78,
    "start_time": "2023-06-10T03:09:07.188Z"
   },
   {
    "duration": 23,
    "start_time": "2023-06-10T03:09:07.268Z"
   },
   {
    "duration": 40,
    "start_time": "2023-06-10T03:09:07.293Z"
   },
   {
    "duration": 27,
    "start_time": "2023-06-10T03:09:07.335Z"
   },
   {
    "duration": 64,
    "start_time": "2023-06-10T03:09:07.364Z"
   },
   {
    "duration": 26,
    "start_time": "2023-06-10T03:09:07.430Z"
   },
   {
    "duration": 48,
    "start_time": "2023-06-10T03:09:07.458Z"
   },
   {
    "duration": 30,
    "start_time": "2023-06-10T03:09:07.508Z"
   },
   {
    "duration": 58,
    "start_time": "2023-06-10T03:09:07.542Z"
   },
   {
    "duration": 79,
    "start_time": "2023-06-10T03:09:07.602Z"
   },
   {
    "duration": 166,
    "start_time": "2023-06-10T03:09:07.683Z"
   },
   {
    "duration": 54,
    "start_time": "2023-06-10T03:09:07.850Z"
   },
   {
    "duration": 7,
    "start_time": "2023-06-10T03:09:07.906Z"
   },
   {
    "duration": 46,
    "start_time": "2023-06-10T03:09:07.914Z"
   },
   {
    "duration": 120,
    "start_time": "2023-06-10T03:09:07.962Z"
   },
   {
    "duration": 93,
    "start_time": "2023-06-10T03:09:08.084Z"
   },
   {
    "duration": 17,
    "start_time": "2023-06-10T03:09:08.179Z"
   },
   {
    "duration": 25,
    "start_time": "2023-06-10T03:09:08.197Z"
   },
   {
    "duration": 181,
    "start_time": "2023-06-10T03:09:08.223Z"
   },
   {
    "duration": 3,
    "start_time": "2023-06-10T03:09:08.406Z"
   },
   {
    "duration": 57,
    "start_time": "2023-06-10T03:09:08.410Z"
   },
   {
    "duration": 2672,
    "start_time": "2023-06-10T03:09:08.469Z"
   },
   {
    "duration": 37,
    "start_time": "2023-06-10T03:09:11.143Z"
   },
   {
    "duration": 4,
    "start_time": "2023-06-10T03:09:11.181Z"
   },
   {
    "duration": 24,
    "start_time": "2023-06-10T03:09:11.187Z"
   },
   {
    "duration": 23,
    "start_time": "2023-06-10T03:09:11.213Z"
   },
   {
    "duration": 16,
    "start_time": "2023-06-10T03:09:11.237Z"
   },
   {
    "duration": 855,
    "start_time": "2023-06-10T03:09:11.255Z"
   },
   {
    "duration": 12950,
    "start_time": "2023-06-10T03:09:12.112Z"
   },
   {
    "duration": 519216,
    "start_time": "2023-06-10T03:09:25.072Z"
   },
   {
    "duration": 5,
    "start_time": "2023-06-10T03:18:04.289Z"
   },
   {
    "duration": 13565,
    "start_time": "2023-06-10T03:18:04.295Z"
   },
   {
    "duration": 16,
    "start_time": "2023-06-10T03:18:17.861Z"
   },
   {
    "duration": 257,
    "start_time": "2023-06-10T03:18:17.878Z"
   },
   {
    "duration": 136,
    "start_time": "2023-06-10T03:18:18.137Z"
   },
   {
    "duration": 130,
    "start_time": "2023-06-10T03:18:18.275Z"
   },
   {
    "duration": 130,
    "start_time": "2023-06-10T03:18:18.406Z"
   },
   {
    "duration": 163,
    "start_time": "2023-06-10T03:18:18.537Z"
   },
   {
    "duration": 1212,
    "start_time": "2023-06-10T03:19:39.006Z"
   },
   {
    "duration": 89,
    "start_time": "2023-06-10T03:19:50.335Z"
   },
   {
    "duration": 676,
    "start_time": "2023-06-10T03:19:56.150Z"
   },
   {
    "duration": 1942,
    "start_time": "2023-06-10T03:20:04.815Z"
   },
   {
    "duration": 1998,
    "start_time": "2023-06-10T03:20:06.760Z"
   },
   {
    "duration": 2674,
    "start_time": "2023-06-10T03:20:08.764Z"
   },
   {
    "duration": 4,
    "start_time": "2023-06-10T03:20:11.440Z"
   },
   {
    "duration": 9284,
    "start_time": "2023-06-10T03:20:11.447Z"
   },
   {
    "duration": 3,
    "start_time": "2023-06-10T03:20:20.732Z"
   },
   {
    "duration": 249,
    "start_time": "2023-06-10T03:20:20.737Z"
   },
   {
    "duration": 40,
    "start_time": "2023-06-10T03:20:20.988Z"
   },
   {
    "duration": 49,
    "start_time": "2023-06-10T03:20:21.031Z"
   },
   {
    "duration": 49,
    "start_time": "2023-06-10T03:20:21.081Z"
   },
   {
    "duration": 420,
    "start_time": "2023-06-10T03:20:21.132Z"
   },
   {
    "duration": 12819,
    "start_time": "2023-06-10T03:20:21.554Z"
   },
   {
    "duration": 4633,
    "start_time": "2023-06-10T03:20:34.375Z"
   },
   {
    "duration": 1507,
    "start_time": "2023-06-10T03:20:39.010Z"
   },
   {
    "duration": 113,
    "start_time": "2023-06-10T03:20:40.520Z"
   },
   {
    "duration": 200,
    "start_time": "2023-06-10T03:20:40.635Z"
   },
   {
    "duration": 200,
    "start_time": "2023-06-10T03:20:40.837Z"
   },
   {
    "duration": 174,
    "start_time": "2023-06-10T03:20:41.039Z"
   },
   {
    "duration": 31,
    "start_time": "2023-06-10T03:20:41.215Z"
   },
   {
    "duration": 145,
    "start_time": "2023-06-10T03:20:41.248Z"
   },
   {
    "duration": 11,
    "start_time": "2023-06-10T03:20:41.395Z"
   },
   {
    "duration": 106,
    "start_time": "2023-06-10T03:20:41.408Z"
   },
   {
    "duration": 8,
    "start_time": "2023-06-10T03:20:41.517Z"
   },
   {
    "duration": 45,
    "start_time": "2023-06-10T03:20:41.528Z"
   },
   {
    "duration": 41,
    "start_time": "2023-06-10T03:20:41.575Z"
   },
   {
    "duration": 57,
    "start_time": "2023-06-10T03:20:41.617Z"
   },
   {
    "duration": 77,
    "start_time": "2023-06-10T03:20:41.679Z"
   },
   {
    "duration": 26,
    "start_time": "2023-06-10T03:20:41.757Z"
   },
   {
    "duration": 21,
    "start_time": "2023-06-10T03:20:41.785Z"
   },
   {
    "duration": 42,
    "start_time": "2023-06-10T03:20:41.808Z"
   },
   {
    "duration": 25,
    "start_time": "2023-06-10T03:20:41.852Z"
   },
   {
    "duration": 47,
    "start_time": "2023-06-10T03:20:41.879Z"
   },
   {
    "duration": 60,
    "start_time": "2023-06-10T03:20:41.928Z"
   },
   {
    "duration": 22,
    "start_time": "2023-06-10T03:20:41.990Z"
   },
   {
    "duration": 66,
    "start_time": "2023-06-10T03:20:42.013Z"
   },
   {
    "duration": 29,
    "start_time": "2023-06-10T03:20:42.081Z"
   },
   {
    "duration": 62,
    "start_time": "2023-06-10T03:20:42.112Z"
   },
   {
    "duration": 27,
    "start_time": "2023-06-10T03:20:42.175Z"
   },
   {
    "duration": 63,
    "start_time": "2023-06-10T03:20:42.204Z"
   },
   {
    "duration": 29,
    "start_time": "2023-06-10T03:20:42.268Z"
   },
   {
    "duration": 65,
    "start_time": "2023-06-10T03:20:42.299Z"
   },
   {
    "duration": 66,
    "start_time": "2023-06-10T03:20:42.366Z"
   },
   {
    "duration": 161,
    "start_time": "2023-06-10T03:20:42.434Z"
   },
   {
    "duration": 45,
    "start_time": "2023-06-10T03:20:42.596Z"
   },
   {
    "duration": 6,
    "start_time": "2023-06-10T03:20:42.643Z"
   },
   {
    "duration": 56,
    "start_time": "2023-06-10T03:20:42.650Z"
   },
   {
    "duration": 111,
    "start_time": "2023-06-10T03:20:42.708Z"
   },
   {
    "duration": 82,
    "start_time": "2023-06-10T03:20:42.822Z"
   },
   {
    "duration": 29,
    "start_time": "2023-06-10T03:20:42.906Z"
   },
   {
    "duration": 29,
    "start_time": "2023-06-10T03:20:42.937Z"
   },
   {
    "duration": 193,
    "start_time": "2023-06-10T03:20:42.968Z"
   },
   {
    "duration": 3,
    "start_time": "2023-06-10T03:20:43.163Z"
   },
   {
    "duration": 61,
    "start_time": "2023-06-10T03:20:43.171Z"
   },
   {
    "duration": 2613,
    "start_time": "2023-06-10T03:20:43.233Z"
   },
   {
    "duration": 35,
    "start_time": "2023-06-10T03:20:45.847Z"
   },
   {
    "duration": 5,
    "start_time": "2023-06-10T03:20:45.884Z"
   },
   {
    "duration": 37,
    "start_time": "2023-06-10T03:20:45.890Z"
   },
   {
    "duration": 32,
    "start_time": "2023-06-10T03:20:45.929Z"
   },
   {
    "duration": 43,
    "start_time": "2023-06-10T03:20:45.963Z"
   },
   {
    "duration": 753,
    "start_time": "2023-06-10T03:20:46.007Z"
   },
   {
    "duration": 13981,
    "start_time": "2023-06-10T03:20:46.761Z"
   },
   {
    "duration": 527015,
    "start_time": "2023-06-10T03:21:00.744Z"
   },
   {
    "duration": 5,
    "start_time": "2023-06-10T03:29:47.760Z"
   },
   {
    "duration": 13849,
    "start_time": "2023-06-10T03:29:47.767Z"
   },
   {
    "duration": 17,
    "start_time": "2023-06-10T03:30:01.617Z"
   },
   {
    "duration": 340,
    "start_time": "2023-06-10T03:30:01.636Z"
   },
   {
    "duration": 196,
    "start_time": "2023-06-10T03:30:01.979Z"
   },
   {
    "duration": 138,
    "start_time": "2023-06-10T03:30:02.176Z"
   },
   {
    "duration": 167,
    "start_time": "2023-06-10T03:30:02.316Z"
   },
   {
    "duration": 694,
    "start_time": "2023-06-10T03:30:02.485Z"
   },
   {
    "duration": 695,
    "start_time": "2023-06-10T03:34:29.308Z"
   },
   {
    "duration": 670,
    "start_time": "2023-06-10T03:34:45.283Z"
   },
   {
    "duration": 320,
    "start_time": "2023-06-10T03:39:07.791Z"
   },
   {
    "duration": 1440,
    "start_time": "2023-06-10T03:42:15.994Z"
   },
   {
    "duration": 1833,
    "start_time": "2023-06-10T03:42:27.317Z"
   },
   {
    "duration": 2046,
    "start_time": "2023-06-10T03:42:29.152Z"
   },
   {
    "duration": 3178,
    "start_time": "2023-06-10T03:42:31.200Z"
   },
   {
    "duration": 3,
    "start_time": "2023-06-10T03:42:34.380Z"
   },
   {
    "duration": 8401,
    "start_time": "2023-06-10T03:42:34.385Z"
   },
   {
    "duration": 4,
    "start_time": "2023-06-10T03:42:42.788Z"
   },
   {
    "duration": 244,
    "start_time": "2023-06-10T03:42:42.794Z"
   },
   {
    "duration": 46,
    "start_time": "2023-06-10T03:42:43.040Z"
   },
   {
    "duration": 48,
    "start_time": "2023-06-10T03:42:43.089Z"
   },
   {
    "duration": 51,
    "start_time": "2023-06-10T03:42:43.140Z"
   },
   {
    "duration": 449,
    "start_time": "2023-06-10T03:42:43.194Z"
   },
   {
    "duration": 12349,
    "start_time": "2023-06-10T03:42:43.645Z"
   },
   {
    "duration": 4636,
    "start_time": "2023-06-10T03:42:55.996Z"
   },
   {
    "duration": 1477,
    "start_time": "2023-06-10T03:43:00.635Z"
   },
   {
    "duration": 102,
    "start_time": "2023-06-10T03:43:02.114Z"
   },
   {
    "duration": 181,
    "start_time": "2023-06-10T03:43:02.218Z"
   },
   {
    "duration": 183,
    "start_time": "2023-06-10T03:43:02.401Z"
   },
   {
    "duration": 172,
    "start_time": "2023-06-10T03:43:02.586Z"
   },
   {
    "duration": 35,
    "start_time": "2023-06-10T03:43:02.760Z"
   },
   {
    "duration": 109,
    "start_time": "2023-06-10T03:43:02.797Z"
   },
   {
    "duration": 6,
    "start_time": "2023-06-10T03:43:02.908Z"
   },
   {
    "duration": 90,
    "start_time": "2023-06-10T03:43:02.916Z"
   },
   {
    "duration": 6,
    "start_time": "2023-06-10T03:43:03.007Z"
   },
   {
    "duration": 55,
    "start_time": "2023-06-10T03:43:03.014Z"
   },
   {
    "duration": 31,
    "start_time": "2023-06-10T03:43:03.071Z"
   },
   {
    "duration": 27,
    "start_time": "2023-06-10T03:43:03.104Z"
   },
   {
    "duration": 47,
    "start_time": "2023-06-10T03:43:03.132Z"
   },
   {
    "duration": 6,
    "start_time": "2023-06-10T03:43:03.181Z"
   },
   {
    "duration": 4,
    "start_time": "2023-06-10T03:43:03.188Z"
   },
   {
    "duration": 29,
    "start_time": "2023-06-10T03:43:03.194Z"
   },
   {
    "duration": 11,
    "start_time": "2023-06-10T03:43:03.224Z"
   },
   {
    "duration": 28,
    "start_time": "2023-06-10T03:43:03.237Z"
   },
   {
    "duration": 43,
    "start_time": "2023-06-10T03:43:03.271Z"
   },
   {
    "duration": 19,
    "start_time": "2023-06-10T03:43:03.316Z"
   },
   {
    "duration": 56,
    "start_time": "2023-06-10T03:43:03.337Z"
   },
   {
    "duration": 26,
    "start_time": "2023-06-10T03:43:03.395Z"
   },
   {
    "duration": 61,
    "start_time": "2023-06-10T03:43:03.423Z"
   },
   {
    "duration": 27,
    "start_time": "2023-06-10T03:43:03.485Z"
   },
   {
    "duration": 59,
    "start_time": "2023-06-10T03:43:03.513Z"
   },
   {
    "duration": 30,
    "start_time": "2023-06-10T03:43:03.574Z"
   },
   {
    "duration": 65,
    "start_time": "2023-06-10T03:43:03.608Z"
   },
   {
    "duration": 66,
    "start_time": "2023-06-10T03:43:03.675Z"
   },
   {
    "duration": 167,
    "start_time": "2023-06-10T03:43:03.743Z"
   },
   {
    "duration": 48,
    "start_time": "2023-06-10T03:43:03.911Z"
   },
   {
    "duration": 15,
    "start_time": "2023-06-10T03:43:03.961Z"
   },
   {
    "duration": 53,
    "start_time": "2023-06-10T03:43:03.977Z"
   },
   {
    "duration": 114,
    "start_time": "2023-06-10T03:43:04.032Z"
   },
   {
    "duration": 103,
    "start_time": "2023-06-10T03:43:04.147Z"
   },
   {
    "duration": 20,
    "start_time": "2023-06-10T03:43:04.252Z"
   },
   {
    "duration": 6,
    "start_time": "2023-06-10T03:43:04.274Z"
   },
   {
    "duration": 175,
    "start_time": "2023-06-10T03:43:04.281Z"
   },
   {
    "duration": 3,
    "start_time": "2023-06-10T03:43:04.458Z"
   },
   {
    "duration": 45,
    "start_time": "2023-06-10T03:43:04.462Z"
   },
   {
    "duration": 2967,
    "start_time": "2023-06-10T03:43:04.509Z"
   },
   {
    "duration": 31,
    "start_time": "2023-06-10T03:43:07.478Z"
   },
   {
    "duration": 4,
    "start_time": "2023-06-10T03:43:07.511Z"
   },
   {
    "duration": 12,
    "start_time": "2023-06-10T03:43:07.517Z"
   },
   {
    "duration": 31,
    "start_time": "2023-06-10T03:43:07.530Z"
   },
   {
    "duration": 35,
    "start_time": "2023-06-10T03:43:07.562Z"
   },
   {
    "duration": 778,
    "start_time": "2023-06-10T03:43:07.599Z"
   },
   {
    "duration": 13517,
    "start_time": "2023-06-10T03:43:08.379Z"
   },
   {
    "duration": 515881,
    "start_time": "2023-06-10T03:43:21.898Z"
   },
   {
    "duration": 4,
    "start_time": "2023-06-10T03:51:57.781Z"
   },
   {
    "duration": 13085,
    "start_time": "2023-06-10T03:51:57.787Z"
   },
   {
    "duration": 20,
    "start_time": "2023-06-10T03:52:10.874Z"
   },
   {
    "duration": 241,
    "start_time": "2023-06-10T03:52:10.896Z"
   },
   {
    "duration": 142,
    "start_time": "2023-06-10T03:52:11.138Z"
   },
   {
    "duration": 143,
    "start_time": "2023-06-10T03:52:11.282Z"
   },
   {
    "duration": 124,
    "start_time": "2023-06-10T03:52:11.427Z"
   },
   {
    "duration": 2855,
    "start_time": "2023-06-10T03:52:11.553Z"
   },
   {
    "duration": 337,
    "start_time": "2023-06-10T03:52:21.160Z"
   },
   {
    "duration": 998,
    "start_time": "2023-06-10T03:52:30.385Z"
   },
   {
    "duration": 2259,
    "start_time": "2023-06-10T03:52:38.966Z"
   },
   {
    "duration": 2278,
    "start_time": "2023-06-10T03:52:41.227Z"
   },
   {
    "duration": 2644,
    "start_time": "2023-06-10T03:52:43.506Z"
   },
   {
    "duration": 4,
    "start_time": "2023-06-10T03:52:46.152Z"
   },
   {
    "duration": 23853,
    "start_time": "2023-06-10T03:52:46.159Z"
   },
   {
    "duration": 3,
    "start_time": "2023-06-10T03:53:10.014Z"
   },
   {
    "duration": 269,
    "start_time": "2023-06-10T03:53:10.020Z"
   },
   {
    "duration": 43,
    "start_time": "2023-06-10T03:53:10.291Z"
   },
   {
    "duration": 48,
    "start_time": "2023-06-10T03:53:10.335Z"
   },
   {
    "duration": 49,
    "start_time": "2023-06-10T03:53:10.385Z"
   },
   {
    "duration": 460,
    "start_time": "2023-06-10T03:53:10.439Z"
   },
   {
    "duration": 11541,
    "start_time": "2023-06-10T03:53:10.901Z"
   },
   {
    "duration": 4056,
    "start_time": "2023-06-10T03:53:22.444Z"
   },
   {
    "duration": 1031,
    "start_time": "2023-06-10T03:53:26.503Z"
   },
   {
    "duration": 77,
    "start_time": "2023-06-10T03:53:27.536Z"
   },
   {
    "duration": 96,
    "start_time": "2023-06-10T03:53:27.615Z"
   },
   {
    "duration": 88,
    "start_time": "2023-06-10T03:53:27.712Z"
   },
   {
    "duration": 79,
    "start_time": "2023-06-10T03:53:27.801Z"
   },
   {
    "duration": 17,
    "start_time": "2023-06-10T03:53:27.882Z"
   },
   {
    "duration": 57,
    "start_time": "2023-06-10T03:53:27.900Z"
   },
   {
    "duration": 13,
    "start_time": "2023-06-10T03:53:27.959Z"
   },
   {
    "duration": 39,
    "start_time": "2023-06-10T03:53:27.974Z"
   },
   {
    "duration": 4,
    "start_time": "2023-06-10T03:53:28.015Z"
   },
   {
    "duration": 49,
    "start_time": "2023-06-10T03:53:28.020Z"
   },
   {
    "duration": 46,
    "start_time": "2023-06-10T03:53:28.071Z"
   },
   {
    "duration": 34,
    "start_time": "2023-06-10T03:53:28.118Z"
   },
   {
    "duration": 43,
    "start_time": "2023-06-10T03:53:28.154Z"
   },
   {
    "duration": 30,
    "start_time": "2023-06-10T03:53:28.199Z"
   },
   {
    "duration": 35,
    "start_time": "2023-06-10T03:53:28.231Z"
   },
   {
    "duration": 14,
    "start_time": "2023-06-10T03:53:28.268Z"
   },
   {
    "duration": 25,
    "start_time": "2023-06-10T03:53:28.284Z"
   },
   {
    "duration": 89,
    "start_time": "2023-06-10T03:53:28.311Z"
   },
   {
    "duration": 27,
    "start_time": "2023-06-10T03:53:28.402Z"
   },
   {
    "duration": 109,
    "start_time": "2023-06-10T03:53:28.431Z"
   },
   {
    "duration": 62,
    "start_time": "2023-06-10T03:53:28.542Z"
   },
   {
    "duration": 25,
    "start_time": "2023-06-10T03:53:28.606Z"
   },
   {
    "duration": 29,
    "start_time": "2023-06-10T03:53:28.633Z"
   },
   {
    "duration": 16,
    "start_time": "2023-06-10T03:53:28.663Z"
   },
   {
    "duration": 45,
    "start_time": "2023-06-10T03:53:28.680Z"
   },
   {
    "duration": 23,
    "start_time": "2023-06-10T03:53:28.727Z"
   },
   {
    "duration": 42,
    "start_time": "2023-06-10T03:53:28.755Z"
   },
   {
    "duration": 33,
    "start_time": "2023-06-10T03:53:28.799Z"
   },
   {
    "duration": 99,
    "start_time": "2023-06-10T03:53:28.833Z"
   },
   {
    "duration": 25,
    "start_time": "2023-06-10T03:53:28.933Z"
   },
   {
    "duration": 17,
    "start_time": "2023-06-10T03:53:28.959Z"
   },
   {
    "duration": 38,
    "start_time": "2023-06-10T03:53:28.977Z"
   },
   {
    "duration": 55,
    "start_time": "2023-06-10T03:53:29.017Z"
   },
   {
    "duration": 43,
    "start_time": "2023-06-10T03:53:29.074Z"
   },
   {
    "duration": 29,
    "start_time": "2023-06-10T03:53:29.120Z"
   },
   {
    "duration": 34,
    "start_time": "2023-06-10T03:53:29.150Z"
   },
   {
    "duration": 86,
    "start_time": "2023-06-10T03:53:29.186Z"
   },
   {
    "duration": 4,
    "start_time": "2023-06-10T03:53:29.274Z"
   },
   {
    "duration": 50,
    "start_time": "2023-06-10T03:53:29.280Z"
   },
   {
    "duration": 1029,
    "start_time": "2023-06-10T03:53:29.332Z"
   },
   {
    "duration": 36,
    "start_time": "2023-06-10T03:53:30.363Z"
   },
   {
    "duration": 25,
    "start_time": "2023-06-10T03:53:30.401Z"
   },
   {
    "duration": 61,
    "start_time": "2023-06-10T03:53:30.429Z"
   },
   {
    "duration": 56,
    "start_time": "2023-06-10T03:53:30.492Z"
   },
   {
    "duration": 65,
    "start_time": "2023-06-10T03:53:30.550Z"
   },
   {
    "duration": 382,
    "start_time": "2023-06-10T03:53:30.617Z"
   },
   {
    "duration": 6418,
    "start_time": "2023-06-10T03:53:31.000Z"
   },
   {
    "duration": 315728,
    "start_time": "2023-06-10T03:53:37.420Z"
   },
   {
    "duration": 5,
    "start_time": "2023-06-10T03:58:53.150Z"
   },
   {
    "duration": 8299,
    "start_time": "2023-06-10T03:58:53.157Z"
   },
   {
    "duration": 11,
    "start_time": "2023-06-10T03:59:01.458Z"
   },
   {
    "duration": 369,
    "start_time": "2023-06-10T03:59:01.471Z"
   },
   {
    "duration": 156,
    "start_time": "2023-06-10T03:59:01.841Z"
   },
   {
    "duration": 163,
    "start_time": "2023-06-10T03:59:02.000Z"
   },
   {
    "duration": 128,
    "start_time": "2023-06-10T03:59:02.164Z"
   },
   {
    "duration": 839,
    "start_time": "2023-06-10T03:59:02.295Z"
   },
   {
    "duration": 1602,
    "start_time": "2023-06-10T04:02:56.548Z"
   },
   {
    "duration": 0,
    "start_time": "2023-06-10T04:02:58.152Z"
   },
   {
    "duration": 0,
    "start_time": "2023-06-10T04:02:58.153Z"
   },
   {
    "duration": 2265,
    "start_time": "2023-06-10T04:03:08.057Z"
   },
   {
    "duration": 2316,
    "start_time": "2023-06-10T04:03:10.325Z"
   },
   {
    "duration": 2826,
    "start_time": "2023-06-10T04:03:12.643Z"
   },
   {
    "duration": 6,
    "start_time": "2023-06-10T04:03:15.473Z"
   },
   {
    "duration": 9724,
    "start_time": "2023-06-10T04:03:15.483Z"
   },
   {
    "duration": 4,
    "start_time": "2023-06-10T04:03:25.209Z"
   },
   {
    "duration": 269,
    "start_time": "2023-06-10T04:03:25.215Z"
   },
   {
    "duration": 43,
    "start_time": "2023-06-10T04:03:25.486Z"
   },
   {
    "duration": 43,
    "start_time": "2023-06-10T04:03:25.530Z"
   },
   {
    "duration": 47,
    "start_time": "2023-06-10T04:03:25.576Z"
   },
   {
    "duration": 450,
    "start_time": "2023-06-10T04:03:25.624Z"
   },
   {
    "duration": 12965,
    "start_time": "2023-06-10T04:03:26.077Z"
   },
   {
    "duration": 4657,
    "start_time": "2023-06-10T04:03:39.044Z"
   },
   {
    "duration": 1073,
    "start_time": "2023-06-10T04:03:43.703Z"
   },
   {
    "duration": 58,
    "start_time": "2023-06-10T04:03:44.779Z"
   },
   {
    "duration": 126,
    "start_time": "2023-06-10T04:03:44.838Z"
   },
   {
    "duration": 119,
    "start_time": "2023-06-10T04:03:44.971Z"
   },
   {
    "duration": 108,
    "start_time": "2023-06-10T04:03:45.092Z"
   },
   {
    "duration": 22,
    "start_time": "2023-06-10T04:03:45.203Z"
   },
   {
    "duration": 83,
    "start_time": "2023-06-10T04:03:45.228Z"
   },
   {
    "duration": 7,
    "start_time": "2023-06-10T04:03:45.313Z"
   },
   {
    "duration": 60,
    "start_time": "2023-06-10T04:03:45.322Z"
   },
   {
    "duration": 7,
    "start_time": "2023-06-10T04:03:45.387Z"
   },
   {
    "duration": 16,
    "start_time": "2023-06-10T04:03:45.396Z"
   },
   {
    "duration": 12,
    "start_time": "2023-06-10T04:03:45.414Z"
   },
   {
    "duration": 12,
    "start_time": "2023-06-10T04:03:45.428Z"
   },
   {
    "duration": 43,
    "start_time": "2023-06-10T04:03:45.442Z"
   },
   {
    "duration": 8,
    "start_time": "2023-06-10T04:03:45.489Z"
   },
   {
    "duration": 14,
    "start_time": "2023-06-10T04:03:45.499Z"
   },
   {
    "duration": 12,
    "start_time": "2023-06-10T04:03:45.515Z"
   },
   {
    "duration": 7,
    "start_time": "2023-06-10T04:03:45.529Z"
   },
   {
    "duration": 42,
    "start_time": "2023-06-10T04:03:45.538Z"
   },
   {
    "duration": 51,
    "start_time": "2023-06-10T04:03:45.582Z"
   },
   {
    "duration": 15,
    "start_time": "2023-06-10T04:03:45.635Z"
   },
   {
    "duration": 41,
    "start_time": "2023-06-10T04:03:45.652Z"
   },
   {
    "duration": 24,
    "start_time": "2023-06-10T04:03:45.695Z"
   },
   {
    "duration": 38,
    "start_time": "2023-06-10T04:03:45.721Z"
   },
   {
    "duration": 26,
    "start_time": "2023-06-10T04:03:45.773Z"
   },
   {
    "duration": 34,
    "start_time": "2023-06-10T04:03:45.802Z"
   },
   {
    "duration": 34,
    "start_time": "2023-06-10T04:03:45.839Z"
   },
   {
    "duration": 33,
    "start_time": "2023-06-10T04:03:45.875Z"
   },
   {
    "duration": 48,
    "start_time": "2023-06-10T04:03:45.910Z"
   },
   {
    "duration": 97,
    "start_time": "2023-06-10T04:03:45.959Z"
   },
   {
    "duration": 41,
    "start_time": "2023-06-10T04:03:46.058Z"
   },
   {
    "duration": 7,
    "start_time": "2023-06-10T04:03:46.100Z"
   },
   {
    "duration": 27,
    "start_time": "2023-06-10T04:03:46.108Z"
   },
   {
    "duration": 83,
    "start_time": "2023-06-10T04:03:46.137Z"
   },
   {
    "duration": 57,
    "start_time": "2023-06-10T04:03:46.222Z"
   },
   {
    "duration": 23,
    "start_time": "2023-06-10T04:03:46.281Z"
   },
   {
    "duration": 7,
    "start_time": "2023-06-10T04:03:46.306Z"
   },
   {
    "duration": 7,
    "start_time": "2023-06-10T04:03:46.314Z"
   },
   {
    "duration": 6,
    "start_time": "2023-06-10T04:03:46.322Z"
   },
   {
    "duration": 109,
    "start_time": "2023-06-10T04:03:46.330Z"
   },
   {
    "duration": 3,
    "start_time": "2023-06-10T04:03:46.441Z"
   },
   {
    "duration": 26,
    "start_time": "2023-06-10T04:03:46.446Z"
   },
   {
    "duration": 1198,
    "start_time": "2023-06-10T04:03:46.474Z"
   },
   {
    "duration": 20,
    "start_time": "2023-06-10T04:03:47.674Z"
   },
   {
    "duration": 4,
    "start_time": "2023-06-10T04:03:47.695Z"
   },
   {
    "duration": 7,
    "start_time": "2023-06-10T04:03:47.701Z"
   },
   {
    "duration": 6,
    "start_time": "2023-06-10T04:03:47.709Z"
   },
   {
    "duration": 13,
    "start_time": "2023-06-10T04:03:47.717Z"
   },
   {
    "duration": 400,
    "start_time": "2023-06-10T04:03:47.732Z"
   },
   {
    "duration": 7501,
    "start_time": "2023-06-10T04:03:48.133Z"
   },
   {
    "duration": 316305,
    "start_time": "2023-06-10T04:03:55.636Z"
   },
   {
    "duration": 6,
    "start_time": "2023-06-10T04:09:11.943Z"
   },
   {
    "duration": 7673,
    "start_time": "2023-06-10T04:09:11.951Z"
   },
   {
    "duration": 12,
    "start_time": "2023-06-10T04:09:19.627Z"
   },
   {
    "duration": 309,
    "start_time": "2023-06-10T04:09:19.641Z"
   },
   {
    "duration": 137,
    "start_time": "2023-06-10T04:09:19.952Z"
   },
   {
    "duration": 176,
    "start_time": "2023-06-10T04:09:20.092Z"
   },
   {
    "duration": 152,
    "start_time": "2023-06-10T04:09:20.271Z"
   },
   {
    "duration": 815,
    "start_time": "2023-06-10T04:09:20.425Z"
   },
   {
    "duration": 1645,
    "start_time": "2023-06-10T04:09:50.602Z"
   },
   {
    "duration": 1869,
    "start_time": "2023-06-10T04:09:57.998Z"
   },
   {
    "duration": 2121,
    "start_time": "2023-06-10T04:09:59.869Z"
   },
   {
    "duration": 2933,
    "start_time": "2023-06-10T04:10:01.992Z"
   },
   {
    "duration": 3,
    "start_time": "2023-06-10T04:10:04.927Z"
   },
   {
    "duration": 14652,
    "start_time": "2023-06-10T04:10:04.932Z"
   },
   {
    "duration": 3,
    "start_time": "2023-06-10T04:10:19.585Z"
   },
   {
    "duration": 261,
    "start_time": "2023-06-10T04:10:19.589Z"
   },
   {
    "duration": 41,
    "start_time": "2023-06-10T04:10:19.852Z"
   },
   {
    "duration": 45,
    "start_time": "2023-06-10T04:10:19.895Z"
   },
   {
    "duration": 44,
    "start_time": "2023-06-10T04:10:19.942Z"
   },
   {
    "duration": 436,
    "start_time": "2023-06-10T04:10:19.987Z"
   },
   {
    "duration": 1883,
    "start_time": "2023-06-10T04:10:35.955Z"
   },
   {
    "duration": 2060,
    "start_time": "2023-06-10T04:10:37.840Z"
   },
   {
    "duration": 2858,
    "start_time": "2023-06-10T04:10:39.901Z"
   },
   {
    "duration": 3,
    "start_time": "2023-06-10T04:10:42.761Z"
   },
   {
    "duration": 11615,
    "start_time": "2023-06-10T04:10:42.772Z"
   },
   {
    "duration": 3,
    "start_time": "2023-06-10T04:10:54.389Z"
   },
   {
    "duration": 247,
    "start_time": "2023-06-10T04:10:54.393Z"
   },
   {
    "duration": 41,
    "start_time": "2023-06-10T04:10:54.642Z"
   },
   {
    "duration": 41,
    "start_time": "2023-06-10T04:10:54.684Z"
   },
   {
    "duration": 51,
    "start_time": "2023-06-10T04:10:54.727Z"
   },
   {
    "duration": 498,
    "start_time": "2023-06-10T04:10:54.780Z"
   },
   {
    "duration": 12646,
    "start_time": "2023-06-10T04:10:55.280Z"
   },
   {
    "duration": 4626,
    "start_time": "2023-06-10T04:11:07.927Z"
   },
   {
    "duration": 1035,
    "start_time": "2023-06-10T04:11:12.558Z"
   },
   {
    "duration": 60,
    "start_time": "2023-06-10T04:11:13.595Z"
   },
   {
    "duration": 91,
    "start_time": "2023-06-10T04:11:13.671Z"
   },
   {
    "duration": 91,
    "start_time": "2023-06-10T04:11:13.763Z"
   },
   {
    "duration": 94,
    "start_time": "2023-06-10T04:11:13.856Z"
   },
   {
    "duration": 27,
    "start_time": "2023-06-10T04:11:13.951Z"
   },
   {
    "duration": 58,
    "start_time": "2023-06-10T04:11:13.979Z"
   },
   {
    "duration": 7,
    "start_time": "2023-06-10T04:11:14.039Z"
   },
   {
    "duration": 47,
    "start_time": "2023-06-10T04:11:14.048Z"
   },
   {
    "duration": 4,
    "start_time": "2023-06-10T04:11:14.097Z"
   },
   {
    "duration": 11,
    "start_time": "2023-06-10T04:11:14.103Z"
   },
   {
    "duration": 10,
    "start_time": "2023-06-10T04:11:14.116Z"
   },
   {
    "duration": 7,
    "start_time": "2023-06-10T04:11:14.127Z"
   },
   {
    "duration": 17,
    "start_time": "2023-06-10T04:11:14.136Z"
   },
   {
    "duration": 6,
    "start_time": "2023-06-10T04:11:14.171Z"
   },
   {
    "duration": 3,
    "start_time": "2023-06-10T04:11:14.179Z"
   },
   {
    "duration": 6,
    "start_time": "2023-06-10T04:11:14.184Z"
   },
   {
    "duration": 16,
    "start_time": "2023-06-10T04:11:14.192Z"
   },
   {
    "duration": 17,
    "start_time": "2023-06-10T04:11:14.210Z"
   },
   {
    "duration": 42,
    "start_time": "2023-06-10T04:11:14.229Z"
   },
   {
    "duration": 13,
    "start_time": "2023-06-10T04:11:14.273Z"
   },
   {
    "duration": 34,
    "start_time": "2023-06-10T04:11:14.287Z"
   },
   {
    "duration": 19,
    "start_time": "2023-06-10T04:11:14.322Z"
   },
   {
    "duration": 30,
    "start_time": "2023-06-10T04:11:14.342Z"
   },
   {
    "duration": 16,
    "start_time": "2023-06-10T04:11:14.373Z"
   },
   {
    "duration": 54,
    "start_time": "2023-06-10T04:11:14.391Z"
   },
   {
    "duration": 19,
    "start_time": "2023-06-10T04:11:14.447Z"
   },
   {
    "duration": 31,
    "start_time": "2023-06-10T04:11:14.472Z"
   },
   {
    "duration": 35,
    "start_time": "2023-06-10T04:11:14.504Z"
   },
   {
    "duration": 109,
    "start_time": "2023-06-10T04:11:14.541Z"
   },
   {
    "duration": 42,
    "start_time": "2023-06-10T04:11:14.651Z"
   },
   {
    "duration": 6,
    "start_time": "2023-06-10T04:11:14.695Z"
   },
   {
    "duration": 22,
    "start_time": "2023-06-10T04:11:14.703Z"
   },
   {
    "duration": 74,
    "start_time": "2023-06-10T04:11:14.727Z"
   },
   {
    "duration": 47,
    "start_time": "2023-06-10T04:11:14.802Z"
   },
   {
    "duration": 35,
    "start_time": "2023-06-10T04:11:14.850Z"
   },
   {
    "duration": 7,
    "start_time": "2023-06-10T04:11:14.887Z"
   },
   {
    "duration": 81,
    "start_time": "2023-06-10T04:11:14.896Z"
   },
   {
    "duration": 3,
    "start_time": "2023-06-10T04:11:14.979Z"
   },
   {
    "duration": 24,
    "start_time": "2023-06-10T04:11:14.983Z"
   },
   {
    "duration": 1067,
    "start_time": "2023-06-10T04:11:15.009Z"
   },
   {
    "duration": 20,
    "start_time": "2023-06-10T04:11:16.078Z"
   },
   {
    "duration": 58,
    "start_time": "2023-06-10T04:11:16.100Z"
   },
   {
    "duration": 1659,
    "start_time": "2023-06-10T04:11:16.160Z"
   },
   {
    "duration": 0,
    "start_time": "2023-06-10T04:11:17.821Z"
   },
   {
    "duration": 0,
    "start_time": "2023-06-10T04:11:17.823Z"
   },
   {
    "duration": 0,
    "start_time": "2023-06-10T04:11:17.825Z"
   },
   {
    "duration": 0,
    "start_time": "2023-06-10T04:11:17.826Z"
   },
   {
    "duration": 0,
    "start_time": "2023-06-10T04:11:17.828Z"
   },
   {
    "duration": 0,
    "start_time": "2023-06-10T04:11:17.829Z"
   },
   {
    "duration": 0,
    "start_time": "2023-06-10T04:11:17.831Z"
   },
   {
    "duration": 0,
    "start_time": "2023-06-10T04:11:17.832Z"
   },
   {
    "duration": 0,
    "start_time": "2023-06-10T04:11:17.834Z"
   },
   {
    "duration": 0,
    "start_time": "2023-06-10T04:11:17.835Z"
   },
   {
    "duration": 0,
    "start_time": "2023-06-10T04:11:17.838Z"
   },
   {
    "duration": 0,
    "start_time": "2023-06-10T04:11:17.839Z"
   },
   {
    "duration": 0,
    "start_time": "2023-06-10T04:11:17.841Z"
   },
   {
    "duration": 0,
    "start_time": "2023-06-10T04:11:17.842Z"
   },
   {
    "duration": 0,
    "start_time": "2023-06-10T04:11:17.843Z"
   },
   {
    "duration": 0,
    "start_time": "2023-06-10T04:11:17.845Z"
   },
   {
    "duration": 7,
    "start_time": "2023-06-10T04:11:34.035Z"
   },
   {
    "duration": 9,
    "start_time": "2023-06-10T04:11:40.581Z"
   },
   {
    "duration": 3,
    "start_time": "2023-06-10T04:11:54.418Z"
   },
   {
    "duration": 3,
    "start_time": "2023-06-10T04:11:55.755Z"
   },
   {
    "duration": 3,
    "start_time": "2023-06-10T04:11:55.916Z"
   },
   {
    "duration": 433,
    "start_time": "2023-06-10T04:11:56.956Z"
   },
   {
    "duration": 6930,
    "start_time": "2023-06-10T04:11:57.391Z"
   },
   {
    "duration": 300142,
    "start_time": "2023-06-10T04:12:04.322Z"
   },
   {
    "duration": 4,
    "start_time": "2023-06-10T04:17:04.466Z"
   },
   {
    "duration": 7962,
    "start_time": "2023-06-10T04:17:04.484Z"
   },
   {
    "duration": 13,
    "start_time": "2023-06-10T04:17:12.448Z"
   },
   {
    "duration": 290,
    "start_time": "2023-06-10T04:17:12.463Z"
   },
   {
    "duration": 162,
    "start_time": "2023-06-10T04:17:12.756Z"
   },
   {
    "duration": 169,
    "start_time": "2023-06-10T04:17:12.920Z"
   },
   {
    "duration": 149,
    "start_time": "2023-06-10T04:17:13.091Z"
   },
   {
    "duration": 892,
    "start_time": "2023-06-10T04:17:13.242Z"
   },
   {
    "duration": 5,
    "start_time": "2023-06-10T04:17:14.136Z"
   },
   {
    "duration": 680,
    "start_time": "2023-06-10T04:18:38.102Z"
   },
   {
    "duration": 50,
    "start_time": "2023-06-19T15:56:11.293Z"
   },
   {
    "duration": 4339,
    "start_time": "2023-06-19T15:56:17.648Z"
   },
   {
    "duration": 2885,
    "start_time": "2023-06-19T15:56:21.989Z"
   },
   {
    "duration": 5131,
    "start_time": "2023-06-19T15:56:24.876Z"
   },
   {
    "duration": 4,
    "start_time": "2023-06-19T15:56:30.009Z"
   },
   {
    "duration": 8195,
    "start_time": "2023-06-19T15:56:30.015Z"
   },
   {
    "duration": 3,
    "start_time": "2023-06-19T15:56:38.213Z"
   },
   {
    "duration": 103,
    "start_time": "2023-06-19T15:56:38.218Z"
   },
   {
    "duration": 9,
    "start_time": "2023-06-19T15:56:38.322Z"
   },
   {
    "duration": 48,
    "start_time": "2023-06-19T15:56:38.333Z"
   },
   {
    "duration": 13,
    "start_time": "2023-06-19T15:56:38.384Z"
   },
   {
    "duration": 434,
    "start_time": "2023-06-19T15:56:38.399Z"
   },
   {
    "duration": 13867,
    "start_time": "2023-06-19T15:56:38.835Z"
   },
   {
    "duration": 4358,
    "start_time": "2023-06-19T15:56:52.704Z"
   },
   {
    "duration": 1123,
    "start_time": "2023-06-19T15:56:57.063Z"
   },
   {
    "duration": 67,
    "start_time": "2023-06-19T15:56:58.188Z"
   },
   {
    "duration": 125,
    "start_time": "2023-06-19T15:56:58.257Z"
   },
   {
    "duration": 105,
    "start_time": "2023-06-19T15:56:58.384Z"
   },
   {
    "duration": 88,
    "start_time": "2023-06-19T15:56:58.492Z"
   },
   {
    "duration": 17,
    "start_time": "2023-06-19T15:56:58.582Z"
   },
   {
    "duration": 66,
    "start_time": "2023-06-19T15:56:58.600Z"
   },
   {
    "duration": 9,
    "start_time": "2023-06-19T15:56:58.674Z"
   },
   {
    "duration": 93,
    "start_time": "2023-06-19T15:56:58.685Z"
   },
   {
    "duration": 5,
    "start_time": "2023-06-19T15:56:58.780Z"
   },
   {
    "duration": 15,
    "start_time": "2023-06-19T15:56:58.787Z"
   },
   {
    "duration": 9,
    "start_time": "2023-06-19T15:56:58.803Z"
   },
   {
    "duration": 15,
    "start_time": "2023-06-19T15:56:58.814Z"
   },
   {
    "duration": 35,
    "start_time": "2023-06-19T15:56:58.831Z"
   },
   {
    "duration": 6,
    "start_time": "2023-06-19T15:56:58.872Z"
   },
   {
    "duration": 8,
    "start_time": "2023-06-19T15:56:58.879Z"
   },
   {
    "duration": 7,
    "start_time": "2023-06-19T15:56:58.889Z"
   },
   {
    "duration": 10,
    "start_time": "2023-06-19T15:56:58.897Z"
   },
   {
    "duration": 16,
    "start_time": "2023-06-19T15:56:58.909Z"
   },
   {
    "duration": 52,
    "start_time": "2023-06-19T15:56:58.927Z"
   },
   {
    "duration": 13,
    "start_time": "2023-06-19T15:56:58.981Z"
   },
   {
    "duration": 25,
    "start_time": "2023-06-19T15:56:58.996Z"
   },
   {
    "duration": 17,
    "start_time": "2023-06-19T15:56:59.023Z"
   },
   {
    "duration": 35,
    "start_time": "2023-06-19T15:56:59.050Z"
   },
   {
    "duration": 16,
    "start_time": "2023-06-19T15:56:59.087Z"
   },
   {
    "duration": 80,
    "start_time": "2023-06-19T15:56:59.105Z"
   },
   {
    "duration": 17,
    "start_time": "2023-06-19T15:56:59.186Z"
   },
   {
    "duration": 51,
    "start_time": "2023-06-19T15:56:59.204Z"
   },
   {
    "duration": 90,
    "start_time": "2023-06-19T15:56:59.256Z"
   },
   {
    "duration": 118,
    "start_time": "2023-06-19T15:56:59.347Z"
   },
   {
    "duration": 30,
    "start_time": "2023-06-19T15:56:59.472Z"
   },
   {
    "duration": 6,
    "start_time": "2023-06-19T15:56:59.504Z"
   },
   {
    "duration": 26,
    "start_time": "2023-06-19T15:56:59.511Z"
   },
   {
    "duration": 68,
    "start_time": "2023-06-19T15:56:59.539Z"
   },
   {
    "duration": 64,
    "start_time": "2023-06-19T15:56:59.609Z"
   },
   {
    "duration": 19,
    "start_time": "2023-06-19T15:56:59.675Z"
   },
   {
    "duration": 13,
    "start_time": "2023-06-19T15:56:59.695Z"
   },
   {
    "duration": 77,
    "start_time": "2023-06-19T15:56:59.710Z"
   },
   {
    "duration": 3,
    "start_time": "2023-06-19T15:56:59.788Z"
   },
   {
    "duration": 23,
    "start_time": "2023-06-19T15:56:59.793Z"
   },
   {
    "duration": 1298,
    "start_time": "2023-06-19T15:56:59.817Z"
   },
   {
    "duration": 21,
    "start_time": "2023-06-19T15:57:01.118Z"
   },
   {
    "duration": 38,
    "start_time": "2023-06-19T15:57:01.140Z"
   },
   {
    "duration": 47,
    "start_time": "2023-06-19T15:57:01.181Z"
   },
   {
    "duration": 32,
    "start_time": "2023-06-19T15:57:01.230Z"
   },
   {
    "duration": 41,
    "start_time": "2023-06-19T15:57:01.263Z"
   },
   {
    "duration": 46,
    "start_time": "2023-06-19T15:57:01.306Z"
   },
   {
    "duration": 115,
    "start_time": "2023-06-19T15:57:01.354Z"
   },
   {
    "duration": 508,
    "start_time": "2023-06-19T15:57:01.477Z"
   },
   {
    "duration": 7996,
    "start_time": "2023-06-19T15:57:01.987Z"
   }
  ],
  "kernelspec": {
   "display_name": "Python 3 (ipykernel)",
   "language": "python",
   "name": "python3"
  },
  "language_info": {
   "codemirror_mode": {
    "name": "ipython",
    "version": 3
   },
   "file_extension": ".py",
   "mimetype": "text/x-python",
   "name": "python",
   "nbconvert_exporter": "python",
   "pygments_lexer": "ipython3",
   "version": "3.11.4"
  },
  "toc": {
   "base_numbering": 1,
   "nav_menu": {},
   "number_sections": false,
   "sideBar": true,
   "skip_h1_title": false,
   "title_cell": "Table of Contents",
   "title_sidebar": "Contents",
   "toc_cell": false,
   "toc_position": {
    "height": "calc(100% - 180px)",
    "left": "10px",
    "top": "150px",
    "width": "476px"
   },
   "toc_section_display": true,
   "toc_window_display": false
  },
  "varInspector": {
   "cols": {
    "lenName": 16,
    "lenType": 16,
    "lenVar": 40
   },
   "kernels_config": {
    "python": {
     "delete_cmd_postfix": "",
     "delete_cmd_prefix": "del ",
     "library": "var_list.py",
     "varRefreshCmd": "print(var_dic_list())"
    },
    "r": {
     "delete_cmd_postfix": ") ",
     "delete_cmd_prefix": "rm(",
     "library": "var_list.r",
     "varRefreshCmd": "cat(var_dic_list()) "
    }
   },
   "types_to_exclude": [
    "module",
    "function",
    "builtin_function_or_method",
    "instance",
    "_Feature"
   ],
   "window_display": false
  }
 },
 "nbformat": 4,
 "nbformat_minor": 5
}
